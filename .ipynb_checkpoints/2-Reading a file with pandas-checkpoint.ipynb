{
 "cells": [
  {
   "cell_type": "markdown",
   "metadata": {},
   "source": [
    "# Si legge un file con la libreria \"pandas\" e i dati si importano in un \"dataframe\". Poi i dati vengono visualizzati"
   ]
  },
  {
   "cell_type": "markdown",
   "metadata": {},
   "source": [
    "Prima però si carica la libreria che consente di conoscere e scegliere la directory di lavoro. "
   ]
  },
  {
   "cell_type": "code",
   "execution_count": 1,
   "metadata": {
    "collapsed": false
   },
   "outputs": [
    {
     "data": {
      "text/plain": [
       "'/Users/riccardo/Dropbox/A-Workspace/Jupyter/Notebooks'"
      ]
     },
     "execution_count": 1,
     "metadata": {},
     "output_type": "execute_result"
    }
   ],
   "source": [
    "import os\n",
    "os.getcwd()"
   ]
  },
  {
   "cell_type": "markdown",
   "metadata": {},
   "source": [
    "Il comando seguente cambi la direcory di lavoro. Ognuno avrà la sua."
   ]
  },
  {
   "cell_type": "code",
   "execution_count": 2,
   "metadata": {
    "collapsed": true
   },
   "outputs": [],
   "source": [
    "os.chdir(\"/Users/riccardo/Dropbox/A-Data/Paperopoli\")"
   ]
  },
  {
   "cell_type": "markdown",
   "metadata": {
    "collapsed": true
   },
   "source": [
    "Si interroga ora la lista dei file presenti nella nuova directory di lavoro"
   ]
  },
  {
   "cell_type": "code",
   "execution_count": 3,
   "metadata": {
    "collapsed": false
   },
   "outputs": [
    {
     "data": {
      "text/plain": [
       "['abs_mle_right',\n",
       " 'abs_mle',\n",
       " 'abs_mq',\n",
       " 'PluviometriaPaperopoli_4.txt',\n",
       " 'best_param',\n",
       " 'abs_m',\n",
       " 'PluviometriaPaperopoli_2.txt',\n",
       " 'PluviometriaPaperopoli_3.txt']"
      ]
     },
     "execution_count": 3,
     "metadata": {},
     "output_type": "execute_result"
    }
   ],
   "source": [
    "os.listdir()"
   ]
  },
  {
   "cell_type": "markdown",
   "metadata": {},
   "source": [
    "Finalmente si importa la libreria \"pandas\""
   ]
  },
  {
   "cell_type": "code",
   "execution_count": 4,
   "metadata": {
    "collapsed": true
   },
   "outputs": [],
   "source": [
    "from pandas import *\n",
    "import pandas as pd"
   ]
  },
  {
   "cell_type": "markdown",
   "metadata": {},
   "source": [
    "Si legge il file usando il comando di panda \"read_csv\""
   ]
  },
  {
   "cell_type": "code",
   "execution_count": 5,
   "metadata": {
    "collapsed": false
   },
   "outputs": [],
   "source": [
    "data = pd.read_csv('PluviometriaPaperopoli_4.txt')"
   ]
  },
  {
   "cell_type": "markdown",
   "metadata": {},
   "source": [
    "Si visualizzano i dati "
   ]
  },
  {
   "cell_type": "code",
   "execution_count": 6,
   "metadata": {
    "collapsed": false
   },
   "outputs": [
    {
     "data": {
      "text/html": [
       "<div>\n",
       "<table border=\"1\" class=\"dataframe\">\n",
       "  <thead>\n",
       "    <tr style=\"text-align: right;\">\n",
       "      <th></th>\n",
       "      <th>anno</th>\n",
       "      <th>1h</th>\n",
       "      <th>3h</th>\n",
       "      <th>6h</th>\n",
       "      <th>12h</th>\n",
       "      <th>24h</th>\n",
       "    </tr>\n",
       "  </thead>\n",
       "  <tbody>\n",
       "    <tr>\n",
       "      <th>0</th>\n",
       "      <td>1925</td>\n",
       "      <td>50.0</td>\n",
       "      <td>NaN</td>\n",
       "      <td>NaN</td>\n",
       "      <td>NaN</td>\n",
       "      <td>NaN</td>\n",
       "    </tr>\n",
       "    <tr>\n",
       "      <th>1</th>\n",
       "      <td>1928</td>\n",
       "      <td>35.0</td>\n",
       "      <td>47.0</td>\n",
       "      <td>50.0</td>\n",
       "      <td>50.4</td>\n",
       "      <td>67.6</td>\n",
       "    </tr>\n",
       "    <tr>\n",
       "      <th>2</th>\n",
       "      <td>1929</td>\n",
       "      <td>35.4</td>\n",
       "      <td>36.4</td>\n",
       "      <td>36.4</td>\n",
       "      <td>49.6</td>\n",
       "      <td>74.0</td>\n",
       "    </tr>\n",
       "    <tr>\n",
       "      <th>3</th>\n",
       "      <td>1930</td>\n",
       "      <td>67.2</td>\n",
       "      <td>68.2</td>\n",
       "      <td>80.8</td>\n",
       "      <td>102.2</td>\n",
       "      <td>106.8</td>\n",
       "    </tr>\n",
       "    <tr>\n",
       "      <th>4</th>\n",
       "      <td>1931</td>\n",
       "      <td>25.2</td>\n",
       "      <td>NaN</td>\n",
       "      <td>NaN</td>\n",
       "      <td>NaN</td>\n",
       "      <td>NaN</td>\n",
       "    </tr>\n",
       "    <tr>\n",
       "      <th>5</th>\n",
       "      <td>1932</td>\n",
       "      <td>35.2</td>\n",
       "      <td>NaN</td>\n",
       "      <td>NaN</td>\n",
       "      <td>NaN</td>\n",
       "      <td>NaN</td>\n",
       "    </tr>\n",
       "    <tr>\n",
       "      <th>6</th>\n",
       "      <td>1934</td>\n",
       "      <td>48.6</td>\n",
       "      <td>NaN</td>\n",
       "      <td>NaN</td>\n",
       "      <td>NaN</td>\n",
       "      <td>NaN</td>\n",
       "    </tr>\n",
       "    <tr>\n",
       "      <th>7</th>\n",
       "      <td>1935</td>\n",
       "      <td>36.4</td>\n",
       "      <td>55.2</td>\n",
       "      <td>81.0</td>\n",
       "      <td>94.4</td>\n",
       "      <td>149.0</td>\n",
       "    </tr>\n",
       "    <tr>\n",
       "      <th>8</th>\n",
       "      <td>1936</td>\n",
       "      <td>47.8</td>\n",
       "      <td>54.2</td>\n",
       "      <td>55.4</td>\n",
       "      <td>55.6</td>\n",
       "      <td>74.6</td>\n",
       "    </tr>\n",
       "    <tr>\n",
       "      <th>9</th>\n",
       "      <td>1937</td>\n",
       "      <td>39.4</td>\n",
       "      <td>41.4</td>\n",
       "      <td>41.4</td>\n",
       "      <td>50.2</td>\n",
       "      <td>81.0</td>\n",
       "    </tr>\n",
       "    <tr>\n",
       "      <th>10</th>\n",
       "      <td>1938</td>\n",
       "      <td>21.4</td>\n",
       "      <td>NaN</td>\n",
       "      <td>NaN</td>\n",
       "      <td>NaN</td>\n",
       "      <td>NaN</td>\n",
       "    </tr>\n",
       "    <tr>\n",
       "      <th>11</th>\n",
       "      <td>1939</td>\n",
       "      <td>33.0</td>\n",
       "      <td>35.6</td>\n",
       "      <td>53.8</td>\n",
       "      <td>58.6</td>\n",
       "      <td>60.6</td>\n",
       "    </tr>\n",
       "    <tr>\n",
       "      <th>12</th>\n",
       "      <td>1940</td>\n",
       "      <td>42.0</td>\n",
       "      <td>48.2</td>\n",
       "      <td>48.6</td>\n",
       "      <td>48.8</td>\n",
       "      <td>55.2</td>\n",
       "    </tr>\n",
       "    <tr>\n",
       "      <th>13</th>\n",
       "      <td>1941</td>\n",
       "      <td>39.6</td>\n",
       "      <td>39.6</td>\n",
       "      <td>48.0</td>\n",
       "      <td>79.0</td>\n",
       "      <td>120.0</td>\n",
       "    </tr>\n",
       "    <tr>\n",
       "      <th>14</th>\n",
       "      <td>1942</td>\n",
       "      <td>28.0</td>\n",
       "      <td>32.8</td>\n",
       "      <td>44.4</td>\n",
       "      <td>50.0</td>\n",
       "      <td>64.8</td>\n",
       "    </tr>\n",
       "    <tr>\n",
       "      <th>15</th>\n",
       "      <td>1943</td>\n",
       "      <td>42.4</td>\n",
       "      <td>42.4</td>\n",
       "      <td>42.4</td>\n",
       "      <td>42.4</td>\n",
       "      <td>62.6</td>\n",
       "    </tr>\n",
       "    <tr>\n",
       "      <th>16</th>\n",
       "      <td>1944</td>\n",
       "      <td>21.2</td>\n",
       "      <td>24.8</td>\n",
       "      <td>31.0</td>\n",
       "      <td>47.0</td>\n",
       "      <td>48.2</td>\n",
       "    </tr>\n",
       "    <tr>\n",
       "      <th>17</th>\n",
       "      <td>1950</td>\n",
       "      <td>21.2</td>\n",
       "      <td>28.0</td>\n",
       "      <td>41.8</td>\n",
       "      <td>63.8</td>\n",
       "      <td>82.8</td>\n",
       "    </tr>\n",
       "    <tr>\n",
       "      <th>18</th>\n",
       "      <td>1951</td>\n",
       "      <td>19.6</td>\n",
       "      <td>39.4</td>\n",
       "      <td>60.0</td>\n",
       "      <td>82.6</td>\n",
       "      <td>127.6</td>\n",
       "    </tr>\n",
       "    <tr>\n",
       "      <th>19</th>\n",
       "      <td>1952</td>\n",
       "      <td>41.6</td>\n",
       "      <td>46.2</td>\n",
       "      <td>57.8</td>\n",
       "      <td>97.8</td>\n",
       "      <td>131.6</td>\n",
       "    </tr>\n",
       "    <tr>\n",
       "      <th>20</th>\n",
       "      <td>1955</td>\n",
       "      <td>51.0</td>\n",
       "      <td>30.8</td>\n",
       "      <td>50.4</td>\n",
       "      <td>79.0</td>\n",
       "      <td>93.8</td>\n",
       "    </tr>\n",
       "    <tr>\n",
       "      <th>21</th>\n",
       "      <td>1956</td>\n",
       "      <td>32.0</td>\n",
       "      <td>57.4</td>\n",
       "      <td>80.4</td>\n",
       "      <td>108.8</td>\n",
       "      <td>164.4</td>\n",
       "    </tr>\n",
       "    <tr>\n",
       "      <th>22</th>\n",
       "      <td>1957</td>\n",
       "      <td>27.4</td>\n",
       "      <td>35.0</td>\n",
       "      <td>36.4</td>\n",
       "      <td>38.2</td>\n",
       "      <td>58.4</td>\n",
       "    </tr>\n",
       "    <tr>\n",
       "      <th>23</th>\n",
       "      <td>1958</td>\n",
       "      <td>35.0</td>\n",
       "      <td>41.2</td>\n",
       "      <td>49.4</td>\n",
       "      <td>80.0</td>\n",
       "      <td>88.0</td>\n",
       "    </tr>\n",
       "    <tr>\n",
       "      <th>24</th>\n",
       "      <td>1959</td>\n",
       "      <td>21.6</td>\n",
       "      <td>55.6</td>\n",
       "      <td>82.2</td>\n",
       "      <td>129.6</td>\n",
       "      <td>169.4</td>\n",
       "    </tr>\n",
       "    <tr>\n",
       "      <th>25</th>\n",
       "      <td>1960</td>\n",
       "      <td>36.8</td>\n",
       "      <td>23.6</td>\n",
       "      <td>34.6</td>\n",
       "      <td>42.8</td>\n",
       "      <td>60.8</td>\n",
       "    </tr>\n",
       "    <tr>\n",
       "      <th>26</th>\n",
       "      <td>1961</td>\n",
       "      <td>54.2</td>\n",
       "      <td>65.2</td>\n",
       "      <td>86.6</td>\n",
       "      <td>115.6</td>\n",
       "      <td>122.4</td>\n",
       "    </tr>\n",
       "    <tr>\n",
       "      <th>27</th>\n",
       "      <td>1962</td>\n",
       "      <td>39.4</td>\n",
       "      <td>39.4</td>\n",
       "      <td>45.0</td>\n",
       "      <td>70.4</td>\n",
       "      <td>93.6</td>\n",
       "    </tr>\n",
       "    <tr>\n",
       "      <th>28</th>\n",
       "      <td>1963</td>\n",
       "      <td>30.6</td>\n",
       "      <td>42.2</td>\n",
       "      <td>42.2</td>\n",
       "      <td>51.2</td>\n",
       "      <td>58.8</td>\n",
       "    </tr>\n",
       "    <tr>\n",
       "      <th>29</th>\n",
       "      <td>1964</td>\n",
       "      <td>30.6</td>\n",
       "      <td>35.8</td>\n",
       "      <td>39.4</td>\n",
       "      <td>66.6</td>\n",
       "      <td>83.4</td>\n",
       "    </tr>\n",
       "    <tr>\n",
       "      <th>30</th>\n",
       "      <td>1965</td>\n",
       "      <td>33.0</td>\n",
       "      <td>45.0</td>\n",
       "      <td>46.6</td>\n",
       "      <td>71.8</td>\n",
       "      <td>100.6</td>\n",
       "    </tr>\n",
       "    <tr>\n",
       "      <th>31</th>\n",
       "      <td>1966</td>\n",
       "      <td>32.2</td>\n",
       "      <td>37.4</td>\n",
       "      <td>64.2</td>\n",
       "      <td>95.4</td>\n",
       "      <td>150.2</td>\n",
       "    </tr>\n",
       "    <tr>\n",
       "      <th>32</th>\n",
       "      <td>1967</td>\n",
       "      <td>38.4</td>\n",
       "      <td>47.2</td>\n",
       "      <td>56.0</td>\n",
       "      <td>65.6</td>\n",
       "      <td>68.2</td>\n",
       "    </tr>\n",
       "    <tr>\n",
       "      <th>33</th>\n",
       "      <td>1968</td>\n",
       "      <td>33.4</td>\n",
       "      <td>47.2</td>\n",
       "      <td>48.2</td>\n",
       "      <td>58.8</td>\n",
       "      <td>70.4</td>\n",
       "    </tr>\n",
       "    <tr>\n",
       "      <th>34</th>\n",
       "      <td>1969</td>\n",
       "      <td>31.0</td>\n",
       "      <td>39.4</td>\n",
       "      <td>42.4</td>\n",
       "      <td>53.2</td>\n",
       "      <td>64.2</td>\n",
       "    </tr>\n",
       "    <tr>\n",
       "      <th>35</th>\n",
       "      <td>1971</td>\n",
       "      <td>37.4</td>\n",
       "      <td>39.6</td>\n",
       "      <td>42.2</td>\n",
       "      <td>49.4</td>\n",
       "      <td>67.8</td>\n",
       "    </tr>\n",
       "    <tr>\n",
       "      <th>36</th>\n",
       "      <td>1972</td>\n",
       "      <td>36.8</td>\n",
       "      <td>40.6</td>\n",
       "      <td>40.8</td>\n",
       "      <td>41.0</td>\n",
       "      <td>49.2</td>\n",
       "    </tr>\n",
       "    <tr>\n",
       "      <th>37</th>\n",
       "      <td>1973</td>\n",
       "      <td>39.2</td>\n",
       "      <td>48.4</td>\n",
       "      <td>48.4</td>\n",
       "      <td>48.4</td>\n",
       "      <td>53.8</td>\n",
       "    </tr>\n",
       "    <tr>\n",
       "      <th>38</th>\n",
       "      <td>1974</td>\n",
       "      <td>29.4</td>\n",
       "      <td>34.0</td>\n",
       "      <td>40.0</td>\n",
       "      <td>69.0</td>\n",
       "      <td>112.2</td>\n",
       "    </tr>\n",
       "    <tr>\n",
       "      <th>39</th>\n",
       "      <td>1975</td>\n",
       "      <td>40.4</td>\n",
       "      <td>61.2</td>\n",
       "      <td>92.6</td>\n",
       "      <td>123.4</td>\n",
       "      <td>123.4</td>\n",
       "    </tr>\n",
       "    <tr>\n",
       "      <th>40</th>\n",
       "      <td>1976</td>\n",
       "      <td>37.6</td>\n",
       "      <td>62.2</td>\n",
       "      <td>75.8</td>\n",
       "      <td>83.6</td>\n",
       "      <td>83.6</td>\n",
       "    </tr>\n",
       "    <tr>\n",
       "      <th>41</th>\n",
       "      <td>1977</td>\n",
       "      <td>30.4</td>\n",
       "      <td>40.6</td>\n",
       "      <td>70.6</td>\n",
       "      <td>87.8</td>\n",
       "      <td>90.6</td>\n",
       "    </tr>\n",
       "    <tr>\n",
       "      <th>42</th>\n",
       "      <td>1978</td>\n",
       "      <td>44.0</td>\n",
       "      <td>61.2</td>\n",
       "      <td>69.0</td>\n",
       "      <td>83.8</td>\n",
       "      <td>92.2</td>\n",
       "    </tr>\n",
       "    <tr>\n",
       "      <th>43</th>\n",
       "      <td>1979</td>\n",
       "      <td>38.6</td>\n",
       "      <td>52.8</td>\n",
       "      <td>54.8</td>\n",
       "      <td>70.2</td>\n",
       "      <td>84.2</td>\n",
       "    </tr>\n",
       "    <tr>\n",
       "      <th>44</th>\n",
       "      <td>1980</td>\n",
       "      <td>28.2</td>\n",
       "      <td>42.4</td>\n",
       "      <td>71.4</td>\n",
       "      <td>97.4</td>\n",
       "      <td>107.4</td>\n",
       "    </tr>\n",
       "    <tr>\n",
       "      <th>45</th>\n",
       "      <td>1984</td>\n",
       "      <td>61.2</td>\n",
       "      <td>61.4</td>\n",
       "      <td>61.4</td>\n",
       "      <td>62.6</td>\n",
       "      <td>81.8</td>\n",
       "    </tr>\n",
       "    <tr>\n",
       "      <th>46</th>\n",
       "      <td>1985</td>\n",
       "      <td>23.6</td>\n",
       "      <td>35.6</td>\n",
       "      <td>44.2</td>\n",
       "      <td>58.6</td>\n",
       "      <td>69.8</td>\n",
       "    </tr>\n",
       "    <tr>\n",
       "      <th>47</th>\n",
       "      <td>1986</td>\n",
       "      <td>20.2</td>\n",
       "      <td>36.8</td>\n",
       "      <td>51.4</td>\n",
       "      <td>55.8</td>\n",
       "      <td>74.4</td>\n",
       "    </tr>\n",
       "    <tr>\n",
       "      <th>48</th>\n",
       "      <td>1987</td>\n",
       "      <td>32.6</td>\n",
       "      <td>40.6</td>\n",
       "      <td>64.6</td>\n",
       "      <td>77.2</td>\n",
       "      <td>81.2</td>\n",
       "    </tr>\n",
       "    <tr>\n",
       "      <th>49</th>\n",
       "      <td>1988</td>\n",
       "      <td>89.2</td>\n",
       "      <td>102.0</td>\n",
       "      <td>102.0</td>\n",
       "      <td>102.0</td>\n",
       "      <td>104.2</td>\n",
       "    </tr>\n",
       "  </tbody>\n",
       "</table>\n",
       "</div>"
      ],
      "text/plain": [
       "    anno    1h     3h     6h    12h    24h\n",
       "0   1925  50.0    NaN    NaN    NaN    NaN\n",
       "1   1928  35.0   47.0   50.0   50.4   67.6\n",
       "2   1929  35.4   36.4   36.4   49.6   74.0\n",
       "3   1930  67.2   68.2   80.8  102.2  106.8\n",
       "4   1931  25.2    NaN    NaN    NaN    NaN\n",
       "5   1932  35.2    NaN    NaN    NaN    NaN\n",
       "6   1934  48.6    NaN    NaN    NaN    NaN\n",
       "7   1935  36.4   55.2   81.0   94.4  149.0\n",
       "8   1936  47.8   54.2   55.4   55.6   74.6\n",
       "9   1937  39.4   41.4   41.4   50.2   81.0\n",
       "10  1938  21.4    NaN    NaN    NaN    NaN\n",
       "11  1939  33.0   35.6   53.8   58.6   60.6\n",
       "12  1940  42.0   48.2   48.6   48.8   55.2\n",
       "13  1941  39.6   39.6   48.0   79.0  120.0\n",
       "14  1942  28.0   32.8   44.4   50.0   64.8\n",
       "15  1943  42.4   42.4   42.4   42.4   62.6\n",
       "16  1944  21.2   24.8   31.0   47.0   48.2\n",
       "17  1950  21.2   28.0   41.8   63.8   82.8\n",
       "18  1951  19.6   39.4   60.0   82.6  127.6\n",
       "19  1952  41.6   46.2   57.8   97.8  131.6\n",
       "20  1955  51.0   30.8   50.4   79.0   93.8\n",
       "21  1956  32.0   57.4   80.4  108.8  164.4\n",
       "22  1957  27.4   35.0   36.4   38.2   58.4\n",
       "23  1958  35.0   41.2   49.4   80.0   88.0\n",
       "24  1959  21.6   55.6   82.2  129.6  169.4\n",
       "25  1960  36.8   23.6   34.6   42.8   60.8\n",
       "26  1961  54.2   65.2   86.6  115.6  122.4\n",
       "27  1962  39.4   39.4   45.0   70.4   93.6\n",
       "28  1963  30.6   42.2   42.2   51.2   58.8\n",
       "29  1964  30.6   35.8   39.4   66.6   83.4\n",
       "30  1965  33.0   45.0   46.6   71.8  100.6\n",
       "31  1966  32.2   37.4   64.2   95.4  150.2\n",
       "32  1967  38.4   47.2   56.0   65.6   68.2\n",
       "33  1968  33.4   47.2   48.2   58.8   70.4\n",
       "34  1969  31.0   39.4   42.4   53.2   64.2\n",
       "35  1971  37.4   39.6   42.2   49.4   67.8\n",
       "36  1972  36.8   40.6   40.8   41.0   49.2\n",
       "37  1973  39.2   48.4   48.4   48.4   53.8\n",
       "38  1974  29.4   34.0   40.0   69.0  112.2\n",
       "39  1975  40.4   61.2   92.6  123.4  123.4\n",
       "40  1976  37.6   62.2   75.8   83.6   83.6\n",
       "41  1977  30.4   40.6   70.6   87.8   90.6\n",
       "42  1978  44.0   61.2   69.0   83.8   92.2\n",
       "43  1979  38.6   52.8   54.8   70.2   84.2\n",
       "44  1980  28.2   42.4   71.4   97.4  107.4\n",
       "45  1984  61.2   61.4   61.4   62.6   81.8\n",
       "46  1985  23.6   35.6   44.2   58.6   69.8\n",
       "47  1986  20.2   36.8   51.4   55.8   74.4\n",
       "48  1987  32.6   40.6   64.6   77.2   81.2\n",
       "49  1988  89.2  102.0  102.0  102.0  104.2"
      ]
     },
     "execution_count": 6,
     "metadata": {},
     "output_type": "execute_result"
    }
   ],
   "source": [
    "data"
   ]
  },
  {
   "cell_type": "code",
   "execution_count": 7,
   "metadata": {
    "collapsed": false
   },
   "outputs": [
    {
     "data": {
      "text/plain": [
       "42.799999999999997"
      ]
     },
     "execution_count": 7,
     "metadata": {},
     "output_type": "execute_result"
    }
   ],
   "source": [
    "data[\"12h\"][25]"
   ]
  },
  {
   "cell_type": "code",
   "execution_count": 8,
   "metadata": {
    "collapsed": false
   },
   "outputs": [
    {
     "data": {
      "text/plain": [
       "RangeIndex(start=0, stop=50, step=1)"
      ]
     },
     "execution_count": 8,
     "metadata": {},
     "output_type": "execute_result"
    }
   ],
   "source": [
    "data.index"
   ]
  },
  {
   "cell_type": "code",
   "execution_count": 9,
   "metadata": {
    "collapsed": false
   },
   "outputs": [
    {
     "data": {
      "text/plain": [
       "Index(['anno', '1h', '3h', '6h', '12h', '24h'], dtype='object')"
      ]
     },
     "execution_count": 9,
     "metadata": {},
     "output_type": "execute_result"
    }
   ],
   "source": [
    "data.columns"
   ]
  },
  {
   "cell_type": "markdown",
   "metadata": {},
   "source": [
    "I dati nel dataframe \"data\" hanno come prima colonna gli anni. Si vuole invece che gli anni diventino l'indice dei dati (e naturalmente che il valore degli anni sia riconosciuto come una data, nel senso una data come \"anno-mese-giorno\" lo è). Il pacchetto datetime fa quest'ultimo servizio."
   ]
  },
  {
   "cell_type": "code",
   "execution_count": 10,
   "metadata": {
    "collapsed": false
   },
   "outputs": [
    {
     "data": {
      "text/plain": [
       "<map at 0x1191d57b8>"
      ]
     },
     "execution_count": 10,
     "metadata": {},
     "output_type": "execute_result"
    }
   ],
   "source": [
    "import datetime as datetime\n",
    "map(datetime,data['anno'])"
   ]
  },
  {
   "cell_type": "code",
   "execution_count": 11,
   "metadata": {
    "collapsed": true
   },
   "outputs": [],
   "source": [
    "data = pd.read_csv('PluviometriaPaperopoli_4.txt')\n",
    "map(datetime,data['anno'])\n",
    "data=data.set_index('anno')"
   ]
  },
  {
   "cell_type": "markdown",
   "metadata": {},
   "source": [
    "Il comando che segue dice che la colonna \"anno\" è, in realtà, un indice. "
   ]
  },
  {
   "cell_type": "code",
   "execution_count": 14,
   "metadata": {
    "collapsed": false
   },
   "outputs": [
    {
     "data": {
      "text/html": [
       "<div>\n",
       "<table border=\"1\" class=\"dataframe\">\n",
       "  <thead>\n",
       "    <tr style=\"text-align: right;\">\n",
       "      <th></th>\n",
       "      <th>1h</th>\n",
       "      <th>3h</th>\n",
       "      <th>6h</th>\n",
       "      <th>12h</th>\n",
       "      <th>24h</th>\n",
       "    </tr>\n",
       "    <tr>\n",
       "      <th>anno</th>\n",
       "      <th></th>\n",
       "      <th></th>\n",
       "      <th></th>\n",
       "      <th></th>\n",
       "      <th></th>\n",
       "    </tr>\n",
       "  </thead>\n",
       "  <tbody>\n",
       "    <tr>\n",
       "      <th>1925</th>\n",
       "      <td>50.0</td>\n",
       "      <td>NaN</td>\n",
       "      <td>NaN</td>\n",
       "      <td>NaN</td>\n",
       "      <td>NaN</td>\n",
       "    </tr>\n",
       "    <tr>\n",
       "      <th>1928</th>\n",
       "      <td>35.0</td>\n",
       "      <td>47.0</td>\n",
       "      <td>50.0</td>\n",
       "      <td>50.4</td>\n",
       "      <td>67.6</td>\n",
       "    </tr>\n",
       "    <tr>\n",
       "      <th>1929</th>\n",
       "      <td>35.4</td>\n",
       "      <td>36.4</td>\n",
       "      <td>36.4</td>\n",
       "      <td>49.6</td>\n",
       "      <td>74.0</td>\n",
       "    </tr>\n",
       "    <tr>\n",
       "      <th>1930</th>\n",
       "      <td>67.2</td>\n",
       "      <td>68.2</td>\n",
       "      <td>80.8</td>\n",
       "      <td>102.2</td>\n",
       "      <td>106.8</td>\n",
       "    </tr>\n",
       "    <tr>\n",
       "      <th>1931</th>\n",
       "      <td>25.2</td>\n",
       "      <td>NaN</td>\n",
       "      <td>NaN</td>\n",
       "      <td>NaN</td>\n",
       "      <td>NaN</td>\n",
       "    </tr>\n",
       "    <tr>\n",
       "      <th>1932</th>\n",
       "      <td>35.2</td>\n",
       "      <td>NaN</td>\n",
       "      <td>NaN</td>\n",
       "      <td>NaN</td>\n",
       "      <td>NaN</td>\n",
       "    </tr>\n",
       "    <tr>\n",
       "      <th>1934</th>\n",
       "      <td>48.6</td>\n",
       "      <td>NaN</td>\n",
       "      <td>NaN</td>\n",
       "      <td>NaN</td>\n",
       "      <td>NaN</td>\n",
       "    </tr>\n",
       "    <tr>\n",
       "      <th>1935</th>\n",
       "      <td>36.4</td>\n",
       "      <td>55.2</td>\n",
       "      <td>81.0</td>\n",
       "      <td>94.4</td>\n",
       "      <td>149.0</td>\n",
       "    </tr>\n",
       "    <tr>\n",
       "      <th>1936</th>\n",
       "      <td>47.8</td>\n",
       "      <td>54.2</td>\n",
       "      <td>55.4</td>\n",
       "      <td>55.6</td>\n",
       "      <td>74.6</td>\n",
       "    </tr>\n",
       "    <tr>\n",
       "      <th>1937</th>\n",
       "      <td>39.4</td>\n",
       "      <td>41.4</td>\n",
       "      <td>41.4</td>\n",
       "      <td>50.2</td>\n",
       "      <td>81.0</td>\n",
       "    </tr>\n",
       "    <tr>\n",
       "      <th>1938</th>\n",
       "      <td>21.4</td>\n",
       "      <td>NaN</td>\n",
       "      <td>NaN</td>\n",
       "      <td>NaN</td>\n",
       "      <td>NaN</td>\n",
       "    </tr>\n",
       "    <tr>\n",
       "      <th>1939</th>\n",
       "      <td>33.0</td>\n",
       "      <td>35.6</td>\n",
       "      <td>53.8</td>\n",
       "      <td>58.6</td>\n",
       "      <td>60.6</td>\n",
       "    </tr>\n",
       "    <tr>\n",
       "      <th>1940</th>\n",
       "      <td>42.0</td>\n",
       "      <td>48.2</td>\n",
       "      <td>48.6</td>\n",
       "      <td>48.8</td>\n",
       "      <td>55.2</td>\n",
       "    </tr>\n",
       "    <tr>\n",
       "      <th>1941</th>\n",
       "      <td>39.6</td>\n",
       "      <td>39.6</td>\n",
       "      <td>48.0</td>\n",
       "      <td>79.0</td>\n",
       "      <td>120.0</td>\n",
       "    </tr>\n",
       "    <tr>\n",
       "      <th>1942</th>\n",
       "      <td>28.0</td>\n",
       "      <td>32.8</td>\n",
       "      <td>44.4</td>\n",
       "      <td>50.0</td>\n",
       "      <td>64.8</td>\n",
       "    </tr>\n",
       "    <tr>\n",
       "      <th>1943</th>\n",
       "      <td>42.4</td>\n",
       "      <td>42.4</td>\n",
       "      <td>42.4</td>\n",
       "      <td>42.4</td>\n",
       "      <td>62.6</td>\n",
       "    </tr>\n",
       "    <tr>\n",
       "      <th>1944</th>\n",
       "      <td>21.2</td>\n",
       "      <td>24.8</td>\n",
       "      <td>31.0</td>\n",
       "      <td>47.0</td>\n",
       "      <td>48.2</td>\n",
       "    </tr>\n",
       "    <tr>\n",
       "      <th>1950</th>\n",
       "      <td>21.2</td>\n",
       "      <td>28.0</td>\n",
       "      <td>41.8</td>\n",
       "      <td>63.8</td>\n",
       "      <td>82.8</td>\n",
       "    </tr>\n",
       "    <tr>\n",
       "      <th>1951</th>\n",
       "      <td>19.6</td>\n",
       "      <td>39.4</td>\n",
       "      <td>60.0</td>\n",
       "      <td>82.6</td>\n",
       "      <td>127.6</td>\n",
       "    </tr>\n",
       "    <tr>\n",
       "      <th>1952</th>\n",
       "      <td>41.6</td>\n",
       "      <td>46.2</td>\n",
       "      <td>57.8</td>\n",
       "      <td>97.8</td>\n",
       "      <td>131.6</td>\n",
       "    </tr>\n",
       "    <tr>\n",
       "      <th>1955</th>\n",
       "      <td>51.0</td>\n",
       "      <td>30.8</td>\n",
       "      <td>50.4</td>\n",
       "      <td>79.0</td>\n",
       "      <td>93.8</td>\n",
       "    </tr>\n",
       "    <tr>\n",
       "      <th>1956</th>\n",
       "      <td>32.0</td>\n",
       "      <td>57.4</td>\n",
       "      <td>80.4</td>\n",
       "      <td>108.8</td>\n",
       "      <td>164.4</td>\n",
       "    </tr>\n",
       "    <tr>\n",
       "      <th>1957</th>\n",
       "      <td>27.4</td>\n",
       "      <td>35.0</td>\n",
       "      <td>36.4</td>\n",
       "      <td>38.2</td>\n",
       "      <td>58.4</td>\n",
       "    </tr>\n",
       "    <tr>\n",
       "      <th>1958</th>\n",
       "      <td>35.0</td>\n",
       "      <td>41.2</td>\n",
       "      <td>49.4</td>\n",
       "      <td>80.0</td>\n",
       "      <td>88.0</td>\n",
       "    </tr>\n",
       "    <tr>\n",
       "      <th>1959</th>\n",
       "      <td>21.6</td>\n",
       "      <td>55.6</td>\n",
       "      <td>82.2</td>\n",
       "      <td>129.6</td>\n",
       "      <td>169.4</td>\n",
       "    </tr>\n",
       "    <tr>\n",
       "      <th>1960</th>\n",
       "      <td>36.8</td>\n",
       "      <td>23.6</td>\n",
       "      <td>34.6</td>\n",
       "      <td>42.8</td>\n",
       "      <td>60.8</td>\n",
       "    </tr>\n",
       "    <tr>\n",
       "      <th>1961</th>\n",
       "      <td>54.2</td>\n",
       "      <td>65.2</td>\n",
       "      <td>86.6</td>\n",
       "      <td>115.6</td>\n",
       "      <td>122.4</td>\n",
       "    </tr>\n",
       "    <tr>\n",
       "      <th>1962</th>\n",
       "      <td>39.4</td>\n",
       "      <td>39.4</td>\n",
       "      <td>45.0</td>\n",
       "      <td>70.4</td>\n",
       "      <td>93.6</td>\n",
       "    </tr>\n",
       "    <tr>\n",
       "      <th>1963</th>\n",
       "      <td>30.6</td>\n",
       "      <td>42.2</td>\n",
       "      <td>42.2</td>\n",
       "      <td>51.2</td>\n",
       "      <td>58.8</td>\n",
       "    </tr>\n",
       "    <tr>\n",
       "      <th>1964</th>\n",
       "      <td>30.6</td>\n",
       "      <td>35.8</td>\n",
       "      <td>39.4</td>\n",
       "      <td>66.6</td>\n",
       "      <td>83.4</td>\n",
       "    </tr>\n",
       "    <tr>\n",
       "      <th>1965</th>\n",
       "      <td>33.0</td>\n",
       "      <td>45.0</td>\n",
       "      <td>46.6</td>\n",
       "      <td>71.8</td>\n",
       "      <td>100.6</td>\n",
       "    </tr>\n",
       "    <tr>\n",
       "      <th>1966</th>\n",
       "      <td>32.2</td>\n",
       "      <td>37.4</td>\n",
       "      <td>64.2</td>\n",
       "      <td>95.4</td>\n",
       "      <td>150.2</td>\n",
       "    </tr>\n",
       "    <tr>\n",
       "      <th>1967</th>\n",
       "      <td>38.4</td>\n",
       "      <td>47.2</td>\n",
       "      <td>56.0</td>\n",
       "      <td>65.6</td>\n",
       "      <td>68.2</td>\n",
       "    </tr>\n",
       "    <tr>\n",
       "      <th>1968</th>\n",
       "      <td>33.4</td>\n",
       "      <td>47.2</td>\n",
       "      <td>48.2</td>\n",
       "      <td>58.8</td>\n",
       "      <td>70.4</td>\n",
       "    </tr>\n",
       "    <tr>\n",
       "      <th>1969</th>\n",
       "      <td>31.0</td>\n",
       "      <td>39.4</td>\n",
       "      <td>42.4</td>\n",
       "      <td>53.2</td>\n",
       "      <td>64.2</td>\n",
       "    </tr>\n",
       "    <tr>\n",
       "      <th>1971</th>\n",
       "      <td>37.4</td>\n",
       "      <td>39.6</td>\n",
       "      <td>42.2</td>\n",
       "      <td>49.4</td>\n",
       "      <td>67.8</td>\n",
       "    </tr>\n",
       "    <tr>\n",
       "      <th>1972</th>\n",
       "      <td>36.8</td>\n",
       "      <td>40.6</td>\n",
       "      <td>40.8</td>\n",
       "      <td>41.0</td>\n",
       "      <td>49.2</td>\n",
       "    </tr>\n",
       "    <tr>\n",
       "      <th>1973</th>\n",
       "      <td>39.2</td>\n",
       "      <td>48.4</td>\n",
       "      <td>48.4</td>\n",
       "      <td>48.4</td>\n",
       "      <td>53.8</td>\n",
       "    </tr>\n",
       "    <tr>\n",
       "      <th>1974</th>\n",
       "      <td>29.4</td>\n",
       "      <td>34.0</td>\n",
       "      <td>40.0</td>\n",
       "      <td>69.0</td>\n",
       "      <td>112.2</td>\n",
       "    </tr>\n",
       "    <tr>\n",
       "      <th>1975</th>\n",
       "      <td>40.4</td>\n",
       "      <td>61.2</td>\n",
       "      <td>92.6</td>\n",
       "      <td>123.4</td>\n",
       "      <td>123.4</td>\n",
       "    </tr>\n",
       "    <tr>\n",
       "      <th>1976</th>\n",
       "      <td>37.6</td>\n",
       "      <td>62.2</td>\n",
       "      <td>75.8</td>\n",
       "      <td>83.6</td>\n",
       "      <td>83.6</td>\n",
       "    </tr>\n",
       "    <tr>\n",
       "      <th>1977</th>\n",
       "      <td>30.4</td>\n",
       "      <td>40.6</td>\n",
       "      <td>70.6</td>\n",
       "      <td>87.8</td>\n",
       "      <td>90.6</td>\n",
       "    </tr>\n",
       "    <tr>\n",
       "      <th>1978</th>\n",
       "      <td>44.0</td>\n",
       "      <td>61.2</td>\n",
       "      <td>69.0</td>\n",
       "      <td>83.8</td>\n",
       "      <td>92.2</td>\n",
       "    </tr>\n",
       "    <tr>\n",
       "      <th>1979</th>\n",
       "      <td>38.6</td>\n",
       "      <td>52.8</td>\n",
       "      <td>54.8</td>\n",
       "      <td>70.2</td>\n",
       "      <td>84.2</td>\n",
       "    </tr>\n",
       "    <tr>\n",
       "      <th>1980</th>\n",
       "      <td>28.2</td>\n",
       "      <td>42.4</td>\n",
       "      <td>71.4</td>\n",
       "      <td>97.4</td>\n",
       "      <td>107.4</td>\n",
       "    </tr>\n",
       "    <tr>\n",
       "      <th>1984</th>\n",
       "      <td>61.2</td>\n",
       "      <td>61.4</td>\n",
       "      <td>61.4</td>\n",
       "      <td>62.6</td>\n",
       "      <td>81.8</td>\n",
       "    </tr>\n",
       "    <tr>\n",
       "      <th>1985</th>\n",
       "      <td>23.6</td>\n",
       "      <td>35.6</td>\n",
       "      <td>44.2</td>\n",
       "      <td>58.6</td>\n",
       "      <td>69.8</td>\n",
       "    </tr>\n",
       "    <tr>\n",
       "      <th>1986</th>\n",
       "      <td>20.2</td>\n",
       "      <td>36.8</td>\n",
       "      <td>51.4</td>\n",
       "      <td>55.8</td>\n",
       "      <td>74.4</td>\n",
       "    </tr>\n",
       "    <tr>\n",
       "      <th>1987</th>\n",
       "      <td>32.6</td>\n",
       "      <td>40.6</td>\n",
       "      <td>64.6</td>\n",
       "      <td>77.2</td>\n",
       "      <td>81.2</td>\n",
       "    </tr>\n",
       "    <tr>\n",
       "      <th>1988</th>\n",
       "      <td>89.2</td>\n",
       "      <td>102.0</td>\n",
       "      <td>102.0</td>\n",
       "      <td>102.0</td>\n",
       "      <td>104.2</td>\n",
       "    </tr>\n",
       "  </tbody>\n",
       "</table>\n",
       "</div>"
      ],
      "text/plain": [
       "        1h     3h     6h    12h    24h\n",
       "anno                                  \n",
       "1925  50.0    NaN    NaN    NaN    NaN\n",
       "1928  35.0   47.0   50.0   50.4   67.6\n",
       "1929  35.4   36.4   36.4   49.6   74.0\n",
       "1930  67.2   68.2   80.8  102.2  106.8\n",
       "1931  25.2    NaN    NaN    NaN    NaN\n",
       "1932  35.2    NaN    NaN    NaN    NaN\n",
       "1934  48.6    NaN    NaN    NaN    NaN\n",
       "1935  36.4   55.2   81.0   94.4  149.0\n",
       "1936  47.8   54.2   55.4   55.6   74.6\n",
       "1937  39.4   41.4   41.4   50.2   81.0\n",
       "1938  21.4    NaN    NaN    NaN    NaN\n",
       "1939  33.0   35.6   53.8   58.6   60.6\n",
       "1940  42.0   48.2   48.6   48.8   55.2\n",
       "1941  39.6   39.6   48.0   79.0  120.0\n",
       "1942  28.0   32.8   44.4   50.0   64.8\n",
       "1943  42.4   42.4   42.4   42.4   62.6\n",
       "1944  21.2   24.8   31.0   47.0   48.2\n",
       "1950  21.2   28.0   41.8   63.8   82.8\n",
       "1951  19.6   39.4   60.0   82.6  127.6\n",
       "1952  41.6   46.2   57.8   97.8  131.6\n",
       "1955  51.0   30.8   50.4   79.0   93.8\n",
       "1956  32.0   57.4   80.4  108.8  164.4\n",
       "1957  27.4   35.0   36.4   38.2   58.4\n",
       "1958  35.0   41.2   49.4   80.0   88.0\n",
       "1959  21.6   55.6   82.2  129.6  169.4\n",
       "1960  36.8   23.6   34.6   42.8   60.8\n",
       "1961  54.2   65.2   86.6  115.6  122.4\n",
       "1962  39.4   39.4   45.0   70.4   93.6\n",
       "1963  30.6   42.2   42.2   51.2   58.8\n",
       "1964  30.6   35.8   39.4   66.6   83.4\n",
       "1965  33.0   45.0   46.6   71.8  100.6\n",
       "1966  32.2   37.4   64.2   95.4  150.2\n",
       "1967  38.4   47.2   56.0   65.6   68.2\n",
       "1968  33.4   47.2   48.2   58.8   70.4\n",
       "1969  31.0   39.4   42.4   53.2   64.2\n",
       "1971  37.4   39.6   42.2   49.4   67.8\n",
       "1972  36.8   40.6   40.8   41.0   49.2\n",
       "1973  39.2   48.4   48.4   48.4   53.8\n",
       "1974  29.4   34.0   40.0   69.0  112.2\n",
       "1975  40.4   61.2   92.6  123.4  123.4\n",
       "1976  37.6   62.2   75.8   83.6   83.6\n",
       "1977  30.4   40.6   70.6   87.8   90.6\n",
       "1978  44.0   61.2   69.0   83.8   92.2\n",
       "1979  38.6   52.8   54.8   70.2   84.2\n",
       "1980  28.2   42.4   71.4   97.4  107.4\n",
       "1984  61.2   61.4   61.4   62.6   81.8\n",
       "1985  23.6   35.6   44.2   58.6   69.8\n",
       "1986  20.2   36.8   51.4   55.8   74.4\n",
       "1987  32.6   40.6   64.6   77.2   81.2\n",
       "1988  89.2  102.0  102.0  102.0  104.2"
      ]
     },
     "execution_count": 14,
     "metadata": {},
     "output_type": "execute_result"
    }
   ],
   "source": [
    "data"
   ]
  },
  {
   "cell_type": "markdown",
   "metadata": {},
   "source": [
    "Finalmente visualizziamo i dati con matplotlib. Il secondo comando, preceduto da \"%\" consente di visualizzare automaticamente sullo schermo il risultato grafico. "
   ]
  },
  {
   "cell_type": "code",
   "execution_count": 15,
   "metadata": {
    "collapsed": false
   },
   "outputs": [
    {
     "data": {
      "text/plain": [
       "<matplotlib.axes._subplots.AxesSubplot at 0x11a3736d8>"
      ]
     },
     "execution_count": 15,
     "metadata": {},
     "output_type": "execute_result"
    }
   ],
   "source": [
    "data.plot(title=\"Pioggie a Paperopoli\",style=\"o-\")"
   ]
  },
  {
   "cell_type": "code",
   "execution_count": 16,
   "metadata": {
    "collapsed": false
   },
   "outputs": [],
   "source": [
    "import matplotlib.pyplot as plt\n",
    "%matplotlib inline "
   ]
  },
  {
   "cell_type": "code",
   "execution_count": 27,
   "metadata": {
    "collapsed": false
   },
   "outputs": [
    {
     "data": {
      "text/plain": [
       "<matplotlib.text.Text at 0x11634b3c8>"
      ]
     },
     "execution_count": 27,
     "metadata": {},
     "output_type": "execute_result"
    },
    {
     "data": {
      "image/png": "[encoded data removed]",
      "text/plain": [
       "<matplotlib.figure.Figure at 0x1162bfa90>"
      ]
     },
     "metadata": {},
     "output_type": "display_data"
    }
   ],
   "source": [
    "ax=data.plot(title=\"Pioggie a Paperopoli\",style=\"o-\")\n",
    "ax.set_ylabel(\"Precipitazione [mm]\")"
   ]
  },
  {
   "cell_type": "markdown",
   "metadata": {},
   "source": [
    "Altri tipi di grafico"
   ]
  },
  {
   "cell_type": "code",
   "execution_count": 17,
   "metadata": {
    "collapsed": false,
    "scrolled": true
   },
   "outputs": [
    {
     "data": {
      "text/plain": [
       "<matplotlib.text.Text at 0x11d78bda0>"
      ]
     },
     "execution_count": 17,
     "metadata": {},
     "output_type": "execute_result"
    },
    {
     "data": {
      "image/png": "[encoded data removed]",
      "text/plain": [
       "<matplotlib.figure.Figure at 0x11d754b38>"
      ]
     },
     "metadata": {},
     "output_type": "display_data"
    }
   ],
   "source": [
    "ax=data.plot(kind=\"bar\")\n",
    "ax.set_ylabel(\"Precipitazione [mm]\")"
   ]
  },
  {
   "cell_type": "markdown",
   "metadata": {},
   "source": [
    "Altri tipi di grafico: un barplot orizzontale"
   ]
  },
  {
   "cell_type": "code",
   "execution_count": 18,
   "metadata": {
    "collapsed": false
   },
   "outputs": [
    {
     "data": {
      "text/plain": [
       "<matplotlib.axes._subplots.AxesSubplot at 0x11d84af98>"
      ]
     },
     "execution_count": 18,
     "metadata": {},
     "output_type": "execute_result"
    },
    {
     "data": {
      "image/png": "[encoded data removed]",
      "text/plain": [
       "<matplotlib.figure.Figure at 0x11d7f1c88>"
      ]
     },
     "metadata": {},
     "output_type": "display_data"
    }
   ],
   "source": [
    "data.plot(kind=\"barh\")"
   ]
  },
  {
   "cell_type": "markdown",
   "metadata": {},
   "source": [
    "I dati rappresentati con un boxplot"
   ]
  },
  {
   "cell_type": "code",
   "execution_count": 19,
   "metadata": {
    "collapsed": false
   },
   "outputs": [
    {
     "data": {
      "text/plain": [
       "<matplotlib.axes._subplots.AxesSubplot at 0x11de72f28>"
      ]
     },
     "execution_count": 19,
     "metadata": {},
     "output_type": "execute_result"
    },
    {
     "data": {
      "image/png": "[encoded data removed]",
      "text/plain": [
       "<matplotlib.figure.Figure at 0x11d7a38d0>"
      ]
     },
     "metadata": {},
     "output_type": "display_data"
    }
   ],
   "source": [
    "data.plot.box()"
   ]
  },
  {
   "cell_type": "markdown",
   "metadata": {},
   "source": [
    "Un'interrogazione per conoscere il nome delle colonne"
   ]
  },
  {
   "cell_type": "code",
   "execution_count": 20,
   "metadata": {
    "collapsed": false
   },
   "outputs": [
    {
     "data": {
      "text/plain": [
       "Index(['1h', '3h', '6h', '12h', '24h'], dtype='object')"
      ]
     },
     "execution_count": 20,
     "metadata": {},
     "output_type": "execute_result"
    }
   ],
   "source": [
    "data.columns"
   ]
  },
  {
   "cell_type": "markdown",
   "metadata": {},
   "source": [
    "Il subsetting di un dataframe è piuttosto semplice. "
   ]
  },
  {
   "cell_type": "code",
   "execution_count": 21,
   "metadata": {
    "collapsed": false,
    "scrolled": true
   },
   "outputs": [
    {
     "data": {
      "text/plain": [
       "anno\n",
       "1925    50.0\n",
       "1928    35.0\n",
       "1929    35.4\n",
       "1930    67.2\n",
       "1931    25.2\n",
       "1932    35.2\n",
       "1934    48.6\n",
       "1935    36.4\n",
       "1936    47.8\n",
       "1937    39.4\n",
       "1938    21.4\n",
       "1939    33.0\n",
       "1940    42.0\n",
       "1941    39.6\n",
       "1942    28.0\n",
       "1943    42.4\n",
       "1944    21.2\n",
       "1950    21.2\n",
       "1951    19.6\n",
       "1952    41.6\n",
       "1955    51.0\n",
       "1956    32.0\n",
       "1957    27.4\n",
       "1958    35.0\n",
       "1959    21.6\n",
       "1960    36.8\n",
       "1961    54.2\n",
       "1962    39.4\n",
       "1963    30.6\n",
       "1964    30.6\n",
       "1965    33.0\n",
       "1966    32.2\n",
       "1967    38.4\n",
       "1968    33.4\n",
       "1969    31.0\n",
       "1971    37.4\n",
       "1972    36.8\n",
       "1973    39.2\n",
       "1974    29.4\n",
       "1975    40.4\n",
       "1976    37.6\n",
       "1977    30.4\n",
       "1978    44.0\n",
       "1979    38.6\n",
       "1980    28.2\n",
       "1984    61.2\n",
       "1985    23.6\n",
       "1986    20.2\n",
       "1987    32.6\n",
       "1988    89.2\n",
       "Name: 1h, dtype: float64"
      ]
     },
     "execution_count": 21,
     "metadata": {},
     "output_type": "execute_result"
    }
   ],
   "source": [
    "data[\"1h\"]"
   ]
  },
  {
   "cell_type": "markdown",
   "metadata": {},
   "source": [
    "Di seguito un po' di comandi per plottare istogrammi (come subplots) o singolarmente"
   ]
  },
  {
   "cell_type": "code",
   "execution_count": 22,
   "metadata": {
    "collapsed": false
   },
   "outputs": [
    {
     "data": {
      "image/png": "[encoded data removed]",
      "text/plain": [
       "<matplotlib.figure.Figure at 0x11e4c8080>"
      ]
     },
     "metadata": {},
     "output_type": "display_data"
    }
   ],
   "source": [
    "ax=data[[\"1h\",\"3h\",\"6h\",\"24h\"]].hist(bins=10)"
   ]
  },
  {
   "cell_type": "code",
   "execution_count": 23,
   "metadata": {
    "collapsed": false,
    "scrolled": true
   },
   "outputs": [
    {
     "data": {
      "text/plain": [
       "<matplotlib.axes._subplots.AxesSubplot at 0x11e606320>"
      ]
     },
     "execution_count": 23,
     "metadata": {},
     "output_type": "execute_result"
    },
    {
     "data": {
      "image/png": "[encoded data removed]",
      "text/plain": [
       "<matplotlib.figure.Figure at 0x11e377cf8>"
      ]
     },
     "metadata": {},
     "output_type": "display_data"
    }
   ],
   "source": [
    "data[\"1h\"].hist(bins=15)"
   ]
  },
  {
   "cell_type": "markdown",
   "metadata": {},
   "source": [
    "Il pacchetto seaborno aggiunge alcune opzioni a matplotlib"
   ]
  },
  {
   "cell_type": "markdown",
   "metadata": {},
   "source": [
    "http://chrisalbon.com/python/pandas_with_seaborn.html"
   ]
  },
  {
   "cell_type": "code",
   "execution_count": 24,
   "metadata": {
    "collapsed": true
   },
   "outputs": [],
   "source": [
    "import seaborn as sns"
   ]
  },
  {
   "cell_type": "code",
   "execution_count": 25,
   "metadata": {
    "collapsed": false
   },
   "outputs": [
    {
     "data": {
      "text/plain": [
       "<matplotlib.axes._subplots.AxesSubplot at 0x1206bec18>"
      ]
     },
     "execution_count": 25,
     "metadata": {},
     "output_type": "execute_result"
    },
    {
     "data": {
      "image/png": "[encoded data removed]",
      "text/plain": [
       "<matplotlib.figure.Figure at 0x1206be2b0>"
      ]
     },
     "metadata": {},
     "output_type": "display_data"
    }
   ],
   "source": [
    "sns.kdeplot(data[\"1h\"])"
   ]
  },
  {
   "cell_type": "code",
   "execution_count": 26,
   "metadata": {
    "collapsed": false
   },
   "outputs": [
    {
     "data": {
      "text/plain": [
       "<matplotlib.axes._subplots.AxesSubplot at 0x12073aac8>"
      ]
     },
     "execution_count": 26,
     "metadata": {},
     "output_type": "execute_result"
    },
    {
     "data": {
      "image/png": "[encoded data removed]",
      "text/plain": [
       "<matplotlib.figure.Figure at 0x1206be2e8>"
      ]
     },
     "metadata": {},
     "output_type": "display_data"
    }
   ],
   "source": [
    "plt.hist(data[\"1h\"],alpha=.8)\n",
    "sns.rugplot(data[\"1h\"])"
   ]
  },
  {
   "cell_type": "markdown",
   "metadata": {},
   "source": [
    "http://pandas.pydata.org/pandas-docs/stable/visualization.html#visualization-box"
   ]
  },
  {
   "cell_type": "markdown",
   "metadata": {},
   "source": [
    "Altre caratteristiche degli istogrammi. La costruzione della curva cumulata"
   ]
  },
  {
   "cell_type": "code",
   "execution_count": 27,
   "metadata": {
    "collapsed": false
   },
   "outputs": [
    {
     "data": {
      "text/plain": [
       "<matplotlib.axes._subplots.AxesSubplot at 0x120d811d0>"
      ]
     },
     "execution_count": 27,
     "metadata": {},
     "output_type": "execute_result"
    },
    {
     "data": {
      "image/png": "[encoded data removed]",
      "text/plain": [
       "<matplotlib.figure.Figure at 0x120d9e5f8>"
      ]
     },
     "metadata": {},
     "output_type": "display_data"
    }
   ],
   "source": [
    "data[\"1h\"].hist(cumulative=True, normed=1, bins=15)"
   ]
  },
  {
   "cell_type": "code",
   "execution_count": 28,
   "metadata": {
    "collapsed": false
   },
   "outputs": [
    {
     "data": {
      "text/plain": [
       "<matplotlib.axes._subplots.AxesSubplot at 0x120f09978>"
      ]
     },
     "execution_count": 28,
     "metadata": {},
     "output_type": "execute_result"
    },
    {
     "data": {
      "image/png": "[encoded data removed]",
      "text/plain": [
       "<matplotlib.figure.Figure at 0x120d9e748>"
      ]
     },
     "metadata": {},
     "output_type": "display_data"
    }
   ],
   "source": [
    "data[\"3h\"].hist(cumulative=True, normed=1, bins=10)"
   ]
  },
  {
   "cell_type": "markdown",
   "metadata": {},
   "source": [
    "La costruzione di una curva cumulata più \"carina\", come la si otterrebbe con R"
   ]
  },
  {
   "cell_type": "markdown",
   "metadata": {},
   "source": [
    "http://stackoverflow.com/questions/3209362/how-to-plot-empirical-cdf-in-matplotlib-in-python"
   ]
  },
  {
   "cell_type": "code",
   "execution_count": 29,
   "metadata": {
    "collapsed": false
   },
   "outputs": [
    {
     "data": {
      "image/png": "[encoded data removed]",
      "text/plain": [
       "<matplotlib.figure.Figure at 0x120f4bc88>"
      ]
     },
     "metadata": {},
     "output_type": "display_data"
    }
   ],
   "source": [
    "import numpy as np\n",
    "import statsmodels.api as sm # recommended import according to the docs\n",
    "import matplotlib.pyplot as plt\n",
    "\n",
    "sample = data[\"1h\"]\n",
    "ecdf = sm.distributions.ECDF(sample)\n",
    "\n",
    "x = np.linspace(min(sample), max(sample))\n",
    "y = ecdf(x)\n",
    "plt.step(x, y)\n",
    "plt.show()"
   ]
  },
  {
   "cell_type": "code",
   "execution_count": 44,
   "metadata": {
    "collapsed": false
   },
   "outputs": [
    {
     "name": "stdout",
     "output_type": "stream",
     "text": [
      "anno\n",
      "1925      NaN\n",
      "1928     47.0\n",
      "1929     36.4\n",
      "1930     68.2\n",
      "1931      NaN\n",
      "1932      NaN\n",
      "1934      NaN\n",
      "1935     55.2\n",
      "1936     54.2\n",
      "1937     41.4\n",
      "1938      NaN\n",
      "1939     35.6\n",
      "1940     48.2\n",
      "1941     39.6\n",
      "1942     32.8\n",
      "1943     42.4\n",
      "1944     24.8\n",
      "1950     28.0\n",
      "1951     39.4\n",
      "1952     46.2\n",
      "1955     30.8\n",
      "1956     57.4\n",
      "1957     35.0\n",
      "1958     41.2\n",
      "1959     55.6\n",
      "1960     23.6\n",
      "1961     65.2\n",
      "1962     39.4\n",
      "1963     42.2\n",
      "1964     35.8\n",
      "1965     45.0\n",
      "1966     37.4\n",
      "1967     47.2\n",
      "1968     47.2\n",
      "1969     39.4\n",
      "1971     39.6\n",
      "1972     40.6\n",
      "1973     48.4\n",
      "1974     34.0\n",
      "1975     61.2\n",
      "1976     62.2\n",
      "1977     40.6\n",
      "1978     61.2\n",
      "1979     52.8\n",
      "1980     42.4\n",
      "1984     61.4\n",
      "1985     35.6\n",
      "1986     36.8\n",
      "1987     40.6\n",
      "1988    102.0\n",
      "Name: 3h, dtype: float64\n"
     ]
    },
    {
     "data": {
      "image/png": "[encoded data removed]",
      "text/plain": [
       "<matplotlib.figure.Figure at 0x11a4a7320>"
      ]
     },
     "metadata": {},
     "output_type": "display_data"
    }
   ],
   "source": [
    "sample = data[\"3h\"]\n",
    "print(sample)\n",
    "ecdf = sm.distributions.ECDF(sample)\n",
    "\n",
    "x = np.linspace(min(sample), max(sample))\n",
    "y = ecdf(x)\n",
    "plt.step(x, y)\n",
    "plt.show()"
   ]
  },
  {
   "cell_type": "markdown",
   "metadata": {},
   "source": [
    "Il grafico non visualizza nulla perchè questo pacchetto non capisce cosa sono i \"NaN\". Un peccato, ma possiamo trovare dei modi per aggirare il problema."
   ]
  },
  {
   "cell_type": "markdown",
   "metadata": {},
   "source": [
    "http://pandas.pydata.org/pandas-docs/stable/generated/pandas.DataFrame.dropna.html"
   ]
  },
  {
   "cell_type": "code",
   "execution_count": 30,
   "metadata": {
    "collapsed": false
   },
   "outputs": [
    {
     "data": {
      "text/plain": [
       "anno\n",
       "1928     47.0\n",
       "1929     36.4\n",
       "1930     68.2\n",
       "1935     55.2\n",
       "1936     54.2\n",
       "1937     41.4\n",
       "1939     35.6\n",
       "1940     48.2\n",
       "1941     39.6\n",
       "1942     32.8\n",
       "1943     42.4\n",
       "1944     24.8\n",
       "1950     28.0\n",
       "1951     39.4\n",
       "1952     46.2\n",
       "1955     30.8\n",
       "1956     57.4\n",
       "1957     35.0\n",
       "1958     41.2\n",
       "1959     55.6\n",
       "1960     23.6\n",
       "1961     65.2\n",
       "1962     39.4\n",
       "1963     42.2\n",
       "1964     35.8\n",
       "1965     45.0\n",
       "1966     37.4\n",
       "1967     47.2\n",
       "1968     47.2\n",
       "1969     39.4\n",
       "1971     39.6\n",
       "1972     40.6\n",
       "1973     48.4\n",
       "1974     34.0\n",
       "1975     61.2\n",
       "1976     62.2\n",
       "1977     40.6\n",
       "1978     61.2\n",
       "1979     52.8\n",
       "1980     42.4\n",
       "1984     61.4\n",
       "1985     35.6\n",
       "1986     36.8\n",
       "1987     40.6\n",
       "1988    102.0\n",
       "Name: 3h, dtype: float64"
      ]
     },
     "execution_count": 30,
     "metadata": {},
     "output_type": "execute_result"
    }
   ],
   "source": [
    "data[\"3h\"].dropna()"
   ]
  },
  {
   "cell_type": "code",
   "execution_count": 46,
   "metadata": {
    "collapsed": false
   },
   "outputs": [
    {
     "data": {
      "image/png": "[encoded data removed]",
      "text/plain": [
       "<matplotlib.figure.Figure at 0x11a495630>"
      ]
     },
     "metadata": {},
     "output_type": "display_data"
    }
   ],
   "source": [
    "sample=data[\"3h\"].dropna()\n",
    "x = np.linspace(min(sample), max(sample))\n",
    "y = ecdf(x)\n",
    "plt.step(x, y)\n",
    "plt.show()"
   ]
  },
  {
   "cell_type": "markdown",
   "metadata": {},
   "source": [
    "https://plot.ly/pandas/box-plots/\n",
    "We need to  load plotly. This is as easy as\n",
    "conda install plotly"
   ]
  }
 ],
 "metadata": {
  "kernelspec": {
   "display_name": "Python 3",
   "language": "python",
   "name": "python3"
  },
  "language_info": {
   "codemirror_mode": {
    "name": "ipython",
    "version": 3
   },
   "file_extension": ".py",
   "mimetype": "text/x-python",
   "name": "python",
   "nbconvert_exporter": "python",
   "pygments_lexer": "ipython3",
   "version": "3.6.0"
  }
 },
 "nbformat": 4,
 "nbformat_minor": 2
}
