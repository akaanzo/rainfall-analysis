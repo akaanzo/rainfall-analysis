{
 "cells": [
  {
   "cell_type": "markdown",
   "metadata": {},
   "source": [
    "# Calcolo delle intensità di precipitazione J"
   ]
  },
  {
   "cell_type": "markdown",
   "metadata": {},
   "source": [
    "Matteo Franzoi - Andrea Rebellato - 2019-04-17"
   ]
  },
  {
   "cell_type": "markdown",
   "metadata": {},
   "source": [
    "---"
   ]
  },
  {
   "cell_type": "code",
   "execution_count": 4,
   "metadata": {},
   "outputs": [],
   "source": [
    "import os\n",
    "from pandas import *\n",
    "import pandas as pd\n",
    "from numpy import *\n",
    "import numpy as np\n",
    "import math"
   ]
  },
  {
   "cell_type": "markdown",
   "metadata": {},
   "source": [
    "I valori di _a_ e *n* derivanti dagli scrosci sono:"
   ]
  },
  {
   "cell_type": "code",
   "execution_count": 5,
   "metadata": {},
   "outputs": [
    {
     "data": {
      "text/html": [
       "<div>\n",
       "<style scoped>\n",
       "    .dataframe tbody tr th:only-of-type {\n",
       "        vertical-align: middle;\n",
       "    }\n",
       "\n",
       "    .dataframe tbody tr th {\n",
       "        vertical-align: top;\n",
       "    }\n",
       "\n",
       "    .dataframe thead th {\n",
       "        text-align: right;\n",
       "    }\n",
       "</style>\n",
       "<table border=\"1\" class=\"dataframe\">\n",
       "  <thead>\n",
       "    <tr style=\"text-align: right;\">\n",
       "      <th></th>\n",
       "      <th>n</th>\n",
       "      <th>a</th>\n",
       "    </tr>\n",
       "  </thead>\n",
       "  <tbody>\n",
       "    <tr>\n",
       "      <th>10</th>\n",
       "      <td>0.322767</td>\n",
       "      <td>8.879665</td>\n",
       "    </tr>\n",
       "    <tr>\n",
       "      <th>20</th>\n",
       "      <td>0.314941</td>\n",
       "      <td>10.396587</td>\n",
       "    </tr>\n",
       "    <tr>\n",
       "      <th>100</th>\n",
       "      <td>0.302785</td>\n",
       "      <td>13.849631</td>\n",
       "    </tr>\n",
       "  </tbody>\n",
       "</table>\n",
       "</div>"
      ],
      "text/plain": [
       "            n          a\n",
       "10   0.322767   8.879665\n",
       "20   0.314941  10.396587\n",
       "100  0.302785  13.849631"
      ]
     },
     "execution_count": 5,
     "metadata": {},
     "output_type": "execute_result"
    }
   ],
   "source": [
    "fnl = read_pickle('an_scrosci')\n",
    "fnl"
   ]
  },
  {
   "cell_type": "code",
   "execution_count": 6,
   "metadata": {},
   "outputs": [],
   "source": [
    "def j(tp, fn, row):\n",
    "    return fn['a'][row] * tp**(fn['n'][row]-1)"
   ]
  },
  {
   "cell_type": "code",
   "execution_count": 7,
   "metadata": {},
   "outputs": [
    {
     "data": {
      "text/html": [
       "<div>\n",
       "<style scoped>\n",
       "    .dataframe tbody tr th:only-of-type {\n",
       "        vertical-align: middle;\n",
       "    }\n",
       "\n",
       "    .dataframe tbody tr th {\n",
       "        vertical-align: top;\n",
       "    }\n",
       "\n",
       "    .dataframe thead th {\n",
       "        text-align: right;\n",
       "    }\n",
       "</style>\n",
       "<table border=\"1\" class=\"dataframe\">\n",
       "  <thead>\n",
       "    <tr style=\"text-align: right;\">\n",
       "      <th></th>\n",
       "      <th>5min</th>\n",
       "      <th>10min</th>\n",
       "      <th>15min</th>\n",
       "      <th>20min</th>\n",
       "      <th>25min</th>\n",
       "    </tr>\n",
       "  </thead>\n",
       "  <tbody>\n",
       "    <tr>\n",
       "      <th>Tr = 10y</th>\n",
       "      <td>47.780861</td>\n",
       "      <td>29.880404</td>\n",
       "      <td>22.705529</td>\n",
       "      <td>18.686112</td>\n",
       "      <td>16.065279</td>\n",
       "    </tr>\n",
       "    <tr>\n",
       "      <th>Tr = 20y</th>\n",
       "      <td>57.041849</td>\n",
       "      <td>35.478913</td>\n",
       "      <td>26.874315</td>\n",
       "      <td>22.067188</td>\n",
       "      <td>18.939039</td>\n",
       "    </tr>\n",
       "    <tr>\n",
       "      <th>Tr = 100y</th>\n",
       "      <td>78.317726</td>\n",
       "      <td>48.303355</td>\n",
       "      <td>36.408581</td>\n",
       "      <td>29.791648</td>\n",
       "      <td>25.499248</td>\n",
       "    </tr>\n",
       "  </tbody>\n",
       "</table>\n",
       "</div>"
      ],
      "text/plain": [
       "                5min      10min      15min      20min      25min\n",
       "Tr = 10y   47.780861  29.880404  22.705529  18.686112  16.065279\n",
       "Tr = 20y   57.041849  35.478913  26.874315  22.067188  18.939039\n",
       "Tr = 100y  78.317726  48.303355  36.408581  29.791648  25.499248"
      ]
     },
     "execution_count": 7,
     "metadata": {},
     "output_type": "execute_result"
    }
   ],
   "source": [
    "jj = pd.DataFrame(\n",
    "    [[\n",
    "        j(5/60, fnl, 10),\n",
    "        j(5/60, fnl, 20),\n",
    "        j(5/60, fnl, 100)\n",
    "    ],\n",
    "    [\n",
    "        j(10/60, fnl, 10),\n",
    "        j(10/60, fnl, 20),\n",
    "        j(10/60, fnl, 100)\n",
    "    ],\n",
    "    [\n",
    "        j(15/60, fnl, 10),\n",
    "        j(15/60, fnl, 20),\n",
    "        j(15/60, fnl, 100)\n",
    "    ],\n",
    "    [\n",
    "        j(20/60, fnl, 10),\n",
    "        j(20/60, fnl, 20),\n",
    "        j(20/60, fnl, 100)\n",
    "    ],\n",
    "    [\n",
    "        j(25/60, fnl, 10),\n",
    "        j(25/60, fnl, 20),\n",
    "        j(25/60, fnl, 100)\n",
    "    ]],\n",
    "    columns = ['Tr = 10y', 'Tr = 20y', 'Tr = 100y'],\n",
    "    index = ['5min', '10min', '15min', '20min', '25min']\n",
    ").T\n",
    "jj"
   ]
  },
  {
   "cell_type": "markdown",
   "metadata": {},
   "source": [
    "I dati appena trovati verranno utilizzati nel software SWMM, in particolare nelle timeseries."
   ]
  }
 ],
 "metadata": {
  "kernelspec": {
   "display_name": "Python 3",
   "language": "python",
   "name": "python3"
  },
  "language_info": {
   "codemirror_mode": {
    "name": "ipython",
    "version": 3
   },
   "file_extension": ".py",
   "mimetype": "text/x-python",
   "name": "python",
   "nbconvert_exporter": "python",
   "pygments_lexer": "ipython3",
   "version": "3.7.1"
  }
 },
 "nbformat": 4,
 "nbformat_minor": 2
}
