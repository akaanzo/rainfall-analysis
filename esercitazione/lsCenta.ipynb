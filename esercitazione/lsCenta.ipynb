{
 "cells": [
  {
   "cell_type": "markdown",
   "metadata": {},
   "source": [
    "# Metodo dei Minimi Quadrati applicato ai dati di Centa San Nicolò"
   ]
  },
  {
   "cell_type": "markdown",
   "metadata": {},
   "source": [
    "Matteo Franzoi - Andrea Rebellato - 2019-03-27"
   ]
  },
  {
   "cell_type": "markdown",
   "metadata": {},
   "source": [
    "---"
   ]
  },
  {
   "cell_type": "markdown",
   "metadata": {},
   "source": [
    "Primo passo è importare le librerie"
   ]
  },
  {
   "cell_type": "code",
   "execution_count": 1,
   "metadata": {},
   "outputs": [],
   "source": [
    "import os\n",
    "from pandas import *\n",
    "import pandas as pd\n",
    "from numpy import *\n",
    "import numpy as np\n",
    "import scipy\n",
    "import matplotlib.pyplot as plt\n",
    "%matplotlib inline\n",
    "import math\n",
    "from datetime import datetime\n",
    "from scipy.stats import genextreme, gumbel_r\n",
    "from numpy import linspace\n",
    "from statsmodels.distributions.empirical_distribution import ECDF"
   ]
  },
  {
   "cell_type": "code",
   "execution_count": 2,
   "metadata": {},
   "outputs": [
    {
     "data": {
      "text/plain": [
       "'D:\\\\jupyter\\\\esercitazione'"
      ]
     },
     "execution_count": 2,
     "metadata": {},
     "output_type": "execute_result"
    }
   ],
   "source": [
    "os.getcwd()"
   ]
  },
  {
   "cell_type": "code",
   "execution_count": 4,
   "metadata": {},
   "outputs": [
    {
     "data": {
      "text/plain": [
       "['.ipynb_checkpoints',\n",
       " 'abs_ls',\n",
       " 'abs_m',\n",
       " 'abs_mle',\n",
       " 'best_parameters',\n",
       " 'lsCenta.ipynb',\n",
       " 'lsppCenta.ipynb',\n",
       " 'massimePrecipitazioniCenta.csv',\n",
       " 'mleCenta.ipynb',\n",
       " 'momentiCenta.ipynb',\n",
       " 'pearsonCenta.ipynb']"
      ]
     },
     "execution_count": 4,
     "metadata": {},
     "output_type": "execute_result"
    }
   ],
   "source": [
    "os.listdir()"
   ]
  },
  {
   "cell_type": "markdown",
   "metadata": {},
   "source": [
    "['.ipynb_checkpoints',  \n",
    " 'abs_ls',  \n",
    " 'abs_m',  \n",
    " 'abs_mle',  \n",
    " 'best_parameters',  \n",
    " 'lsCenta.ipynb',  \n",
    " 'lsppCenta.ipynb',  \n",
    " '**massimePrecipitazioniCenta.csv**',  \n",
    " 'mleCenta.ipynb',  \n",
    " 'momentiCenta.ipynb',  \n",
    " 'pearsonCenta.ipynb']"
   ]
  },
  {
   "cell_type": "markdown",
   "metadata": {},
   "source": [
    "e importare il ffile _csv_ dei dati"
   ]
  },
  {
   "cell_type": "code",
   "execution_count": 5,
   "metadata": {},
   "outputs": [
    {
     "data": {
      "text/html": [
       "<div>\n",
       "<style scoped>\n",
       "    .dataframe tbody tr th:only-of-type {\n",
       "        vertical-align: middle;\n",
       "    }\n",
       "\n",
       "    .dataframe tbody tr th {\n",
       "        vertical-align: top;\n",
       "    }\n",
       "\n",
       "    .dataframe thead th {\n",
       "        text-align: right;\n",
       "    }\n",
       "</style>\n",
       "<table border=\"1\" class=\"dataframe\">\n",
       "  <thead>\n",
       "    <tr style=\"text-align: right;\">\n",
       "      <th></th>\n",
       "      <th>1h</th>\n",
       "      <th>3h</th>\n",
       "      <th>6h</th>\n",
       "      <th>12h</th>\n",
       "      <th>24h</th>\n",
       "    </tr>\n",
       "    <tr>\n",
       "      <th>anno</th>\n",
       "      <th></th>\n",
       "      <th></th>\n",
       "      <th></th>\n",
       "      <th></th>\n",
       "      <th></th>\n",
       "    </tr>\n",
       "  </thead>\n",
       "  <tbody>\n",
       "    <tr>\n",
       "      <th>1934</th>\n",
       "      <td>22.6</td>\n",
       "      <td>42.0</td>\n",
       "      <td>56.6</td>\n",
       "      <td>58.8</td>\n",
       "      <td>85.0</td>\n",
       "    </tr>\n",
       "    <tr>\n",
       "      <th>1935</th>\n",
       "      <td>17.8</td>\n",
       "      <td>32.6</td>\n",
       "      <td>54.2</td>\n",
       "      <td>63.6</td>\n",
       "      <td>88.0</td>\n",
       "    </tr>\n",
       "    <tr>\n",
       "      <th>1936</th>\n",
       "      <td>15.8</td>\n",
       "      <td>28.0</td>\n",
       "      <td>41.4</td>\n",
       "      <td>72.0</td>\n",
       "      <td>85.2</td>\n",
       "    </tr>\n",
       "    <tr>\n",
       "      <th>1937</th>\n",
       "      <td>27.8</td>\n",
       "      <td>35.6</td>\n",
       "      <td>38.2</td>\n",
       "      <td>58.4</td>\n",
       "      <td>62.6</td>\n",
       "    </tr>\n",
       "    <tr>\n",
       "      <th>1938</th>\n",
       "      <td>15.0</td>\n",
       "      <td>21.4</td>\n",
       "      <td>32.0</td>\n",
       "      <td>56.0</td>\n",
       "      <td>83.0</td>\n",
       "    </tr>\n",
       "    <tr>\n",
       "      <th>1939</th>\n",
       "      <td>29.4</td>\n",
       "      <td>36.2</td>\n",
       "      <td>61.0</td>\n",
       "      <td>115.2</td>\n",
       "      <td>117.8</td>\n",
       "    </tr>\n",
       "    <tr>\n",
       "      <th>1940</th>\n",
       "      <td>28.8</td>\n",
       "      <td>67.0</td>\n",
       "      <td>94.0</td>\n",
       "      <td>119.0</td>\n",
       "      <td>135.2</td>\n",
       "    </tr>\n",
       "    <tr>\n",
       "      <th>1941</th>\n",
       "      <td>14.2</td>\n",
       "      <td>21.0</td>\n",
       "      <td>25.6</td>\n",
       "      <td>44.0</td>\n",
       "      <td>51.0</td>\n",
       "    </tr>\n",
       "    <tr>\n",
       "      <th>1942</th>\n",
       "      <td>27.0</td>\n",
       "      <td>42.0</td>\n",
       "      <td>66.2</td>\n",
       "      <td>82.6</td>\n",
       "      <td>85.6</td>\n",
       "    </tr>\n",
       "    <tr>\n",
       "      <th>1946</th>\n",
       "      <td>18.0</td>\n",
       "      <td>32.0</td>\n",
       "      <td>46.2</td>\n",
       "      <td>58.0</td>\n",
       "      <td>74.4</td>\n",
       "    </tr>\n",
       "    <tr>\n",
       "      <th>...</th>\n",
       "      <td>...</td>\n",
       "      <td>...</td>\n",
       "      <td>...</td>\n",
       "      <td>...</td>\n",
       "      <td>...</td>\n",
       "    </tr>\n",
       "    <tr>\n",
       "      <th>1991</th>\n",
       "      <td>18.6</td>\n",
       "      <td>24.0</td>\n",
       "      <td>45.5</td>\n",
       "      <td>75.8</td>\n",
       "      <td>105.6</td>\n",
       "    </tr>\n",
       "    <tr>\n",
       "      <th>1992</th>\n",
       "      <td>13.4</td>\n",
       "      <td>20.6</td>\n",
       "      <td>34.6</td>\n",
       "      <td>60.0</td>\n",
       "      <td>77.8</td>\n",
       "    </tr>\n",
       "    <tr>\n",
       "      <th>1997</th>\n",
       "      <td>13.8</td>\n",
       "      <td>23.8</td>\n",
       "      <td>37.6</td>\n",
       "      <td>61.4</td>\n",
       "      <td>70.6</td>\n",
       "    </tr>\n",
       "    <tr>\n",
       "      <th>1998</th>\n",
       "      <td>29.6</td>\n",
       "      <td>34.0</td>\n",
       "      <td>48.4</td>\n",
       "      <td>66.2</td>\n",
       "      <td>80.2</td>\n",
       "    </tr>\n",
       "    <tr>\n",
       "      <th>1999</th>\n",
       "      <td>36.4</td>\n",
       "      <td>69.2</td>\n",
       "      <td>70.8</td>\n",
       "      <td>119.4</td>\n",
       "      <td>134.6</td>\n",
       "    </tr>\n",
       "    <tr>\n",
       "      <th>2000</th>\n",
       "      <td>36.4</td>\n",
       "      <td>42.2</td>\n",
       "      <td>52.8</td>\n",
       "      <td>90.0</td>\n",
       "      <td>120.4</td>\n",
       "    </tr>\n",
       "    <tr>\n",
       "      <th>2003</th>\n",
       "      <td>37.4</td>\n",
       "      <td>38.8</td>\n",
       "      <td>62.8</td>\n",
       "      <td>101.0</td>\n",
       "      <td>121.6</td>\n",
       "    </tr>\n",
       "    <tr>\n",
       "      <th>2004</th>\n",
       "      <td>42.2</td>\n",
       "      <td>43.0</td>\n",
       "      <td>45.2</td>\n",
       "      <td>57.6</td>\n",
       "      <td>80.4</td>\n",
       "    </tr>\n",
       "    <tr>\n",
       "      <th>2005</th>\n",
       "      <td>18.4</td>\n",
       "      <td>27.2</td>\n",
       "      <td>35.2</td>\n",
       "      <td>43.8</td>\n",
       "      <td>44.6</td>\n",
       "    </tr>\n",
       "    <tr>\n",
       "      <th>2006</th>\n",
       "      <td>17.6</td>\n",
       "      <td>36.6</td>\n",
       "      <td>51.0</td>\n",
       "      <td>55.8</td>\n",
       "      <td>68.0</td>\n",
       "    </tr>\n",
       "  </tbody>\n",
       "</table>\n",
       "<p>57 rows × 5 columns</p>\n",
       "</div>"
      ],
      "text/plain": [
       "        1h    3h    6h    12h    24h\n",
       "anno                                \n",
       "1934  22.6  42.0  56.6   58.8   85.0\n",
       "1935  17.8  32.6  54.2   63.6   88.0\n",
       "1936  15.8  28.0  41.4   72.0   85.2\n",
       "1937  27.8  35.6  38.2   58.4   62.6\n",
       "1938  15.0  21.4  32.0   56.0   83.0\n",
       "1939  29.4  36.2  61.0  115.2  117.8\n",
       "1940  28.8  67.0  94.0  119.0  135.2\n",
       "1941  14.2  21.0  25.6   44.0   51.0\n",
       "1942  27.0  42.0  66.2   82.6   85.6\n",
       "1946  18.0  32.0  46.2   58.0   74.4\n",
       "...    ...   ...   ...    ...    ...\n",
       "1991  18.6  24.0  45.5   75.8  105.6\n",
       "1992  13.4  20.6  34.6   60.0   77.8\n",
       "1997  13.8  23.8  37.6   61.4   70.6\n",
       "1998  29.6  34.0  48.4   66.2   80.2\n",
       "1999  36.4  69.2  70.8  119.4  134.6\n",
       "2000  36.4  42.2  52.8   90.0  120.4\n",
       "2003  37.4  38.8  62.8  101.0  121.6\n",
       "2004  42.2  43.0  45.2   57.6   80.4\n",
       "2005  18.4  27.2  35.2   43.8   44.6\n",
       "2006  17.6  36.6  51.0   55.8   68.0\n",
       "\n",
       "[57 rows x 5 columns]"
      ]
     },
     "execution_count": 5,
     "metadata": {},
     "output_type": "execute_result"
    }
   ],
   "source": [
    "pd.set_option('display.max_rows', 20)\n",
    "data = read_csv('massimePrecipitazioniCenta.csv')\n",
    "map(datetime, data['anno'])\n",
    "data = data.set_index('anno')\n",
    "data"
   ]
  },
  {
   "cell_type": "markdown",
   "metadata": {},
   "source": [
    "Si definisce la seguente funzione, dove:  \n",
    "* __t__ è la variabile indipendente;\n",
    "* __x__ è il vettore dei parametri _a_ e *b*:\n",
    "$$ x[0] = a, \\quad x[1] = b$$"
   ]
  },
  {
   "cell_type": "code",
   "execution_count": 6,
   "metadata": {},
   "outputs": [],
   "source": [
    "def fun(x, t, y):\n",
    "    return np.exp(-np.exp(-(t - x[0])/x[1])) - y"
   ]
  },
  {
   "cell_type": "markdown",
   "metadata": {},
   "source": [
    "Per applicare il metodo dei minimi quadrati è necessario importare l'omonima funzione da _scipy_"
   ]
  },
  {
   "cell_type": "code",
   "execution_count": 7,
   "metadata": {},
   "outputs": [],
   "source": [
    "from scipy.optimize import least_squares"
   ]
  },
  {
   "cell_type": "markdown",
   "metadata": {},
   "source": [
    "Per ogni valore di durata si deve definire un vettore $x_0$ di valori iniziali di _a_ e *b*.  \n",
    "Per 1h"
   ]
  },
  {
   "cell_type": "code",
   "execution_count": 8,
   "metadata": {},
   "outputs": [],
   "source": [
    "x0 = [20, 6]\n",
    "ecdf1h = ECDF(data['1h'])\n",
    "t_train = sorted(data['1h'].dropna())\n",
    "y_train = ecdf1h(t_train)"
   ]
  },
  {
   "cell_type": "markdown",
   "metadata": {},
   "source": [
    "dove __t_train__ ordina i dati relativi alla durata, eliminando i dati NaN e **y_train** da in pasto i dati _ordinati_ alla empirical cumulative distribution function relativa alla durata scelta.  \n",
    "Si può quindi applicare la funzione dei minimi quadrati"
   ]
  },
  {
   "cell_type": "code",
   "execution_count": 9,
   "metadata": {},
   "outputs": [],
   "source": [
    "res_lsq_1h = least_squares(fun, x0, args = (t_train, y_train))"
   ]
  },
  {
   "cell_type": "markdown",
   "metadata": {},
   "source": [
    "che prende come input la funzione da minimizzare (definita poc'anzi), il vettore dei valori iniziali e gli argomenti che vanno dati in pasto alla funzione __fun__. In particolare, la funzione __fun__ ha come input\n",
    "$$ fun(x, args,\\dots) $$"
   ]
  },
  {
   "cell_type": "markdown",
   "metadata": {},
   "source": [
    "I valori per la durata di 1h sono"
   ]
  },
  {
   "cell_type": "code",
   "execution_count": 10,
   "metadata": {},
   "outputs": [
    {
     "data": {
      "text/plain": [
       "array([19.44805869,  6.83870984])"
      ]
     },
     "execution_count": 10,
     "metadata": {},
     "output_type": "execute_result"
    }
   ],
   "source": [
    "res_lsq_1h.x"
   ]
  },
  {
   "cell_type": "markdown",
   "metadata": {},
   "source": [
    "Il medesimo procedimento deve essere fatto per ogni durate.  \n",
    "Per 3h"
   ]
  },
  {
   "cell_type": "code",
   "execution_count": 11,
   "metadata": {},
   "outputs": [
    {
     "data": {
      "text/plain": [
       "array([29.19866157,  9.41624222])"
      ]
     },
     "execution_count": 11,
     "metadata": {},
     "output_type": "execute_result"
    }
   ],
   "source": [
    "x0 = [30, 10]\n",
    "ecdf3h = ECDF(data['3h'])\n",
    "t_train = sorted(data['3h'].dropna())\n",
    "y_train = ecdf3h(t_train)\n",
    "res_lsq_3h = least_squares(fun, x0, args = (t_train, y_train))\n",
    "res_lsq_3h.x"
   ]
  },
  {
   "cell_type": "markdown",
   "metadata": {},
   "source": [
    "Per 6h"
   ]
  },
  {
   "cell_type": "code",
   "execution_count": 12,
   "metadata": {},
   "outputs": [
    {
     "data": {
      "text/plain": [
       "array([40.25106396, 13.17942413])"
      ]
     },
     "execution_count": 12,
     "metadata": {},
     "output_type": "execute_result"
    }
   ],
   "source": [
    "x0 = [40, 12]\n",
    "ecdf6h = ECDF(data['6h'])\n",
    "t_train = sorted(data['6h'].dropna())\n",
    "y_train = ecdf6h(t_train)\n",
    "res_lsq_6h = least_squares(fun, x0, args = (t_train, y_train))\n",
    "res_lsq_6h.x"
   ]
  },
  {
   "cell_type": "markdown",
   "metadata": {},
   "source": [
    "Per 12h"
   ]
  },
  {
   "cell_type": "code",
   "execution_count": 13,
   "metadata": {},
   "outputs": [
    {
     "data": {
      "text/plain": [
       "array([56.00373317, 17.79886564])"
      ]
     },
     "execution_count": 13,
     "metadata": {},
     "output_type": "execute_result"
    }
   ],
   "source": [
    "x0 = [57, 20]\n",
    "ecdf12h = ECDF(data['12h'])\n",
    "t_train = sorted(data['12h'].dropna())\n",
    "y_train = ecdf12h(t_train)\n",
    "res_lsq_12h = least_squares(fun, x0, args = (t_train, y_train))\n",
    "res_lsq_12h.x"
   ]
  },
  {
   "cell_type": "markdown",
   "metadata": {},
   "source": [
    "Per 24h"
   ]
  },
  {
   "cell_type": "code",
   "execution_count": 14,
   "metadata": {},
   "outputs": [
    {
     "data": {
      "text/plain": [
       "array([74.32422653, 23.54694652])"
      ]
     },
     "execution_count": 14,
     "metadata": {},
     "output_type": "execute_result"
    }
   ],
   "source": [
    "x0 = [76, 25]\n",
    "ecdf24h = ECDF(data['24h'])\n",
    "t_train = sorted(data['24h'].dropna())\n",
    "y_train = ecdf24h(t_train)\n",
    "res_lsq_24h = least_squares(fun, x0, args = (t_train, y_train))\n",
    "res_lsq_24h.x"
   ]
  },
  {
   "cell_type": "markdown",
   "metadata": {},
   "source": [
    "È utile costruire un DataFrame contentente tutti i valori"
   ]
  },
  {
   "cell_type": "code",
   "execution_count": 15,
   "metadata": {},
   "outputs": [
    {
     "data": {
      "text/html": [
       "<div>\n",
       "<style scoped>\n",
       "    .dataframe tbody tr th:only-of-type {\n",
       "        vertical-align: middle;\n",
       "    }\n",
       "\n",
       "    .dataframe tbody tr th {\n",
       "        vertical-align: top;\n",
       "    }\n",
       "\n",
       "    .dataframe thead th {\n",
       "        text-align: right;\n",
       "    }\n",
       "</style>\n",
       "<table border=\"1\" class=\"dataframe\">\n",
       "  <thead>\n",
       "    <tr style=\"text-align: right;\">\n",
       "      <th></th>\n",
       "      <th>1h</th>\n",
       "      <th>3h</th>\n",
       "      <th>6h</th>\n",
       "      <th>12h</th>\n",
       "      <th>24h</th>\n",
       "    </tr>\n",
       "  </thead>\n",
       "  <tbody>\n",
       "    <tr>\n",
       "      <th>a</th>\n",
       "      <td>19.448059</td>\n",
       "      <td>29.198662</td>\n",
       "      <td>40.251064</td>\n",
       "      <td>56.003733</td>\n",
       "      <td>74.324227</td>\n",
       "    </tr>\n",
       "    <tr>\n",
       "      <th>b</th>\n",
       "      <td>6.838710</td>\n",
       "      <td>9.416242</td>\n",
       "      <td>13.179424</td>\n",
       "      <td>17.798866</td>\n",
       "      <td>23.546947</td>\n",
       "    </tr>\n",
       "  </tbody>\n",
       "</table>\n",
       "</div>"
      ],
      "text/plain": [
       "          1h         3h         6h        12h        24h\n",
       "a  19.448059  29.198662  40.251064  56.003733  74.324227\n",
       "b   6.838710   9.416242  13.179424  17.798866  23.546947"
      ]
     },
     "execution_count": 15,
     "metadata": {},
     "output_type": "execute_result"
    }
   ],
   "source": [
    "abs_ls = pd.DataFrame([\n",
    "    res_lsq_1h.x,\n",
    "    res_lsq_3h.x,\n",
    "    res_lsq_6h.x,\n",
    "    res_lsq_12h.x,\n",
    "    res_lsq_24h.x\n",
    "]).T\n",
    "#------------------------indice-----------------------\n",
    "abs_ls.index = ['a', 'b']\n",
    "#------------------------colonne----------------------\n",
    "abs_ls.columns = ['1h', '3h', '6h', '12h', '24h']\n",
    "#-----------------------------------------------------\n",
    "abs_ls"
   ]
  },
  {
   "cell_type": "markdown",
   "metadata": {},
   "source": [
    "che va salvato in un file"
   ]
  },
  {
   "cell_type": "code",
   "execution_count": 16,
   "metadata": {},
   "outputs": [],
   "source": [
    "abs_ls.to_pickle('abs_ls')"
   ]
  },
  {
   "cell_type": "code",
   "execution_count": 18,
   "metadata": {},
   "outputs": [
    {
     "data": {
      "text/plain": [
       "['.ipynb_checkpoints',\n",
       " 'abs_ls',\n",
       " 'abs_m',\n",
       " 'abs_mle',\n",
       " 'best_parameters',\n",
       " 'lsCenta.ipynb',\n",
       " 'lsppCenta.ipynb',\n",
       " 'massimePrecipitazioniCenta.csv',\n",
       " 'mleCenta.ipynb',\n",
       " 'momentiCenta.ipynb',\n",
       " 'pearsonCenta.ipynb']"
      ]
     },
     "execution_count": 18,
     "metadata": {},
     "output_type": "execute_result"
    }
   ],
   "source": [
    "os.listdir()"
   ]
  },
  {
   "cell_type": "markdown",
   "metadata": {},
   "source": [
    "['.ipynb_checkpoints',  \n",
    " '**abs_ls**  \n",
    " 'abs_m',  \n",
    " 'abs_mle',  \n",
    " 'lsCenta.ipynb',  \n",
    " 'massimePrecipitazioniCenta.csv',  \n",
    " 'mleCenta.ipynb',  \n",
    " 'momentiCenta.ipynb']"
   ]
  },
  {
   "cell_type": "markdown",
   "metadata": {},
   "source": [
    "Definita la funzione di Gumbel"
   ]
  },
  {
   "cell_type": "code",
   "execution_count": 19,
   "metadata": {},
   "outputs": [],
   "source": [
    "def gumbel(x, abs_d, col):\n",
    "    return np.exp(-np.exp(-(x - abs_d[col]['a'])/abs_d[col]['b']))"
   ]
  },
  {
   "cell_type": "markdown",
   "metadata": {},
   "source": [
    "e definito il vettore che va dal minimo dei dati al massimo dei dati"
   ]
  },
  {
   "cell_type": "code",
   "execution_count": 20,
   "metadata": {},
   "outputs": [],
   "source": [
    "t_rain = np.linspace(data.min()['1h'], data.max()['24h'], 100)"
   ]
  },
  {
   "cell_type": "markdown",
   "metadata": {},
   "source": [
    "dove"
   ]
  },
  {
   "cell_type": "code",
   "execution_count": 21,
   "metadata": {},
   "outputs": [
    {
     "name": "stdout",
     "output_type": "stream",
     "text": [
      "minimo =  12.6\n",
      "massimo = 192.0\n"
     ]
    }
   ],
   "source": [
    "print ('minimo = ', data.min()['1h'])\n",
    "print ('massimo =', data.max()['24h'])"
   ]
  },
  {
   "cell_type": "markdown",
   "metadata": {},
   "source": [
    "Si definisce il DataFrame che contiene i valori che escono dalla funzione di Gumbel divisi per durata e per precipitazione"
   ]
  },
  {
   "cell_type": "code",
   "execution_count": 22,
   "metadata": {},
   "outputs": [
    {
     "data": {
      "text/html": [
       "<div>\n",
       "<style scoped>\n",
       "    .dataframe tbody tr th:only-of-type {\n",
       "        vertical-align: middle;\n",
       "    }\n",
       "\n",
       "    .dataframe tbody tr th {\n",
       "        vertical-align: top;\n",
       "    }\n",
       "\n",
       "    .dataframe thead th {\n",
       "        text-align: right;\n",
       "    }\n",
       "</style>\n",
       "<table border=\"1\" class=\"dataframe\">\n",
       "  <thead>\n",
       "    <tr style=\"text-align: right;\">\n",
       "      <th></th>\n",
       "      <th>1h</th>\n",
       "      <th>3h</th>\n",
       "      <th>6h</th>\n",
       "      <th>12h</th>\n",
       "      <th>24h</th>\n",
       "    </tr>\n",
       "  </thead>\n",
       "  <tbody>\n",
       "    <tr>\n",
       "      <th>12.600000</th>\n",
       "      <td>0.065743</td>\n",
       "      <td>0.002942</td>\n",
       "      <td>0.000289</td>\n",
       "      <td>0.000011</td>\n",
       "      <td>0.000001</td>\n",
       "    </tr>\n",
       "    <tr>\n",
       "      <th>14.412121</th>\n",
       "      <td>0.123888</td>\n",
       "      <td>0.008163</td>\n",
       "      <td>0.000822</td>\n",
       "      <td>0.000032</td>\n",
       "      <td>0.000003</td>\n",
       "    </tr>\n",
       "    <tr>\n",
       "      <th>16.224242</th>\n",
       "      <td>0.201443</td>\n",
       "      <td>0.018940</td>\n",
       "      <td>0.002048</td>\n",
       "      <td>0.000087</td>\n",
       "      <td>0.000008</td>\n",
       "    </tr>\n",
       "    <tr>\n",
       "      <th>18.036364</th>\n",
       "      <td>0.292504</td>\n",
       "      <td>0.037927</td>\n",
       "      <td>0.004537</td>\n",
       "      <td>0.000216</td>\n",
       "      <td>0.000018</td>\n",
       "    </tr>\n",
       "    <tr>\n",
       "      <th>19.848485</th>\n",
       "      <td>0.389408</td>\n",
       "      <td>0.067254</td>\n",
       "      <td>0.009074</td>\n",
       "      <td>0.000489</td>\n",
       "      <td>0.000041</td>\n",
       "    </tr>\n",
       "    <tr>\n",
       "      <th>21.660606</th>\n",
       "      <td>0.485009</td>\n",
       "      <td>0.107880</td>\n",
       "      <td>0.016601</td>\n",
       "      <td>0.001022</td>\n",
       "      <td>0.000086</td>\n",
       "    </tr>\n",
       "    <tr>\n",
       "      <th>23.472727</th>\n",
       "      <td>0.573985</td>\n",
       "      <td>0.159307</td>\n",
       "      <td>0.028105</td>\n",
       "      <td>0.001990</td>\n",
       "      <td>0.000172</td>\n",
       "    </tr>\n",
       "    <tr>\n",
       "      <th>25.284848</th>\n",
       "      <td>0.653166</td>\n",
       "      <td>0.219732</td>\n",
       "      <td>0.044469</td>\n",
       "      <td>0.003634</td>\n",
       "      <td>0.000327</td>\n",
       "    </tr>\n",
       "    <tr>\n",
       "      <th>27.096970</th>\n",
       "      <td>0.721244</td>\n",
       "      <td>0.286485</td>\n",
       "      <td>0.066333</td>\n",
       "      <td>0.006259</td>\n",
       "      <td>0.000593</td>\n",
       "    </tr>\n",
       "    <tr>\n",
       "      <th>28.909091</th>\n",
       "      <td>0.778247</td>\n",
       "      <td>0.356568</td>\n",
       "      <td>0.093993</td>\n",
       "      <td>0.010228</td>\n",
       "      <td>0.001028</td>\n",
       "    </tr>\n",
       "    <tr>\n",
       "      <th>...</th>\n",
       "      <td>...</td>\n",
       "      <td>...</td>\n",
       "      <td>...</td>\n",
       "      <td>...</td>\n",
       "      <td>...</td>\n",
       "    </tr>\n",
       "    <tr>\n",
       "      <th>175.690909</th>\n",
       "      <td>1.000000</td>\n",
       "      <td>1.000000</td>\n",
       "      <td>0.999966</td>\n",
       "      <td>0.998800</td>\n",
       "      <td>0.986588</td>\n",
       "    </tr>\n",
       "    <tr>\n",
       "      <th>177.503030</th>\n",
       "      <td>1.000000</td>\n",
       "      <td>1.000000</td>\n",
       "      <td>0.999970</td>\n",
       "      <td>0.998916</td>\n",
       "      <td>0.987575</td>\n",
       "    </tr>\n",
       "    <tr>\n",
       "      <th>179.315152</th>\n",
       "      <td>1.000000</td>\n",
       "      <td>1.000000</td>\n",
       "      <td>0.999974</td>\n",
       "      <td>0.999021</td>\n",
       "      <td>0.988490</td>\n",
       "    </tr>\n",
       "    <tr>\n",
       "      <th>181.127273</th>\n",
       "      <td>1.000000</td>\n",
       "      <td>1.000000</td>\n",
       "      <td>0.999977</td>\n",
       "      <td>0.999115</td>\n",
       "      <td>0.989338</td>\n",
       "    </tr>\n",
       "    <tr>\n",
       "      <th>182.939394</th>\n",
       "      <td>1.000000</td>\n",
       "      <td>1.000000</td>\n",
       "      <td>0.999980</td>\n",
       "      <td>0.999201</td>\n",
       "      <td>0.990124</td>\n",
       "    </tr>\n",
       "    <tr>\n",
       "      <th>184.751515</th>\n",
       "      <td>1.000000</td>\n",
       "      <td>1.000000</td>\n",
       "      <td>0.999983</td>\n",
       "      <td>0.999278</td>\n",
       "      <td>0.990852</td>\n",
       "    </tr>\n",
       "    <tr>\n",
       "      <th>186.563636</th>\n",
       "      <td>1.000000</td>\n",
       "      <td>1.000000</td>\n",
       "      <td>0.999985</td>\n",
       "      <td>0.999348</td>\n",
       "      <td>0.991527</td>\n",
       "    </tr>\n",
       "    <tr>\n",
       "      <th>188.375758</th>\n",
       "      <td>1.000000</td>\n",
       "      <td>1.000000</td>\n",
       "      <td>0.999987</td>\n",
       "      <td>0.999411</td>\n",
       "      <td>0.992152</td>\n",
       "    </tr>\n",
       "    <tr>\n",
       "      <th>190.187879</th>\n",
       "      <td>1.000000</td>\n",
       "      <td>1.000000</td>\n",
       "      <td>0.999989</td>\n",
       "      <td>0.999468</td>\n",
       "      <td>0.992731</td>\n",
       "    </tr>\n",
       "    <tr>\n",
       "      <th>192.000000</th>\n",
       "      <td>1.000000</td>\n",
       "      <td>1.000000</td>\n",
       "      <td>0.999990</td>\n",
       "      <td>0.999520</td>\n",
       "      <td>0.993268</td>\n",
       "    </tr>\n",
       "  </tbody>\n",
       "</table>\n",
       "<p>100 rows × 5 columns</p>\n",
       "</div>"
      ],
      "text/plain": [
       "                  1h        3h        6h       12h       24h\n",
       "12.600000   0.065743  0.002942  0.000289  0.000011  0.000001\n",
       "14.412121   0.123888  0.008163  0.000822  0.000032  0.000003\n",
       "16.224242   0.201443  0.018940  0.002048  0.000087  0.000008\n",
       "18.036364   0.292504  0.037927  0.004537  0.000216  0.000018\n",
       "19.848485   0.389408  0.067254  0.009074  0.000489  0.000041\n",
       "21.660606   0.485009  0.107880  0.016601  0.001022  0.000086\n",
       "23.472727   0.573985  0.159307  0.028105  0.001990  0.000172\n",
       "25.284848   0.653166  0.219732  0.044469  0.003634  0.000327\n",
       "27.096970   0.721244  0.286485  0.066333  0.006259  0.000593\n",
       "28.909091   0.778247  0.356568  0.093993  0.010228  0.001028\n",
       "...              ...       ...       ...       ...       ...\n",
       "175.690909  1.000000  1.000000  0.999966  0.998800  0.986588\n",
       "177.503030  1.000000  1.000000  0.999970  0.998916  0.987575\n",
       "179.315152  1.000000  1.000000  0.999974  0.999021  0.988490\n",
       "181.127273  1.000000  1.000000  0.999977  0.999115  0.989338\n",
       "182.939394  1.000000  1.000000  0.999980  0.999201  0.990124\n",
       "184.751515  1.000000  1.000000  0.999983  0.999278  0.990852\n",
       "186.563636  1.000000  1.000000  0.999985  0.999348  0.991527\n",
       "188.375758  1.000000  1.000000  0.999987  0.999411  0.992152\n",
       "190.187879  1.000000  1.000000  0.999989  0.999468  0.992731\n",
       "192.000000  1.000000  1.000000  0.999990  0.999520  0.993268\n",
       "\n",
       "[100 rows x 5 columns]"
      ]
     },
     "execution_count": 22,
     "metadata": {},
     "output_type": "execute_result"
    }
   ],
   "source": [
    "gb = pd.DataFrame([\n",
    "    gumbel(t_rain, abs_ls, '1h'),\n",
    "    gumbel(t_rain, abs_ls, '3h'),\n",
    "    gumbel(t_rain, abs_ls, '6h'),\n",
    "    gumbel(t_rain, abs_ls, '12h'),\n",
    "    gumbel(t_rain, abs_ls, '24h')\n",
    "]).T\n",
    "#------------------------indice-----------------------\n",
    "gb.index = t_rain\n",
    "#------------------------colonne----------------------\n",
    "gb.columns = ['1h', '3h', '6h', '12h', '24h']\n",
    "#-----------------------------------------------------\n",
    "gb"
   ]
  },
  {
   "cell_type": "markdown",
   "metadata": {},
   "source": [
    "Si procede quindi al plot dei delle curve di distribuzione di probabilità pluviometrica"
   ]
  },
  {
   "cell_type": "code",
   "execution_count": 23,
   "metadata": {},
   "outputs": [
    {
     "data": {
      "image/png": "[encoded data removed]",
      "text/plain": [
       "<Figure size 432x288 with 1 Axes>"
      ]
     },
     "metadata": {
      "needs_background": "light"
     },
     "output_type": "display_data"
    }
   ],
   "source": [
    "plt.rc('xtick', labelsize = 20)\n",
    "plt.rc('ytick', labelsize = 20)\n",
    "\n",
    "#----------------plot---------------\n",
    "\n",
    "ax = gb.plot(color = ['red', 'green', 'blue', 'magenta', 'black'])\n",
    "\n",
    "#--------------1h--------------------\n",
    "data1h = data['1h'].dropna()\n",
    "ecdf1h = ECDF(data1h)\n",
    "ax.plot(data1h, ecdf1h(data1h), 'o', c = 'red')\n",
    "\n",
    "#--------------3h--------------------\n",
    "data3h = data['3h'].dropna()\n",
    "ecdf3h = ECDF(data3h)\n",
    "ax.plot(data3h, ecdf3h(data3h), 'o', c = 'green')\n",
    "\n",
    "#--------------6h--------------------\n",
    "data6h = data['6h'].dropna()\n",
    "ecdf6h = ECDF(data6h)\n",
    "ax.plot(data6h, ecdf6h(data6h), 'o', c = 'blue')\n",
    "\n",
    "#--------------12h-------------------\n",
    "data12h = data['12h'].dropna()\n",
    "ecdf12h = ECDF(data12h)\n",
    "ax.plot(data12h, ecdf12h(data12h), 'o', c = 'magenta')\n",
    "\n",
    "#--------------24h-------------------\n",
    "data24h = data['24h'].dropna()\n",
    "ecdf24h = ECDF(data24h)\n",
    "ax.plot(data24h, ecdf24h(data24h), 'o', c = 'black')\n",
    "\n",
    "#------------------------------------\n",
    "ax.set_title('Probability Distribution Function of Rainfall\\nLeast Squares Method')\n",
    "ax.set_xlabel('Rainfall [mm]')\n",
    "ax.set_ylabel('P[H < h]')\n",
    "\n",
    "#------------------------------------\n",
    "plt.show()"
   ]
  },
  {
   "cell_type": "markdown",
   "metadata": {},
   "source": [
    "**dropna()** separa ed elimina i dati NaN."
   ]
  }
 ],
 "metadata": {
  "kernelspec": {
   "display_name": "Python 3",
   "language": "python",
   "name": "python3"
  },
  "language_info": {
   "codemirror_mode": {
    "name": "ipython",
    "version": 3
   },
   "file_extension": ".py",
   "mimetype": "text/x-python",
   "name": "python",
   "nbconvert_exporter": "python",
   "pygments_lexer": "ipython3",
   "version": "3.7.1"
  }
 },
 "nbformat": 4,
 "nbformat_minor": 2
}
