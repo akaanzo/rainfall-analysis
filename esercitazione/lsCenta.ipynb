{
 "cells": [
  {
   "cell_type": "markdown",
   "metadata": {},
   "source": [
    "# Metodo dei Minimi Quadrati applicato ai dati di Centa San Nicolò"
   ]
  },
  {
   "cell_type": "markdown",
   "metadata": {},
   "source": [
    "Matteo Franzoi - Andrea Rebellato - 2019-03-27"
   ]
  },
  {
   "cell_type": "markdown",
   "metadata": {},
   "source": [
    "---"
   ]
  },
  {
   "cell_type": "markdown",
   "metadata": {},
   "source": [
    "Primo passo è importare le librerie"
   ]
  },
  {
   "cell_type": "code",
   "execution_count": 26,
   "metadata": {},
   "outputs": [],
   "source": [
    "import os\n",
    "from pandas import *\n",
    "import pandas as pd\n",
    "from numpy import *\n",
    "import numpy as np\n",
    "import scipy\n",
    "import matplotlib.pyplot as plt\n",
    "%matplotlib inline\n",
    "import math\n",
    "from datetime import datetime\n",
    "from scipy.stats import genextreme, gumbel_r\n",
    "from numpy import linspace\n",
    "from statsmodels.distributions.empirical_distribution import ECDF"
   ]
  },
  {
   "cell_type": "code",
   "execution_count": 27,
   "metadata": {},
   "outputs": [
    {
     "data": {
      "text/plain": [
       "'/media/data/jupyter/esercitazione'"
      ]
     },
     "execution_count": 27,
     "metadata": {},
     "output_type": "execute_result"
    }
   ],
   "source": [
    "os.getcwd()"
   ]
  },
  {
   "cell_type": "code",
   "execution_count": 28,
   "metadata": {},
   "outputs": [
    {
     "data": {
      "text/plain": [
       "['.ipynb_checkpoints',\n",
       " 'abs_ls',\n",
       " 'abs_m',\n",
       " 'abs_mle',\n",
       " 'best_parameters',\n",
       " 'lsCenta.ipynb',\n",
       " 'lsppCenta.ipynb',\n",
       " 'massimePrecipitazioniCenta.csv',\n",
       " 'mleCenta.ipynb',\n",
       " 'momentiCenta.ipynb',\n",
       " 'pearsonCenta.ipynb']"
      ]
     },
     "execution_count": 28,
     "metadata": {},
     "output_type": "execute_result"
    }
   ],
   "source": [
    "os.listdir()"
   ]
  },
  {
   "cell_type": "markdown",
   "metadata": {},
   "source": [
    "['.ipynb_checkpoints',  \n",
    " 'abs_ls',  \n",
    " 'abs_m',  \n",
    " 'abs_mle',  \n",
    " 'best_parameters',  \n",
    " 'lsCenta.ipynb',  \n",
    " 'lsppCenta.ipynb',  \n",
    " '**massimePrecipitazioniCenta.csv**',  \n",
    " 'mleCenta.ipynb',  \n",
    " 'momentiCenta.ipynb',  \n",
    " 'pearsonCenta.ipynb']"
   ]
  },
  {
   "cell_type": "markdown",
   "metadata": {},
   "source": [
    "e importare il ffile _csv_ dei dati"
   ]
  },
  {
   "cell_type": "code",
   "execution_count": 29,
   "metadata": {},
   "outputs": [
    {
     "data": {
      "text/html": [
       "<div>\n",
       "<style scoped>\n",
       "    .dataframe tbody tr th:only-of-type {\n",
       "        vertical-align: middle;\n",
       "    }\n",
       "\n",
       "    .dataframe tbody tr th {\n",
       "        vertical-align: top;\n",
       "    }\n",
       "\n",
       "    .dataframe thead th {\n",
       "        text-align: right;\n",
       "    }\n",
       "</style>\n",
       "<table border=\"1\" class=\"dataframe\">\n",
       "  <thead>\n",
       "    <tr style=\"text-align: right;\">\n",
       "      <th></th>\n",
       "      <th>15min</th>\n",
       "      <th>30min</th>\n",
       "      <th>45min</th>\n",
       "      <th>1h</th>\n",
       "      <th>3h</th>\n",
       "      <th>6h</th>\n",
       "      <th>12h</th>\n",
       "      <th>24h</th>\n",
       "    </tr>\n",
       "    <tr>\n",
       "      <th>anno</th>\n",
       "      <th></th>\n",
       "      <th></th>\n",
       "      <th></th>\n",
       "      <th></th>\n",
       "      <th></th>\n",
       "      <th></th>\n",
       "      <th></th>\n",
       "      <th></th>\n",
       "    </tr>\n",
       "  </thead>\n",
       "  <tbody>\n",
       "    <tr>\n",
       "      <th>1934</th>\n",
       "      <td>NaN</td>\n",
       "      <td>NaN</td>\n",
       "      <td>NaN</td>\n",
       "      <td>22.6</td>\n",
       "      <td>42.0</td>\n",
       "      <td>56.6</td>\n",
       "      <td>58.8</td>\n",
       "      <td>85.0</td>\n",
       "    </tr>\n",
       "    <tr>\n",
       "      <th>1935</th>\n",
       "      <td>NaN</td>\n",
       "      <td>NaN</td>\n",
       "      <td>NaN</td>\n",
       "      <td>17.8</td>\n",
       "      <td>32.6</td>\n",
       "      <td>54.2</td>\n",
       "      <td>63.6</td>\n",
       "      <td>88.0</td>\n",
       "    </tr>\n",
       "    <tr>\n",
       "      <th>1936</th>\n",
       "      <td>NaN</td>\n",
       "      <td>NaN</td>\n",
       "      <td>NaN</td>\n",
       "      <td>15.8</td>\n",
       "      <td>28.0</td>\n",
       "      <td>41.4</td>\n",
       "      <td>72.0</td>\n",
       "      <td>85.2</td>\n",
       "    </tr>\n",
       "    <tr>\n",
       "      <th>1937</th>\n",
       "      <td>NaN</td>\n",
       "      <td>NaN</td>\n",
       "      <td>NaN</td>\n",
       "      <td>27.8</td>\n",
       "      <td>35.6</td>\n",
       "      <td>38.2</td>\n",
       "      <td>58.4</td>\n",
       "      <td>62.6</td>\n",
       "    </tr>\n",
       "    <tr>\n",
       "      <th>1938</th>\n",
       "      <td>NaN</td>\n",
       "      <td>NaN</td>\n",
       "      <td>NaN</td>\n",
       "      <td>15.0</td>\n",
       "      <td>21.4</td>\n",
       "      <td>32.0</td>\n",
       "      <td>56.0</td>\n",
       "      <td>83.0</td>\n",
       "    </tr>\n",
       "    <tr>\n",
       "      <th>1939</th>\n",
       "      <td>NaN</td>\n",
       "      <td>NaN</td>\n",
       "      <td>NaN</td>\n",
       "      <td>29.4</td>\n",
       "      <td>36.2</td>\n",
       "      <td>61.0</td>\n",
       "      <td>115.2</td>\n",
       "      <td>117.8</td>\n",
       "    </tr>\n",
       "    <tr>\n",
       "      <th>1940</th>\n",
       "      <td>NaN</td>\n",
       "      <td>NaN</td>\n",
       "      <td>NaN</td>\n",
       "      <td>28.8</td>\n",
       "      <td>67.0</td>\n",
       "      <td>94.0</td>\n",
       "      <td>119.0</td>\n",
       "      <td>135.2</td>\n",
       "    </tr>\n",
       "    <tr>\n",
       "      <th>1941</th>\n",
       "      <td>NaN</td>\n",
       "      <td>NaN</td>\n",
       "      <td>NaN</td>\n",
       "      <td>14.2</td>\n",
       "      <td>21.0</td>\n",
       "      <td>25.6</td>\n",
       "      <td>44.0</td>\n",
       "      <td>51.0</td>\n",
       "    </tr>\n",
       "    <tr>\n",
       "      <th>1942</th>\n",
       "      <td>NaN</td>\n",
       "      <td>NaN</td>\n",
       "      <td>NaN</td>\n",
       "      <td>27.0</td>\n",
       "      <td>42.0</td>\n",
       "      <td>66.2</td>\n",
       "      <td>82.6</td>\n",
       "      <td>85.6</td>\n",
       "    </tr>\n",
       "    <tr>\n",
       "      <th>1946</th>\n",
       "      <td>NaN</td>\n",
       "      <td>NaN</td>\n",
       "      <td>NaN</td>\n",
       "      <td>18.0</td>\n",
       "      <td>32.0</td>\n",
       "      <td>46.2</td>\n",
       "      <td>58.0</td>\n",
       "      <td>74.4</td>\n",
       "    </tr>\n",
       "    <tr>\n",
       "      <th>...</th>\n",
       "      <td>...</td>\n",
       "      <td>...</td>\n",
       "      <td>...</td>\n",
       "      <td>...</td>\n",
       "      <td>...</td>\n",
       "      <td>...</td>\n",
       "      <td>...</td>\n",
       "      <td>...</td>\n",
       "    </tr>\n",
       "    <tr>\n",
       "      <th>1991</th>\n",
       "      <td>NaN</td>\n",
       "      <td>16.0</td>\n",
       "      <td>18.6</td>\n",
       "      <td>18.6</td>\n",
       "      <td>24.0</td>\n",
       "      <td>45.5</td>\n",
       "      <td>75.8</td>\n",
       "      <td>105.6</td>\n",
       "    </tr>\n",
       "    <tr>\n",
       "      <th>1992</th>\n",
       "      <td>NaN</td>\n",
       "      <td>8.0</td>\n",
       "      <td>10.0</td>\n",
       "      <td>13.4</td>\n",
       "      <td>20.6</td>\n",
       "      <td>34.6</td>\n",
       "      <td>60.0</td>\n",
       "      <td>77.8</td>\n",
       "    </tr>\n",
       "    <tr>\n",
       "      <th>1997</th>\n",
       "      <td>8.8</td>\n",
       "      <td>10.4</td>\n",
       "      <td>12.8</td>\n",
       "      <td>13.8</td>\n",
       "      <td>23.8</td>\n",
       "      <td>37.6</td>\n",
       "      <td>61.4</td>\n",
       "      <td>70.6</td>\n",
       "    </tr>\n",
       "    <tr>\n",
       "      <th>1998</th>\n",
       "      <td>13.6</td>\n",
       "      <td>20.2</td>\n",
       "      <td>24.2</td>\n",
       "      <td>29.6</td>\n",
       "      <td>34.0</td>\n",
       "      <td>48.4</td>\n",
       "      <td>66.2</td>\n",
       "      <td>80.2</td>\n",
       "    </tr>\n",
       "    <tr>\n",
       "      <th>1999</th>\n",
       "      <td>21.0</td>\n",
       "      <td>26.6</td>\n",
       "      <td>29.0</td>\n",
       "      <td>36.4</td>\n",
       "      <td>69.2</td>\n",
       "      <td>70.8</td>\n",
       "      <td>119.4</td>\n",
       "      <td>134.6</td>\n",
       "    </tr>\n",
       "    <tr>\n",
       "      <th>2000</th>\n",
       "      <td>23.2</td>\n",
       "      <td>33.0</td>\n",
       "      <td>34.8</td>\n",
       "      <td>36.4</td>\n",
       "      <td>42.2</td>\n",
       "      <td>52.8</td>\n",
       "      <td>90.0</td>\n",
       "      <td>120.4</td>\n",
       "    </tr>\n",
       "    <tr>\n",
       "      <th>2003</th>\n",
       "      <td>16.2</td>\n",
       "      <td>27.0</td>\n",
       "      <td>34.8</td>\n",
       "      <td>37.4</td>\n",
       "      <td>38.8</td>\n",
       "      <td>62.8</td>\n",
       "      <td>101.0</td>\n",
       "      <td>121.6</td>\n",
       "    </tr>\n",
       "    <tr>\n",
       "      <th>2004</th>\n",
       "      <td>25.8</td>\n",
       "      <td>37.4</td>\n",
       "      <td>40.2</td>\n",
       "      <td>42.2</td>\n",
       "      <td>43.0</td>\n",
       "      <td>45.2</td>\n",
       "      <td>57.6</td>\n",
       "      <td>80.4</td>\n",
       "    </tr>\n",
       "    <tr>\n",
       "      <th>2005</th>\n",
       "      <td>11.4</td>\n",
       "      <td>15.6</td>\n",
       "      <td>17.0</td>\n",
       "      <td>18.4</td>\n",
       "      <td>27.2</td>\n",
       "      <td>35.2</td>\n",
       "      <td>43.8</td>\n",
       "      <td>44.6</td>\n",
       "    </tr>\n",
       "    <tr>\n",
       "      <th>2006</th>\n",
       "      <td>9.8</td>\n",
       "      <td>13.4</td>\n",
       "      <td>16.6</td>\n",
       "      <td>17.6</td>\n",
       "      <td>36.6</td>\n",
       "      <td>51.0</td>\n",
       "      <td>55.8</td>\n",
       "      <td>68.0</td>\n",
       "    </tr>\n",
       "  </tbody>\n",
       "</table>\n",
       "<p>57 rows × 8 columns</p>\n",
       "</div>"
      ],
      "text/plain": [
       "      15min  30min  45min    1h    3h    6h    12h    24h\n",
       "anno                                                     \n",
       "1934    NaN    NaN    NaN  22.6  42.0  56.6   58.8   85.0\n",
       "1935    NaN    NaN    NaN  17.8  32.6  54.2   63.6   88.0\n",
       "1936    NaN    NaN    NaN  15.8  28.0  41.4   72.0   85.2\n",
       "1937    NaN    NaN    NaN  27.8  35.6  38.2   58.4   62.6\n",
       "1938    NaN    NaN    NaN  15.0  21.4  32.0   56.0   83.0\n",
       "1939    NaN    NaN    NaN  29.4  36.2  61.0  115.2  117.8\n",
       "1940    NaN    NaN    NaN  28.8  67.0  94.0  119.0  135.2\n",
       "1941    NaN    NaN    NaN  14.2  21.0  25.6   44.0   51.0\n",
       "1942    NaN    NaN    NaN  27.0  42.0  66.2   82.6   85.6\n",
       "1946    NaN    NaN    NaN  18.0  32.0  46.2   58.0   74.4\n",
       "...     ...    ...    ...   ...   ...   ...    ...    ...\n",
       "1991    NaN   16.0   18.6  18.6  24.0  45.5   75.8  105.6\n",
       "1992    NaN    8.0   10.0  13.4  20.6  34.6   60.0   77.8\n",
       "1997    8.8   10.4   12.8  13.8  23.8  37.6   61.4   70.6\n",
       "1998   13.6   20.2   24.2  29.6  34.0  48.4   66.2   80.2\n",
       "1999   21.0   26.6   29.0  36.4  69.2  70.8  119.4  134.6\n",
       "2000   23.2   33.0   34.8  36.4  42.2  52.8   90.0  120.4\n",
       "2003   16.2   27.0   34.8  37.4  38.8  62.8  101.0  121.6\n",
       "2004   25.8   37.4   40.2  42.2  43.0  45.2   57.6   80.4\n",
       "2005   11.4   15.6   17.0  18.4  27.2  35.2   43.8   44.6\n",
       "2006    9.8   13.4   16.6  17.6  36.6  51.0   55.8   68.0\n",
       "\n",
       "[57 rows x 8 columns]"
      ]
     },
     "execution_count": 29,
     "metadata": {},
     "output_type": "execute_result"
    }
   ],
   "source": [
    "pd.set_option('display.max_rows', 20)\n",
    "data = read_csv('massimePrecipitazioniCenta.csv')\n",
    "map(datetime, data['anno'])\n",
    "data = data.set_index('anno')\n",
    "data"
   ]
  },
  {
   "cell_type": "markdown",
   "metadata": {},
   "source": [
    "Si definisce la seguente funzione, dove:  \n",
    "* __t__ è la variabile indipendente;\n",
    "* __x__ è il vettore dei parametri _a_ e *b*:\n",
    "$$ x[0] = a, \\quad x[1] = b$$"
   ]
  },
  {
   "cell_type": "code",
   "execution_count": 30,
   "metadata": {},
   "outputs": [],
   "source": [
    "def fun(x, t, y):\n",
    "    return np.exp(-np.exp(-(t - x[0])/x[1])) - y"
   ]
  },
  {
   "cell_type": "markdown",
   "metadata": {},
   "source": [
    "Per applicare il metodo dei minimi quadrati è necessario importare l'omonima funzione da _scipy_"
   ]
  },
  {
   "cell_type": "code",
   "execution_count": 31,
   "metadata": {},
   "outputs": [],
   "source": [
    "from scipy.optimize import least_squares"
   ]
  },
  {
   "cell_type": "markdown",
   "metadata": {},
   "source": [
    "Per ogni valore di durata si deve definire un vettore $x_0$ di valori iniziali di _a_ e *b*.  \n",
    "Per 15min"
   ]
  },
  {
   "cell_type": "code",
   "execution_count": 32,
   "metadata": {},
   "outputs": [],
   "source": [
    "x0 = [11, 4]\n",
    "ecdf15min = ECDF(data['15min'].dropna())\n",
    "t_train = sorted(data['15min'].dropna())\n",
    "y_train = ecdf15min(t_train)"
   ]
  },
  {
   "cell_type": "markdown",
   "metadata": {},
   "source": [
    "dove __t_train__ ordina i dati relativi alla durata, eliminando i dati NaN e **y_train** da in pasto i dati _ordinati_ alla empirical cumulative distribution function relativa alla durata scelta.  \n",
    "Si può quindi applicare la funzione dei minimi quadrati"
   ]
  },
  {
   "cell_type": "code",
   "execution_count": 33,
   "metadata": {},
   "outputs": [],
   "source": [
    "res_lsq_15min = least_squares(fun, x0, args = (t_train, y_train))"
   ]
  },
  {
   "cell_type": "markdown",
   "metadata": {},
   "source": [
    "che prende come input la funzione da minimizzare (definita poc'anzi), il vettore dei valori iniziali e gli argomenti che vanno dati in pasto alla funzione __fun__. In particolare, la funzione __fun__ ha come input\n",
    "$$ fun(x, args,\\dots) $$"
   ]
  },
  {
   "cell_type": "markdown",
   "metadata": {},
   "source": [
    "I valori per la durata di 15min sono"
   ]
  },
  {
   "cell_type": "code",
   "execution_count": 34,
   "metadata": {},
   "outputs": [
    {
     "data": {
      "text/plain": [
       "array([11.05973293,  3.89744745])"
      ]
     },
     "execution_count": 34,
     "metadata": {},
     "output_type": "execute_result"
    }
   ],
   "source": [
    "res_lsq_15min.x"
   ]
  },
  {
   "cell_type": "markdown",
   "metadata": {},
   "source": [
    "Il medesimo procedimento deve essere fatto per ogni durate.  \n",
    "Per 30min"
   ]
  },
  {
   "cell_type": "code",
   "execution_count": 35,
   "metadata": {},
   "outputs": [
    {
     "data": {
      "text/plain": [
       "array([14.64709175,  5.40012433])"
      ]
     },
     "execution_count": 35,
     "metadata": {},
     "output_type": "execute_result"
    }
   ],
   "source": [
    "x0 = [15, 5]\n",
    "ecdf30min = ECDF(data['30min'].dropna())\n",
    "t_train = sorted(data['30min'].dropna())\n",
    "y_train = ecdf30min(t_train)\n",
    "res_lsq_30min = least_squares(fun, x0, args = (t_train, y_train))\n",
    "res_lsq_30min.x"
   ]
  },
  {
   "cell_type": "markdown",
   "metadata": {},
   "source": [
    "Per 45min"
   ]
  },
  {
   "cell_type": "code",
   "execution_count": 36,
   "metadata": {},
   "outputs": [
    {
     "data": {
      "text/plain": [
       "array([17.28679593,  5.59610798])"
      ]
     },
     "execution_count": 36,
     "metadata": {},
     "output_type": "execute_result"
    }
   ],
   "source": [
    "x0 = [17, 6]\n",
    "ecdf45min = ECDF(data['45min'].dropna())\n",
    "t_train = sorted(data['45min'].dropna())\n",
    "y_train = ecdf45min(t_train)\n",
    "res_lsq_45min = least_squares(fun, x0, args = (t_train, y_train))\n",
    "res_lsq_45min.x"
   ]
  },
  {
   "cell_type": "markdown",
   "metadata": {},
   "source": [
    "Per 1h"
   ]
  },
  {
   "cell_type": "code",
   "execution_count": 37,
   "metadata": {},
   "outputs": [
    {
     "data": {
      "text/plain": [
       "array([19.44805879,  6.83870958])"
      ]
     },
     "execution_count": 37,
     "metadata": {},
     "output_type": "execute_result"
    }
   ],
   "source": [
    "x0 = [19, 7]\n",
    "ecdf1h = ECDF(data['1h'].dropna())\n",
    "t_train = sorted(data['1h'].dropna())\n",
    "y_train = ecdf1h(t_train)\n",
    "res_lsq_1h = least_squares(fun, x0, args = (t_train, y_train))\n",
    "res_lsq_1h.x"
   ]
  },
  {
   "cell_type": "markdown",
   "metadata": {},
   "source": [
    "Per 3h"
   ]
  },
  {
   "cell_type": "code",
   "execution_count": 38,
   "metadata": {},
   "outputs": [
    {
     "data": {
      "text/plain": [
       "array([29.19866189,  9.4162398 ])"
      ]
     },
     "execution_count": 38,
     "metadata": {},
     "output_type": "execute_result"
    }
   ],
   "source": [
    "x0 = [29, 10]\n",
    "ecdf3h = ECDF(data['3h'].dropna())\n",
    "t_train = sorted(data['3h'].dropna())\n",
    "y_train = ecdf3h(t_train)\n",
    "res_lsq_3h = least_squares(fun, x0, args = (t_train, y_train))\n",
    "res_lsq_3h.x"
   ]
  },
  {
   "cell_type": "markdown",
   "metadata": {},
   "source": [
    "Per 6h"
   ]
  },
  {
   "cell_type": "code",
   "execution_count": 39,
   "metadata": {},
   "outputs": [
    {
     "data": {
      "text/plain": [
       "array([40.25106396, 13.17942413])"
      ]
     },
     "execution_count": 39,
     "metadata": {},
     "output_type": "execute_result"
    }
   ],
   "source": [
    "x0 = [40, 12]\n",
    "ecdf6h = ECDF(data['6h'].dropna())\n",
    "t_train = sorted(data['6h'].dropna())\n",
    "y_train = ecdf6h(t_train)\n",
    "res_lsq_6h = least_squares(fun, x0, args = (t_train, y_train))\n",
    "res_lsq_6h.x"
   ]
  },
  {
   "cell_type": "markdown",
   "metadata": {},
   "source": [
    "Per 12h"
   ]
  },
  {
   "cell_type": "code",
   "execution_count": 40,
   "metadata": {},
   "outputs": [
    {
     "data": {
      "text/plain": [
       "array([55.66762894, 16.96168567])"
      ]
     },
     "execution_count": 40,
     "metadata": {},
     "output_type": "execute_result"
    }
   ],
   "source": [
    "x0 = [56, 21]\n",
    "ecdf12h = ECDF(data['12h'].dropna())\n",
    "t_train = sorted(data['12h'].dropna())\n",
    "y_train = ecdf12h(t_train)\n",
    "res_lsq_12h = least_squares(fun, x0, args = (t_train, y_train))\n",
    "res_lsq_12h.x"
   ]
  },
  {
   "cell_type": "markdown",
   "metadata": {},
   "source": [
    "Per 24h"
   ]
  },
  {
   "cell_type": "code",
   "execution_count": 41,
   "metadata": {},
   "outputs": [
    {
     "data": {
      "text/plain": [
       "array([74.32422655, 23.54694171])"
      ]
     },
     "execution_count": 41,
     "metadata": {},
     "output_type": "execute_result"
    }
   ],
   "source": [
    "x0 = [75, 27]\n",
    "ecdf24h = ECDF(data['24h'].dropna())\n",
    "t_train = sorted(data['24h'].dropna())\n",
    "y_train = ecdf24h(t_train)\n",
    "res_lsq_24h = least_squares(fun, x0, args = (t_train, y_train))\n",
    "res_lsq_24h.x"
   ]
  },
  {
   "cell_type": "markdown",
   "metadata": {},
   "source": [
    "È utile costruire un DataFrame contentente tutti i valori"
   ]
  },
  {
   "cell_type": "code",
   "execution_count": 42,
   "metadata": {},
   "outputs": [
    {
     "data": {
      "text/html": [
       "<div>\n",
       "<style scoped>\n",
       "    .dataframe tbody tr th:only-of-type {\n",
       "        vertical-align: middle;\n",
       "    }\n",
       "\n",
       "    .dataframe tbody tr th {\n",
       "        vertical-align: top;\n",
       "    }\n",
       "\n",
       "    .dataframe thead th {\n",
       "        text-align: right;\n",
       "    }\n",
       "</style>\n",
       "<table border=\"1\" class=\"dataframe\">\n",
       "  <thead>\n",
       "    <tr style=\"text-align: right;\">\n",
       "      <th></th>\n",
       "      <th>15min</th>\n",
       "      <th>30min</th>\n",
       "      <th>45min</th>\n",
       "      <th>1h</th>\n",
       "      <th>3h</th>\n",
       "      <th>6h</th>\n",
       "      <th>12h</th>\n",
       "      <th>24h</th>\n",
       "    </tr>\n",
       "  </thead>\n",
       "  <tbody>\n",
       "    <tr>\n",
       "      <th>a</th>\n",
       "      <td>11.059733</td>\n",
       "      <td>14.647092</td>\n",
       "      <td>17.286796</td>\n",
       "      <td>19.448059</td>\n",
       "      <td>29.198662</td>\n",
       "      <td>40.251064</td>\n",
       "      <td>55.667629</td>\n",
       "      <td>74.324227</td>\n",
       "    </tr>\n",
       "    <tr>\n",
       "      <th>b</th>\n",
       "      <td>3.897447</td>\n",
       "      <td>5.400124</td>\n",
       "      <td>5.596108</td>\n",
       "      <td>6.838710</td>\n",
       "      <td>9.416240</td>\n",
       "      <td>13.179424</td>\n",
       "      <td>16.961686</td>\n",
       "      <td>23.546942</td>\n",
       "    </tr>\n",
       "  </tbody>\n",
       "</table>\n",
       "</div>"
      ],
      "text/plain": [
       "       15min      30min      45min         1h         3h         6h  \\\n",
       "a  11.059733  14.647092  17.286796  19.448059  29.198662  40.251064   \n",
       "b   3.897447   5.400124   5.596108   6.838710   9.416240  13.179424   \n",
       "\n",
       "         12h        24h  \n",
       "a  55.667629  74.324227  \n",
       "b  16.961686  23.546942  "
      ]
     },
     "execution_count": 42,
     "metadata": {},
     "output_type": "execute_result"
    }
   ],
   "source": [
    "abs_ls = pd.DataFrame([\n",
    "    res_lsq_15min.x,\n",
    "    res_lsq_30min.x,\n",
    "    res_lsq_45min.x,\n",
    "    res_lsq_1h.x,\n",
    "    res_lsq_3h.x,\n",
    "    res_lsq_6h.x,\n",
    "    res_lsq_12h.x,\n",
    "    res_lsq_24h.x\n",
    "]).T\n",
    "#------------------------indice-----------------------\n",
    "abs_ls.index = ['a', 'b']\n",
    "#------------------------colonne----------------------\n",
    "abs_ls.columns = ['15min', '30min', '45min', '1h', '3h', '6h', '12h', '24h']\n",
    "#-----------------------------------------------------\n",
    "abs_ls"
   ]
  },
  {
   "cell_type": "markdown",
   "metadata": {},
   "source": [
    "che va salvato in un file"
   ]
  },
  {
   "cell_type": "code",
   "execution_count": 43,
   "metadata": {},
   "outputs": [],
   "source": [
    "abs_ls.to_pickle('abs_ls')"
   ]
  },
  {
   "cell_type": "code",
   "execution_count": 44,
   "metadata": {},
   "outputs": [
    {
     "data": {
      "text/plain": [
       "['.ipynb_checkpoints',\n",
       " 'abs_ls',\n",
       " 'abs_m',\n",
       " 'abs_mle',\n",
       " 'best_parameters',\n",
       " 'lsCenta.ipynb',\n",
       " 'lsppCenta.ipynb',\n",
       " 'massimePrecipitazioniCenta.csv',\n",
       " 'mleCenta.ipynb',\n",
       " 'momentiCenta.ipynb',\n",
       " 'pearsonCenta.ipynb']"
      ]
     },
     "execution_count": 44,
     "metadata": {},
     "output_type": "execute_result"
    }
   ],
   "source": [
    "os.listdir()"
   ]
  },
  {
   "cell_type": "markdown",
   "metadata": {},
   "source": [
    "['.ipynb_checkpoints',  \n",
    " '**abs_ls**  \n",
    " 'abs_m',  \n",
    " 'abs_mle',  \n",
    " 'lsCenta.ipynb',  \n",
    " 'massimePrecipitazioniCenta.csv',  \n",
    " 'mleCenta.ipynb',  \n",
    " 'momentiCenta.ipynb']"
   ]
  },
  {
   "cell_type": "markdown",
   "metadata": {},
   "source": [
    "Definita la funzione di Gumbel"
   ]
  },
  {
   "cell_type": "code",
   "execution_count": 45,
   "metadata": {},
   "outputs": [],
   "source": [
    "def gumbel(x, abs_d, col):\n",
    "    return np.exp(-np.exp(-(x - abs_d[col]['a'])/abs_d[col]['b']))"
   ]
  },
  {
   "cell_type": "markdown",
   "metadata": {},
   "source": [
    "e definito il vettore che va dal minimo dei dati al massimo dei dati"
   ]
  },
  {
   "cell_type": "code",
   "execution_count": 46,
   "metadata": {},
   "outputs": [],
   "source": [
    "t_rain = np.linspace(data.min()['15min'], data.max()['24h'], 100)"
   ]
  },
  {
   "cell_type": "markdown",
   "metadata": {},
   "source": [
    "dove"
   ]
  },
  {
   "cell_type": "code",
   "execution_count": 47,
   "metadata": {},
   "outputs": [
    {
     "name": "stdout",
     "output_type": "stream",
     "text": [
      "minimo =  5.2\n",
      "massimo = 192.0\n"
     ]
    }
   ],
   "source": [
    "print ('minimo = ', data.min()['15min'])\n",
    "print ('massimo =', data.max()['24h'])"
   ]
  },
  {
   "cell_type": "markdown",
   "metadata": {},
   "source": [
    "Si definisce il DataFrame che contiene i valori che escono dalla funzione di Gumbel divisi per durata e per precipitazione"
   ]
  },
  {
   "cell_type": "code",
   "execution_count": 48,
   "metadata": {},
   "outputs": [
    {
     "data": {
      "text/html": [
       "<div>\n",
       "<style scoped>\n",
       "    .dataframe tbody tr th:only-of-type {\n",
       "        vertical-align: middle;\n",
       "    }\n",
       "\n",
       "    .dataframe tbody tr th {\n",
       "        vertical-align: top;\n",
       "    }\n",
       "\n",
       "    .dataframe thead th {\n",
       "        text-align: right;\n",
       "    }\n",
       "</style>\n",
       "<table border=\"1\" class=\"dataframe\">\n",
       "  <thead>\n",
       "    <tr style=\"text-align: right;\">\n",
       "      <th></th>\n",
       "      <th>15min</th>\n",
       "      <th>30min</th>\n",
       "      <th>45min</th>\n",
       "      <th>1h</th>\n",
       "      <th>3h</th>\n",
       "      <th>6h</th>\n",
       "      <th>12h</th>\n",
       "      <th>24h</th>\n",
       "    </tr>\n",
       "  </thead>\n",
       "  <tbody>\n",
       "    <tr>\n",
       "      <th>5.200000</th>\n",
       "      <td>0.011139</td>\n",
       "      <td>0.003179</td>\n",
       "      <td>0.000172</td>\n",
       "      <td>0.000325</td>\n",
       "      <td>0.000003</td>\n",
       "      <td>6.224760e-07</td>\n",
       "      <td>3.083306e-09</td>\n",
       "      <td>6.623386e-09</td>\n",
       "    </tr>\n",
       "    <tr>\n",
       "      <th>7.086869</th>\n",
       "      <td>0.062575</td>\n",
       "      <td>0.017331</td>\n",
       "      <td>0.002053</td>\n",
       "      <td>0.002253</td>\n",
       "      <td>0.000028</td>\n",
       "      <td>4.187288e-06</td>\n",
       "      <td>2.426843e-08</td>\n",
       "      <td>2.824253e-08</td>\n",
       "    </tr>\n",
       "    <tr>\n",
       "      <th>8.973737</th>\n",
       "      <td>0.181260</td>\n",
       "      <td>0.057306</td>\n",
       "      <td>0.012068</td>\n",
       "      <td>0.009797</td>\n",
       "      <td>0.000190</td>\n",
       "      <td>2.184341e-05</td>\n",
       "      <td>1.537215e-07</td>\n",
       "      <td>1.077028e-07</td>\n",
       "    </tr>\n",
       "    <tr>\n",
       "      <th>10.860606</th>\n",
       "      <td>0.349092</td>\n",
       "      <td>0.133168</td>\n",
       "      <td>0.042727</td>\n",
       "      <td>0.029887</td>\n",
       "      <td>0.000902</td>\n",
       "      <td>9.141441e-05</td>\n",
       "      <td>8.017265e-07</td>\n",
       "      <td>3.704974e-07</td>\n",
       "    </tr>\n",
       "    <tr>\n",
       "      <th>12.747475</th>\n",
       "      <td>0.522811</td>\n",
       "      <td>0.241331</td>\n",
       "      <td>0.105345</td>\n",
       "      <td>0.069674</td>\n",
       "      <td>0.003221</td>\n",
       "      <td>3.160678e-04</td>\n",
       "      <td>3.514005e-06</td>\n",
       "      <td>1.158845e-06</td>\n",
       "    </tr>\n",
       "    <tr>\n",
       "      <th>14.634343</th>\n",
       "      <td>0.670555</td>\n",
       "      <td>0.367011</td>\n",
       "      <td>0.200613</td>\n",
       "      <td>0.132443</td>\n",
       "      <td>0.009131</td>\n",
       "      <td>9.261455e-04</td>\n",
       "      <td>1.318297e-05</td>\n",
       "      <td>3.319933e-06</td>\n",
       "    </tr>\n",
       "    <tr>\n",
       "      <th>16.521212</th>\n",
       "      <td>0.781705</td>\n",
       "      <td>0.493235</td>\n",
       "      <td>0.317713</td>\n",
       "      <td>0.215637</td>\n",
       "      <td>0.021422</td>\n",
       "      <td>2.351245e-03</td>\n",
       "      <td>4.303004e-05</td>\n",
       "      <td>8.770686e-06</td>\n",
       "    </tr>\n",
       "    <tr>\n",
       "      <th>18.408081</th>\n",
       "      <td>0.859191</td>\n",
       "      <td>0.607536</td>\n",
       "      <td>0.441124</td>\n",
       "      <td>0.312158</td>\n",
       "      <td>0.043048</td>\n",
       "      <td>5.271619e-03</td>\n",
       "      <td>1.240060e-04</td>\n",
       "      <td>2.150051e-05</td>\n",
       "    </tr>\n",
       "    <tr>\n",
       "      <th>20.294949</th>\n",
       "      <td>0.910718</td>\n",
       "      <td>0.703713</td>\n",
       "      <td>0.557562</td>\n",
       "      <td>0.413324</td>\n",
       "      <td>0.076209</td>\n",
       "      <td>1.061248e-02</td>\n",
       "      <td>3.196832e-04</td>\n",
       "      <td>4.919000e-05</td>\n",
       "    </tr>\n",
       "    <tr>\n",
       "      <th>22.181818</th>\n",
       "      <td>0.943998</td>\n",
       "      <td>0.780546</td>\n",
       "      <td>0.659035</td>\n",
       "      <td>0.511458</td>\n",
       "      <td>0.121623</td>\n",
       "      <td>1.946058e-02</td>\n",
       "      <td>7.459304e-04</td>\n",
       "      <td>1.055910e-04</td>\n",
       "    </tr>\n",
       "    <tr>\n",
       "      <th>...</th>\n",
       "      <td>...</td>\n",
       "      <td>...</td>\n",
       "      <td>...</td>\n",
       "      <td>...</td>\n",
       "      <td>...</td>\n",
       "      <td>...</td>\n",
       "      <td>...</td>\n",
       "      <td>...</td>\n",
       "    </tr>\n",
       "    <tr>\n",
       "      <th>175.018182</th>\n",
       "      <td>1.000000</td>\n",
       "      <td>1.000000</td>\n",
       "      <td>1.000000</td>\n",
       "      <td>1.000000</td>\n",
       "      <td>1.000000</td>\n",
       "      <td>9.999638e-01</td>\n",
       "      <td>9.991212e-01</td>\n",
       "      <td>9.862022e-01</td>\n",
       "    </tr>\n",
       "    <tr>\n",
       "      <th>176.905051</th>\n",
       "      <td>1.000000</td>\n",
       "      <td>1.000000</td>\n",
       "      <td>1.000000</td>\n",
       "      <td>1.000000</td>\n",
       "      <td>1.000000</td>\n",
       "      <td>9.999686e-01</td>\n",
       "      <td>9.992137e-01</td>\n",
       "      <td>9.872579e-01</td>\n",
       "    </tr>\n",
       "    <tr>\n",
       "      <th>178.791919</th>\n",
       "      <td>1.000000</td>\n",
       "      <td>1.000000</td>\n",
       "      <td>1.000000</td>\n",
       "      <td>1.000000</td>\n",
       "      <td>1.000000</td>\n",
       "      <td>9.999728e-01</td>\n",
       "      <td>9.992964e-01</td>\n",
       "      <td>9.882333e-01</td>\n",
       "    </tr>\n",
       "    <tr>\n",
       "      <th>180.678788</th>\n",
       "      <td>1.000000</td>\n",
       "      <td>1.000000</td>\n",
       "      <td>1.000000</td>\n",
       "      <td>1.000000</td>\n",
       "      <td>1.000000</td>\n",
       "      <td>9.999764e-01</td>\n",
       "      <td>9.993705e-01</td>\n",
       "      <td>9.891345e-01</td>\n",
       "    </tr>\n",
       "    <tr>\n",
       "      <th>182.565657</th>\n",
       "      <td>1.000000</td>\n",
       "      <td>1.000000</td>\n",
       "      <td>1.000000</td>\n",
       "      <td>1.000000</td>\n",
       "      <td>1.000000</td>\n",
       "      <td>9.999796e-01</td>\n",
       "      <td>9.994367e-01</td>\n",
       "      <td>9.899670e-01</td>\n",
       "    </tr>\n",
       "    <tr>\n",
       "      <th>184.452525</th>\n",
       "      <td>1.000000</td>\n",
       "      <td>1.000000</td>\n",
       "      <td>1.000000</td>\n",
       "      <td>1.000000</td>\n",
       "      <td>1.000000</td>\n",
       "      <td>9.999823e-01</td>\n",
       "      <td>9.994960e-01</td>\n",
       "      <td>9.907360e-01</td>\n",
       "    </tr>\n",
       "    <tr>\n",
       "      <th>186.339394</th>\n",
       "      <td>1.000000</td>\n",
       "      <td>1.000000</td>\n",
       "      <td>1.000000</td>\n",
       "      <td>1.000000</td>\n",
       "      <td>1.000000</td>\n",
       "      <td>9.999847e-01</td>\n",
       "      <td>9.995491e-01</td>\n",
       "      <td>9.914463e-01</td>\n",
       "    </tr>\n",
       "    <tr>\n",
       "      <th>188.226263</th>\n",
       "      <td>1.000000</td>\n",
       "      <td>1.000000</td>\n",
       "      <td>1.000000</td>\n",
       "      <td>1.000000</td>\n",
       "      <td>1.000000</td>\n",
       "      <td>9.999867e-01</td>\n",
       "      <td>9.995965e-01</td>\n",
       "      <td>9.921024e-01</td>\n",
       "    </tr>\n",
       "    <tr>\n",
       "      <th>190.113131</th>\n",
       "      <td>1.000000</td>\n",
       "      <td>1.000000</td>\n",
       "      <td>1.000000</td>\n",
       "      <td>1.000000</td>\n",
       "      <td>1.000000</td>\n",
       "      <td>9.999885e-01</td>\n",
       "      <td>9.996390e-01</td>\n",
       "      <td>9.927083e-01</td>\n",
       "    </tr>\n",
       "    <tr>\n",
       "      <th>192.000000</th>\n",
       "      <td>1.000000</td>\n",
       "      <td>1.000000</td>\n",
       "      <td>1.000000</td>\n",
       "      <td>1.000000</td>\n",
       "      <td>1.000000</td>\n",
       "      <td>9.999900e-01</td>\n",
       "      <td>9.996770e-01</td>\n",
       "      <td>9.932679e-01</td>\n",
       "    </tr>\n",
       "  </tbody>\n",
       "</table>\n",
       "<p>100 rows × 8 columns</p>\n",
       "</div>"
      ],
      "text/plain": [
       "               15min     30min     45min        1h        3h            6h  \\\n",
       "5.200000    0.011139  0.003179  0.000172  0.000325  0.000003  6.224760e-07   \n",
       "7.086869    0.062575  0.017331  0.002053  0.002253  0.000028  4.187288e-06   \n",
       "8.973737    0.181260  0.057306  0.012068  0.009797  0.000190  2.184341e-05   \n",
       "10.860606   0.349092  0.133168  0.042727  0.029887  0.000902  9.141441e-05   \n",
       "12.747475   0.522811  0.241331  0.105345  0.069674  0.003221  3.160678e-04   \n",
       "14.634343   0.670555  0.367011  0.200613  0.132443  0.009131  9.261455e-04   \n",
       "16.521212   0.781705  0.493235  0.317713  0.215637  0.021422  2.351245e-03   \n",
       "18.408081   0.859191  0.607536  0.441124  0.312158  0.043048  5.271619e-03   \n",
       "20.294949   0.910718  0.703713  0.557562  0.413324  0.076209  1.061248e-02   \n",
       "22.181818   0.943998  0.780546  0.659035  0.511458  0.121623  1.946058e-02   \n",
       "...              ...       ...       ...       ...       ...           ...   \n",
       "175.018182  1.000000  1.000000  1.000000  1.000000  1.000000  9.999638e-01   \n",
       "176.905051  1.000000  1.000000  1.000000  1.000000  1.000000  9.999686e-01   \n",
       "178.791919  1.000000  1.000000  1.000000  1.000000  1.000000  9.999728e-01   \n",
       "180.678788  1.000000  1.000000  1.000000  1.000000  1.000000  9.999764e-01   \n",
       "182.565657  1.000000  1.000000  1.000000  1.000000  1.000000  9.999796e-01   \n",
       "184.452525  1.000000  1.000000  1.000000  1.000000  1.000000  9.999823e-01   \n",
       "186.339394  1.000000  1.000000  1.000000  1.000000  1.000000  9.999847e-01   \n",
       "188.226263  1.000000  1.000000  1.000000  1.000000  1.000000  9.999867e-01   \n",
       "190.113131  1.000000  1.000000  1.000000  1.000000  1.000000  9.999885e-01   \n",
       "192.000000  1.000000  1.000000  1.000000  1.000000  1.000000  9.999900e-01   \n",
       "\n",
       "                     12h           24h  \n",
       "5.200000    3.083306e-09  6.623386e-09  \n",
       "7.086869    2.426843e-08  2.824253e-08  \n",
       "8.973737    1.537215e-07  1.077028e-07  \n",
       "10.860606   8.017265e-07  3.704974e-07  \n",
       "12.747475   3.514005e-06  1.158845e-06  \n",
       "14.634343   1.318297e-05  3.319933e-06  \n",
       "16.521212   4.303004e-05  8.770686e-06  \n",
       "18.408081   1.240060e-04  2.150051e-05  \n",
       "20.294949   3.196832e-04  4.919000e-05  \n",
       "22.181818   7.459304e-04  1.055910e-04  \n",
       "...                  ...           ...  \n",
       "175.018182  9.991212e-01  9.862022e-01  \n",
       "176.905051  9.992137e-01  9.872579e-01  \n",
       "178.791919  9.992964e-01  9.882333e-01  \n",
       "180.678788  9.993705e-01  9.891345e-01  \n",
       "182.565657  9.994367e-01  9.899670e-01  \n",
       "184.452525  9.994960e-01  9.907360e-01  \n",
       "186.339394  9.995491e-01  9.914463e-01  \n",
       "188.226263  9.995965e-01  9.921024e-01  \n",
       "190.113131  9.996390e-01  9.927083e-01  \n",
       "192.000000  9.996770e-01  9.932679e-01  \n",
       "\n",
       "[100 rows x 8 columns]"
      ]
     },
     "execution_count": 48,
     "metadata": {},
     "output_type": "execute_result"
    }
   ],
   "source": [
    "teta = []\n",
    "for h in data.columns:\n",
    "        teta = teta + [gumbel(t_rain, abs_ls, h)]\n",
    "        \n",
    "gb = pd.DataFrame(teta, index = ['15min', '30min', '45min', '1h', '3h', '6h', '12h', '24h'], columns = t_rain\n",
    ").T #Trasposta\n",
    "\n",
    "#------------------------------------------\n",
    "gb"
   ]
  },
  {
   "cell_type": "markdown",
   "metadata": {},
   "source": [
    "Si procede quindi al plot dei delle curve di distribuzione di probabilità pluviometrica"
   ]
  },
  {
   "cell_type": "code",
   "execution_count": 50,
   "metadata": {},
   "outputs": [
    {
     "data": {
      "image/png": "[encoded data removed]",
      "text/plain": [
       "<Figure size 432x288 with 1 Axes>"
      ]
     },
     "metadata": {
      "needs_background": "light"
     },
     "output_type": "display_data"
    }
   ],
   "source": [
    "plt.rc('text', usetex=True)\n",
    "plt.rc('xtick', labelsize = 15)\n",
    "plt.rc('ytick', labelsize = 15)\n",
    "\n",
    "#----------------plot---------------\n",
    "\n",
    "ax = gb.plot(color = ['#9575cd', 'brown', '#80d8ff','red', 'green', 'blue', 'magenta', 'black'])\n",
    "#plt.figure(figsize = (18 ,16), dpi = 100)\n",
    "\n",
    "#--------------15min--------------------\n",
    "data15min = data['15min'].dropna()\n",
    "ecdf15min = ECDF(data15min)\n",
    "ax.plot(data15min, ecdf15min(data15min), 'o', c = '#9575cd')\n",
    "\n",
    "#--------------30min--------------------\n",
    "data30min = data['30min'].dropna()\n",
    "ecdf30min = ECDF(data30min)\n",
    "ax.plot(data30min, ecdf30min(data30min), 'o', c = 'brown')\n",
    "\n",
    "#--------------45min--------------------\n",
    "data45min = data['45min'].dropna()\n",
    "ecdf45min = ECDF(data45min)\n",
    "ax.plot(data45min, ecdf45min(data45min), 'o', c = '#80d8ff')\n",
    "\n",
    "#--------------1h--------------------\n",
    "data1h = data['1h'].dropna()\n",
    "ecdf1h = ECDF(data1h)\n",
    "ax.plot(data1h, ecdf1h(data1h), 'o', c = 'red')\n",
    "\n",
    "#--------------3h--------------------\n",
    "data3h = data['3h'].dropna()\n",
    "ecdf3h = ECDF(data3h)\n",
    "ax.plot(data3h, ecdf3h(data3h), 'o', c = 'green')\n",
    "\n",
    "#--------------6h--------------------\n",
    "data6h = data['6h'].dropna()\n",
    "ecdf6h = ECDF(data6h)\n",
    "ax.plot(data6h, ecdf6h(data6h), 'o', c = 'blue')\n",
    "\n",
    "#--------------12h-------------------\n",
    "data12h = data['12h'].dropna()\n",
    "ecdf12h = ECDF(data12h)\n",
    "ax.plot(data12h, ecdf12h(data12h), 'o', c = 'magenta')\n",
    "\n",
    "#--------------24h-------------------\n",
    "data24h = data['24h'].dropna()\n",
    "ecdf24h = ECDF(data24h)\n",
    "ax.plot(data24h, ecdf24h(data24h), 'o', c = 'black')\n",
    "\n",
    "#-----------------label--------------\n",
    "ax.set_title('Probability Distribution Function of Rainfall\\nLeast Squares Method', fontsize = 15)\n",
    "ax.set_xlabel('Rainfall [mm]', fontsize = 14)\n",
    "ax.set_ylabel(r'$P[H < h]$',fontsize = 14)\n",
    "plt.legend(fontsize = 12)\n",
    "\n",
    "#------------------------------------\n",
    "plt.show()"
   ]
  },
  {
   "cell_type": "markdown",
   "metadata": {},
   "source": [
    "**dropna()** separa ed elimina i dati NaN."
   ]
  }
 ],
 "metadata": {
  "kernelspec": {
   "display_name": "Python 3",
   "language": "python",
   "name": "python3"
  },
  "language_info": {
   "codemirror_mode": {
    "name": "ipython",
    "version": 3
   },
   "file_extension": ".py",
   "mimetype": "text/x-python",
   "name": "python",
   "nbconvert_exporter": "python",
   "pygments_lexer": "ipython3",
   "version": "3.7.1"
  }
 },
 "nbformat": 4,
 "nbformat_minor": 2
}
