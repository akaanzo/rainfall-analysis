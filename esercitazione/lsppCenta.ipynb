{
 "cells": [
  {
   "cell_type": "markdown",
   "metadata": {},
   "source": [
    "# Linee Segnalatrici di Probabilità Pluviometrica (LSPP)"
   ]
  },
  {
   "cell_type": "markdown",
   "metadata": {},
   "source": [
    "Matteo Franzoi - Andrea Rebellato - 2019-03-27"
   ]
  },
  {
   "cell_type": "markdown",
   "metadata": {},
   "source": [
    "---"
   ]
  },
  {
   "cell_type": "code",
   "execution_count": 3,
   "metadata": {},
   "outputs": [],
   "source": [
    "import os\n",
    "from pandas import *\n",
    "import pandas as pd\n",
    "from numpy import *\n",
    "import numpy as np\n",
    "import scipy\n",
    "import matplotlib.pyplot as plt\n",
    "%matplotlib inline\n",
    "import math\n",
    "from datetime import datetime\n",
    "from scipy.stats import genextreme, gumbel_r\n",
    "from numpy import linspace\n",
    "from statsmodels.distributions.empirical_distribution import ECDF"
   ]
  },
  {
   "cell_type": "code",
   "execution_count": 4,
   "metadata": {},
   "outputs": [
    {
     "data": {
      "text/html": [
       "<div>\n",
       "<style scoped>\n",
       "    .dataframe tbody tr th:only-of-type {\n",
       "        vertical-align: middle;\n",
       "    }\n",
       "\n",
       "    .dataframe tbody tr th {\n",
       "        vertical-align: top;\n",
       "    }\n",
       "\n",
       "    .dataframe thead th {\n",
       "        text-align: right;\n",
       "    }\n",
       "</style>\n",
       "<table border=\"1\" class=\"dataframe\">\n",
       "  <thead>\n",
       "    <tr style=\"text-align: right;\">\n",
       "      <th></th>\n",
       "      <th>15min</th>\n",
       "      <th>30min</th>\n",
       "      <th>45min</th>\n",
       "      <th>1h</th>\n",
       "      <th>3h</th>\n",
       "      <th>6h</th>\n",
       "      <th>12h</th>\n",
       "      <th>24h</th>\n",
       "    </tr>\n",
       "    <tr>\n",
       "      <th>anno</th>\n",
       "      <th></th>\n",
       "      <th></th>\n",
       "      <th></th>\n",
       "      <th></th>\n",
       "      <th></th>\n",
       "      <th></th>\n",
       "      <th></th>\n",
       "      <th></th>\n",
       "    </tr>\n",
       "  </thead>\n",
       "  <tbody>\n",
       "    <tr>\n",
       "      <th>1934</th>\n",
       "      <td>NaN</td>\n",
       "      <td>NaN</td>\n",
       "      <td>NaN</td>\n",
       "      <td>22.6</td>\n",
       "      <td>42.0</td>\n",
       "      <td>56.6</td>\n",
       "      <td>58.8</td>\n",
       "      <td>85.0</td>\n",
       "    </tr>\n",
       "    <tr>\n",
       "      <th>1935</th>\n",
       "      <td>NaN</td>\n",
       "      <td>NaN</td>\n",
       "      <td>NaN</td>\n",
       "      <td>17.8</td>\n",
       "      <td>32.6</td>\n",
       "      <td>54.2</td>\n",
       "      <td>63.6</td>\n",
       "      <td>88.0</td>\n",
       "    </tr>\n",
       "    <tr>\n",
       "      <th>1936</th>\n",
       "      <td>NaN</td>\n",
       "      <td>NaN</td>\n",
       "      <td>NaN</td>\n",
       "      <td>15.8</td>\n",
       "      <td>28.0</td>\n",
       "      <td>41.4</td>\n",
       "      <td>72.0</td>\n",
       "      <td>85.2</td>\n",
       "    </tr>\n",
       "    <tr>\n",
       "      <th>1937</th>\n",
       "      <td>NaN</td>\n",
       "      <td>NaN</td>\n",
       "      <td>NaN</td>\n",
       "      <td>27.8</td>\n",
       "      <td>35.6</td>\n",
       "      <td>38.2</td>\n",
       "      <td>58.4</td>\n",
       "      <td>62.6</td>\n",
       "    </tr>\n",
       "    <tr>\n",
       "      <th>1938</th>\n",
       "      <td>NaN</td>\n",
       "      <td>NaN</td>\n",
       "      <td>NaN</td>\n",
       "      <td>15.0</td>\n",
       "      <td>21.4</td>\n",
       "      <td>32.0</td>\n",
       "      <td>56.0</td>\n",
       "      <td>83.0</td>\n",
       "    </tr>\n",
       "    <tr>\n",
       "      <th>...</th>\n",
       "      <td>...</td>\n",
       "      <td>...</td>\n",
       "      <td>...</td>\n",
       "      <td>...</td>\n",
       "      <td>...</td>\n",
       "      <td>...</td>\n",
       "      <td>...</td>\n",
       "      <td>...</td>\n",
       "    </tr>\n",
       "    <tr>\n",
       "      <th>2000</th>\n",
       "      <td>23.2</td>\n",
       "      <td>33.0</td>\n",
       "      <td>34.8</td>\n",
       "      <td>36.4</td>\n",
       "      <td>42.2</td>\n",
       "      <td>52.8</td>\n",
       "      <td>90.0</td>\n",
       "      <td>120.4</td>\n",
       "    </tr>\n",
       "    <tr>\n",
       "      <th>2003</th>\n",
       "      <td>16.2</td>\n",
       "      <td>27.0</td>\n",
       "      <td>34.8</td>\n",
       "      <td>37.4</td>\n",
       "      <td>38.8</td>\n",
       "      <td>62.8</td>\n",
       "      <td>101.0</td>\n",
       "      <td>121.6</td>\n",
       "    </tr>\n",
       "    <tr>\n",
       "      <th>2004</th>\n",
       "      <td>25.8</td>\n",
       "      <td>37.4</td>\n",
       "      <td>40.2</td>\n",
       "      <td>42.2</td>\n",
       "      <td>43.0</td>\n",
       "      <td>45.2</td>\n",
       "      <td>57.6</td>\n",
       "      <td>80.4</td>\n",
       "    </tr>\n",
       "    <tr>\n",
       "      <th>2005</th>\n",
       "      <td>11.4</td>\n",
       "      <td>15.6</td>\n",
       "      <td>17.0</td>\n",
       "      <td>18.4</td>\n",
       "      <td>27.2</td>\n",
       "      <td>35.2</td>\n",
       "      <td>43.8</td>\n",
       "      <td>44.6</td>\n",
       "    </tr>\n",
       "    <tr>\n",
       "      <th>2006</th>\n",
       "      <td>9.8</td>\n",
       "      <td>13.4</td>\n",
       "      <td>16.6</td>\n",
       "      <td>17.6</td>\n",
       "      <td>36.6</td>\n",
       "      <td>51.0</td>\n",
       "      <td>55.8</td>\n",
       "      <td>68.0</td>\n",
       "    </tr>\n",
       "  </tbody>\n",
       "</table>\n",
       "<p>57 rows × 8 columns</p>\n",
       "</div>"
      ],
      "text/plain": [
       "      15min  30min  45min    1h    3h    6h    12h    24h\n",
       "anno                                                     \n",
       "1934    NaN    NaN    NaN  22.6  42.0  56.6   58.8   85.0\n",
       "1935    NaN    NaN    NaN  17.8  32.6  54.2   63.6   88.0\n",
       "1936    NaN    NaN    NaN  15.8  28.0  41.4   72.0   85.2\n",
       "1937    NaN    NaN    NaN  27.8  35.6  38.2   58.4   62.6\n",
       "1938    NaN    NaN    NaN  15.0  21.4  32.0   56.0   83.0\n",
       "...     ...    ...    ...   ...   ...   ...    ...    ...\n",
       "2000   23.2   33.0   34.8  36.4  42.2  52.8   90.0  120.4\n",
       "2003   16.2   27.0   34.8  37.4  38.8  62.8  101.0  121.6\n",
       "2004   25.8   37.4   40.2  42.2  43.0  45.2   57.6   80.4\n",
       "2005   11.4   15.6   17.0  18.4  27.2  35.2   43.8   44.6\n",
       "2006    9.8   13.4   16.6  17.6  36.6  51.0   55.8   68.0\n",
       "\n",
       "[57 rows x 8 columns]"
      ]
     },
     "execution_count": 4,
     "metadata": {},
     "output_type": "execute_result"
    }
   ],
   "source": [
    "pd.set_option('display.max_rows', 10)\n",
    "data = read_csv('massimePrecipitazioniCenta.csv')\n",
    "map(datetime, data['anno'])\n",
    "data = data.set_index('anno')\n",
    "data"
   ]
  },
  {
   "cell_type": "code",
   "execution_count": 5,
   "metadata": {},
   "outputs": [
    {
     "data": {
      "text/plain": [
       "'D:\\\\git\\\\jupyter\\\\esercitazione'"
      ]
     },
     "execution_count": 5,
     "metadata": {},
     "output_type": "execute_result"
    }
   ],
   "source": [
    "os.getcwd()"
   ]
  },
  {
   "cell_type": "code",
   "execution_count": 6,
   "metadata": {},
   "outputs": [
    {
     "data": {
      "text/plain": [
       "['.ipynb_checkpoints',\n",
       " 'abs_ls',\n",
       " 'abs_m',\n",
       " 'abs_mle',\n",
       " 'an_scrosci',\n",
       " 'best_parameters',\n",
       " 'intensityCenta.ipynb',\n",
       " 'lsCenta.ipynb',\n",
       " 'lsppCenta.ipynb',\n",
       " 'massimePrecipitazioniCenta.csv',\n",
       " 'mleCenta.ipynb',\n",
       " 'momentiCenta.ipynb',\n",
       " 'pearsonCenta.ipynb']"
      ]
     },
     "execution_count": 6,
     "metadata": {},
     "output_type": "execute_result"
    }
   ],
   "source": [
    "os.listdir()"
   ]
  },
  {
   "cell_type": "markdown",
   "metadata": {},
   "source": [
    "['.ipynb_checkpoints',  \n",
    " 'abs_ls',  \n",
    " 'abs_m',  \n",
    " 'abs_mle',  \n",
    " '**best_parameters**',  \n",
    " 'lsCenta.ipynb',  \n",
    " 'lsppCenta.ipynb',  \n",
    " 'massimePrecipitazioniCenta.csv',  \n",
    " 'mleCenta.ipynb',  \n",
    " 'momentiCenta.ipynb',  \n",
    " 'pearsonCenta.ipynb']"
   ]
  },
  {
   "cell_type": "code",
   "execution_count": 7,
   "metadata": {},
   "outputs": [
    {
     "data": {
      "text/html": [
       "<div>\n",
       "<style scoped>\n",
       "    .dataframe tbody tr th:only-of-type {\n",
       "        vertical-align: middle;\n",
       "    }\n",
       "\n",
       "    .dataframe tbody tr th {\n",
       "        vertical-align: top;\n",
       "    }\n",
       "\n",
       "    .dataframe thead th {\n",
       "        text-align: right;\n",
       "    }\n",
       "</style>\n",
       "<table border=\"1\" class=\"dataframe\">\n",
       "  <thead>\n",
       "    <tr style=\"text-align: right;\">\n",
       "      <th></th>\n",
       "      <th>15min</th>\n",
       "      <th>30min</th>\n",
       "      <th>45min</th>\n",
       "      <th>1h</th>\n",
       "      <th>3h</th>\n",
       "      <th>6h</th>\n",
       "      <th>12h</th>\n",
       "      <th>24h</th>\n",
       "    </tr>\n",
       "  </thead>\n",
       "  <tbody>\n",
       "    <tr>\n",
       "      <th>a</th>\n",
       "      <td>11.511128</td>\n",
       "      <td>15.102191</td>\n",
       "      <td>17.286796</td>\n",
       "      <td>20.077738</td>\n",
       "      <td>30.042461</td>\n",
       "      <td>40.251064</td>\n",
       "      <td>56.917858</td>\n",
       "      <td>76.440792</td>\n",
       "    </tr>\n",
       "    <tr>\n",
       "      <th>b</th>\n",
       "      <td>4.257718</td>\n",
       "      <td>5.406040</td>\n",
       "      <td>5.596108</td>\n",
       "      <td>6.560461</td>\n",
       "      <td>9.253392</td>\n",
       "      <td>13.179424</td>\n",
       "      <td>21.080260</td>\n",
       "      <td>24.643281</td>\n",
       "    </tr>\n",
       "  </tbody>\n",
       "</table>\n",
       "</div>"
      ],
      "text/plain": [
       "       15min      30min      45min         1h         3h         6h  \\\n",
       "a  11.511128  15.102191  17.286796  20.077738  30.042461  40.251064   \n",
       "b   4.257718   5.406040   5.596108   6.560461   9.253392  13.179424   \n",
       "\n",
       "         12h        24h  \n",
       "a  56.917858  76.440792  \n",
       "b  21.080260  24.643281  "
      ]
     },
     "execution_count": 7,
     "metadata": {},
     "output_type": "execute_result"
    }
   ],
   "source": [
    "best = read_pickle('best_parameters')\n",
    "best"
   ]
  },
  {
   "cell_type": "markdown",
   "metadata": {},
   "source": [
    "Con un tempo di ritorno di $10$ anni ci si aspetta un quantile del valore di $0.9$, poiché\n",
    "$$\n",
    "\\large qu = 1- \\dfrac{1}{T_r}\n",
    "$$\n",
    "\n",
    "Si definisce la funzione `qtls` che calcola l'inversa della distribuzione di Gumbel in funzione al quantile scelto"
   ]
  },
  {
   "cell_type": "code",
   "execution_count": 8,
   "metadata": {},
   "outputs": [],
   "source": [
    "def qtls(df, qu):\n",
    "    rv = gumbel_r(loc = df[h]['a'], scale = df[h]['b'])\n",
    "    return rv.ppf(qu)"
   ]
  },
  {
   "cell_type": "markdown",
   "metadata": {},
   "source": [
    "---\n",
    "A questo punto è bene suddividere i dati relativi agli scrosci, cioè alle precipitazioni con durata inferiore a 1 ora, dai dati delle precipitazioni.\n",
    "## Scrosci\n",
    "In entrambi i casi sono stati considerati 3 diversi tempi di ritorno:\n",
    "* 10 anni;\n",
    "* 20 anni;\n",
    "* 100 anni.\n",
    "\n",
    "Nel DataFrame **pts** sono raccolti i valori di precipitazione relativi ai vari tempi di ritorno."
   ]
  },
  {
   "cell_type": "code",
   "execution_count": 9,
   "metadata": {},
   "outputs": [
    {
     "data": {
      "text/html": [
       "<div>\n",
       "<style scoped>\n",
       "    .dataframe tbody tr th:only-of-type {\n",
       "        vertical-align: middle;\n",
       "    }\n",
       "\n",
       "    .dataframe tbody tr th {\n",
       "        vertical-align: top;\n",
       "    }\n",
       "\n",
       "    .dataframe thead th {\n",
       "        text-align: right;\n",
       "    }\n",
       "</style>\n",
       "<table border=\"1\" class=\"dataframe\">\n",
       "  <thead>\n",
       "    <tr style=\"text-align: right;\">\n",
       "      <th></th>\n",
       "      <th>10</th>\n",
       "      <th>20</th>\n",
       "      <th>100</th>\n",
       "    </tr>\n",
       "  </thead>\n",
       "  <tbody>\n",
       "    <tr>\n",
       "      <th>15</th>\n",
       "      <td>21.092559</td>\n",
       "      <td>24.157383</td>\n",
       "      <td>31.097268</td>\n",
       "    </tr>\n",
       "    <tr>\n",
       "      <th>30</th>\n",
       "      <td>27.267768</td>\n",
       "      <td>31.159187</td>\n",
       "      <td>39.970784</td>\n",
       "    </tr>\n",
       "    <tr>\n",
       "      <th>45</th>\n",
       "      <td>29.880094</td>\n",
       "      <td>33.908329</td>\n",
       "      <td>43.029728</td>\n",
       "    </tr>\n",
       "  </tbody>\n",
       "</table>\n",
       "</div>"
      ],
      "text/plain": [
       "          10         20         100\n",
       "15  21.092559  24.157383  31.097268\n",
       "30  27.267768  31.159187  39.970784\n",
       "45  29.880094  33.908329  43.029728"
      ]
     },
     "execution_count": 9,
     "metadata": {},
     "output_type": "execute_result"
    }
   ],
   "source": [
    "Tr=10\n",
    "q10=1-1/Tr\n",
    "q20=1-1/20\n",
    "q100=1-1/100\n",
    "\n",
    "#----------------------------------------------------------\n",
    "def qtls(df,qu):\n",
    "    rv1h=gumbel_r(loc=df[\"a\"],scale=df[\"b\"])\n",
    "    return rv1h.ppf(qu)\n",
    "\n",
    "#----------------------------------------------------------\n",
    "pts = pd.DataFrame([[\n",
    "           qtls(best[\"15min\"],q10),\n",
    "           qtls(best[\"30min\"],q10),\n",
    "           qtls(best[\"45min\"],q10)],\n",
    "          [qtls(best[\"15min\"],q20),\n",
    "           qtls(best[\"30min\"],q20),\n",
    "           qtls(best[\"45min\"],q20)],\n",
    "          [qtls(best[\"15min\"],q100),\n",
    "           qtls(best[\"30min\"],q100),\n",
    "           qtls(best[\"45min\"],q100)]], \n",
    "              index=[10, 20, 100],columns=[15, 30, 45]).T\n",
    "\n",
    "#----------------------------------------------------------\n",
    "pts"
   ]
  },
  {
   "cell_type": "markdown",
   "metadata": {},
   "source": [
    "### Plot\n",
    "Si può procedere al plot dei valori contenuti nel DataFrame __pts__ con un _diagramma lineare_"
   ]
  },
  {
   "cell_type": "code",
   "execution_count": 10,
   "metadata": {},
   "outputs": [
    {
     "data": {
      "image/png": "[encoded data removed]",
      "text/plain": [
       "<Figure size 432x288 with 1 Axes>"
      ]
     },
     "metadata": {
      "needs_background": "light"
     },
     "output_type": "display_data"
    }
   ],
   "source": [
    "plt.rc('text', usetex=True)\n",
    "plt.rc('font', family = 'serif')\n",
    "plt.rc('xtick', labelsize = 15)\n",
    "plt.rc('ytick', labelsize = 15)\n",
    "\n",
    "#----------------------------------------------\n",
    "ag = pts.plot(style = \"o-\")\n",
    "\n",
    "#---------------label--------------------------\n",
    "plt.xlabel('Duration 'r'$\\left(t_p\\right)$ [min]', fontsize = 14)\n",
    "plt.ylabel('Rainfall height 'r'$\\left(h\\right)$ [mm]', fontsize = 14)\n",
    "plt.title('Lspp\\nLinear plot', fontsize = 15)\n",
    "#plt.legend([r'$T_r = 10y$', r'$T_r = 20y$', r'$T_r = 100y$'], loc = 0,  fontsize = 12)\n",
    "\n",
    "#----------------------------------------------\n",
    "plt.show()"
   ]
  },
  {
   "cell_type": "markdown",
   "metadata": {},
   "source": [
    "o in modo più significativo con un diagramma _bi-logaritmico_"
   ]
  },
  {
   "cell_type": "code",
   "execution_count": 11,
   "metadata": {},
   "outputs": [
    {
     "data": {
      "image/png": "[encoded data removed]",
      "text/plain": [
       "<Figure size 432x288 with 1 Axes>"
      ]
     },
     "metadata": {
      "needs_background": "light"
     },
     "output_type": "display_data"
    }
   ],
   "source": [
    "plt.rc('text', usetex=True)\n",
    "plt.rc('font', family = 'serif')\n",
    "plt.rc('xtick', labelsize = 15)\n",
    "plt.rc('ytick', labelsize = 15)\n",
    "\n",
    "#------------------------------------------------------------------\n",
    "ag = pts.plot(style = \"o-\")\n",
    "ag.set_yscale('log')\n",
    "ag.set_xscale('log')\n",
    "\n",
    "#--------------------label-----------------------------------------\n",
    "plt.xlabel('Duration 'r'$\\left(t_p\\right)$ [min]', fontsize = 14)\n",
    "plt.ylabel('Rainfall height 'r'$\\left(h\\right)$ [mm]', fontsize = 14)\n",
    "plt.title('Lspp\\nBi-logarithmic plot', fontsize = 15)\n",
    "plt.legend([r'$T_r = 10y$', r'$T_r = 20y$', r'$T_r = 100y$'], loc = 0,  fontsize = 12)\n",
    "ag.set_xlim([14, 50])\n",
    "ag.set_ylim([20, 50])\n",
    "\n",
    "#------------------------------------------------------------------\n",
    "plt.show()"
   ]
  },
  {
   "cell_type": "markdown",
   "metadata": {},
   "source": [
    "### \"Fitting\" curve"
   ]
  },
  {
   "cell_type": "markdown",
   "metadata": {},
   "source": [
    "Ricordando che l'altezza di precipitazione è legata al tempo di ritorno mediante la seguente relazione\n",
    "$$\n",
    "h(t_p, T_r) = a\\,\\left(T_r\\right)\\,t_p^n\n",
    "$$ \n",
    "\n",
    "e calcolandone il logaritmo \n",
    "$$\n",
    "\\log h\\left(t_p, T_r\\right) = \\log a\\left(T_r\\right) + n\\,\\log t_p\n",
    "$$"
   ]
  },
  {
   "cell_type": "markdown",
   "metadata": {},
   "source": [
    "Per approssimare al meglio i valori di __a__ e **n**, viene usata la funzione `np.polyfit` che applica il _metodo dei minimi quadrati_ a un polinomio.  \n",
    "In particolare riceve in input le coordinate $\\left(x_i, y_i\\right)$ del i-esimo punto e il grado del polinomio:\n",
    "$$\n",
    "np.polyfit\\,(x, y, deg, \\dots)\n",
    "$$\n",
    "e ritorna i coefficienti del polinomio.\n",
    "\n",
    "In questo caso, i valori $x_i$ si identificano con il logaritmo dell'indice del DataFrame __pts__ ($\\log 15$, $\\log 30$, $\\log 45$), mentre $y_i$ è il logaritmo dei valori $h$ relativi al tempo di ritorno considerato."
   ]
  },
  {
   "cell_type": "code",
   "execution_count": 12,
   "metadata": {},
   "outputs": [
    {
     "data": {
      "text/plain": [
       "array([0.3227668 , 8.87966537])"
      ]
     },
     "execution_count": 12,
     "metadata": {},
     "output_type": "execute_result"
    }
   ],
   "source": [
    "in10=np.polyfit(np.log(pts[10].index),np.log(pts[10]),1)\n",
    "in10[1]=np.exp(in10[1])\n",
    "in10"
   ]
  },
  {
   "cell_type": "code",
   "execution_count": 13,
   "metadata": {},
   "outputs": [
    {
     "data": {
      "text/plain": [
       "array([ 0.31494104, 10.39658743])"
      ]
     },
     "execution_count": 13,
     "metadata": {},
     "output_type": "execute_result"
    }
   ],
   "source": [
    "in20=np.polyfit(np.log(pts[20].index),np.log(pts[20]),1)\n",
    "in20[1]=np.exp(in20[1])\n",
    "in20"
   ]
  },
  {
   "cell_type": "code",
   "execution_count": 14,
   "metadata": {},
   "outputs": [
    {
     "data": {
      "text/plain": [
       "array([ 0.30278453, 13.84963118])"
      ]
     },
     "execution_count": 14,
     "metadata": {},
     "output_type": "execute_result"
    }
   ],
   "source": [
    "in100=np.polyfit(np.log(pts[100].index),np.log(pts[100]),1)\n",
    "in100[1]=np.exp(in100[1])\n",
    "in100"
   ]
  },
  {
   "cell_type": "markdown",
   "metadata": {},
   "source": [
    "Si crea un DataFrame contenente i valori appena calcolati, corrispondenti ad __a__ e **n**"
   ]
  },
  {
   "cell_type": "code",
   "execution_count": 15,
   "metadata": {},
   "outputs": [
    {
     "data": {
      "text/html": [
       "<div>\n",
       "<style scoped>\n",
       "    .dataframe tbody tr th:only-of-type {\n",
       "        vertical-align: middle;\n",
       "    }\n",
       "\n",
       "    .dataframe tbody tr th {\n",
       "        vertical-align: top;\n",
       "    }\n",
       "\n",
       "    .dataframe thead th {\n",
       "        text-align: right;\n",
       "    }\n",
       "</style>\n",
       "<table border=\"1\" class=\"dataframe\">\n",
       "  <thead>\n",
       "    <tr style=\"text-align: right;\">\n",
       "      <th></th>\n",
       "      <th>n</th>\n",
       "      <th>a</th>\n",
       "    </tr>\n",
       "  </thead>\n",
       "  <tbody>\n",
       "    <tr>\n",
       "      <th>10</th>\n",
       "      <td>0.322767</td>\n",
       "      <td>8.879665</td>\n",
       "    </tr>\n",
       "    <tr>\n",
       "      <th>20</th>\n",
       "      <td>0.314941</td>\n",
       "      <td>10.396587</td>\n",
       "    </tr>\n",
       "    <tr>\n",
       "      <th>100</th>\n",
       "      <td>0.302785</td>\n",
       "      <td>13.849631</td>\n",
       "    </tr>\n",
       "  </tbody>\n",
       "</table>\n",
       "</div>"
      ],
      "text/plain": [
       "            n          a\n",
       "10   0.322767   8.879665\n",
       "20   0.314941  10.396587\n",
       "100  0.302785  13.849631"
      ]
     },
     "execution_count": 15,
     "metadata": {},
     "output_type": "execute_result"
    }
   ],
   "source": [
    "fnl=DataFrame([in10,in20,in100],index=[10,20,100],columns=[\"n\",\"a\"])\n",
    "fnl"
   ]
  },
  {
   "cell_type": "code",
   "execution_count": 16,
   "metadata": {},
   "outputs": [],
   "source": [
    "fnl.to_pickle('an_scrosci')"
   ]
  },
  {
   "cell_type": "code",
   "execution_count": 14,
   "metadata": {},
   "outputs": [],
   "source": [
    "tp=np.linspace(.7,50,100)"
   ]
  },
  {
   "cell_type": "markdown",
   "metadata": {},
   "source": [
    "Viene definita la funzione\n",
    "$$\n",
    "h(t_p, T_r) = a\\,\\left(T_r\\right)\\,t_p^n\n",
    "$$ \n",
    "\n",
    "come"
   ]
  },
  {
   "cell_type": "code",
   "execution_count": 15,
   "metadata": {},
   "outputs": [],
   "source": [
    "def h(tp,a,n):\n",
    "    return a*tp**n"
   ]
  },
  {
   "cell_type": "markdown",
   "metadata": {},
   "source": [
    "da cui si calcolano i valori di $h$ per ogni tempo di ritorno"
   ]
  },
  {
   "cell_type": "code",
   "execution_count": 16,
   "metadata": {},
   "outputs": [],
   "source": [
    "h10=h(tp,fnl[\"a\"][10],fnl[\"n\"][10])\n",
    "h20=h(tp,fnl[\"a\"][20],fnl[\"n\"][20])\n",
    "h100=h(tp,fnl[\"a\"][100],fnl[\"n\"][100])"
   ]
  },
  {
   "cell_type": "markdown",
   "metadata": {},
   "source": [
    "che vengono inseriti nel DataFrame __inh__."
   ]
  },
  {
   "cell_type": "code",
   "execution_count": 17,
   "metadata": {},
   "outputs": [
    {
     "data": {
      "text/html": [
       "<div>\n",
       "<style scoped>\n",
       "    .dataframe tbody tr th:only-of-type {\n",
       "        vertical-align: middle;\n",
       "    }\n",
       "\n",
       "    .dataframe tbody tr th {\n",
       "        vertical-align: top;\n",
       "    }\n",
       "\n",
       "    .dataframe thead th {\n",
       "        text-align: right;\n",
       "    }\n",
       "</style>\n",
       "<table border=\"1\" class=\"dataframe\">\n",
       "  <thead>\n",
       "    <tr style=\"text-align: right;\">\n",
       "      <th></th>\n",
       "      <th>Tr = 10y</th>\n",
       "      <th>Tr = 20y</th>\n",
       "      <th>Tr = 100y</th>\n",
       "    </tr>\n",
       "  </thead>\n",
       "  <tbody>\n",
       "    <tr>\n",
       "      <th>0.700000</th>\n",
       "      <td>7.914061</td>\n",
       "      <td>9.291928</td>\n",
       "      <td>12.431865</td>\n",
       "    </tr>\n",
       "    <tr>\n",
       "      <th>1.197980</th>\n",
       "      <td>9.412771</td>\n",
       "      <td>11.005196</td>\n",
       "      <td>14.628221</td>\n",
       "    </tr>\n",
       "    <tr>\n",
       "      <th>1.695960</th>\n",
       "      <td>10.530386</td>\n",
       "      <td>12.278439</td>\n",
       "      <td>16.251808</td>\n",
       "    </tr>\n",
       "    <tr>\n",
       "      <th>2.193939</th>\n",
       "      <td>11.442807</td>\n",
       "      <td>13.315468</td>\n",
       "      <td>17.569352</td>\n",
       "    </tr>\n",
       "    <tr>\n",
       "      <th>2.691919</th>\n",
       "      <td>12.223803</td>\n",
       "      <td>14.201525</td>\n",
       "      <td>18.691938</td>\n",
       "    </tr>\n",
       "    <tr>\n",
       "      <th>...</th>\n",
       "      <td>...</td>\n",
       "      <td>...</td>\n",
       "      <td>...</td>\n",
       "    </tr>\n",
       "    <tr>\n",
       "      <th>48.008081</th>\n",
       "      <td>30.979118</td>\n",
       "      <td>35.188900</td>\n",
       "      <td>44.721275</td>\n",
       "    </tr>\n",
       "    <tr>\n",
       "      <th>48.506061</th>\n",
       "      <td>31.082474</td>\n",
       "      <td>35.303450</td>\n",
       "      <td>44.861228</td>\n",
       "    </tr>\n",
       "    <tr>\n",
       "      <th>49.004040</th>\n",
       "      <td>31.185114</td>\n",
       "      <td>35.417197</td>\n",
       "      <td>45.000182</td>\n",
       "    </tr>\n",
       "    <tr>\n",
       "      <th>49.502020</th>\n",
       "      <td>31.287050</td>\n",
       "      <td>35.530156</td>\n",
       "      <td>45.138156</td>\n",
       "    </tr>\n",
       "    <tr>\n",
       "      <th>50.000000</th>\n",
       "      <td>31.388294</td>\n",
       "      <td>35.642338</td>\n",
       "      <td>45.275165</td>\n",
       "    </tr>\n",
       "  </tbody>\n",
       "</table>\n",
       "<p>100 rows × 3 columns</p>\n",
       "</div>"
      ],
      "text/plain": [
       "            Tr = 10y   Tr = 20y  Tr = 100y\n",
       "0.700000    7.914061   9.291928  12.431865\n",
       "1.197980    9.412771  11.005196  14.628221\n",
       "1.695960   10.530386  12.278439  16.251808\n",
       "2.193939   11.442807  13.315468  17.569352\n",
       "2.691919   12.223803  14.201525  18.691938\n",
       "...              ...        ...        ...\n",
       "48.008081  30.979118  35.188900  44.721275\n",
       "48.506061  31.082474  35.303450  44.861228\n",
       "49.004040  31.185114  35.417197  45.000182\n",
       "49.502020  31.287050  35.530156  45.138156\n",
       "50.000000  31.388294  35.642338  45.275165\n",
       "\n",
       "[100 rows x 3 columns]"
      ]
     },
     "execution_count": 17,
     "metadata": {},
     "output_type": "execute_result"
    }
   ],
   "source": [
    "inh=DataFrame([h10,h20,h100],index=[\"Tr = 10y\",\"Tr = 20y\",\"Tr = 100y\"],\n",
    "              columns=tp).T\n",
    "inh"
   ]
  },
  {
   "cell_type": "markdown",
   "metadata": {},
   "source": [
    "#### Plot\n",
    "\n",
    "È possibile plottare il DataFrame __inh__."
   ]
  },
  {
   "cell_type": "code",
   "execution_count": 18,
   "metadata": {},
   "outputs": [
    {
     "data": {
      "image/png": "[encoded data removed]",
      "text/plain": [
       "<Figure size 432x288 with 1 Axes>"
      ]
     },
     "metadata": {
      "needs_background": "light"
     },
     "output_type": "display_data"
    }
   ],
   "source": [
    "plt.rc('text', usetex=True)\n",
    "plt.rc('font', family = 'serif')\n",
    "plt.rc('xtick', labelsize = 15)\n",
    "plt.rc('ytick', labelsize = 15)\n",
    "\n",
    "#----------------------------------------------------------------------\n",
    "ag = inh.plot()\n",
    "\n",
    "#-----------------------------------------------------------------\n",
    "ag = plt.plot(pts[10],\"o\",color=\"blue\")\n",
    "ag = plt.plot(pts[20],\"o\",color=\"orange\")\n",
    "ag = plt.plot(pts[100],\"o\",color=\"green\")\n",
    "\n",
    "#----------------------------------------------------------------\n",
    "plt.ylim([5, 50])\n",
    "\n",
    "#----------------------label-------------------------------------------\n",
    "plt.xlabel('Duration ' r'$\\left(t_p\\right)$ [min]', fontsize = 14)\n",
    "plt.ylabel('Rainfall height 'r'$\\left(h\\right)$ [mm]', fontsize = 14)\n",
    "plt.title('Lspp fitted\\nLinear plot', fontsize = 15)\n",
    "plt.legend([r'$T_r = 10y$', r'$T_r = 20y$', r'$T_r = 100y$'], loc = 0,  fontsize = 12)\n",
    "\n",
    "#----------------------------------------------------------------------\n",
    "plt.show()"
   ]
  },
  {
   "cell_type": "code",
   "execution_count": 19,
   "metadata": {},
   "outputs": [
    {
     "data": {
      "image/png": "[encoded data removed]",
      "text/plain": [
       "<Figure size 432x288 with 1 Axes>"
      ]
     },
     "metadata": {
      "needs_background": "light"
     },
     "output_type": "display_data"
    }
   ],
   "source": [
    "plt.rc('text', usetex=True)\n",
    "plt.rc('font', family = 'serif')\n",
    "plt.rc('xtick', labelsize = 15)\n",
    "plt.rc('ytick', labelsize = 15)\n",
    "\n",
    "#-----------------------------------------------------------------\n",
    "ag = inh.plot()\n",
    "\n",
    "#-----------------------------------------------------------------\n",
    "ag.set_xscale('log')\n",
    "ag.set_yscale('log')\n",
    "plt.xlim([10, 50])\n",
    "plt.ylim([10, 50])\n",
    "\n",
    "#-----------------------------------------------------------------\n",
    "ag = plt.plot(pts[10],\"o\",color=\"blue\")\n",
    "ag = plt.plot(pts[20],\"o\",color=\"orange\")\n",
    "ag = plt.plot(pts[100],\"o\",color=\"green\")\n",
    "\n",
    "#--------------------label-----------------------------------------\n",
    "plt.xlabel('Duration ' r'$\\left(t_p\\right)$ [min]', fontsize = 14)\n",
    "plt.ylabel('Rainfall height 'r'$\\left(h\\right)$ [mm]', fontsize = 14)\n",
    "plt.title('Lspp fitted\\nBi-logarithmic plot', fontsize = 15)\n",
    "plt.legend([r'$T_r = 10y$', r'$T_r = 20y$', r'$T_r = 100y$'], loc = 4,  fontsize = 12)\n",
    "\n",
    "#------------------------------------------------------------------\n",
    "plt.show()"
   ]
  },
  {
   "cell_type": "markdown",
   "metadata": {},
   "source": [
    "---"
   ]
  },
  {
   "cell_type": "markdown",
   "metadata": {},
   "source": [
    "## Precipitazioni"
   ]
  },
  {
   "cell_type": "markdown",
   "metadata": {},
   "source": [
    "Il medesimo procedimento viene eseguito per le precipitazioni di 1h, 3h, 6h, 12h e 24h."
   ]
  },
  {
   "cell_type": "code",
   "execution_count": 20,
   "metadata": {},
   "outputs": [
    {
     "data": {
      "text/html": [
       "<div>\n",
       "<style scoped>\n",
       "    .dataframe tbody tr th:only-of-type {\n",
       "        vertical-align: middle;\n",
       "    }\n",
       "\n",
       "    .dataframe tbody tr th {\n",
       "        vertical-align: top;\n",
       "    }\n",
       "\n",
       "    .dataframe thead th {\n",
       "        text-align: right;\n",
       "    }\n",
       "</style>\n",
       "<table border=\"1\" class=\"dataframe\">\n",
       "  <thead>\n",
       "    <tr style=\"text-align: right;\">\n",
       "      <th></th>\n",
       "      <th>10</th>\n",
       "      <th>20</th>\n",
       "      <th>100</th>\n",
       "    </tr>\n",
       "  </thead>\n",
       "  <tbody>\n",
       "    <tr>\n",
       "      <th>1</th>\n",
       "      <td>34.841184</td>\n",
       "      <td>39.563586</td>\n",
       "      <td>50.256835</td>\n",
       "    </tr>\n",
       "    <tr>\n",
       "      <th>3</th>\n",
       "      <td>50.865991</td>\n",
       "      <td>57.526841</td>\n",
       "      <td>72.609443</td>\n",
       "    </tr>\n",
       "    <tr>\n",
       "      <th>6</th>\n",
       "      <td>69.909609</td>\n",
       "      <td>79.396527</td>\n",
       "      <td>100.878382</td>\n",
       "    </tr>\n",
       "    <tr>\n",
       "      <th>12</th>\n",
       "      <td>104.356186</td>\n",
       "      <td>119.530345</td>\n",
       "      <td>153.890198</td>\n",
       "    </tr>\n",
       "    <tr>\n",
       "      <th>24</th>\n",
       "      <td>131.897226</td>\n",
       "      <td>149.636147</td>\n",
       "      <td>189.803561</td>\n",
       "    </tr>\n",
       "  </tbody>\n",
       "</table>\n",
       "</div>"
      ],
      "text/plain": [
       "           10          20          100\n",
       "1    34.841184   39.563586   50.256835\n",
       "3    50.865991   57.526841   72.609443\n",
       "6    69.909609   79.396527  100.878382\n",
       "12  104.356186  119.530345  153.890198\n",
       "24  131.897226  149.636147  189.803561"
      ]
     },
     "execution_count": 20,
     "metadata": {},
     "output_type": "execute_result"
    }
   ],
   "source": [
    "Tr=10\n",
    "q10=1-1/Tr\n",
    "q20=1-1/20\n",
    "q100=1-1/100\n",
    "\n",
    "def qtls(df,qu):\n",
    "    rv1h=gumbel_r(loc=df[\"a\"],scale=df[\"b\"])\n",
    "    return rv1h.ppf(qu)\n",
    "\n",
    "pts=DataFrame([[\n",
    "           qtls(best[\"1h\"],q10),\n",
    "           qtls(best[\"3h\"],q10),\n",
    "           qtls(best[\"6h\"],q10),\n",
    "           qtls(best[\"12h\"],q10),\n",
    "           qtls(best[\"24h\"],q10)],\n",
    "          [qtls(best[\"1h\"],q20),\n",
    "           qtls(best[\"3h\"],q20),\n",
    "           qtls(best[\"6h\"],q20),\n",
    "           qtls(best[\"12h\"],q20),\n",
    "           qtls(best[\"24h\"],q20)],\n",
    "          [qtls(best[\"1h\"],q100),\n",
    "           qtls(best[\"3h\"],q100),\n",
    "           qtls(best[\"6h\"],q100),\n",
    "           qtls(best[\"12h\"],q100),\n",
    "           qtls(best[\"24h\"],q100)]], \n",
    "              index=[10, 20, 100],columns=[1, 3, 6, 12, 24]).T\n",
    "pts"
   ]
  },
  {
   "cell_type": "markdown",
   "metadata": {},
   "source": [
    "### Plot"
   ]
  },
  {
   "cell_type": "code",
   "execution_count": 21,
   "metadata": {},
   "outputs": [
    {
     "data": {
      "image/png": "[encoded data removed]",
      "text/plain": [
       "<Figure size 432x288 with 1 Axes>"
      ]
     },
     "metadata": {
      "needs_background": "light"
     },
     "output_type": "display_data"
    }
   ],
   "source": [
    "plt.rc('text', usetex=True)\n",
    "plt.rc('font', family = 'serif')\n",
    "plt.rc('xtick', labelsize = 15)\n",
    "plt.rc('ytick', labelsize = 15)\n",
    "\n",
    "#----------------------------------------------\n",
    "ag = pts.plot(style = \"o-\")\n",
    "\n",
    "#---------------label--------------------------\n",
    "plt.xlabel('Duration 'r'$\\left(t_p\\right)$ [h]', fontsize = 14)\n",
    "plt.ylabel('Rainfall height 'r'$\\left(h\\right)$ [mm]', fontsize = 14)\n",
    "plt.title('Lspp\\nLinear plot', fontsize = 15)\n",
    "plt.legend([r'$T_r = 10y$', r'$T_r = 20y$', r'$T_r = 100y$'], loc = 0,  fontsize = 12)\n",
    "\n",
    "#----------------------------------------------\n",
    "plt.show()"
   ]
  },
  {
   "cell_type": "code",
   "execution_count": 22,
   "metadata": {},
   "outputs": [
    {
     "data": {
      "image/png": "[encoded data removed]",
      "text/plain": [
       "<Figure size 432x288 with 1 Axes>"
      ]
     },
     "metadata": {
      "needs_background": "light"
     },
     "output_type": "display_data"
    }
   ],
   "source": [
    "plt.rc('text', usetex=True)\n",
    "plt.rc('font', family = 'serif')\n",
    "plt.rc('xtick', labelsize = 15)\n",
    "plt.rc('ytick', labelsize = 15)\n",
    "\n",
    "#------------------------------------------------------------------\n",
    "ag = pts.plot(style = \"o-\")\n",
    "ag.set_yscale('log')\n",
    "ag.set_xscale('log')\n",
    "\n",
    "#--------------------label-----------------------------------------\n",
    "plt.xlabel('Duration 'r'$\\left(t_p\\right)$ [h]', fontsize = 14)\n",
    "plt.ylabel('Rainfall height 'r'$\\left(h\\right)$ [mm]', fontsize = 14)\n",
    "plt.title('Lspp\\nBi-logarithmic plot', fontsize = 15)\n",
    "plt.legend([r'$T_r = 10y$', r'$T_r = 20y$', r'$T_r = 100y$'], loc = 0,  fontsize = 12)\n",
    "plt.xlim([0.9, 30])\n",
    "\n",
    "\n",
    "#------------------------------------------------------------------\n",
    "plt.show()"
   ]
  },
  {
   "cell_type": "markdown",
   "metadata": {},
   "source": [
    "### \"Fitting\" curve\n",
    "\n",
    "$$h(t_p, T_r) = a\\,\\left(T_r\\right)\\,t_p^n$$  \n",
    "$$ \\log h\\left(t_p, T_r\\right) = \\log a\\left(T_r\\right) + n\\,\\log t_p$$"
   ]
  },
  {
   "cell_type": "code",
   "execution_count": 23,
   "metadata": {},
   "outputs": [
    {
     "data": {
      "text/plain": [
       "array([ 0.43358752, 33.43765041])"
      ]
     },
     "execution_count": 23,
     "metadata": {},
     "output_type": "execute_result"
    }
   ],
   "source": [
    "in10=np.polyfit(np.log(pts[10].index),np.log(pts[10]),1)\n",
    "in10[1]=np.exp(in10[1])\n",
    "in10"
   ]
  },
  {
   "cell_type": "code",
   "execution_count": 24,
   "metadata": {},
   "outputs": [
    {
     "data": {
      "text/plain": [
       "array([ 0.43487985, 37.914897  ])"
      ]
     },
     "execution_count": 24,
     "metadata": {},
     "output_type": "execute_result"
    }
   ],
   "source": [
    "in20=np.polyfit(np.log(pts[20].index),np.log(pts[20]),1)\n",
    "in20[1]=np.exp(in20[1])\n",
    "in20"
   ]
  },
  {
   "cell_type": "code",
   "execution_count": 25,
   "metadata": {},
   "outputs": [
    {
     "data": {
      "text/plain": [
       "array([ 0.43689245, 48.05278   ])"
      ]
     },
     "execution_count": 25,
     "metadata": {},
     "output_type": "execute_result"
    }
   ],
   "source": [
    "in100=np.polyfit(np.log(pts[100].index),np.log(pts[100]),1)\n",
    "in100[1]=np.exp(in100[1])\n",
    "in100"
   ]
  },
  {
   "cell_type": "code",
   "execution_count": 26,
   "metadata": {},
   "outputs": [
    {
     "data": {
      "text/html": [
       "<div>\n",
       "<style scoped>\n",
       "    .dataframe tbody tr th:only-of-type {\n",
       "        vertical-align: middle;\n",
       "    }\n",
       "\n",
       "    .dataframe tbody tr th {\n",
       "        vertical-align: top;\n",
       "    }\n",
       "\n",
       "    .dataframe thead th {\n",
       "        text-align: right;\n",
       "    }\n",
       "</style>\n",
       "<table border=\"1\" class=\"dataframe\">\n",
       "  <thead>\n",
       "    <tr style=\"text-align: right;\">\n",
       "      <th></th>\n",
       "      <th>n</th>\n",
       "      <th>a</th>\n",
       "    </tr>\n",
       "  </thead>\n",
       "  <tbody>\n",
       "    <tr>\n",
       "      <th>10</th>\n",
       "      <td>0.433588</td>\n",
       "      <td>33.437650</td>\n",
       "    </tr>\n",
       "    <tr>\n",
       "      <th>20</th>\n",
       "      <td>0.434880</td>\n",
       "      <td>37.914897</td>\n",
       "    </tr>\n",
       "    <tr>\n",
       "      <th>100</th>\n",
       "      <td>0.436892</td>\n",
       "      <td>48.052780</td>\n",
       "    </tr>\n",
       "  </tbody>\n",
       "</table>\n",
       "</div>"
      ],
      "text/plain": [
       "            n          a\n",
       "10   0.433588  33.437650\n",
       "20   0.434880  37.914897\n",
       "100  0.436892  48.052780"
      ]
     },
     "execution_count": 26,
     "metadata": {},
     "output_type": "execute_result"
    }
   ],
   "source": [
    "fnl=DataFrame([in10,in20,in100],index=[10,20,100],columns=[\"n\",\"a\"])\n",
    "fnl"
   ]
  },
  {
   "cell_type": "code",
   "execution_count": 27,
   "metadata": {},
   "outputs": [],
   "source": [
    "tp = np.linspace(.7, 30, 100)"
   ]
  },
  {
   "cell_type": "code",
   "execution_count": 28,
   "metadata": {},
   "outputs": [],
   "source": [
    "def h(tp, a, n):\n",
    "    return a*tp**n"
   ]
  },
  {
   "cell_type": "code",
   "execution_count": 29,
   "metadata": {},
   "outputs": [],
   "source": [
    "h10 = h(tp, fnl['a'][10], fnl['n'][10])\n",
    "h20 = h(tp, fnl['a'][20], fnl['n'][20])\n",
    "h100 = h(tp, fnl['a'][100], fnl['n'][100])"
   ]
  },
  {
   "cell_type": "code",
   "execution_count": 30,
   "metadata": {},
   "outputs": [
    {
     "data": {
      "text/html": [
       "<div>\n",
       "<style scoped>\n",
       "    .dataframe tbody tr th:only-of-type {\n",
       "        vertical-align: middle;\n",
       "    }\n",
       "\n",
       "    .dataframe tbody tr th {\n",
       "        vertical-align: top;\n",
       "    }\n",
       "\n",
       "    .dataframe thead th {\n",
       "        text-align: right;\n",
       "    }\n",
       "</style>\n",
       "<table border=\"1\" class=\"dataframe\">\n",
       "  <thead>\n",
       "    <tr style=\"text-align: right;\">\n",
       "      <th></th>\n",
       "      <th>Tr = 10</th>\n",
       "      <th>Tr = 20</th>\n",
       "      <th>Tr = 100</th>\n",
       "    </tr>\n",
       "  </thead>\n",
       "  <tbody>\n",
       "    <tr>\n",
       "      <th>0.700000</th>\n",
       "      <td>28.646541</td>\n",
       "      <td>32.467297</td>\n",
       "      <td>41.119045</td>\n",
       "    </tr>\n",
       "    <tr>\n",
       "      <th>0.995960</th>\n",
       "      <td>33.379005</td>\n",
       "      <td>37.848201</td>\n",
       "      <td>47.967859</td>\n",
       "    </tr>\n",
       "    <tr>\n",
       "      <th>1.291919</th>\n",
       "      <td>37.365088</td>\n",
       "      <td>42.382239</td>\n",
       "      <td>53.742319</td>\n",
       "    </tr>\n",
       "    <tr>\n",
       "      <th>1.587879</th>\n",
       "      <td>40.860874</td>\n",
       "      <td>46.359773</td>\n",
       "      <td>58.810395</td>\n",
       "    </tr>\n",
       "    <tr>\n",
       "      <th>1.883838</th>\n",
       "      <td>44.003908</td>\n",
       "      <td>49.936813</td>\n",
       "      <td>63.369898</td>\n",
       "    </tr>\n",
       "    <tr>\n",
       "      <th>...</th>\n",
       "      <td>...</td>\n",
       "      <td>...</td>\n",
       "      <td>...</td>\n",
       "    </tr>\n",
       "    <tr>\n",
       "      <th>28.816162</th>\n",
       "      <td>143.587212</td>\n",
       "      <td>163.522015</td>\n",
       "      <td>208.651984</td>\n",
       "    </tr>\n",
       "    <tr>\n",
       "      <th>29.112121</th>\n",
       "      <td>144.224786</td>\n",
       "      <td>164.250274</td>\n",
       "      <td>209.585544</td>\n",
       "    </tr>\n",
       "    <tr>\n",
       "      <th>29.408081</th>\n",
       "      <td>144.858699</td>\n",
       "      <td>164.974362</td>\n",
       "      <td>210.513775</td>\n",
       "    </tr>\n",
       "    <tr>\n",
       "      <th>29.704040</th>\n",
       "      <td>145.489009</td>\n",
       "      <td>165.694344</td>\n",
       "      <td>211.436760</td>\n",
       "    </tr>\n",
       "    <tr>\n",
       "      <th>30.000000</th>\n",
       "      <td>146.115771</td>\n",
       "      <td>166.410282</td>\n",
       "      <td>212.354582</td>\n",
       "    </tr>\n",
       "  </tbody>\n",
       "</table>\n",
       "<p>100 rows × 3 columns</p>\n",
       "</div>"
      ],
      "text/plain": [
       "              Tr = 10     Tr = 20    Tr = 100\n",
       "0.700000    28.646541   32.467297   41.119045\n",
       "0.995960    33.379005   37.848201   47.967859\n",
       "1.291919    37.365088   42.382239   53.742319\n",
       "1.587879    40.860874   46.359773   58.810395\n",
       "1.883838    44.003908   49.936813   63.369898\n",
       "...               ...         ...         ...\n",
       "28.816162  143.587212  163.522015  208.651984\n",
       "29.112121  144.224786  164.250274  209.585544\n",
       "29.408081  144.858699  164.974362  210.513775\n",
       "29.704040  145.489009  165.694344  211.436760\n",
       "30.000000  146.115771  166.410282  212.354582\n",
       "\n",
       "[100 rows x 3 columns]"
      ]
     },
     "execution_count": 30,
     "metadata": {},
     "output_type": "execute_result"
    }
   ],
   "source": [
    "inh = pd.DataFrame([\n",
    "    h10,\n",
    "    h20,\n",
    "    h100\n",
    "], index=[\"Tr = 10\",\"Tr = 20\",\"Tr = 100\"], columns=tp).T\n",
    "inh"
   ]
  },
  {
   "cell_type": "markdown",
   "metadata": {},
   "source": [
    "#### Plot"
   ]
  },
  {
   "cell_type": "code",
   "execution_count": 31,
   "metadata": {},
   "outputs": [
    {
     "data": {
      "image/png": "[encoded data removed]",
      "text/plain": [
       "<Figure size 432x288 with 1 Axes>"
      ]
     },
     "metadata": {
      "needs_background": "light"
     },
     "output_type": "display_data"
    }
   ],
   "source": [
    "plt.rc('text', usetex=True)\n",
    "plt.rc('font', family = 'serif')\n",
    "plt.rc('xtick', labelsize = 15)\n",
    "plt.rc('ytick', labelsize = 15)\n",
    "\n",
    "#----------------------------------------------------------------------\n",
    "ag = inh.plot()\n",
    "\n",
    "#-----------------------------------------------------------------\n",
    "ag = plt.plot(pts[10],\"o\",color=\"blue\")\n",
    "ag = plt.plot(pts[20],\"o\",color=\"orange\")\n",
    "ag = plt.plot(pts[100],\"o\",color=\"green\")\n",
    "\n",
    "#----------------------------------------------------------------\n",
    "\n",
    "#----------------------label-------------------------------------------\n",
    "plt.xlabel('Duration 'r'$\\left(t_p\\right)$ [h]', fontsize = 14)\n",
    "plt.ylabel('Rainfall height 'r'$\\left(h\\right)$ [mm]', fontsize = 14)\n",
    "plt.title('Lspp fitted\\nLinear plot', fontsize = 15)\n",
    "plt.legend([r'$T_r = 10y$', r'$T_r = 20y$', r'$T_r = 100y$'], loc = 0,  fontsize = 12)\n",
    "\n",
    "#----------------------------------------------------------------------\n",
    "plt.show()"
   ]
  },
  {
   "cell_type": "code",
   "execution_count": 33,
   "metadata": {},
   "outputs": [
    {
     "data": {
      "image/png": "[encoded data removed]",
      "text/plain": [
       "<Figure size 432x288 with 1 Axes>"
      ]
     },
     "metadata": {
      "needs_background": "light"
     },
     "output_type": "display_data"
    }
   ],
   "source": [
    "plt.rc('text', usetex=True)\n",
    "plt.rc('font', family = 'serif')\n",
    "plt.rc('xtick', labelsize = 15)\n",
    "plt.rc('ytick', labelsize = 15)\n",
    "\n",
    "#-----------------------------------------------------------------\n",
    "ag = inh.plot()\n",
    "\n",
    "#-----------------------------------------------------------------\n",
    "ag.set_xscale('log')\n",
    "ag.set_yscale('log')\n",
    "\n",
    "#-----------------------------------------------------------------\n",
    "ag = plt.plot(pts[10],\"o\",color=\"blue\")\n",
    "ag = plt.plot(pts[20],\"o\",color=\"orange\")\n",
    "ag = plt.plot(pts[100],\"o\",color=\"green\")\n",
    "\n",
    "#--------------------label-----------------------------------------\n",
    "plt.xlabel('Duration 'r'$\\left(t_p\\right)$ [h]', fontsize = 14)\n",
    "plt.ylabel('Rainfall height 'r'$\\left(h\\right)$ [mm]', fontsize = 14)\n",
    "plt.title('Lspp fitted\\nBi-logarithmic plot', fontsize = 15)\n",
    "plt.legend([r'$T_r = 10y$', r'$T_r = 20y$', r'$T_r = 100y$'], loc = 4, fontsize = 12)\n",
    "\n",
    "#------------------------------------------------------------------\n",
    "plt.show()"
   ]
  }
 ],
 "metadata": {
  "kernelspec": {
   "display_name": "Python 3",
   "language": "python",
   "name": "python3"
  },
  "language_info": {
   "codemirror_mode": {
    "name": "ipython",
    "version": 3
   },
   "file_extension": ".py",
   "mimetype": "text/x-python",
   "name": "python",
   "nbconvert_exporter": "python",
   "pygments_lexer": "ipython3",
   "version": "3.7.1"
  }
 },
 "nbformat": 4,
 "nbformat_minor": 2
}
