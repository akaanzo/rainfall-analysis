{
 "cells": [
  {
   "cell_type": "markdown",
   "metadata": {},
   "source": [
    "# Metodo della Massima Verosimiglianza applicato ai dati di Centa San Nicolò"
   ]
  },
  {
   "cell_type": "markdown",
   "metadata": {},
   "source": [
    "Matteo Franzoi - Andrea Rebellato - 2019-03-23"
   ]
  },
  {
   "cell_type": "markdown",
   "metadata": {},
   "source": [
    "---"
   ]
  },
  {
   "cell_type": "markdown",
   "metadata": {},
   "source": [
    "Primo passo è importare le librerie"
   ]
  },
  {
   "cell_type": "code",
   "execution_count": 26,
   "metadata": {},
   "outputs": [],
   "source": [
    "import os\n",
    "from pandas import *\n",
    "import pandas as pd\n",
    "from numpy import *\n",
    "import numpy as np\n",
    "import scipy\n",
    "import matplotlib.pyplot as plt\n",
    "%matplotlib inline\n",
    "import math\n",
    "from datetime import datetime\n",
    "from scipy.stats import genextreme, gumbel_r\n",
    "from numpy import linspace\n",
    "from statsmodels.distributions.empirical_distribution import ECDF"
   ]
  },
  {
   "cell_type": "code",
   "execution_count": 27,
   "metadata": {},
   "outputs": [
    {
     "data": {
      "text/plain": [
       "'/media/data/jupyter/esercitazione'"
      ]
     },
     "execution_count": 27,
     "metadata": {},
     "output_type": "execute_result"
    }
   ],
   "source": [
    "os.getcwd()"
   ]
  },
  {
   "cell_type": "code",
   "execution_count": 28,
   "metadata": {},
   "outputs": [
    {
     "data": {
      "text/plain": [
       "['.ipynb_checkpoints',\n",
       " 'abs_ls',\n",
       " 'abs_m',\n",
       " 'abs_mle',\n",
       " 'best_parameters',\n",
       " 'lsCenta.ipynb',\n",
       " 'lsppCenta.ipynb',\n",
       " 'massimePrecipitazioniCenta.csv',\n",
       " 'mleCenta.ipynb',\n",
       " 'momentiCenta.ipynb',\n",
       " 'pearsonCenta.ipynb']"
      ]
     },
     "execution_count": 28,
     "metadata": {},
     "output_type": "execute_result"
    }
   ],
   "source": [
    "os.listdir()"
   ]
  },
  {
   "cell_type": "markdown",
   "metadata": {},
   "source": [
    "['.ipynb_checkpoints',  \n",
    " 'abs_ls',  \n",
    " 'abs_m',  \n",
    " 'abs_mle',  \n",
    " 'best_parameters',  \n",
    " 'lsCenta.ipynb',  \n",
    " 'lsppCenta.ipynb',  \n",
    " '**massimePrecipitazioniCenta.csv**',  \n",
    " 'mleCenta.ipynb',  \n",
    " 'momentiCenta.ipynb',  \n",
    " 'pearsonCenta.ipynb']"
   ]
  },
  {
   "cell_type": "markdown",
   "metadata": {},
   "source": [
    "e importare il ffile _csv_ dei dati"
   ]
  },
  {
   "cell_type": "code",
   "execution_count": 29,
   "metadata": {},
   "outputs": [
    {
     "data": {
      "text/html": [
       "<div>\n",
       "<style scoped>\n",
       "    .dataframe tbody tr th:only-of-type {\n",
       "        vertical-align: middle;\n",
       "    }\n",
       "\n",
       "    .dataframe tbody tr th {\n",
       "        vertical-align: top;\n",
       "    }\n",
       "\n",
       "    .dataframe thead th {\n",
       "        text-align: right;\n",
       "    }\n",
       "</style>\n",
       "<table border=\"1\" class=\"dataframe\">\n",
       "  <thead>\n",
       "    <tr style=\"text-align: right;\">\n",
       "      <th></th>\n",
       "      <th>15min</th>\n",
       "      <th>30min</th>\n",
       "      <th>45min</th>\n",
       "      <th>1h</th>\n",
       "      <th>3h</th>\n",
       "      <th>6h</th>\n",
       "      <th>12h</th>\n",
       "      <th>24h</th>\n",
       "    </tr>\n",
       "    <tr>\n",
       "      <th>anno</th>\n",
       "      <th></th>\n",
       "      <th></th>\n",
       "      <th></th>\n",
       "      <th></th>\n",
       "      <th></th>\n",
       "      <th></th>\n",
       "      <th></th>\n",
       "      <th></th>\n",
       "    </tr>\n",
       "  </thead>\n",
       "  <tbody>\n",
       "    <tr>\n",
       "      <th>1934</th>\n",
       "      <td>NaN</td>\n",
       "      <td>NaN</td>\n",
       "      <td>NaN</td>\n",
       "      <td>22.6</td>\n",
       "      <td>42.0</td>\n",
       "      <td>56.6</td>\n",
       "      <td>58.8</td>\n",
       "      <td>85.0</td>\n",
       "    </tr>\n",
       "    <tr>\n",
       "      <th>1935</th>\n",
       "      <td>NaN</td>\n",
       "      <td>NaN</td>\n",
       "      <td>NaN</td>\n",
       "      <td>17.8</td>\n",
       "      <td>32.6</td>\n",
       "      <td>54.2</td>\n",
       "      <td>63.6</td>\n",
       "      <td>88.0</td>\n",
       "    </tr>\n",
       "    <tr>\n",
       "      <th>1936</th>\n",
       "      <td>NaN</td>\n",
       "      <td>NaN</td>\n",
       "      <td>NaN</td>\n",
       "      <td>15.8</td>\n",
       "      <td>28.0</td>\n",
       "      <td>41.4</td>\n",
       "      <td>72.0</td>\n",
       "      <td>85.2</td>\n",
       "    </tr>\n",
       "    <tr>\n",
       "      <th>1937</th>\n",
       "      <td>NaN</td>\n",
       "      <td>NaN</td>\n",
       "      <td>NaN</td>\n",
       "      <td>27.8</td>\n",
       "      <td>35.6</td>\n",
       "      <td>38.2</td>\n",
       "      <td>58.4</td>\n",
       "      <td>62.6</td>\n",
       "    </tr>\n",
       "    <tr>\n",
       "      <th>1938</th>\n",
       "      <td>NaN</td>\n",
       "      <td>NaN</td>\n",
       "      <td>NaN</td>\n",
       "      <td>15.0</td>\n",
       "      <td>21.4</td>\n",
       "      <td>32.0</td>\n",
       "      <td>56.0</td>\n",
       "      <td>83.0</td>\n",
       "    </tr>\n",
       "    <tr>\n",
       "      <th>1939</th>\n",
       "      <td>NaN</td>\n",
       "      <td>NaN</td>\n",
       "      <td>NaN</td>\n",
       "      <td>29.4</td>\n",
       "      <td>36.2</td>\n",
       "      <td>61.0</td>\n",
       "      <td>115.2</td>\n",
       "      <td>117.8</td>\n",
       "    </tr>\n",
       "    <tr>\n",
       "      <th>1940</th>\n",
       "      <td>NaN</td>\n",
       "      <td>NaN</td>\n",
       "      <td>NaN</td>\n",
       "      <td>28.8</td>\n",
       "      <td>67.0</td>\n",
       "      <td>94.0</td>\n",
       "      <td>119.0</td>\n",
       "      <td>135.2</td>\n",
       "    </tr>\n",
       "    <tr>\n",
       "      <th>1941</th>\n",
       "      <td>NaN</td>\n",
       "      <td>NaN</td>\n",
       "      <td>NaN</td>\n",
       "      <td>14.2</td>\n",
       "      <td>21.0</td>\n",
       "      <td>25.6</td>\n",
       "      <td>44.0</td>\n",
       "      <td>51.0</td>\n",
       "    </tr>\n",
       "    <tr>\n",
       "      <th>1942</th>\n",
       "      <td>NaN</td>\n",
       "      <td>NaN</td>\n",
       "      <td>NaN</td>\n",
       "      <td>27.0</td>\n",
       "      <td>42.0</td>\n",
       "      <td>66.2</td>\n",
       "      <td>82.6</td>\n",
       "      <td>85.6</td>\n",
       "    </tr>\n",
       "    <tr>\n",
       "      <th>1946</th>\n",
       "      <td>NaN</td>\n",
       "      <td>NaN</td>\n",
       "      <td>NaN</td>\n",
       "      <td>18.0</td>\n",
       "      <td>32.0</td>\n",
       "      <td>46.2</td>\n",
       "      <td>58.0</td>\n",
       "      <td>74.4</td>\n",
       "    </tr>\n",
       "    <tr>\n",
       "      <th>...</th>\n",
       "      <td>...</td>\n",
       "      <td>...</td>\n",
       "      <td>...</td>\n",
       "      <td>...</td>\n",
       "      <td>...</td>\n",
       "      <td>...</td>\n",
       "      <td>...</td>\n",
       "      <td>...</td>\n",
       "    </tr>\n",
       "    <tr>\n",
       "      <th>1991</th>\n",
       "      <td>NaN</td>\n",
       "      <td>16.0</td>\n",
       "      <td>18.6</td>\n",
       "      <td>18.6</td>\n",
       "      <td>24.0</td>\n",
       "      <td>45.5</td>\n",
       "      <td>75.8</td>\n",
       "      <td>105.6</td>\n",
       "    </tr>\n",
       "    <tr>\n",
       "      <th>1992</th>\n",
       "      <td>NaN</td>\n",
       "      <td>8.0</td>\n",
       "      <td>10.0</td>\n",
       "      <td>13.4</td>\n",
       "      <td>20.6</td>\n",
       "      <td>34.6</td>\n",
       "      <td>60.0</td>\n",
       "      <td>77.8</td>\n",
       "    </tr>\n",
       "    <tr>\n",
       "      <th>1997</th>\n",
       "      <td>8.8</td>\n",
       "      <td>10.4</td>\n",
       "      <td>12.8</td>\n",
       "      <td>13.8</td>\n",
       "      <td>23.8</td>\n",
       "      <td>37.6</td>\n",
       "      <td>61.4</td>\n",
       "      <td>70.6</td>\n",
       "    </tr>\n",
       "    <tr>\n",
       "      <th>1998</th>\n",
       "      <td>13.6</td>\n",
       "      <td>20.2</td>\n",
       "      <td>24.2</td>\n",
       "      <td>29.6</td>\n",
       "      <td>34.0</td>\n",
       "      <td>48.4</td>\n",
       "      <td>66.2</td>\n",
       "      <td>80.2</td>\n",
       "    </tr>\n",
       "    <tr>\n",
       "      <th>1999</th>\n",
       "      <td>21.0</td>\n",
       "      <td>26.6</td>\n",
       "      <td>29.0</td>\n",
       "      <td>36.4</td>\n",
       "      <td>69.2</td>\n",
       "      <td>70.8</td>\n",
       "      <td>119.4</td>\n",
       "      <td>134.6</td>\n",
       "    </tr>\n",
       "    <tr>\n",
       "      <th>2000</th>\n",
       "      <td>23.2</td>\n",
       "      <td>33.0</td>\n",
       "      <td>34.8</td>\n",
       "      <td>36.4</td>\n",
       "      <td>42.2</td>\n",
       "      <td>52.8</td>\n",
       "      <td>90.0</td>\n",
       "      <td>120.4</td>\n",
       "    </tr>\n",
       "    <tr>\n",
       "      <th>2003</th>\n",
       "      <td>16.2</td>\n",
       "      <td>27.0</td>\n",
       "      <td>34.8</td>\n",
       "      <td>37.4</td>\n",
       "      <td>38.8</td>\n",
       "      <td>62.8</td>\n",
       "      <td>101.0</td>\n",
       "      <td>121.6</td>\n",
       "    </tr>\n",
       "    <tr>\n",
       "      <th>2004</th>\n",
       "      <td>25.8</td>\n",
       "      <td>37.4</td>\n",
       "      <td>40.2</td>\n",
       "      <td>42.2</td>\n",
       "      <td>43.0</td>\n",
       "      <td>45.2</td>\n",
       "      <td>57.6</td>\n",
       "      <td>80.4</td>\n",
       "    </tr>\n",
       "    <tr>\n",
       "      <th>2005</th>\n",
       "      <td>11.4</td>\n",
       "      <td>15.6</td>\n",
       "      <td>17.0</td>\n",
       "      <td>18.4</td>\n",
       "      <td>27.2</td>\n",
       "      <td>35.2</td>\n",
       "      <td>43.8</td>\n",
       "      <td>44.6</td>\n",
       "    </tr>\n",
       "    <tr>\n",
       "      <th>2006</th>\n",
       "      <td>9.8</td>\n",
       "      <td>13.4</td>\n",
       "      <td>16.6</td>\n",
       "      <td>17.6</td>\n",
       "      <td>36.6</td>\n",
       "      <td>51.0</td>\n",
       "      <td>55.8</td>\n",
       "      <td>68.0</td>\n",
       "    </tr>\n",
       "  </tbody>\n",
       "</table>\n",
       "<p>57 rows × 8 columns</p>\n",
       "</div>"
      ],
      "text/plain": [
       "      15min  30min  45min    1h    3h    6h    12h    24h\n",
       "anno                                                     \n",
       "1934    NaN    NaN    NaN  22.6  42.0  56.6   58.8   85.0\n",
       "1935    NaN    NaN    NaN  17.8  32.6  54.2   63.6   88.0\n",
       "1936    NaN    NaN    NaN  15.8  28.0  41.4   72.0   85.2\n",
       "1937    NaN    NaN    NaN  27.8  35.6  38.2   58.4   62.6\n",
       "1938    NaN    NaN    NaN  15.0  21.4  32.0   56.0   83.0\n",
       "1939    NaN    NaN    NaN  29.4  36.2  61.0  115.2  117.8\n",
       "1940    NaN    NaN    NaN  28.8  67.0  94.0  119.0  135.2\n",
       "1941    NaN    NaN    NaN  14.2  21.0  25.6   44.0   51.0\n",
       "1942    NaN    NaN    NaN  27.0  42.0  66.2   82.6   85.6\n",
       "1946    NaN    NaN    NaN  18.0  32.0  46.2   58.0   74.4\n",
       "...     ...    ...    ...   ...   ...   ...    ...    ...\n",
       "1991    NaN   16.0   18.6  18.6  24.0  45.5   75.8  105.6\n",
       "1992    NaN    8.0   10.0  13.4  20.6  34.6   60.0   77.8\n",
       "1997    8.8   10.4   12.8  13.8  23.8  37.6   61.4   70.6\n",
       "1998   13.6   20.2   24.2  29.6  34.0  48.4   66.2   80.2\n",
       "1999   21.0   26.6   29.0  36.4  69.2  70.8  119.4  134.6\n",
       "2000   23.2   33.0   34.8  36.4  42.2  52.8   90.0  120.4\n",
       "2003   16.2   27.0   34.8  37.4  38.8  62.8  101.0  121.6\n",
       "2004   25.8   37.4   40.2  42.2  43.0  45.2   57.6   80.4\n",
       "2005   11.4   15.6   17.0  18.4  27.2  35.2   43.8   44.6\n",
       "2006    9.8   13.4   16.6  17.6  36.6  51.0   55.8   68.0\n",
       "\n",
       "[57 rows x 8 columns]"
      ]
     },
     "execution_count": 29,
     "metadata": {},
     "output_type": "execute_result"
    }
   ],
   "source": [
    "pd.set_option('display.max_rows', 20)\n",
    "data = read_csv('massimePrecipitazioniCenta.csv')\n",
    "map(datetime, data['anno'])\n",
    "data = data.set_index('anno')\n",
    "data"
   ]
  },
  {
   "cell_type": "markdown",
   "metadata": {},
   "source": [
    "Il metodo della massima verosimiglianza calcola i valori di **a, b** che massimizzano la probabilità congiunta di ottenere una serie di dati __$\\{h_1,\\dots,h_n\\}$__.  \n",
    "Viene calcolata la coppia di valori *a* e _b_ per ogni durata"
   ]
  },
  {
   "cell_type": "markdown",
   "metadata": {},
   "source": [
    "Per 15min"
   ]
  },
  {
   "cell_type": "code",
   "execution_count": 30,
   "metadata": {},
   "outputs": [
    {
     "data": {
      "text/plain": [
       "(11.551692125023424, 4.0510399738168505)"
      ]
     },
     "execution_count": 30,
     "metadata": {},
     "output_type": "execute_result"
    }
   ],
   "source": [
    "samp = data['15min'].dropna()\n",
    "param15min = gumbel_r.fit(samp)\n",
    "param15min"
   ]
  },
  {
   "cell_type": "markdown",
   "metadata": {},
   "source": [
    "Per 30min"
   ]
  },
  {
   "cell_type": "code",
   "execution_count": 31,
   "metadata": {},
   "outputs": [
    {
     "data": {
      "text/plain": [
       "(15.102190934819026, 5.406040427311871)"
      ]
     },
     "execution_count": 31,
     "metadata": {},
     "output_type": "execute_result"
    }
   ],
   "source": [
    "samp = data['30min'].dropna()\n",
    "param30min = gumbel_r.fit(samp)\n",
    "param30min"
   ]
  },
  {
   "cell_type": "markdown",
   "metadata": {},
   "source": [
    "Per 45min"
   ]
  },
  {
   "cell_type": "code",
   "execution_count": 32,
   "metadata": {},
   "outputs": [
    {
     "data": {
      "text/plain": [
       "(17.63853950051344, 6.168513338425186)"
      ]
     },
     "execution_count": 32,
     "metadata": {},
     "output_type": "execute_result"
    }
   ],
   "source": [
    "samp = data['45min'].dropna()\n",
    "param45min = gumbel_r.fit(samp)\n",
    "param45min"
   ]
  },
  {
   "cell_type": "markdown",
   "metadata": {},
   "source": [
    "Per 1h"
   ]
  },
  {
   "cell_type": "code",
   "execution_count": 33,
   "metadata": {},
   "outputs": [
    {
     "data": {
      "text/plain": [
       "(20.07773753202705, 6.560460617974382)"
      ]
     },
     "execution_count": 33,
     "metadata": {},
     "output_type": "execute_result"
    }
   ],
   "source": [
    "samp = data['1h'].dropna()\n",
    "param1h = gumbel_r.fit(samp)\n",
    "param1h"
   ]
  },
  {
   "cell_type": "markdown",
   "metadata": {},
   "source": [
    "Per 3h"
   ]
  },
  {
   "cell_type": "code",
   "execution_count": 34,
   "metadata": {},
   "outputs": [
    {
     "data": {
      "text/plain": [
       "(30.042461167355263, 9.253391584430704)"
      ]
     },
     "execution_count": 34,
     "metadata": {},
     "output_type": "execute_result"
    }
   ],
   "source": [
    "samp = data['3h'].dropna()\n",
    "param3h = gumbel_r.fit(samp)\n",
    "param3h"
   ]
  },
  {
   "cell_type": "markdown",
   "metadata": {},
   "source": [
    "Per 6h"
   ]
  },
  {
   "cell_type": "code",
   "execution_count": 35,
   "metadata": {},
   "outputs": [
    {
     "data": {
      "text/plain": [
       "(41.084931130740436, 12.291069231710425)"
      ]
     },
     "execution_count": 35,
     "metadata": {},
     "output_type": "execute_result"
    }
   ],
   "source": [
    "samp = data['6h'].dropna()\n",
    "param6h = gumbel_r.fit(samp)\n",
    "param6h"
   ]
  },
  {
   "cell_type": "markdown",
   "metadata": {},
   "source": [
    "Per 12h"
   ]
  },
  {
   "cell_type": "code",
   "execution_count": 36,
   "metadata": {},
   "outputs": [
    {
     "data": {
      "text/plain": [
       "(57.40209293321375, 19.296025817381924)"
      ]
     },
     "execution_count": 36,
     "metadata": {},
     "output_type": "execute_result"
    }
   ],
   "source": [
    "samp = data['12h'].dropna()\n",
    "param12h = gumbel_r.fit(samp)\n",
    "param12h"
   ]
  },
  {
   "cell_type": "markdown",
   "metadata": {},
   "source": [
    "E infine per 24h"
   ]
  },
  {
   "cell_type": "code",
   "execution_count": 37,
   "metadata": {},
   "outputs": [
    {
     "data": {
      "text/plain": [
       "(76.44079169216053, 24.643280756008394)"
      ]
     },
     "execution_count": 37,
     "metadata": {},
     "output_type": "execute_result"
    }
   ],
   "source": [
    "samp = data['24h'].dropna()\n",
    "param24h = gumbel_r.fit(samp)\n",
    "param24h"
   ]
  },
  {
   "cell_type": "markdown",
   "metadata": {},
   "source": [
    "È utile creare un DataFrame contente tutti i valori di _a_ e *b* e salvarlo in un file"
   ]
  },
  {
   "cell_type": "code",
   "execution_count": 38,
   "metadata": {},
   "outputs": [
    {
     "data": {
      "text/html": [
       "<div>\n",
       "<style scoped>\n",
       "    .dataframe tbody tr th:only-of-type {\n",
       "        vertical-align: middle;\n",
       "    }\n",
       "\n",
       "    .dataframe tbody tr th {\n",
       "        vertical-align: top;\n",
       "    }\n",
       "\n",
       "    .dataframe thead th {\n",
       "        text-align: right;\n",
       "    }\n",
       "</style>\n",
       "<table border=\"1\" class=\"dataframe\">\n",
       "  <thead>\n",
       "    <tr style=\"text-align: right;\">\n",
       "      <th></th>\n",
       "      <th>15min</th>\n",
       "      <th>30min</th>\n",
       "      <th>45min</th>\n",
       "      <th>1h</th>\n",
       "      <th>3h</th>\n",
       "      <th>6h</th>\n",
       "      <th>12h</th>\n",
       "      <th>24h</th>\n",
       "    </tr>\n",
       "  </thead>\n",
       "  <tbody>\n",
       "    <tr>\n",
       "      <th>a</th>\n",
       "      <td>11.551692</td>\n",
       "      <td>15.102191</td>\n",
       "      <td>17.638540</td>\n",
       "      <td>20.077738</td>\n",
       "      <td>30.042461</td>\n",
       "      <td>41.084931</td>\n",
       "      <td>57.402093</td>\n",
       "      <td>76.440792</td>\n",
       "    </tr>\n",
       "    <tr>\n",
       "      <th>b</th>\n",
       "      <td>4.051040</td>\n",
       "      <td>5.406040</td>\n",
       "      <td>6.168513</td>\n",
       "      <td>6.560461</td>\n",
       "      <td>9.253392</td>\n",
       "      <td>12.291069</td>\n",
       "      <td>19.296026</td>\n",
       "      <td>24.643281</td>\n",
       "    </tr>\n",
       "  </tbody>\n",
       "</table>\n",
       "</div>"
      ],
      "text/plain": [
       "       15min      30min      45min         1h         3h         6h  \\\n",
       "a  11.551692  15.102191  17.638540  20.077738  30.042461  41.084931   \n",
       "b   4.051040   5.406040   6.168513   6.560461   9.253392  12.291069   \n",
       "\n",
       "         12h        24h  \n",
       "a  57.402093  76.440792  \n",
       "b  19.296026  24.643281  "
      ]
     },
     "execution_count": 38,
     "metadata": {},
     "output_type": "execute_result"
    }
   ],
   "source": [
    "abs_mle = pd.DataFrame([\n",
    "    param15min,\n",
    "    param30min,\n",
    "    param45min,\n",
    "    param1h, \n",
    "    param3h,\n",
    "    param6h,\n",
    "    param12h,\n",
    "    param24h],\n",
    "    columns = ['a', 'b'],\n",
    "    index = ['15min', '30min', '45min','1h', '3h', '6h', '12h', '24h']\n",
    ").T\n",
    "abs_mle"
   ]
  },
  {
   "cell_type": "code",
   "execution_count": 39,
   "metadata": {},
   "outputs": [],
   "source": [
    "abs_mle.to_pickle('abs_mle')"
   ]
  },
  {
   "cell_type": "code",
   "execution_count": 40,
   "metadata": {},
   "outputs": [
    {
     "data": {
      "text/plain": [
       "['.ipynb_checkpoints',\n",
       " 'abs_ls',\n",
       " 'abs_m',\n",
       " 'abs_mle',\n",
       " 'best_parameters',\n",
       " 'lsCenta.ipynb',\n",
       " 'lsppCenta.ipynb',\n",
       " 'massimePrecipitazioniCenta.csv',\n",
       " 'mleCenta.ipynb',\n",
       " 'momentiCenta.ipynb',\n",
       " 'pearsonCenta.ipynb']"
      ]
     },
     "execution_count": 40,
     "metadata": {},
     "output_type": "execute_result"
    }
   ],
   "source": [
    "os.listdir()"
   ]
  },
  {
   "cell_type": "markdown",
   "metadata": {},
   "source": [
    "['.ipynb_checkpoints',  \n",
    " 'abs_ls',  \n",
    " 'abs_m',  \n",
    " '**abs_mle**',  \n",
    " 'lsCenta.ipynb',  \n",
    " 'massimePrecipitazioniCenta.csv',  \n",
    " 'mleCenta.ipynb',  \n",
    " 'momentiCenta.ipynb']"
   ]
  },
  {
   "cell_type": "markdown",
   "metadata": {},
   "source": [
    "Una volta salvati i dati, si calcolano i valori minimo e il massimo di precipitazione"
   ]
  },
  {
   "cell_type": "code",
   "execution_count": 41,
   "metadata": {},
   "outputs": [
    {
     "data": {
      "text/plain": [
       "15min     5.2\n",
       "30min     8.0\n",
       "45min     9.6\n",
       "1h       12.6\n",
       "3h       20.0\n",
       "6h       24.0\n",
       "12h      24.2\n",
       "24h      43.6\n",
       "dtype: float64"
      ]
     },
     "execution_count": 41,
     "metadata": {},
     "output_type": "execute_result"
    }
   ],
   "source": [
    "data.min()"
   ]
  },
  {
   "cell_type": "markdown",
   "metadata": {},
   "source": [
    "Il minimo è il valore corrispondente alla durata di 15min"
   ]
  },
  {
   "cell_type": "code",
   "execution_count": 42,
   "metadata": {},
   "outputs": [
    {
     "data": {
      "text/plain": [
       "5.2"
      ]
     },
     "execution_count": 42,
     "metadata": {},
     "output_type": "execute_result"
    }
   ],
   "source": [
    "data.min()['15min']"
   ]
  },
  {
   "cell_type": "code",
   "execution_count": 43,
   "metadata": {},
   "outputs": [
    {
     "data": {
      "text/plain": [
       "15min     28.0\n",
       "30min     40.0\n",
       "45min     47.0\n",
       "1h        55.8\n",
       "3h        79.0\n",
       "6h       103.8\n",
       "12h      152.2\n",
       "24h      192.0\n",
       "dtype: float64"
      ]
     },
     "execution_count": 43,
     "metadata": {},
     "output_type": "execute_result"
    }
   ],
   "source": [
    "data.max()"
   ]
  },
  {
   "cell_type": "markdown",
   "metadata": {},
   "source": [
    "mentre il massimo corrisponde alle 24h"
   ]
  },
  {
   "cell_type": "code",
   "execution_count": 44,
   "metadata": {},
   "outputs": [
    {
     "data": {
      "text/plain": [
       "192.0"
      ]
     },
     "execution_count": 44,
     "metadata": {},
     "output_type": "execute_result"
    }
   ],
   "source": [
    "data.max()['24h']"
   ]
  },
  {
   "cell_type": "markdown",
   "metadata": {},
   "source": [
    "Si crea allora un vettore lineare di 100 valori che vanno dal minimo al massimo"
   ]
  },
  {
   "cell_type": "code",
   "execution_count": 45,
   "metadata": {},
   "outputs": [],
   "source": [
    "t_rain = np.linspace(data.min()['15min'], data.max()['24h'], 100)"
   ]
  },
  {
   "cell_type": "markdown",
   "metadata": {},
   "source": [
    "Ricordando che la funzione di Gumbel è definita come\n",
    "$$\n",
    "\\Large{e^{-e^{-\\frac{h-a}{b}}}}\n",
    "$$\n",
    "si può scrivere"
   ]
  },
  {
   "cell_type": "code",
   "execution_count": 46,
   "metadata": {},
   "outputs": [],
   "source": [
    "def gumbel(x, abs_d, col):\n",
    "    return np.exp(-np.exp(-(x - abs_d[col]['a'])/abs_d[col]['b']))"
   ]
  },
  {
   "cell_type": "markdown",
   "metadata": {},
   "source": [
    "Il DataFrame contenente tutti i valori ricavati dalla funzione di Gumbel appena scritta è"
   ]
  },
  {
   "cell_type": "code",
   "execution_count": 47,
   "metadata": {},
   "outputs": [
    {
     "data": {
      "text/html": [
       "<div>\n",
       "<style scoped>\n",
       "    .dataframe tbody tr th:only-of-type {\n",
       "        vertical-align: middle;\n",
       "    }\n",
       "\n",
       "    .dataframe tbody tr th {\n",
       "        vertical-align: top;\n",
       "    }\n",
       "\n",
       "    .dataframe thead th {\n",
       "        text-align: right;\n",
       "    }\n",
       "</style>\n",
       "<table border=\"1\" class=\"dataframe\">\n",
       "  <thead>\n",
       "    <tr style=\"text-align: right;\">\n",
       "      <th></th>\n",
       "      <th>15min</th>\n",
       "      <th>30min</th>\n",
       "      <th>45min</th>\n",
       "      <th>1h</th>\n",
       "      <th>3h</th>\n",
       "      <th>6h</th>\n",
       "      <th>12h</th>\n",
       "      <th>24h</th>\n",
       "    </tr>\n",
       "  </thead>\n",
       "  <tbody>\n",
       "    <tr>\n",
       "      <th>5.200000</th>\n",
       "      <td>0.008257</td>\n",
       "      <td>0.001941</td>\n",
       "      <td>0.000547</td>\n",
       "      <td>0.000064</td>\n",
       "      <td>4.325293e-07</td>\n",
       "      <td>8.930799e-09</td>\n",
       "      <td>3.186306e-07</td>\n",
       "      <td>1.509098e-08</td>\n",
       "    </tr>\n",
       "    <tr>\n",
       "      <th>7.086869</th>\n",
       "      <td>0.049262</td>\n",
       "      <td>0.012220</td>\n",
       "      <td>0.003958</td>\n",
       "      <td>0.000714</td>\n",
       "      <td>6.455776e-06</td>\n",
       "      <td>1.248472e-07</td>\n",
       "      <td>1.283803e-06</td>\n",
       "      <td>5.691406e-08</td>\n",
       "    </tr>\n",
       "    <tr>\n",
       "      <th>8.973737</th>\n",
       "      <td>0.151131</td>\n",
       "      <td>0.044739</td>\n",
       "      <td>0.017005</td>\n",
       "      <td>0.004368</td>\n",
       "      <td>5.852369e-05</td>\n",
       "      <td>1.199086e-06</td>\n",
       "      <td>4.542864e-06</td>\n",
       "      <td>1.946382e-07</td>\n",
       "    </tr>\n",
       "    <tr>\n",
       "      <th>10.860606</th>\n",
       "      <td>0.305438</td>\n",
       "      <td>0.111745</td>\n",
       "      <td>0.049760</td>\n",
       "      <td>0.016987</td>\n",
       "      <td>3.532736e-04</td>\n",
       "      <td>8.346486e-06</td>\n",
       "      <td>1.429006e-05</td>\n",
       "      <td>6.079599e-07</td>\n",
       "    </tr>\n",
       "    <tr>\n",
       "      <th>12.747475</th>\n",
       "      <td>0.475020</td>\n",
       "      <td>0.213131</td>\n",
       "      <td>0.109721</td>\n",
       "      <td>0.047042</td>\n",
       "      <td>1.530609e-03</td>\n",
       "      <td>4.407953e-05</td>\n",
       "      <td>4.039931e-05</td>\n",
       "      <td>1.746070e-06</td>\n",
       "    </tr>\n",
       "    <tr>\n",
       "      <th>14.634343</th>\n",
       "      <td>0.626742</td>\n",
       "      <td>0.336083</td>\n",
       "      <td>0.196428</td>\n",
       "      <td>0.100994</td>\n",
       "      <td>5.060092e-03</td>\n",
       "      <td>1.837030e-04</td>\n",
       "      <td>1.036737e-04</td>\n",
       "      <td>4.639551e-06</td>\n",
       "    </tr>\n",
       "    <tr>\n",
       "      <th>16.521212</th>\n",
       "      <td>0.745835</td>\n",
       "      <td>0.463414</td>\n",
       "      <td>0.301623</td>\n",
       "      <td>0.179131</td>\n",
       "      <td>1.341717e-02</td>\n",
       "      <td>6.248549e-04</td>\n",
       "      <td>2.436884e-04</td>\n",
       "      <td>1.147115e-05</td>\n",
       "    </tr>\n",
       "    <tr>\n",
       "      <th>18.408081</th>\n",
       "      <td>0.831887</td>\n",
       "      <td>0.581278</td>\n",
       "      <td>0.413658</td>\n",
       "      <td>0.275320</td>\n",
       "      <td>2.971955e-02</td>\n",
       "      <td>1.785582e-03</td>\n",
       "      <td>5.289621e-04</td>\n",
       "      <td>2.653140e-05</td>\n",
       "    </tr>\n",
       "    <tr>\n",
       "      <th>20.294949</th>\n",
       "      <td>0.890899</td>\n",
       "      <td>0.682029</td>\n",
       "      <td>0.521997</td>\n",
       "      <td>0.380057</td>\n",
       "      <td>5.684766e-02</td>\n",
       "      <td>4.394260e-03</td>\n",
       "      <td>1.068215e-03</td>\n",
       "      <td>5.768622e-05</td>\n",
       "    </tr>\n",
       "    <tr>\n",
       "      <th>22.181818</th>\n",
       "      <td>0.930058</td>\n",
       "      <td>0.763430</td>\n",
       "      <td>0.619543</td>\n",
       "      <td>0.484022</td>\n",
       "      <td>9.647719e-02</td>\n",
       "      <td>9.513328e-03</td>\n",
       "      <td>2.020498e-03</td>\n",
       "      <td>1.184461e-04</td>\n",
       "    </tr>\n",
       "    <tr>\n",
       "      <th>...</th>\n",
       "      <td>...</td>\n",
       "      <td>...</td>\n",
       "      <td>...</td>\n",
       "      <td>...</td>\n",
       "      <td>...</td>\n",
       "      <td>...</td>\n",
       "      <td>...</td>\n",
       "      <td>...</td>\n",
       "    </tr>\n",
       "    <tr>\n",
       "      <th>175.018182</th>\n",
       "      <td>1.000000</td>\n",
       "      <td>1.000000</td>\n",
       "      <td>1.000000</td>\n",
       "      <td>1.000000</td>\n",
       "      <td>9.999998e-01</td>\n",
       "      <td>9.999815e-01</td>\n",
       "      <td>9.977492e-01</td>\n",
       "      <td>9.818542e-01</td>\n",
       "    </tr>\n",
       "    <tr>\n",
       "      <th>176.905051</th>\n",
       "      <td>1.000000</td>\n",
       "      <td>1.000000</td>\n",
       "      <td>1.000000</td>\n",
       "      <td>1.000000</td>\n",
       "      <td>9.999999e-01</td>\n",
       "      <td>9.999841e-01</td>\n",
       "      <td>9.979587e-01</td>\n",
       "      <td>9.831804e-01</td>\n",
       "    </tr>\n",
       "    <tr>\n",
       "      <th>178.791919</th>\n",
       "      <td>1.000000</td>\n",
       "      <td>1.000000</td>\n",
       "      <td>1.000000</td>\n",
       "      <td>1.000000</td>\n",
       "      <td>9.999999e-01</td>\n",
       "      <td>9.999864e-01</td>\n",
       "      <td>9.981487e-01</td>\n",
       "      <td>9.844104e-01</td>\n",
       "    </tr>\n",
       "    <tr>\n",
       "      <th>180.678788</th>\n",
       "      <td>1.000000</td>\n",
       "      <td>1.000000</td>\n",
       "      <td>1.000000</td>\n",
       "      <td>1.000000</td>\n",
       "      <td>9.999999e-01</td>\n",
       "      <td>9.999883e-01</td>\n",
       "      <td>9.983210e-01</td>\n",
       "      <td>9.855512e-01</td>\n",
       "    </tr>\n",
       "    <tr>\n",
       "      <th>182.565657</th>\n",
       "      <td>1.000000</td>\n",
       "      <td>1.000000</td>\n",
       "      <td>1.000000</td>\n",
       "      <td>1.000000</td>\n",
       "      <td>9.999999e-01</td>\n",
       "      <td>9.999900e-01</td>\n",
       "      <td>9.984773e-01</td>\n",
       "      <td>9.866090e-01</td>\n",
       "    </tr>\n",
       "    <tr>\n",
       "      <th>184.452525</th>\n",
       "      <td>1.000000</td>\n",
       "      <td>1.000000</td>\n",
       "      <td>1.000000</td>\n",
       "      <td>1.000000</td>\n",
       "      <td>9.999999e-01</td>\n",
       "      <td>9.999914e-01</td>\n",
       "      <td>9.986190e-01</td>\n",
       "      <td>9.875899e-01</td>\n",
       "    </tr>\n",
       "    <tr>\n",
       "      <th>186.339394</th>\n",
       "      <td>1.000000</td>\n",
       "      <td>1.000000</td>\n",
       "      <td>1.000000</td>\n",
       "      <td>1.000000</td>\n",
       "      <td>1.000000e+00</td>\n",
       "      <td>9.999926e-01</td>\n",
       "      <td>9.987476e-01</td>\n",
       "      <td>9.884994e-01</td>\n",
       "    </tr>\n",
       "    <tr>\n",
       "      <th>188.226263</th>\n",
       "      <td>1.000000</td>\n",
       "      <td>1.000000</td>\n",
       "      <td>1.000000</td>\n",
       "      <td>1.000000</td>\n",
       "      <td>1.000000e+00</td>\n",
       "      <td>9.999937e-01</td>\n",
       "      <td>9.988642e-01</td>\n",
       "      <td>9.893426e-01</td>\n",
       "    </tr>\n",
       "    <tr>\n",
       "      <th>190.113131</th>\n",
       "      <td>1.000000</td>\n",
       "      <td>1.000000</td>\n",
       "      <td>1.000000</td>\n",
       "      <td>1.000000</td>\n",
       "      <td>1.000000e+00</td>\n",
       "      <td>9.999946e-01</td>\n",
       "      <td>9.989700e-01</td>\n",
       "      <td>9.901242e-01</td>\n",
       "    </tr>\n",
       "    <tr>\n",
       "      <th>192.000000</th>\n",
       "      <td>1.000000</td>\n",
       "      <td>1.000000</td>\n",
       "      <td>1.000000</td>\n",
       "      <td>1.000000</td>\n",
       "      <td>1.000000e+00</td>\n",
       "      <td>9.999953e-01</td>\n",
       "      <td>9.990659e-01</td>\n",
       "      <td>9.908488e-01</td>\n",
       "    </tr>\n",
       "  </tbody>\n",
       "</table>\n",
       "<p>100 rows × 8 columns</p>\n",
       "</div>"
      ],
      "text/plain": [
       "               15min     30min     45min        1h            3h  \\\n",
       "5.200000    0.008257  0.001941  0.000547  0.000064  4.325293e-07   \n",
       "7.086869    0.049262  0.012220  0.003958  0.000714  6.455776e-06   \n",
       "8.973737    0.151131  0.044739  0.017005  0.004368  5.852369e-05   \n",
       "10.860606   0.305438  0.111745  0.049760  0.016987  3.532736e-04   \n",
       "12.747475   0.475020  0.213131  0.109721  0.047042  1.530609e-03   \n",
       "14.634343   0.626742  0.336083  0.196428  0.100994  5.060092e-03   \n",
       "16.521212   0.745835  0.463414  0.301623  0.179131  1.341717e-02   \n",
       "18.408081   0.831887  0.581278  0.413658  0.275320  2.971955e-02   \n",
       "20.294949   0.890899  0.682029  0.521997  0.380057  5.684766e-02   \n",
       "22.181818   0.930058  0.763430  0.619543  0.484022  9.647719e-02   \n",
       "...              ...       ...       ...       ...           ...   \n",
       "175.018182  1.000000  1.000000  1.000000  1.000000  9.999998e-01   \n",
       "176.905051  1.000000  1.000000  1.000000  1.000000  9.999999e-01   \n",
       "178.791919  1.000000  1.000000  1.000000  1.000000  9.999999e-01   \n",
       "180.678788  1.000000  1.000000  1.000000  1.000000  9.999999e-01   \n",
       "182.565657  1.000000  1.000000  1.000000  1.000000  9.999999e-01   \n",
       "184.452525  1.000000  1.000000  1.000000  1.000000  9.999999e-01   \n",
       "186.339394  1.000000  1.000000  1.000000  1.000000  1.000000e+00   \n",
       "188.226263  1.000000  1.000000  1.000000  1.000000  1.000000e+00   \n",
       "190.113131  1.000000  1.000000  1.000000  1.000000  1.000000e+00   \n",
       "192.000000  1.000000  1.000000  1.000000  1.000000  1.000000e+00   \n",
       "\n",
       "                      6h           12h           24h  \n",
       "5.200000    8.930799e-09  3.186306e-07  1.509098e-08  \n",
       "7.086869    1.248472e-07  1.283803e-06  5.691406e-08  \n",
       "8.973737    1.199086e-06  4.542864e-06  1.946382e-07  \n",
       "10.860606   8.346486e-06  1.429006e-05  6.079599e-07  \n",
       "12.747475   4.407953e-05  4.039931e-05  1.746070e-06  \n",
       "14.634343   1.837030e-04  1.036737e-04  4.639551e-06  \n",
       "16.521212   6.248549e-04  2.436884e-04  1.147115e-05  \n",
       "18.408081   1.785582e-03  5.289621e-04  2.653140e-05  \n",
       "20.294949   4.394260e-03  1.068215e-03  5.768622e-05  \n",
       "22.181818   9.513328e-03  2.020498e-03  1.184461e-04  \n",
       "...                  ...           ...           ...  \n",
       "175.018182  9.999815e-01  9.977492e-01  9.818542e-01  \n",
       "176.905051  9.999841e-01  9.979587e-01  9.831804e-01  \n",
       "178.791919  9.999864e-01  9.981487e-01  9.844104e-01  \n",
       "180.678788  9.999883e-01  9.983210e-01  9.855512e-01  \n",
       "182.565657  9.999900e-01  9.984773e-01  9.866090e-01  \n",
       "184.452525  9.999914e-01  9.986190e-01  9.875899e-01  \n",
       "186.339394  9.999926e-01  9.987476e-01  9.884994e-01  \n",
       "188.226263  9.999937e-01  9.988642e-01  9.893426e-01  \n",
       "190.113131  9.999946e-01  9.989700e-01  9.901242e-01  \n",
       "192.000000  9.999953e-01  9.990659e-01  9.908488e-01  \n",
       "\n",
       "[100 rows x 8 columns]"
      ]
     },
     "execution_count": 47,
     "metadata": {},
     "output_type": "execute_result"
    }
   ],
   "source": [
    "teta = []\n",
    "for h in data.columns:\n",
    "        teta = teta + [gumbel(t_rain, abs_mle, h)]\n",
    "        \n",
    "gb = pd.DataFrame(teta, index = ['15min', '30min', '45min', '1h', '3h', '6h', '12h', '24h'], columns = t_rain\n",
    ").T #Trasposta\n",
    "\n",
    "#------------------------------------------\n",
    "gb"
   ]
  },
  {
   "cell_type": "markdown",
   "metadata": {},
   "source": [
    "E quindi plottare i dati"
   ]
  },
  {
   "cell_type": "code",
   "execution_count": 49,
   "metadata": {},
   "outputs": [
    {
     "data": {
      "image/png": "[encoded data removed]",
      "text/plain": [
       "<Figure size 432x288 with 1 Axes>"
      ]
     },
     "metadata": {
      "needs_background": "light"
     },
     "output_type": "display_data"
    }
   ],
   "source": [
    "plt.rc('text', usetex=True)\n",
    "plt.rc('xtick', labelsize = 15)\n",
    "plt.rc('ytick', labelsize = 15)\n",
    "\n",
    "#----------------plot---------------\n",
    "\n",
    "ax = gb.plot(color = ['#9575cd', 'brown', '#80d8ff','red', 'green', 'blue', 'magenta', 'black'])\n",
    "#plt.figure(figsize = (18 ,16), dpi = 100)\n",
    "\n",
    "#--------------15min--------------------\n",
    "data15min = data['15min'].dropna()\n",
    "ecdf15min = ECDF(data15min)\n",
    "ax.plot(data15min, ecdf15min(data15min), 'o', c = '#9575cd')\n",
    "\n",
    "#--------------30min--------------------\n",
    "data30min = data['30min'].dropna()\n",
    "ecdf30min = ECDF(data30min)\n",
    "ax.plot(data30min, ecdf30min(data30min), 'o', c = 'brown')\n",
    "\n",
    "#--------------45min--------------------\n",
    "data45min = data['45min'].dropna()\n",
    "ecdf45min = ECDF(data45min)\n",
    "ax.plot(data45min, ecdf45min(data45min), 'o', c = '#80d8ff')\n",
    "\n",
    "#--------------1h--------------------\n",
    "data1h = data['1h'].dropna()\n",
    "ecdf1h = ECDF(data1h)\n",
    "ax.plot(data1h, ecdf1h(data1h), 'o', c = 'red')\n",
    "\n",
    "#--------------3h--------------------\n",
    "data3h = data['3h'].dropna()\n",
    "ecdf3h = ECDF(data3h)\n",
    "ax.plot(data3h, ecdf3h(data3h), 'o', c = 'green')\n",
    "\n",
    "#--------------6h--------------------\n",
    "data6h = data['6h'].dropna()\n",
    "ecdf6h = ECDF(data6h)\n",
    "ax.plot(data6h, ecdf6h(data6h), 'o', c = 'blue')\n",
    "\n",
    "#--------------12h-------------------\n",
    "data12h = data['12h'].dropna()\n",
    "ecdf12h = ECDF(data12h)\n",
    "ax.plot(data12h, ecdf12h(data12h), 'o', c = 'magenta')\n",
    "\n",
    "#--------------24h-------------------\n",
    "data24h = data['24h'].dropna()\n",
    "ecdf24h = ECDF(data24h)\n",
    "ax.plot(data24h, ecdf24h(data24h), 'o', c = 'black')\n",
    "\n",
    "#----------------------------label--------------------------------------\n",
    "ax.set_title('Probability Distribution Function of Rainfall\\nMaximum Likelihood Method', fontsize = 15)\n",
    "ax.set_xlabel('Rainfall [mm]', fontsize = 14)\n",
    "ax.set_ylabel(r'$P[H < h]$', fontsize = 14)\n",
    "plt.legend(loc = 4,  fontsize = 12)\n",
    "\n",
    "#-----------------------------------------------------------------------\n",
    "plt.show()"
   ]
  },
  {
   "cell_type": "markdown",
   "metadata": {},
   "source": [
    "**dropna()** separa ed elimina i dati NaN."
   ]
  }
 ],
 "metadata": {
  "kernelspec": {
   "display_name": "Python 3",
   "language": "python",
   "name": "python3"
  },
  "language_info": {
   "codemirror_mode": {
    "name": "ipython",
    "version": 3
   },
   "file_extension": ".py",
   "mimetype": "text/x-python",
   "name": "python",
   "nbconvert_exporter": "python",
   "pygments_lexer": "ipython3",
   "version": "3.7.1"
  }
 },
 "nbformat": 4,
 "nbformat_minor": 2
}
