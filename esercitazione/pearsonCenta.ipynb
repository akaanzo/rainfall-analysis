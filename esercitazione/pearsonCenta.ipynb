{
 "cells": [
  {
   "cell_type": "markdown",
   "metadata": {},
   "source": [
    "# Test di Pearson applicato ai dati di Centa San Nicolò"
   ]
  },
  {
   "cell_type": "markdown",
   "metadata": {},
   "source": [
    "Matteo Franzoi - Andrea Rebellato - 2019-03-27"
   ]
  },
  {
   "cell_type": "markdown",
   "metadata": {},
   "source": [
    "---"
   ]
  },
  {
   "cell_type": "code",
   "execution_count": 1,
   "metadata": {},
   "outputs": [],
   "source": [
    "import os\n",
    "from pandas import *\n",
    "import pandas as pd\n",
    "from numpy import *\n",
    "import numpy as np\n",
    "import scipy\n",
    "import matplotlib.pyplot as plt\n",
    "%matplotlib inline\n",
    "import math\n",
    "from datetime import datetime\n",
    "from scipy.stats import genextreme, gumbel_r\n",
    "from numpy import linspace\n",
    "from statsmodels.distributions.empirical_distribution import ECDF"
   ]
  },
  {
   "cell_type": "code",
   "execution_count": 6,
   "metadata": {},
   "outputs": [
    {
     "data": {
      "text/html": [
       "<div>\n",
       "<style scoped>\n",
       "    .dataframe tbody tr th:only-of-type {\n",
       "        vertical-align: middle;\n",
       "    }\n",
       "\n",
       "    .dataframe tbody tr th {\n",
       "        vertical-align: top;\n",
       "    }\n",
       "\n",
       "    .dataframe thead th {\n",
       "        text-align: right;\n",
       "    }\n",
       "</style>\n",
       "<table border=\"1\" class=\"dataframe\">\n",
       "  <thead>\n",
       "    <tr style=\"text-align: right;\">\n",
       "      <th></th>\n",
       "      <th>1h</th>\n",
       "      <th>3h</th>\n",
       "      <th>6h</th>\n",
       "      <th>12h</th>\n",
       "      <th>24h</th>\n",
       "    </tr>\n",
       "    <tr>\n",
       "      <th>anno</th>\n",
       "      <th></th>\n",
       "      <th></th>\n",
       "      <th></th>\n",
       "      <th></th>\n",
       "      <th></th>\n",
       "    </tr>\n",
       "  </thead>\n",
       "  <tbody>\n",
       "    <tr>\n",
       "      <th>1934</th>\n",
       "      <td>22.6</td>\n",
       "      <td>42.0</td>\n",
       "      <td>56.6</td>\n",
       "      <td>58.8</td>\n",
       "      <td>85.0</td>\n",
       "    </tr>\n",
       "    <tr>\n",
       "      <th>1935</th>\n",
       "      <td>17.8</td>\n",
       "      <td>32.6</td>\n",
       "      <td>54.2</td>\n",
       "      <td>63.6</td>\n",
       "      <td>88.0</td>\n",
       "    </tr>\n",
       "    <tr>\n",
       "      <th>1936</th>\n",
       "      <td>15.8</td>\n",
       "      <td>28.0</td>\n",
       "      <td>41.4</td>\n",
       "      <td>72.0</td>\n",
       "      <td>85.2</td>\n",
       "    </tr>\n",
       "    <tr>\n",
       "      <th>1937</th>\n",
       "      <td>27.8</td>\n",
       "      <td>35.6</td>\n",
       "      <td>38.2</td>\n",
       "      <td>58.4</td>\n",
       "      <td>62.6</td>\n",
       "    </tr>\n",
       "    <tr>\n",
       "      <th>1938</th>\n",
       "      <td>15.0</td>\n",
       "      <td>21.4</td>\n",
       "      <td>32.0</td>\n",
       "      <td>56.0</td>\n",
       "      <td>83.0</td>\n",
       "    </tr>\n",
       "    <tr>\n",
       "      <th>...</th>\n",
       "      <td>...</td>\n",
       "      <td>...</td>\n",
       "      <td>...</td>\n",
       "      <td>...</td>\n",
       "      <td>...</td>\n",
       "    </tr>\n",
       "    <tr>\n",
       "      <th>2000</th>\n",
       "      <td>36.4</td>\n",
       "      <td>42.2</td>\n",
       "      <td>52.8</td>\n",
       "      <td>90.0</td>\n",
       "      <td>120.4</td>\n",
       "    </tr>\n",
       "    <tr>\n",
       "      <th>2003</th>\n",
       "      <td>37.4</td>\n",
       "      <td>38.8</td>\n",
       "      <td>62.8</td>\n",
       "      <td>101.0</td>\n",
       "      <td>121.6</td>\n",
       "    </tr>\n",
       "    <tr>\n",
       "      <th>2004</th>\n",
       "      <td>42.2</td>\n",
       "      <td>43.0</td>\n",
       "      <td>45.2</td>\n",
       "      <td>57.6</td>\n",
       "      <td>80.4</td>\n",
       "    </tr>\n",
       "    <tr>\n",
       "      <th>2005</th>\n",
       "      <td>18.4</td>\n",
       "      <td>27.2</td>\n",
       "      <td>35.2</td>\n",
       "      <td>43.8</td>\n",
       "      <td>44.6</td>\n",
       "    </tr>\n",
       "    <tr>\n",
       "      <th>2006</th>\n",
       "      <td>17.6</td>\n",
       "      <td>36.6</td>\n",
       "      <td>51.0</td>\n",
       "      <td>55.8</td>\n",
       "      <td>68.0</td>\n",
       "    </tr>\n",
       "  </tbody>\n",
       "</table>\n",
       "<p>57 rows × 5 columns</p>\n",
       "</div>"
      ],
      "text/plain": [
       "        1h    3h    6h    12h    24h\n",
       "anno                                \n",
       "1934  22.6  42.0  56.6   58.8   85.0\n",
       "1935  17.8  32.6  54.2   63.6   88.0\n",
       "1936  15.8  28.0  41.4   72.0   85.2\n",
       "1937  27.8  35.6  38.2   58.4   62.6\n",
       "1938  15.0  21.4  32.0   56.0   83.0\n",
       "...    ...   ...   ...    ...    ...\n",
       "2000  36.4  42.2  52.8   90.0  120.4\n",
       "2003  37.4  38.8  62.8  101.0  121.6\n",
       "2004  42.2  43.0  45.2   57.6   80.4\n",
       "2005  18.4  27.2  35.2   43.8   44.6\n",
       "2006  17.6  36.6  51.0   55.8   68.0\n",
       "\n",
       "[57 rows x 5 columns]"
      ]
     },
     "execution_count": 6,
     "metadata": {},
     "output_type": "execute_result"
    }
   ],
   "source": [
    "pd.set_option('display.max_rows', 10)\n",
    "data = read_csv('massimePrecipitazioniCenta.csv')\n",
    "map(datetime, data['anno'])\n",
    "data = data.set_index('anno')\n",
    "data"
   ]
  },
  {
   "cell_type": "code",
   "execution_count": 8,
   "metadata": {},
   "outputs": [
    {
     "data": {
      "text/plain": [
       "'/media/data/jupyter/esercitazione'"
      ]
     },
     "execution_count": 8,
     "metadata": {},
     "output_type": "execute_result"
    }
   ],
   "source": [
    "os.getcwd()"
   ]
  },
  {
   "cell_type": "code",
   "execution_count": 9,
   "metadata": {},
   "outputs": [
    {
     "data": {
      "text/plain": [
       "['.ipynb_checkpoints',\n",
       " 'abs_ls',\n",
       " 'abs_m',\n",
       " 'abs_mle',\n",
       " 'lsCenta.ipynb',\n",
       " 'massimePrecipitazioniCenta.csv',\n",
       " 'mleCenta.ipynb',\n",
       " 'momentiCenta.ipynb',\n",
       " 'pearsonCenta.ipynb']"
      ]
     },
     "execution_count": 9,
     "metadata": {},
     "output_type": "execute_result"
    }
   ],
   "source": [
    "os.listdir()"
   ]
  },
  {
   "cell_type": "markdown",
   "metadata": {},
   "source": [
    "Primo passaggio è leggere i file contenenti i valori di _a_ e *b* per ogni metodo"
   ]
  },
  {
   "cell_type": "code",
   "execution_count": 10,
   "metadata": {},
   "outputs": [],
   "source": [
    "abs_m = read_pickle('abs_m')\n",
    "abs_ls = read_pickle('abs_ls')\n",
    "abs_mle = read_pickle('abs_mle')"
   ]
  },
  {
   "cell_type": "code",
   "execution_count": 11,
   "metadata": {},
   "outputs": [
    {
     "data": {
      "text/html": [
       "<div>\n",
       "<style scoped>\n",
       "    .dataframe tbody tr th:only-of-type {\n",
       "        vertical-align: middle;\n",
       "    }\n",
       "\n",
       "    .dataframe tbody tr th {\n",
       "        vertical-align: top;\n",
       "    }\n",
       "\n",
       "    .dataframe thead th {\n",
       "        text-align: right;\n",
       "    }\n",
       "</style>\n",
       "<table border=\"1\" class=\"dataframe\">\n",
       "  <thead>\n",
       "    <tr style=\"text-align: right;\">\n",
       "      <th></th>\n",
       "      <th>1h</th>\n",
       "      <th>3h</th>\n",
       "      <th>6h</th>\n",
       "      <th>12h</th>\n",
       "      <th>24h</th>\n",
       "    </tr>\n",
       "  </thead>\n",
       "  <tbody>\n",
       "    <tr>\n",
       "      <th>a</th>\n",
       "      <td>19.847805</td>\n",
       "      <td>29.813330</td>\n",
       "      <td>40.967347</td>\n",
       "      <td>56.917858</td>\n",
       "      <td>75.887001</td>\n",
       "    </tr>\n",
       "    <tr>\n",
       "      <th>b</th>\n",
       "      <td>7.394091</td>\n",
       "      <td>10.262216</td>\n",
       "      <td>12.867616</td>\n",
       "      <td>21.080260</td>\n",
       "      <td>27.182547</td>\n",
       "    </tr>\n",
       "  </tbody>\n",
       "</table>\n",
       "</div>"
      ],
      "text/plain": [
       "          1h         3h         6h        12h        24h\n",
       "a  19.847805  29.813330  40.967347  56.917858  75.887001\n",
       "b   7.394091  10.262216  12.867616  21.080260  27.182547"
      ]
     },
     "execution_count": 11,
     "metadata": {},
     "output_type": "execute_result"
    }
   ],
   "source": [
    "abs_m"
   ]
  },
  {
   "cell_type": "code",
   "execution_count": 12,
   "metadata": {},
   "outputs": [
    {
     "data": {
      "text/html": [
       "<div>\n",
       "<style scoped>\n",
       "    .dataframe tbody tr th:only-of-type {\n",
       "        vertical-align: middle;\n",
       "    }\n",
       "\n",
       "    .dataframe tbody tr th {\n",
       "        vertical-align: top;\n",
       "    }\n",
       "\n",
       "    .dataframe thead th {\n",
       "        text-align: right;\n",
       "    }\n",
       "</style>\n",
       "<table border=\"1\" class=\"dataframe\">\n",
       "  <thead>\n",
       "    <tr style=\"text-align: right;\">\n",
       "      <th></th>\n",
       "      <th>1h</th>\n",
       "      <th>3h</th>\n",
       "      <th>6h</th>\n",
       "      <th>12h</th>\n",
       "      <th>24h</th>\n",
       "    </tr>\n",
       "  </thead>\n",
       "  <tbody>\n",
       "    <tr>\n",
       "      <th>a</th>\n",
       "      <td>19.448059</td>\n",
       "      <td>29.198662</td>\n",
       "      <td>40.251064</td>\n",
       "      <td>56.003733</td>\n",
       "      <td>74.324227</td>\n",
       "    </tr>\n",
       "    <tr>\n",
       "      <th>b</th>\n",
       "      <td>6.838710</td>\n",
       "      <td>9.416242</td>\n",
       "      <td>13.179424</td>\n",
       "      <td>17.798866</td>\n",
       "      <td>23.546947</td>\n",
       "    </tr>\n",
       "  </tbody>\n",
       "</table>\n",
       "</div>"
      ],
      "text/plain": [
       "          1h         3h         6h        12h        24h\n",
       "a  19.448059  29.198662  40.251064  56.003733  74.324227\n",
       "b   6.838710   9.416242  13.179424  17.798866  23.546947"
      ]
     },
     "execution_count": 12,
     "metadata": {},
     "output_type": "execute_result"
    }
   ],
   "source": [
    "abs_ls"
   ]
  },
  {
   "cell_type": "code",
   "execution_count": 13,
   "metadata": {},
   "outputs": [
    {
     "data": {
      "text/html": [
       "<div>\n",
       "<style scoped>\n",
       "    .dataframe tbody tr th:only-of-type {\n",
       "        vertical-align: middle;\n",
       "    }\n",
       "\n",
       "    .dataframe tbody tr th {\n",
       "        vertical-align: top;\n",
       "    }\n",
       "\n",
       "    .dataframe thead th {\n",
       "        text-align: right;\n",
       "    }\n",
       "</style>\n",
       "<table border=\"1\" class=\"dataframe\">\n",
       "  <thead>\n",
       "    <tr style=\"text-align: right;\">\n",
       "      <th></th>\n",
       "      <th>1h</th>\n",
       "      <th>3h</th>\n",
       "      <th>6h</th>\n",
       "      <th>12h</th>\n",
       "      <th>24h</th>\n",
       "    </tr>\n",
       "  </thead>\n",
       "  <tbody>\n",
       "    <tr>\n",
       "      <th>a</th>\n",
       "      <td>20.077738</td>\n",
       "      <td>30.042461</td>\n",
       "      <td>41.084931</td>\n",
       "      <td>57.402093</td>\n",
       "      <td>76.440792</td>\n",
       "    </tr>\n",
       "    <tr>\n",
       "      <th>b</th>\n",
       "      <td>6.560461</td>\n",
       "      <td>9.253392</td>\n",
       "      <td>12.291069</td>\n",
       "      <td>19.296026</td>\n",
       "      <td>24.643281</td>\n",
       "    </tr>\n",
       "  </tbody>\n",
       "</table>\n",
       "</div>"
      ],
      "text/plain": [
       "          1h         3h         6h        12h        24h\n",
       "a  20.077738  30.042461  41.084931  57.402093  76.440792\n",
       "b   6.560461   9.253392  12.291069  19.296026  24.643281"
      ]
     },
     "execution_count": 13,
     "metadata": {},
     "output_type": "execute_result"
    }
   ],
   "source": [
    "abs_mle"
   ]
  },
  {
   "cell_type": "markdown",
   "metadata": {},
   "source": [
    "Ricordando che _a_ è un parametro di localizzazione e *b* è un parametro di scala, si può mostrare il valore all'interno di un DataFrame anche con il comando `at`"
   ]
  },
  {
   "cell_type": "code",
   "execution_count": 15,
   "metadata": {},
   "outputs": [
    {
     "data": {
      "text/plain": [
       "29.813330029222602"
      ]
     },
     "execution_count": 15,
     "metadata": {},
     "output_type": "execute_result"
    }
   ],
   "source": [
    "abs_m.at['a', '3h']"
   ]
  },
  {
   "cell_type": "markdown",
   "metadata": {},
   "source": [
    "Si crea la funzione `rv` che è definita come la funzione di gumbel che ha come input:\n",
    "* loc: il parametro di localizzazione __a__;\n",
    "* scale: il parametro di scala __b__.\n",
    "\n",
    "Per la durata di 1h"
   ]
  },
  {
   "cell_type": "code",
   "execution_count": 96,
   "metadata": {},
   "outputs": [],
   "source": [
    "rv = gumbel_r(loc = abs_m.at['a', '1h'], scale = abs_m.at['b', '1h'])"
   ]
  },
  {
   "cell_type": "markdown",
   "metadata": {},
   "source": [
    "Ora, si suddivide l'asse delle ordinate in 5 intervalli uguali di valore $0.2$ l'uno"
   ]
  },
  {
   "cell_type": "code",
   "execution_count": 97,
   "metadata": {},
   "outputs": [],
   "source": [
    "q = [.2, .4, .6, .8, 1]"
   ]
  },
  {
   "cell_type": "markdown",
   "metadata": {},
   "source": [
    "attraverso la funzione `ppf` che calcola l'inversa della funzione probabilità, dai valori di __q__ sulle ordinate si calcola i valori dell'altezza di precipitazione **h** relativa alla curva di durata definita.  \n",
    "Per la curva `rv` di 1h"
   ]
  },
  {
   "cell_type": "code",
   "execution_count": 98,
   "metadata": {},
   "outputs": [
    {
     "data": {
      "text/plain": [
       "array([16.3290678 , 20.49420758, 24.81461479, 30.93849669,         inf])"
      ]
     },
     "execution_count": 98,
     "metadata": {},
     "output_type": "execute_result"
    }
   ],
   "source": [
    "h1h = rv.ppf(q)\n",
    "h1h"
   ]
  },
  {
   "cell_type": "markdown",
   "metadata": {},
   "source": [
    "che sono i valori di precipitazione di probabilità di $0.2, 0.4, 0.6, 0.8, 1$ rispettivamente.  \n",
    "La probabilità di 1 corrisponde a una altezza di precipitazione infinita."
   ]
  },
  {
   "cell_type": "markdown",
   "metadata": {},
   "source": [
    "Immagazziniamo il numero di dati della durata di 1h nella seguente variabile"
   ]
  },
  {
   "cell_type": "code",
   "execution_count": 27,
   "metadata": {},
   "outputs": [
    {
     "data": {
      "text/plain": [
       "57"
      ]
     },
     "execution_count": 27,
     "metadata": {},
     "output_type": "execute_result"
    }
   ],
   "source": [
    "l1h = len(data['1h'])\n",
    "l1h"
   ]
  },
  {
   "cell_type": "markdown",
   "metadata": {},
   "source": [
    "Si deve valutare la seguente funzione\n",
    "$$\n",
    "\\large{X^2 = \\sum_{j = 1}^{k} \\dfrac{\\left(N_j -n\\left(P[H < h_{j+1}] - P[H < h_j]\\right)\\right)^2}{n\\left(P[H < h_{j+1}] - P[H < h_j\\right)}}\n",
    "$$\n",
    "dove \n",
    "* $k$ è il numero di intervalli (in questo caso $5$);\n",
    "* $N_j$ è il numero di dati presenti all'interno j-esimo intervallo;\n",
    "* $n$ è il numero totale di dati;\n",
    "* $P[H < h_{j+1}] - P[H < h_j]$ è semplicemente la dimensione dell'intervallo sull'asse delle ordinate (in questo caso $0.2$)\n",
    "\n",
    "Inoltre, \n",
    "\\begin{align*}\n",
    "    P[H < h_0] &= P[H<0]\\\\\n",
    "    P[H < h_{n+1}] &= P[H<\\infty]\n",
    "\\end{align*}\n",
    "\n",
    "Semplificando, essendo $k = 5$ e $P[H < h_{j+1}] - P[H < h_j] = 0.2$\n",
    "\n",
    "$$\n",
    "\\large{X^2 = \\dfrac{1}{0.2\\,n}\\,\\sum_{j = 1}^5 \\left(N_j - 0.2\\,n\\right)^2}\n",
    "$$\n",
    "\n",
    "Da qui, per ogni durata si deve scegliere le coppie di parametri __a__ e **b** che minimizzano $X^2$. I valori trovati saranno utilizzati per plottare le nuove curve di Gumbel ottimali.\n",
    "\n",
    "Applicandolo ai dati, ci si aspetta che il numero di dati (di 1h) in un intervallo sia il prodotto tra il numero totale di dati di 1h e la dimensione dell'intervallo.\n",
    "$$\n",
    "e = l1h \\cdot q %expected\n",
    "$$\n",
    "\n",
    "In realtà i dati non sono distribuiti omogeneamente e ogni intervallo può contenere un numero diverso di dati. Il numero di dati effettivamente presenti sono\n",
    "$$\n",
    "o = l1h \\cdot r\n",
    "$$\n",
    "dove $r = ecdf1h(h1h)$ è il valore della _empirical cumulative distribution function_ calcolato per l'altezza di precipitazione di 1h, cioè"
   ]
  },
  {
   "cell_type": "code",
   "execution_count": 30,
   "metadata": {},
   "outputs": [
    {
     "data": {
      "text/plain": [
       "array([0.21052632, 0.42105263, 0.59649123, 0.85964912, 1.        ])"
      ]
     },
     "execution_count": 30,
     "metadata": {},
     "output_type": "execute_result"
    }
   ],
   "source": [
    "ecdf1h = ECDF(data['1h'])\n",
    "r = ecdf1h(h1h)\n",
    "r"
   ]
  },
  {
   "cell_type": "code",
   "execution_count": 66,
   "metadata": {},
   "outputs": [
    {
     "data": {
      "text/plain": [
       "array([12., 24., 34., 49., 57.])"
      ]
     },
     "execution_count": 66,
     "metadata": {},
     "output_type": "execute_result"
    }
   ],
   "source": [
    "o0 = l1h * r\n",
    "o0"
   ]
  },
  {
   "cell_type": "markdown",
   "metadata": {},
   "source": [
    "La funzione `np.delete(arr, obj, ...)` prende come input un array e ne elimina un elemento. Ad esempio per eliminare l'ultimo elemento del vettore __o0__"
   ]
  },
  {
   "cell_type": "code",
   "execution_count": 67,
   "metadata": {},
   "outputs": [
    {
     "data": {
      "text/plain": [
       "array([12., 24., 34., 49.])"
      ]
     },
     "execution_count": 67,
     "metadata": {},
     "output_type": "execute_result"
    }
   ],
   "source": [
    "np.delete(o0, -1)"
   ]
  },
  {
   "cell_type": "markdown",
   "metadata": {},
   "source": [
    "Invece, la funzione `np.append(arr, values, ...)` aggiunge un valore all'array"
   ]
  },
  {
   "cell_type": "code",
   "execution_count": 69,
   "metadata": {},
   "outputs": [
    {
     "data": {
      "text/plain": [
       "array([12., 24., 34., 49., 57.,  1.])"
      ]
     },
     "execution_count": 69,
     "metadata": {},
     "output_type": "execute_result"
    }
   ],
   "source": [
    "np.append(o0, 1)"
   ]
  },
  {
   "cell_type": "markdown",
   "metadata": {},
   "source": [
    "Quello che si vuole fare è creare il vettore __o__ che modifica il vettore **o0**. In particolare al vettore **o0** viene tolto il seguente vettore"
   ]
  },
  {
   "cell_type": "code",
   "execution_count": 73,
   "metadata": {},
   "outputs": [
    {
     "data": {
      "text/plain": [
       "array([ 0., 12., 24., 34., 49.])"
      ]
     },
     "execution_count": 73,
     "metadata": {},
     "output_type": "execute_result"
    }
   ],
   "source": [
    "np.append([0], np.delete(o0, -1))"
   ]
  },
  {
   "cell_type": "markdown",
   "metadata": {},
   "source": [
    "che consiste in un vettore dove all'elemento $0$ viene aggiunto il vettore __o0__ dove è stato eliminato l'ultimo elemento.  \n",
    "Il vettore **o** diventa"
   ]
  },
  {
   "cell_type": "code",
   "execution_count": 85,
   "metadata": {},
   "outputs": [
    {
     "data": {
      "text/plain": [
       "array([12., 12., 10., 15.,  8.])"
      ]
     },
     "execution_count": 85,
     "metadata": {},
     "output_type": "execute_result"
    }
   ],
   "source": [
    "o = o0 - np.append([0], np.delete(o0, -1))\n",
    "o #observed"
   ]
  },
  {
   "cell_type": "markdown",
   "metadata": {},
   "source": [
    "Il numero di valori che ci si aspetta per ogni intervallo sono"
   ]
  },
  {
   "cell_type": "code",
   "execution_count": 86,
   "metadata": {},
   "outputs": [
    {
     "data": {
      "text/plain": [
       "[11.4, 11.4, 11.4, 11.4, 11.4]"
      ]
     },
     "execution_count": 86,
     "metadata": {},
     "output_type": "execute_result"
    }
   ],
   "source": [
    "e = [0.2 * l1h for i in range(len(r))]\n",
    "e"
   ]
  },
  {
   "cell_type": "markdown",
   "metadata": {},
   "source": [
    "distribuiti in modo omogeneo.\n",
    "\n",
    "La differenza tra i valori osservati e quelli che ci si aspettava è"
   ]
  },
  {
   "cell_type": "code",
   "execution_count": 88,
   "metadata": {},
   "outputs": [
    {
     "data": {
      "text/plain": [
       "array([ 0.6,  0.6, -1.4,  3.6, -3.4])"
      ]
     },
     "execution_count": 88,
     "metadata": {},
     "output_type": "execute_result"
    }
   ],
   "source": [
    "o-e"
   ]
  },
  {
   "cell_type": "markdown",
   "metadata": {},
   "source": [
    "e il suo quadrato vale"
   ]
  },
  {
   "cell_type": "code",
   "execution_count": 89,
   "metadata": {},
   "outputs": [
    {
     "data": {
      "text/plain": [
       "array([ 0.36,  0.36,  1.96, 12.96, 11.56])"
      ]
     },
     "execution_count": 89,
     "metadata": {},
     "output_type": "execute_result"
    }
   ],
   "source": [
    "(o-e)**2"
   ]
  },
  {
   "cell_type": "markdown",
   "metadata": {},
   "source": [
    "e dividendo per $e = 0.2 \\cdot n$ si ottiene"
   ]
  },
  {
   "cell_type": "code",
   "execution_count": 91,
   "metadata": {},
   "outputs": [
    {
     "data": {
      "text/plain": [
       "array([0.03157895, 0.03157895, 0.17192982, 1.13684211, 1.01403509])"
      ]
     },
     "execution_count": 91,
     "metadata": {},
     "output_type": "execute_result"
    }
   ],
   "source": [
    "(o-e)**2/e"
   ]
  },
  {
   "cell_type": "markdown",
   "metadata": {},
   "source": [
    "Infine, sommando ogni intervallo "
   ]
  },
  {
   "cell_type": "code",
   "execution_count": 94,
   "metadata": {},
   "outputs": [
    {
     "data": {
      "text/plain": [
       "2.385964912280696"
      ]
     },
     "execution_count": 94,
     "metadata": {},
     "output_type": "execute_result"
    }
   ],
   "source": [
    "((o-e)**2/e).sum()"
   ]
  },
  {
   "cell_type": "markdown",
   "metadata": {},
   "source": [
    "che corrisponde al valore di $X^2$ per la __durata di 1h__.\n",
    "\n",
    "$$\n",
    "\\Large X^2 = 2.385964912280696\n",
    "$$"
   ]
  },
  {
   "cell_type": "markdown",
   "metadata": {},
   "source": [
    "Il procedimento può essere automatizzato per ogni durata definendo la seguente funzione"
   ]
  },
  {
   "cell_type": "code",
   "execution_count": 117,
   "metadata": {},
   "outputs": [],
   "source": [
    "def X2(data, abs_t, h, delta):\n",
    "    dt = data[h].dropna()\n",
    "    lh = len(dt)\n",
    "    q = [delta*(i+1) for i in range(0, int(1/delta))]\n",
    "    rv = gumbel_r(loc = abs_t.at['a', h], scale = abs_t.at['b', h])\n",
    "    ecdf = ECDF(dt)\n",
    "    #r=ecdf(h1h), h1h=rv.ppf(q)\n",
    "    r = ecdf(rv.ppf(q))\n",
    "    o0 = lh * r\n",
    "    o = o0 - np.append([0], np.delete(o0, -1))\n",
    "    e = [delta * lh for i in range(len(r))]\n",
    "    return ((o-e)**2/e).sum()"
   ]
  },
  {
   "cell_type": "markdown",
   "metadata": {},
   "source": [
    "Applicandolo ai dati di 1h per il __metodo dei momenti__"
   ]
  },
  {
   "cell_type": "code",
   "execution_count": 118,
   "metadata": {},
   "outputs": [
    {
     "data": {
      "text/plain": [
       "2.385964912280696"
      ]
     },
     "execution_count": 118,
     "metadata": {},
     "output_type": "execute_result"
    }
   ],
   "source": [
    "X2(data, abs_m, '1h', 0.2)"
   ]
  },
  {
   "cell_type": "markdown",
   "metadata": {},
   "source": [
    "Per 3h"
   ]
  },
  {
   "cell_type": "code",
   "execution_count": 120,
   "metadata": {},
   "outputs": [
    {
     "data": {
      "text/plain": [
       "1.3333333333333333"
      ]
     },
     "execution_count": 120,
     "metadata": {},
     "output_type": "execute_result"
    }
   ],
   "source": [
    "X2(data, abs_m, '3h', 0.2)"
   ]
  },
  {
   "cell_type": "markdown",
   "metadata": {},
   "source": [
    "Per 6h"
   ]
  },
  {
   "cell_type": "code",
   "execution_count": 122,
   "metadata": {},
   "outputs": [
    {
     "data": {
      "text/plain": [
       "1.3333333333333284"
      ]
     },
     "execution_count": 122,
     "metadata": {},
     "output_type": "execute_result"
    }
   ],
   "source": [
    "X2(data, abs_m, '6h', 0.2)"
   ]
  },
  {
   "cell_type": "markdown",
   "metadata": {},
   "source": [
    "Per 12h"
   ]
  },
  {
   "cell_type": "code",
   "execution_count": 124,
   "metadata": {},
   "outputs": [
    {
     "data": {
      "text/plain": [
       "3.9999999999999947"
      ]
     },
     "execution_count": 124,
     "metadata": {},
     "output_type": "execute_result"
    }
   ],
   "source": [
    "X2(data, abs_m, '12h', 0.2)"
   ]
  },
  {
   "cell_type": "markdown",
   "metadata": {},
   "source": [
    "Per 24h"
   ]
  },
  {
   "cell_type": "code",
   "execution_count": 126,
   "metadata": {},
   "outputs": [
    {
     "data": {
      "text/plain": [
       "2.9122807017543857"
      ]
     },
     "execution_count": 126,
     "metadata": {},
     "output_type": "execute_result"
    }
   ],
   "source": [
    "X2(data, abs_m, '24h', 0.2)"
   ]
  },
  {
   "cell_type": "markdown",
   "metadata": {},
   "source": [
    "Applicandolo a tutti i metodi e stampandoli a schermo"
   ]
  },
  {
   "cell_type": "code",
   "execution_count": 138,
   "metadata": {},
   "outputs": [
    {
     "name": "stdout",
     "output_type": "stream",
     "text": [
      "\t\tm\t\tls\t\tmle\n",
      "\n",
      "1h : 2.385964912280696 3.43859649122807 1.3333333333333284\n",
      "3h : 1.3333333333333333 1.1578947368421004 0.8070175438596479\n",
      "6h : 1.3333333333333284 0.9824561403508723 2.0350877192982404\n",
      "12h : 3.9999999999999947 3.2857142857142856 5.964285714285708\n",
      "24h : 2.9122807017543857 2.56140350877193 1.5087719298245614\n"
     ]
    }
   ],
   "source": [
    "print('\\t\\tm\\t\\tls\\t\\tmle\\n')\n",
    "for h in data.columns:\n",
    "    print(h, ':', X2(data, abs_m, h, .2), X2(data, abs_ls, h, .2), X2(data, abs_mle, h, .2))"
   ]
  },
  {
   "cell_type": "markdown",
   "metadata": {},
   "source": [
    "Si devono scegliere i valori più bassi per ogni durata e si costruisce, attraverso un ciclo _for_, un DataFrame.  \n",
    "Si inizializza un vettore *a* nullo e, per ogni _h_ viene aggiornato il vettore *a* e immagazzinato nel DataFrame"
   ]
  },
  {
   "cell_type": "code",
   "execution_count": 142,
   "metadata": {},
   "outputs": [
    {
     "data": {
      "text/html": [
       "<div>\n",
       "<style scoped>\n",
       "    .dataframe tbody tr th:only-of-type {\n",
       "        vertical-align: middle;\n",
       "    }\n",
       "\n",
       "    .dataframe tbody tr th {\n",
       "        vertical-align: top;\n",
       "    }\n",
       "\n",
       "    .dataframe thead th {\n",
       "        text-align: right;\n",
       "    }\n",
       "</style>\n",
       "<table border=\"1\" class=\"dataframe\">\n",
       "  <thead>\n",
       "    <tr style=\"text-align: right;\">\n",
       "      <th></th>\n",
       "      <th>M</th>\n",
       "      <th>LS</th>\n",
       "      <th>MLE</th>\n",
       "    </tr>\n",
       "  </thead>\n",
       "  <tbody>\n",
       "    <tr>\n",
       "      <th>1h</th>\n",
       "      <td>2.385965</td>\n",
       "      <td>3.438596</td>\n",
       "      <td>1.333333</td>\n",
       "    </tr>\n",
       "    <tr>\n",
       "      <th>3h</th>\n",
       "      <td>1.333333</td>\n",
       "      <td>1.157895</td>\n",
       "      <td>0.807018</td>\n",
       "    </tr>\n",
       "    <tr>\n",
       "      <th>6h</th>\n",
       "      <td>1.333333</td>\n",
       "      <td>0.982456</td>\n",
       "      <td>2.035088</td>\n",
       "    </tr>\n",
       "    <tr>\n",
       "      <th>12h</th>\n",
       "      <td>4.000000</td>\n",
       "      <td>3.285714</td>\n",
       "      <td>5.964286</td>\n",
       "    </tr>\n",
       "    <tr>\n",
       "      <th>24h</th>\n",
       "      <td>2.912281</td>\n",
       "      <td>2.561404</td>\n",
       "      <td>1.508772</td>\n",
       "    </tr>\n",
       "  </tbody>\n",
       "</table>\n",
       "</div>"
      ],
      "text/plain": [
       "            M        LS       MLE\n",
       "1h   2.385965  3.438596  1.333333\n",
       "3h   1.333333  1.157895  0.807018\n",
       "6h   1.333333  0.982456  2.035088\n",
       "12h  4.000000  3.285714  5.964286\n",
       "24h  2.912281  2.561404  1.508772"
      ]
     },
     "execution_count": 142,
     "metadata": {},
     "output_type": "execute_result"
    }
   ],
   "source": [
    "a = []\n",
    "#------------------------------------------\n",
    "for h in data.columns:\n",
    "    a = a + [[X2(data, abs_m, h, .2), X2(data, abs_ls, h, .2), X2(data, abs_mle, h, .2)]]\n",
    "pd.DataFrame(a, index = ['1h', '3h', '6h', '12h', '24h'], columns = ['M', 'LS', 'MLE'])\n"
   ]
  },
  {
   "cell_type": "markdown",
   "metadata": {},
   "source": [
    "I valori più bassi vengono salvati nel DataFrame _best_"
   ]
  },
  {
   "cell_type": "code",
   "execution_count": 143,
   "metadata": {},
   "outputs": [
    {
     "data": {
      "text/html": [
       "<div>\n",
       "<style scoped>\n",
       "    .dataframe tbody tr th:only-of-type {\n",
       "        vertical-align: middle;\n",
       "    }\n",
       "\n",
       "    .dataframe tbody tr th {\n",
       "        vertical-align: top;\n",
       "    }\n",
       "\n",
       "    .dataframe thead th {\n",
       "        text-align: right;\n",
       "    }\n",
       "</style>\n",
       "<table border=\"1\" class=\"dataframe\">\n",
       "  <thead>\n",
       "    <tr style=\"text-align: right;\">\n",
       "      <th></th>\n",
       "      <th>1h</th>\n",
       "      <th>3h</th>\n",
       "      <th>6h</th>\n",
       "      <th>12h</th>\n",
       "      <th>24h</th>\n",
       "    </tr>\n",
       "  </thead>\n",
       "  <tbody>\n",
       "    <tr>\n",
       "      <th>a</th>\n",
       "      <td>20.077738</td>\n",
       "      <td>30.042461</td>\n",
       "      <td>40.251064</td>\n",
       "      <td>56.003733</td>\n",
       "      <td>76.440792</td>\n",
       "    </tr>\n",
       "    <tr>\n",
       "      <th>b</th>\n",
       "      <td>6.560461</td>\n",
       "      <td>9.253392</td>\n",
       "      <td>13.179424</td>\n",
       "      <td>17.798866</td>\n",
       "      <td>24.643281</td>\n",
       "    </tr>\n",
       "  </tbody>\n",
       "</table>\n",
       "</div>"
      ],
      "text/plain": [
       "          1h         3h         6h        12h        24h\n",
       "a  20.077738  30.042461  40.251064  56.003733  76.440792\n",
       "b   6.560461   9.253392  13.179424  17.798866  24.643281"
      ]
     },
     "execution_count": 143,
     "metadata": {},
     "output_type": "execute_result"
    }
   ],
   "source": [
    "best = pd.DataFrame([\n",
    "    abs_mle['1h'],\n",
    "    abs_mle['3h'],\n",
    "    abs_ls['6h'],\n",
    "    abs_ls['12h'],\n",
    "    abs_mle['24h']\n",
    "]).T\n",
    "#------------------------------\n",
    "best"
   ]
  },
  {
   "cell_type": "markdown",
   "metadata": {},
   "source": [
    "Che viene salvano nel file `best_parameters`"
   ]
  },
  {
   "cell_type": "code",
   "execution_count": 144,
   "metadata": {},
   "outputs": [],
   "source": [
    "best.to_pickle('best_parameters')"
   ]
  },
  {
   "cell_type": "code",
   "execution_count": 145,
   "metadata": {},
   "outputs": [
    {
     "data": {
      "text/plain": [
       "['.ipynb_checkpoints',\n",
       " 'abs_ls',\n",
       " 'abs_m',\n",
       " 'abs_mle',\n",
       " 'best_parameters',\n",
       " 'lsCenta.ipynb',\n",
       " 'massimePrecipitazioniCenta.csv',\n",
       " 'mleCenta.ipynb',\n",
       " 'momentiCenta.ipynb',\n",
       " 'pearsonCenta.ipynb']"
      ]
     },
     "execution_count": 145,
     "metadata": {},
     "output_type": "execute_result"
    }
   ],
   "source": [
    "os.listdir()"
   ]
  },
  {
   "cell_type": "markdown",
   "metadata": {},
   "source": [
    "['.ipynb_checkpoints',  \n",
    " 'abs_ls',  \n",
    " 'abs_m',  \n",
    " 'abs_mle',  \n",
    " '**best_parameters**',  \n",
    " 'lsCenta.ipynb',  \n",
    " 'massimePrecipitazioniCenta.csv',  \n",
    " 'mleCenta.ipynb',  \n",
    " 'momentiCenta.ipynb',  \n",
    " 'pearsonCenta.ipynb']\n"
   ]
  },
  {
   "cell_type": "markdown",
   "metadata": {},
   "source": [
    "## PLOT"
   ]
  },
  {
   "cell_type": "markdown",
   "metadata": {},
   "source": [
    "Si può procedere al plot delle curve di Gumbel definite con i migliori parametri.  \n",
    "Per prima cosa si deve definire la funzione di Gumbel nonché il solito vettore **t_rain** compreso tra i valori minimo e massimo di _data_"
   ]
  },
  {
   "cell_type": "code",
   "execution_count": 149,
   "metadata": {},
   "outputs": [],
   "source": [
    "def gumbel(x, abs_d, col):\n",
    "    return np.exp(- np.exp(-(x - abs_d[col]['a'])/abs_d[col]['b']))\n",
    "#--------------------------------------------------------------\n",
    "t_rain = np.linspace(data.min()['1h'], data.max()['24h'], 100)"
   ]
  },
  {
   "cell_type": "code",
   "execution_count": 151,
   "metadata": {},
   "outputs": [
    {
     "data": {
      "text/html": [
       "<div>\n",
       "<style scoped>\n",
       "    .dataframe tbody tr th:only-of-type {\n",
       "        vertical-align: middle;\n",
       "    }\n",
       "\n",
       "    .dataframe tbody tr th {\n",
       "        vertical-align: top;\n",
       "    }\n",
       "\n",
       "    .dataframe thead th {\n",
       "        text-align: right;\n",
       "    }\n",
       "</style>\n",
       "<table border=\"1\" class=\"dataframe\">\n",
       "  <thead>\n",
       "    <tr style=\"text-align: right;\">\n",
       "      <th></th>\n",
       "      <th>1h</th>\n",
       "      <th>3h</th>\n",
       "      <th>6h</th>\n",
       "      <th>12h</th>\n",
       "      <th>24h</th>\n",
       "    </tr>\n",
       "  </thead>\n",
       "  <tbody>\n",
       "    <tr>\n",
       "      <th>12.600000</th>\n",
       "      <td>0.043884</td>\n",
       "      <td>0.001379</td>\n",
       "      <td>0.000289</td>\n",
       "      <td>0.000011</td>\n",
       "      <td>0.000002</td>\n",
       "    </tr>\n",
       "    <tr>\n",
       "      <th>14.412121</th>\n",
       "      <td>0.093323</td>\n",
       "      <td>0.004450</td>\n",
       "      <td>0.000822</td>\n",
       "      <td>0.000032</td>\n",
       "      <td>0.000004</td>\n",
       "    </tr>\n",
       "    <tr>\n",
       "      <th>16.224242</th>\n",
       "      <td>0.165419</td>\n",
       "      <td>0.011657</td>\n",
       "      <td>0.002048</td>\n",
       "      <td>0.000087</td>\n",
       "      <td>0.000010</td>\n",
       "    </tr>\n",
       "    <tr>\n",
       "      <th>18.036364</th>\n",
       "      <td>0.255378</td>\n",
       "      <td>0.025731</td>\n",
       "      <td>0.004537</td>\n",
       "      <td>0.000216</td>\n",
       "      <td>0.000023</td>\n",
       "    </tr>\n",
       "    <tr>\n",
       "      <th>19.848485</th>\n",
       "      <td>0.355027</td>\n",
       "      <td>0.049335</td>\n",
       "      <td>0.009074</td>\n",
       "      <td>0.000489</td>\n",
       "      <td>0.000048</td>\n",
       "    </tr>\n",
       "    <tr>\n",
       "      <th>...</th>\n",
       "      <td>...</td>\n",
       "      <td>...</td>\n",
       "      <td>...</td>\n",
       "      <td>...</td>\n",
       "      <td>...</td>\n",
       "    </tr>\n",
       "    <tr>\n",
       "      <th>184.751515</th>\n",
       "      <td>1.000000</td>\n",
       "      <td>1.000000</td>\n",
       "      <td>0.999983</td>\n",
       "      <td>0.999278</td>\n",
       "      <td>0.987739</td>\n",
       "    </tr>\n",
       "    <tr>\n",
       "      <th>186.563636</th>\n",
       "      <td>1.000000</td>\n",
       "      <td>1.000000</td>\n",
       "      <td>0.999985</td>\n",
       "      <td>0.999348</td>\n",
       "      <td>0.988603</td>\n",
       "    </tr>\n",
       "    <tr>\n",
       "      <th>188.375758</th>\n",
       "      <td>1.000000</td>\n",
       "      <td>1.000000</td>\n",
       "      <td>0.999987</td>\n",
       "      <td>0.999411</td>\n",
       "      <td>0.989407</td>\n",
       "    </tr>\n",
       "    <tr>\n",
       "      <th>190.187879</th>\n",
       "      <td>1.000000</td>\n",
       "      <td>1.000000</td>\n",
       "      <td>0.999989</td>\n",
       "      <td>0.999468</td>\n",
       "      <td>0.990154</td>\n",
       "    </tr>\n",
       "    <tr>\n",
       "      <th>192.000000</th>\n",
       "      <td>1.000000</td>\n",
       "      <td>1.000000</td>\n",
       "      <td>0.999990</td>\n",
       "      <td>0.999520</td>\n",
       "      <td>0.990849</td>\n",
       "    </tr>\n",
       "  </tbody>\n",
       "</table>\n",
       "<p>100 rows × 5 columns</p>\n",
       "</div>"
      ],
      "text/plain": [
       "                  1h        3h        6h       12h       24h\n",
       "12.600000   0.043884  0.001379  0.000289  0.000011  0.000002\n",
       "14.412121   0.093323  0.004450  0.000822  0.000032  0.000004\n",
       "16.224242   0.165419  0.011657  0.002048  0.000087  0.000010\n",
       "18.036364   0.255378  0.025731  0.004537  0.000216  0.000023\n",
       "19.848485   0.355027  0.049335  0.009074  0.000489  0.000048\n",
       "...              ...       ...       ...       ...       ...\n",
       "184.751515  1.000000  1.000000  0.999983  0.999278  0.987739\n",
       "186.563636  1.000000  1.000000  0.999985  0.999348  0.988603\n",
       "188.375758  1.000000  1.000000  0.999987  0.999411  0.989407\n",
       "190.187879  1.000000  1.000000  0.999989  0.999468  0.990154\n",
       "192.000000  1.000000  1.000000  0.999990  0.999520  0.990849\n",
       "\n",
       "[100 rows x 5 columns]"
      ]
     },
     "execution_count": 151,
     "metadata": {},
     "output_type": "execute_result"
    }
   ],
   "source": [
    "gb = pd.DataFrame([\n",
    "    gumbel(t_rain, best, '1h'),\n",
    "    gumbel(t_rain, best, '3h'),\n",
    "    gumbel(t_rain, best, '6h'),\n",
    "    gumbel(t_rain, best, '12h'),\n",
    "    gumbel(t_rain, best, '24h')\n",
    "]).T\n",
    "\n",
    "#-------------------------------------------\n",
    "gb.index = t_rain\n",
    "gb.columns = ['1h', '3h', '6h', '12h', '24h']\n",
    "\n",
    "#-------------------------------------------\n",
    "gb"
   ]
  },
  {
   "cell_type": "markdown",
   "metadata": {},
   "source": [
    "### Plot"
   ]
  },
  {
   "cell_type": "code",
   "execution_count": 163,
   "metadata": {},
   "outputs": [
    {
     "data": {
      "image/png": "[encoded data removed]",
      "text/plain": [
       "<Figure size 432x288 with 1 Axes>"
      ]
     },
     "metadata": {
      "needs_background": "light"
     },
     "output_type": "display_data"
    }
   ],
   "source": [
    "plt.rc('xtick', labelsize = 20)\n",
    "plt.rc('ytick', labelsize = 20)\n",
    "\n",
    "#----------------plot---------------\n",
    "\n",
    "ax = gb.plot(color = ['red', 'green', 'blue', 'magenta', 'black'])\n",
    "\n",
    "#--------------1h--------------------\n",
    "data1h = data['1h'].dropna()\n",
    "ecdf1h = ECDF(data1h)\n",
    "ax.plot(data1h, ecdf1h(data1h), 'o', c = 'red')\n",
    "\n",
    "#--------------3h--------------------\n",
    "data3h = data['3h'].dropna()\n",
    "ecdf3h = ECDF(data3h)\n",
    "ax.plot(data3h, ecdf3h(data3h), 'o', c = 'green')\n",
    "\n",
    "#--------------6h--------------------\n",
    "data6h = data['6h'].dropna()\n",
    "ecdf6h = ECDF(data6h)\n",
    "ax.plot(data6h, ecdf6h(data6h), 'o', c = 'blue')\n",
    "\n",
    "#--------------12h-------------------\n",
    "data12h = data['12h'].dropna()\n",
    "ecdf12h = ECDF(data12h)\n",
    "ax.plot(data12h, ecdf12h(data12h), 'o', c = 'magenta')\n",
    "\n",
    "#--------------24h-------------------\n",
    "data24h = data['24h'].dropna()\n",
    "ecdf24h = ECDF(data24h)\n",
    "ax.plot(data24h, ecdf24h(data24h), 'o', c = 'black')\n",
    "\n",
    "#------------------------------------\n",
    "ax.set_title('Probability Distribution Function of Rainfall\\nBest Parameters')\n",
    "ax.set_xlabel('Rainfall [mm]')\n",
    "ax.set_ylabel('P[H < h]')\n",
    "ax.legend(loc = 4)\n",
    "\n",
    "#------------------------------------\n",
    "plt.show()"
   ]
  }
 ],
 "metadata": {
  "kernelspec": {
   "display_name": "Python 3",
   "language": "python",
   "name": "python3"
  },
  "language_info": {
   "codemirror_mode": {
    "name": "ipython",
    "version": 3
   },
   "file_extension": ".py",
   "mimetype": "text/x-python",
   "name": "python",
   "nbconvert_exporter": "python",
   "pygments_lexer": "ipython3",
   "version": "3.7.1"
  }
 },
 "nbformat": 4,
 "nbformat_minor": 2
}
