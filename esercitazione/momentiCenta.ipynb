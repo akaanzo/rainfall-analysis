{
 "cells": [
  {
   "cell_type": "markdown",
   "metadata": {},
   "source": [
    "# Metodo dei Momenti applicato ai dati di Centa San Nicolò"
   ]
  },
  {
   "cell_type": "markdown",
   "metadata": {},
   "source": [
    "Matteo Franzoi - Andrea Rebellato - 2019-03-22"
   ]
  },
  {
   "cell_type": "markdown",
   "metadata": {},
   "source": [
    "---"
   ]
  },
  {
   "cell_type": "markdown",
   "metadata": {},
   "source": [
    "Per prima cosa si importano le librerie necessarie"
   ]
  },
  {
   "cell_type": "code",
   "execution_count": 29,
   "metadata": {},
   "outputs": [],
   "source": [
    "import os\n",
    "from pandas import *\n",
    "import pandas as pd\n",
    "from numpy import *\n",
    "import numpy as np\n",
    "import scipy\n",
    "import matplotlib.pyplot as plt\n",
    "%matplotlib inline\n",
    "import math\n",
    "from datetime import datetime\n",
    "from scipy.stats import genextreme, gumbel_r\n",
    "from numpy import linspace\n",
    "from statsmodels.distributions.empirical_distribution import ECDF"
   ]
  },
  {
   "cell_type": "markdown",
   "metadata": {},
   "source": [
    "La cartella di lavoro è"
   ]
  },
  {
   "cell_type": "code",
   "execution_count": 30,
   "metadata": {},
   "outputs": [
    {
     "data": {
      "text/plain": [
       "'/media/data/jupyter/esercitazione'"
      ]
     },
     "execution_count": 30,
     "metadata": {},
     "output_type": "execute_result"
    }
   ],
   "source": [
    "os.getcwd()"
   ]
  },
  {
   "cell_type": "markdown",
   "metadata": {},
   "source": [
    "e contiene il file *csv* che serve"
   ]
  },
  {
   "cell_type": "code",
   "execution_count": 31,
   "metadata": {},
   "outputs": [
    {
     "data": {
      "text/plain": [
       "['.ipynb_checkpoints',\n",
       " 'abs_ls',\n",
       " 'abs_m',\n",
       " 'abs_mle',\n",
       " 'best_parameters',\n",
       " 'lsCenta.ipynb',\n",
       " 'lsppCenta.ipynb',\n",
       " 'massimePrecipitazioniCenta.csv',\n",
       " 'mleCenta.ipynb',\n",
       " 'momentiCenta.ipynb',\n",
       " 'pearsonCenta.ipynb']"
      ]
     },
     "execution_count": 31,
     "metadata": {},
     "output_type": "execute_result"
    }
   ],
   "source": [
    "os.listdir()"
   ]
  },
  {
   "cell_type": "markdown",
   "metadata": {},
   "source": [
    "['.ipynb_checkpoints',  \n",
    " 'abs_ls',  \n",
    " 'abs_m',  \n",
    " 'abs_mle',  \n",
    " 'lsCenta.ipynb',  \n",
    " '**massimePrecipitazioniCenta.csv**',  \n",
    " 'mleCenta.ipynb',  \n",
    " 'momentiCenta.ipynb']"
   ]
  },
  {
   "cell_type": "markdown",
   "metadata": {},
   "source": [
    "Attraverso i pandas è possibile leggere il file *csv* e immagazzinarlo nella variabile data.  \n",
    "In seguito, viene settato come indice l'anno"
   ]
  },
  {
   "cell_type": "code",
   "execution_count": 32,
   "metadata": {},
   "outputs": [
    {
     "data": {
      "text/html": [
       "<div>\n",
       "<style scoped>\n",
       "    .dataframe tbody tr th:only-of-type {\n",
       "        vertical-align: middle;\n",
       "    }\n",
       "\n",
       "    .dataframe tbody tr th {\n",
       "        vertical-align: top;\n",
       "    }\n",
       "\n",
       "    .dataframe thead th {\n",
       "        text-align: right;\n",
       "    }\n",
       "</style>\n",
       "<table border=\"1\" class=\"dataframe\">\n",
       "  <thead>\n",
       "    <tr style=\"text-align: right;\">\n",
       "      <th></th>\n",
       "      <th>15min</th>\n",
       "      <th>30min</th>\n",
       "      <th>45min</th>\n",
       "      <th>1h</th>\n",
       "      <th>3h</th>\n",
       "      <th>6h</th>\n",
       "      <th>12h</th>\n",
       "      <th>24h</th>\n",
       "    </tr>\n",
       "    <tr>\n",
       "      <th>anno</th>\n",
       "      <th></th>\n",
       "      <th></th>\n",
       "      <th></th>\n",
       "      <th></th>\n",
       "      <th></th>\n",
       "      <th></th>\n",
       "      <th></th>\n",
       "      <th></th>\n",
       "    </tr>\n",
       "  </thead>\n",
       "  <tbody>\n",
       "    <tr>\n",
       "      <th>1934</th>\n",
       "      <td>NaN</td>\n",
       "      <td>NaN</td>\n",
       "      <td>NaN</td>\n",
       "      <td>22.6</td>\n",
       "      <td>42.0</td>\n",
       "      <td>56.6</td>\n",
       "      <td>58.8</td>\n",
       "      <td>85.0</td>\n",
       "    </tr>\n",
       "    <tr>\n",
       "      <th>1935</th>\n",
       "      <td>NaN</td>\n",
       "      <td>NaN</td>\n",
       "      <td>NaN</td>\n",
       "      <td>17.8</td>\n",
       "      <td>32.6</td>\n",
       "      <td>54.2</td>\n",
       "      <td>63.6</td>\n",
       "      <td>88.0</td>\n",
       "    </tr>\n",
       "    <tr>\n",
       "      <th>1936</th>\n",
       "      <td>NaN</td>\n",
       "      <td>NaN</td>\n",
       "      <td>NaN</td>\n",
       "      <td>15.8</td>\n",
       "      <td>28.0</td>\n",
       "      <td>41.4</td>\n",
       "      <td>72.0</td>\n",
       "      <td>85.2</td>\n",
       "    </tr>\n",
       "    <tr>\n",
       "      <th>1937</th>\n",
       "      <td>NaN</td>\n",
       "      <td>NaN</td>\n",
       "      <td>NaN</td>\n",
       "      <td>27.8</td>\n",
       "      <td>35.6</td>\n",
       "      <td>38.2</td>\n",
       "      <td>58.4</td>\n",
       "      <td>62.6</td>\n",
       "    </tr>\n",
       "    <tr>\n",
       "      <th>1938</th>\n",
       "      <td>NaN</td>\n",
       "      <td>NaN</td>\n",
       "      <td>NaN</td>\n",
       "      <td>15.0</td>\n",
       "      <td>21.4</td>\n",
       "      <td>32.0</td>\n",
       "      <td>56.0</td>\n",
       "      <td>83.0</td>\n",
       "    </tr>\n",
       "    <tr>\n",
       "      <th>1939</th>\n",
       "      <td>NaN</td>\n",
       "      <td>NaN</td>\n",
       "      <td>NaN</td>\n",
       "      <td>29.4</td>\n",
       "      <td>36.2</td>\n",
       "      <td>61.0</td>\n",
       "      <td>115.2</td>\n",
       "      <td>117.8</td>\n",
       "    </tr>\n",
       "    <tr>\n",
       "      <th>1940</th>\n",
       "      <td>NaN</td>\n",
       "      <td>NaN</td>\n",
       "      <td>NaN</td>\n",
       "      <td>28.8</td>\n",
       "      <td>67.0</td>\n",
       "      <td>94.0</td>\n",
       "      <td>119.0</td>\n",
       "      <td>135.2</td>\n",
       "    </tr>\n",
       "    <tr>\n",
       "      <th>1941</th>\n",
       "      <td>NaN</td>\n",
       "      <td>NaN</td>\n",
       "      <td>NaN</td>\n",
       "      <td>14.2</td>\n",
       "      <td>21.0</td>\n",
       "      <td>25.6</td>\n",
       "      <td>44.0</td>\n",
       "      <td>51.0</td>\n",
       "    </tr>\n",
       "    <tr>\n",
       "      <th>1942</th>\n",
       "      <td>NaN</td>\n",
       "      <td>NaN</td>\n",
       "      <td>NaN</td>\n",
       "      <td>27.0</td>\n",
       "      <td>42.0</td>\n",
       "      <td>66.2</td>\n",
       "      <td>82.6</td>\n",
       "      <td>85.6</td>\n",
       "    </tr>\n",
       "    <tr>\n",
       "      <th>1946</th>\n",
       "      <td>NaN</td>\n",
       "      <td>NaN</td>\n",
       "      <td>NaN</td>\n",
       "      <td>18.0</td>\n",
       "      <td>32.0</td>\n",
       "      <td>46.2</td>\n",
       "      <td>58.0</td>\n",
       "      <td>74.4</td>\n",
       "    </tr>\n",
       "    <tr>\n",
       "      <th>...</th>\n",
       "      <td>...</td>\n",
       "      <td>...</td>\n",
       "      <td>...</td>\n",
       "      <td>...</td>\n",
       "      <td>...</td>\n",
       "      <td>...</td>\n",
       "      <td>...</td>\n",
       "      <td>...</td>\n",
       "    </tr>\n",
       "    <tr>\n",
       "      <th>1991</th>\n",
       "      <td>NaN</td>\n",
       "      <td>16.0</td>\n",
       "      <td>18.6</td>\n",
       "      <td>18.6</td>\n",
       "      <td>24.0</td>\n",
       "      <td>45.5</td>\n",
       "      <td>75.8</td>\n",
       "      <td>105.6</td>\n",
       "    </tr>\n",
       "    <tr>\n",
       "      <th>1992</th>\n",
       "      <td>NaN</td>\n",
       "      <td>8.0</td>\n",
       "      <td>10.0</td>\n",
       "      <td>13.4</td>\n",
       "      <td>20.6</td>\n",
       "      <td>34.6</td>\n",
       "      <td>60.0</td>\n",
       "      <td>77.8</td>\n",
       "    </tr>\n",
       "    <tr>\n",
       "      <th>1997</th>\n",
       "      <td>8.8</td>\n",
       "      <td>10.4</td>\n",
       "      <td>12.8</td>\n",
       "      <td>13.8</td>\n",
       "      <td>23.8</td>\n",
       "      <td>37.6</td>\n",
       "      <td>61.4</td>\n",
       "      <td>70.6</td>\n",
       "    </tr>\n",
       "    <tr>\n",
       "      <th>1998</th>\n",
       "      <td>13.6</td>\n",
       "      <td>20.2</td>\n",
       "      <td>24.2</td>\n",
       "      <td>29.6</td>\n",
       "      <td>34.0</td>\n",
       "      <td>48.4</td>\n",
       "      <td>66.2</td>\n",
       "      <td>80.2</td>\n",
       "    </tr>\n",
       "    <tr>\n",
       "      <th>1999</th>\n",
       "      <td>21.0</td>\n",
       "      <td>26.6</td>\n",
       "      <td>29.0</td>\n",
       "      <td>36.4</td>\n",
       "      <td>69.2</td>\n",
       "      <td>70.8</td>\n",
       "      <td>119.4</td>\n",
       "      <td>134.6</td>\n",
       "    </tr>\n",
       "    <tr>\n",
       "      <th>2000</th>\n",
       "      <td>23.2</td>\n",
       "      <td>33.0</td>\n",
       "      <td>34.8</td>\n",
       "      <td>36.4</td>\n",
       "      <td>42.2</td>\n",
       "      <td>52.8</td>\n",
       "      <td>90.0</td>\n",
       "      <td>120.4</td>\n",
       "    </tr>\n",
       "    <tr>\n",
       "      <th>2003</th>\n",
       "      <td>16.2</td>\n",
       "      <td>27.0</td>\n",
       "      <td>34.8</td>\n",
       "      <td>37.4</td>\n",
       "      <td>38.8</td>\n",
       "      <td>62.8</td>\n",
       "      <td>101.0</td>\n",
       "      <td>121.6</td>\n",
       "    </tr>\n",
       "    <tr>\n",
       "      <th>2004</th>\n",
       "      <td>25.8</td>\n",
       "      <td>37.4</td>\n",
       "      <td>40.2</td>\n",
       "      <td>42.2</td>\n",
       "      <td>43.0</td>\n",
       "      <td>45.2</td>\n",
       "      <td>57.6</td>\n",
       "      <td>80.4</td>\n",
       "    </tr>\n",
       "    <tr>\n",
       "      <th>2005</th>\n",
       "      <td>11.4</td>\n",
       "      <td>15.6</td>\n",
       "      <td>17.0</td>\n",
       "      <td>18.4</td>\n",
       "      <td>27.2</td>\n",
       "      <td>35.2</td>\n",
       "      <td>43.8</td>\n",
       "      <td>44.6</td>\n",
       "    </tr>\n",
       "    <tr>\n",
       "      <th>2006</th>\n",
       "      <td>9.8</td>\n",
       "      <td>13.4</td>\n",
       "      <td>16.6</td>\n",
       "      <td>17.6</td>\n",
       "      <td>36.6</td>\n",
       "      <td>51.0</td>\n",
       "      <td>55.8</td>\n",
       "      <td>68.0</td>\n",
       "    </tr>\n",
       "  </tbody>\n",
       "</table>\n",
       "<p>57 rows × 8 columns</p>\n",
       "</div>"
      ],
      "text/plain": [
       "      15min  30min  45min    1h    3h    6h    12h    24h\n",
       "anno                                                     \n",
       "1934    NaN    NaN    NaN  22.6  42.0  56.6   58.8   85.0\n",
       "1935    NaN    NaN    NaN  17.8  32.6  54.2   63.6   88.0\n",
       "1936    NaN    NaN    NaN  15.8  28.0  41.4   72.0   85.2\n",
       "1937    NaN    NaN    NaN  27.8  35.6  38.2   58.4   62.6\n",
       "1938    NaN    NaN    NaN  15.0  21.4  32.0   56.0   83.0\n",
       "1939    NaN    NaN    NaN  29.4  36.2  61.0  115.2  117.8\n",
       "1940    NaN    NaN    NaN  28.8  67.0  94.0  119.0  135.2\n",
       "1941    NaN    NaN    NaN  14.2  21.0  25.6   44.0   51.0\n",
       "1942    NaN    NaN    NaN  27.0  42.0  66.2   82.6   85.6\n",
       "1946    NaN    NaN    NaN  18.0  32.0  46.2   58.0   74.4\n",
       "...     ...    ...    ...   ...   ...   ...    ...    ...\n",
       "1991    NaN   16.0   18.6  18.6  24.0  45.5   75.8  105.6\n",
       "1992    NaN    8.0   10.0  13.4  20.6  34.6   60.0   77.8\n",
       "1997    8.8   10.4   12.8  13.8  23.8  37.6   61.4   70.6\n",
       "1998   13.6   20.2   24.2  29.6  34.0  48.4   66.2   80.2\n",
       "1999   21.0   26.6   29.0  36.4  69.2  70.8  119.4  134.6\n",
       "2000   23.2   33.0   34.8  36.4  42.2  52.8   90.0  120.4\n",
       "2003   16.2   27.0   34.8  37.4  38.8  62.8  101.0  121.6\n",
       "2004   25.8   37.4   40.2  42.2  43.0  45.2   57.6   80.4\n",
       "2005   11.4   15.6   17.0  18.4  27.2  35.2   43.8   44.6\n",
       "2006    9.8   13.4   16.6  17.6  36.6  51.0   55.8   68.0\n",
       "\n",
       "[57 rows x 8 columns]"
      ]
     },
     "execution_count": 32,
     "metadata": {},
     "output_type": "execute_result"
    }
   ],
   "source": [
    "pd.set_option('display.max_rows', 20)\n",
    "data = read_csv('massimePrecipitazioniCenta.csv')\n",
    "map(datetime, data['anno'])\n",
    "data = data.set_index('anno')\n",
    "data"
   ]
  },
  {
   "cell_type": "markdown",
   "metadata": {},
   "source": [
    "Per il metodo dei momenti è necessario calcolare la media e la deviazione standard del DataFrame **data**, per ogni valore di durata"
   ]
  },
  {
   "cell_type": "code",
   "execution_count": 33,
   "metadata": {},
   "outputs": [
    {
     "data": {
      "text/plain": [
       "15min    13.968750\n",
       "30min    18.336842\n",
       "45min    21.312500\n",
       "1h       24.115789\n",
       "3h       35.736842\n",
       "6h       48.394737\n",
       "12h      69.085714\n",
       "24h      91.577193\n",
       "dtype: float64"
      ]
     },
     "execution_count": 33,
     "metadata": {},
     "output_type": "execute_result"
    }
   ],
   "source": [
    "means = np.mean(data)\n",
    "means"
   ]
  },
  {
   "cell_type": "code",
   "execution_count": 34,
   "metadata": {},
   "outputs": [
    {
     "data": {
      "text/plain": [
       "15min      29.819637\n",
       "30min      54.748336\n",
       "45min      72.085000\n",
       "1h         89.932782\n",
       "3h        173.233083\n",
       "6h        272.360865\n",
       "12h       730.971429\n",
       "24h      1215.426792\n",
       "dtype: float64"
      ]
     },
     "execution_count": 34,
     "metadata": {},
     "output_type": "execute_result"
    }
   ],
   "source": [
    "variances = data.var()\n",
    "variances"
   ]
  },
  {
   "cell_type": "code",
   "execution_count": 35,
   "metadata": {},
   "outputs": [
    {
     "data": {
      "text/plain": [
       "15min     5.460736\n",
       "30min     7.399212\n",
       "45min     8.490289\n",
       "1h        9.483290\n",
       "3h       13.161804\n",
       "6h       16.503359\n",
       "12h      27.036483\n",
       "24h      34.862972\n",
       "dtype: float64"
      ]
     },
     "execution_count": 35,
     "metadata": {},
     "output_type": "execute_result"
    }
   ],
   "source": [
    "stds = data.std()\n",
    "stds"
   ]
  },
  {
   "cell_type": "markdown",
   "metadata": {},
   "source": [
    "Dal metodo dei momenti risulta un sistema di due equazioni in due incognite *a* e _b_, dove"
   ]
  },
  {
   "cell_type": "code",
   "execution_count": 36,
   "metadata": {},
   "outputs": [
    {
     "data": {
      "text/plain": [
       "0.779696801233676"
      ]
     },
     "execution_count": 36,
     "metadata": {},
     "output_type": "execute_result"
    }
   ],
   "source": [
    "b = math.sqrt(6) / math.pi\n",
    "b"
   ]
  },
  {
   "cell_type": "code",
   "execution_count": 37,
   "metadata": {},
   "outputs": [
    {
     "data": {
      "text/plain": [
       "0.4500532075456946"
      ]
     },
     "execution_count": 37,
     "metadata": {},
     "output_type": "execute_result"
    }
   ],
   "source": [
    "EulerGamma = 0.577215664901532860606512090\n",
    "#-------------------------------------------\n",
    "b * EulerGamma "
   ]
  },
  {
   "cell_type": "markdown",
   "metadata": {},
   "source": [
    "Si definisce la funzione **g** che ha come input la media e la deviazione standard e come output il DataFrame che contiene i valori di _a_ e *b* per ogni durata"
   ]
  },
  {
   "cell_type": "code",
   "execution_count": 38,
   "metadata": {},
   "outputs": [],
   "source": [
    "def g(m, s):\n",
    "    return pd.DataFrame([m - b * EulerGamma * s, b * s], index = ['a', 'b'])"
   ]
  },
  {
   "cell_type": "markdown",
   "metadata": {},
   "source": [
    "Ricordando che _a_ è un parametro di posizione e *b* è un parametro di scala, il DataFrame che contiene i parametri calcolati con il metodo dei momenti è"
   ]
  },
  {
   "cell_type": "code",
   "execution_count": 39,
   "metadata": {},
   "outputs": [
    {
     "data": {
      "text/html": [
       "<div>\n",
       "<style scoped>\n",
       "    .dataframe tbody tr th:only-of-type {\n",
       "        vertical-align: middle;\n",
       "    }\n",
       "\n",
       "    .dataframe tbody tr th {\n",
       "        vertical-align: top;\n",
       "    }\n",
       "\n",
       "    .dataframe thead th {\n",
       "        text-align: right;\n",
       "    }\n",
       "</style>\n",
       "<table border=\"1\" class=\"dataframe\">\n",
       "  <thead>\n",
       "    <tr style=\"text-align: right;\">\n",
       "      <th></th>\n",
       "      <th>15min</th>\n",
       "      <th>30min</th>\n",
       "      <th>45min</th>\n",
       "      <th>1h</th>\n",
       "      <th>3h</th>\n",
       "      <th>6h</th>\n",
       "      <th>12h</th>\n",
       "      <th>24h</th>\n",
       "    </tr>\n",
       "  </thead>\n",
       "  <tbody>\n",
       "    <tr>\n",
       "      <th>a</th>\n",
       "      <td>11.511128</td>\n",
       "      <td>15.006803</td>\n",
       "      <td>17.491418</td>\n",
       "      <td>19.847805</td>\n",
       "      <td>29.813330</td>\n",
       "      <td>40.967347</td>\n",
       "      <td>56.917858</td>\n",
       "      <td>75.887001</td>\n",
       "    </tr>\n",
       "    <tr>\n",
       "      <th>b</th>\n",
       "      <td>4.257718</td>\n",
       "      <td>5.769142</td>\n",
       "      <td>6.619851</td>\n",
       "      <td>7.394091</td>\n",
       "      <td>10.262216</td>\n",
       "      <td>12.867616</td>\n",
       "      <td>21.080260</td>\n",
       "      <td>27.182547</td>\n",
       "    </tr>\n",
       "  </tbody>\n",
       "</table>\n",
       "</div>"
      ],
      "text/plain": [
       "       15min      30min      45min         1h         3h         6h  \\\n",
       "a  11.511128  15.006803  17.491418  19.847805  29.813330  40.967347   \n",
       "b   4.257718   5.769142   6.619851   7.394091  10.262216  12.867616   \n",
       "\n",
       "         12h        24h  \n",
       "a  56.917858  75.887001  \n",
       "b  21.080260  27.182547  "
      ]
     },
     "execution_count": 39,
     "metadata": {},
     "output_type": "execute_result"
    }
   ],
   "source": [
    "abs_m = g(means, stds)\n",
    "abs_m"
   ]
  },
  {
   "cell_type": "markdown",
   "metadata": {},
   "source": [
    "È possibile salvare il DataFrame in un file per usarlo in seguito"
   ]
  },
  {
   "cell_type": "code",
   "execution_count": 40,
   "metadata": {},
   "outputs": [],
   "source": [
    "abs_m.to_pickle('abs_m')"
   ]
  },
  {
   "cell_type": "code",
   "execution_count": 41,
   "metadata": {},
   "outputs": [
    {
     "data": {
      "text/plain": [
       "['.ipynb_checkpoints',\n",
       " 'abs_ls',\n",
       " 'abs_m',\n",
       " 'abs_mle',\n",
       " 'best_parameters',\n",
       " 'lsCenta.ipynb',\n",
       " 'lsppCenta.ipynb',\n",
       " 'massimePrecipitazioniCenta.csv',\n",
       " 'mleCenta.ipynb',\n",
       " 'momentiCenta.ipynb',\n",
       " 'pearsonCenta.ipynb']"
      ]
     },
     "execution_count": 41,
     "metadata": {},
     "output_type": "execute_result"
    }
   ],
   "source": [
    "os.listdir()"
   ]
  },
  {
   "cell_type": "markdown",
   "metadata": {},
   "source": [
    "['.ipynb_checkpoints',  \n",
    " 'abs_ls',  \n",
    " '**abs_m**',  \n",
    " 'abs_mle',  \n",
    " 'lsCenta.ipynb',  \n",
    " 'massimePrecipitazioniCenta.csv',  \n",
    " 'mleCenta.ipynb',  \n",
    " 'momentiCenta.ipynb']"
   ]
  },
  {
   "cell_type": "markdown",
   "metadata": {},
   "source": [
    "Si definisce la curva di Gumbel dalla sua definizione\n",
    "$$\n",
    "\\Large{e^{-e^{-\\frac{h-a}{b}}}}\n",
    "$$\n",
    "La funzione ha come input il vettore **x** delle altezze di precipitazione, il generico DataFrame __abs_d__ e la colonna riferita ai valori di durata"
   ]
  },
  {
   "cell_type": "code",
   "execution_count": 42,
   "metadata": {},
   "outputs": [],
   "source": [
    "def gumbel(x, abs_d, col):\n",
    "    return np.exp(-np.exp(-(x - abs_d[col]['a']) / abs_d[col]['b']))"
   ]
  },
  {
   "cell_type": "markdown",
   "metadata": {},
   "source": [
    "Ora, si crea un vettore **t_rain** di 100 elementi che contiene tutti i valori compresi tra il minimo e il massimo di precipitazione fra tutte le durate.  \n",
    "Il valore minimo sarà quello riferito a 15min"
   ]
  },
  {
   "cell_type": "code",
   "execution_count": 43,
   "metadata": {},
   "outputs": [
    {
     "data": {
      "text/plain": [
       "15min     5.2\n",
       "30min     8.0\n",
       "45min     9.6\n",
       "1h       12.6\n",
       "3h       20.0\n",
       "6h       24.0\n",
       "12h      24.2\n",
       "24h      43.6\n",
       "dtype: float64"
      ]
     },
     "execution_count": 43,
     "metadata": {},
     "output_type": "execute_result"
    }
   ],
   "source": [
    "data.min()"
   ]
  },
  {
   "cell_type": "code",
   "execution_count": 44,
   "metadata": {},
   "outputs": [
    {
     "data": {
      "text/plain": [
       "5.2"
      ]
     },
     "execution_count": 44,
     "metadata": {},
     "output_type": "execute_result"
    }
   ],
   "source": [
    "data.min()['15min']"
   ]
  },
  {
   "cell_type": "markdown",
   "metadata": {},
   "source": [
    "mentre il massimo sarà quello riferito alle 24h"
   ]
  },
  {
   "cell_type": "code",
   "execution_count": 45,
   "metadata": {},
   "outputs": [
    {
     "data": {
      "text/plain": [
       "15min     28.0\n",
       "30min     40.0\n",
       "45min     47.0\n",
       "1h        55.8\n",
       "3h        79.0\n",
       "6h       103.8\n",
       "12h      152.2\n",
       "24h      192.0\n",
       "dtype: float64"
      ]
     },
     "execution_count": 45,
     "metadata": {},
     "output_type": "execute_result"
    }
   ],
   "source": [
    "data.max()"
   ]
  },
  {
   "cell_type": "code",
   "execution_count": 46,
   "metadata": {},
   "outputs": [
    {
     "data": {
      "text/plain": [
       "192.0"
      ]
     },
     "execution_count": 46,
     "metadata": {},
     "output_type": "execute_result"
    }
   ],
   "source": [
    "data.max()['24h']"
   ]
  },
  {
   "cell_type": "markdown",
   "metadata": {},
   "source": [
    "Il vettore sarà"
   ]
  },
  {
   "cell_type": "code",
   "execution_count": 47,
   "metadata": {},
   "outputs": [],
   "source": [
    "t_rain = np.linspace(data.min()['15min'], data.max()['24h'], 100)"
   ]
  },
  {
   "cell_type": "markdown",
   "metadata": {},
   "source": [
    "Si può definire ora un DataFrame che ha i valori di **t_rain** come indice e che contiene i valori derivanti dalla funzione di gumbel con input il vettore **t_rain**, il DataFrame __abs_m__ e la durata considerata"
   ]
  },
  {
   "cell_type": "code",
   "execution_count": 48,
   "metadata": {},
   "outputs": [
    {
     "data": {
      "text/html": [
       "<div>\n",
       "<style scoped>\n",
       "    .dataframe tbody tr th:only-of-type {\n",
       "        vertical-align: middle;\n",
       "    }\n",
       "\n",
       "    .dataframe tbody tr th {\n",
       "        vertical-align: top;\n",
       "    }\n",
       "\n",
       "    .dataframe thead th {\n",
       "        text-align: right;\n",
       "    }\n",
       "</style>\n",
       "<table border=\"1\" class=\"dataframe\">\n",
       "  <thead>\n",
       "    <tr style=\"text-align: right;\">\n",
       "      <th></th>\n",
       "      <th>15min</th>\n",
       "      <th>30min</th>\n",
       "      <th>45min</th>\n",
       "      <th>1h</th>\n",
       "      <th>3h</th>\n",
       "      <th>6h</th>\n",
       "      <th>12h</th>\n",
       "      <th>24h</th>\n",
       "    </tr>\n",
       "  </thead>\n",
       "  <tbody>\n",
       "    <tr>\n",
       "      <th>5.200000</th>\n",
       "      <td>0.012241</td>\n",
       "      <td>0.004198</td>\n",
       "      <td>0.001657</td>\n",
       "      <td>0.000710</td>\n",
       "      <td>0.000017</td>\n",
       "      <td>1.004881e-07</td>\n",
       "      <td>0.000009</td>\n",
       "      <td>0.000001</td>\n",
       "    </tr>\n",
       "    <tr>\n",
       "      <th>7.086869</th>\n",
       "      <td>0.059207</td>\n",
       "      <td>0.019324</td>\n",
       "      <td>0.008108</td>\n",
       "      <td>0.003635</td>\n",
       "      <td>0.000105</td>\n",
       "      <td>9.048453e-07</td>\n",
       "      <td>0.000024</td>\n",
       "      <td>0.000003</td>\n",
       "    </tr>\n",
       "    <tr>\n",
       "      <th>8.973737</th>\n",
       "      <td>0.162878</td>\n",
       "      <td>0.058104</td>\n",
       "      <td>0.026762</td>\n",
       "      <td>0.012881</td>\n",
       "      <td>0.000491</td>\n",
       "      <td>6.037440e-06</td>\n",
       "      <td>0.000060</td>\n",
       "      <td>0.000008</td>\n",
       "    </tr>\n",
       "    <tr>\n",
       "      <th>10.860606</th>\n",
       "      <td>0.311899</td>\n",
       "      <td>0.128512</td>\n",
       "      <td>0.065691</td>\n",
       "      <td>0.034327</td>\n",
       "      <td>0.001765</td>\n",
       "      <td>3.109609e-05</td>\n",
       "      <td>0.000138</td>\n",
       "      <td>0.000018</td>\n",
       "    </tr>\n",
       "    <tr>\n",
       "      <th>12.747475</th>\n",
       "      <td>0.473321</td>\n",
       "      <td>0.227779</td>\n",
       "      <td>0.129056</td>\n",
       "      <td>0.073358</td>\n",
       "      <td>0.005118</td>\n",
       "      <td>1.280759e-04</td>\n",
       "      <td>0.000295</td>\n",
       "      <td>0.000037</td>\n",
       "    </tr>\n",
       "    <tr>\n",
       "      <th>14.634343</th>\n",
       "      <td>0.618656</td>\n",
       "      <td>0.344146</td>\n",
       "      <td>0.214444</td>\n",
       "      <td>0.132123</td>\n",
       "      <td>0.012412</td>\n",
       "      <td>4.348906e-04</td>\n",
       "      <td>0.000592</td>\n",
       "      <td>0.000073</td>\n",
       "    </tr>\n",
       "    <tr>\n",
       "      <th>16.521212</th>\n",
       "      <td>0.734700</td>\n",
       "      <td>0.463418</td>\n",
       "      <td>0.314163</td>\n",
       "      <td>0.208430</td>\n",
       "      <td>0.025942</td>\n",
       "      <td>1.249914e-03</td>\n",
       "      <td>0.001118</td>\n",
       "      <td>0.000139</td>\n",
       "    </tr>\n",
       "    <tr>\n",
       "      <th>18.408081</th>\n",
       "      <td>0.820432</td>\n",
       "      <td>0.574320</td>\n",
       "      <td>0.418663</td>\n",
       "      <td>0.296721</td>\n",
       "      <td>0.047904</td>\n",
       "      <td>3.110600e-03</td>\n",
       "      <td>0.002001</td>\n",
       "      <td>0.000252</td>\n",
       "    </tr>\n",
       "    <tr>\n",
       "      <th>20.294949</th>\n",
       "      <td>0.880674</td>\n",
       "      <td>0.670410</td>\n",
       "      <td>0.519573</td>\n",
       "      <td>0.390113</td>\n",
       "      <td>0.079801</td>\n",
       "      <td>6.835993e-03</td>\n",
       "      <td>0.003407</td>\n",
       "      <td>0.000439</td>\n",
       "    </tr>\n",
       "    <tr>\n",
       "      <th>22.181818</th>\n",
       "      <td>0.921661</td>\n",
       "      <td>0.749523</td>\n",
       "      <td>0.611179</td>\n",
       "      <td>0.482243</td>\n",
       "      <td>0.122016</td>\n",
       "      <td>1.349331e-02</td>\n",
       "      <td>0.005541</td>\n",
       "      <td>0.000738</td>\n",
       "    </tr>\n",
       "    <tr>\n",
       "      <th>...</th>\n",
       "      <td>...</td>\n",
       "      <td>...</td>\n",
       "      <td>...</td>\n",
       "      <td>...</td>\n",
       "      <td>...</td>\n",
       "      <td>...</td>\n",
       "      <td>...</td>\n",
       "      <td>...</td>\n",
       "    </tr>\n",
       "    <tr>\n",
       "      <th>175.018182</th>\n",
       "      <td>1.000000</td>\n",
       "      <td>1.000000</td>\n",
       "      <td>1.000000</td>\n",
       "      <td>1.000000</td>\n",
       "      <td>0.999999</td>\n",
       "      <td>9.999701e-01</td>\n",
       "      <td>0.996318</td>\n",
       "      <td>0.974264</td>\n",
       "    </tr>\n",
       "    <tr>\n",
       "      <th>176.905051</th>\n",
       "      <td>1.000000</td>\n",
       "      <td>1.000000</td>\n",
       "      <td>1.000000</td>\n",
       "      <td>1.000000</td>\n",
       "      <td>0.999999</td>\n",
       "      <td>9.999742e-01</td>\n",
       "      <td>0.996633</td>\n",
       "      <td>0.975969</td>\n",
       "    </tr>\n",
       "    <tr>\n",
       "      <th>178.791919</th>\n",
       "      <td>1.000000</td>\n",
       "      <td>1.000000</td>\n",
       "      <td>1.000000</td>\n",
       "      <td>1.000000</td>\n",
       "      <td>1.000000</td>\n",
       "      <td>9.999777e-01</td>\n",
       "      <td>0.996920</td>\n",
       "      <td>0.977563</td>\n",
       "    </tr>\n",
       "    <tr>\n",
       "      <th>180.678788</th>\n",
       "      <td>1.000000</td>\n",
       "      <td>1.000000</td>\n",
       "      <td>1.000000</td>\n",
       "      <td>1.000000</td>\n",
       "      <td>1.000000</td>\n",
       "      <td>9.999807e-01</td>\n",
       "      <td>0.997184</td>\n",
       "      <td>0.979051</td>\n",
       "    </tr>\n",
       "    <tr>\n",
       "      <th>182.565657</th>\n",
       "      <td>1.000000</td>\n",
       "      <td>1.000000</td>\n",
       "      <td>1.000000</td>\n",
       "      <td>1.000000</td>\n",
       "      <td>1.000000</td>\n",
       "      <td>9.999834e-01</td>\n",
       "      <td>0.997425</td>\n",
       "      <td>0.980442</td>\n",
       "    </tr>\n",
       "    <tr>\n",
       "      <th>184.452525</th>\n",
       "      <td>1.000000</td>\n",
       "      <td>1.000000</td>\n",
       "      <td>1.000000</td>\n",
       "      <td>1.000000</td>\n",
       "      <td>1.000000</td>\n",
       "      <td>9.999856e-01</td>\n",
       "      <td>0.997645</td>\n",
       "      <td>0.981742</td>\n",
       "    </tr>\n",
       "    <tr>\n",
       "      <th>186.339394</th>\n",
       "      <td>1.000000</td>\n",
       "      <td>1.000000</td>\n",
       "      <td>1.000000</td>\n",
       "      <td>1.000000</td>\n",
       "      <td>1.000000</td>\n",
       "      <td>9.999876e-01</td>\n",
       "      <td>0.997846</td>\n",
       "      <td>0.982956</td>\n",
       "    </tr>\n",
       "    <tr>\n",
       "      <th>188.226263</th>\n",
       "      <td>1.000000</td>\n",
       "      <td>1.000000</td>\n",
       "      <td>1.000000</td>\n",
       "      <td>1.000000</td>\n",
       "      <td>1.000000</td>\n",
       "      <td>9.999893e-01</td>\n",
       "      <td>0.998030</td>\n",
       "      <td>0.984090</td>\n",
       "    </tr>\n",
       "    <tr>\n",
       "      <th>190.113131</th>\n",
       "      <td>1.000000</td>\n",
       "      <td>1.000000</td>\n",
       "      <td>1.000000</td>\n",
       "      <td>1.000000</td>\n",
       "      <td>1.000000</td>\n",
       "      <td>9.999907e-01</td>\n",
       "      <td>0.998199</td>\n",
       "      <td>0.985149</td>\n",
       "    </tr>\n",
       "    <tr>\n",
       "      <th>192.000000</th>\n",
       "      <td>1.000000</td>\n",
       "      <td>1.000000</td>\n",
       "      <td>1.000000</td>\n",
       "      <td>1.000000</td>\n",
       "      <td>1.000000</td>\n",
       "      <td>9.999920e-01</td>\n",
       "      <td>0.998353</td>\n",
       "      <td>0.986138</td>\n",
       "    </tr>\n",
       "  </tbody>\n",
       "</table>\n",
       "<p>100 rows × 8 columns</p>\n",
       "</div>"
      ],
      "text/plain": [
       "               15min     30min     45min        1h        3h            6h  \\\n",
       "5.200000    0.012241  0.004198  0.001657  0.000710  0.000017  1.004881e-07   \n",
       "7.086869    0.059207  0.019324  0.008108  0.003635  0.000105  9.048453e-07   \n",
       "8.973737    0.162878  0.058104  0.026762  0.012881  0.000491  6.037440e-06   \n",
       "10.860606   0.311899  0.128512  0.065691  0.034327  0.001765  3.109609e-05   \n",
       "12.747475   0.473321  0.227779  0.129056  0.073358  0.005118  1.280759e-04   \n",
       "14.634343   0.618656  0.344146  0.214444  0.132123  0.012412  4.348906e-04   \n",
       "16.521212   0.734700  0.463418  0.314163  0.208430  0.025942  1.249914e-03   \n",
       "18.408081   0.820432  0.574320  0.418663  0.296721  0.047904  3.110600e-03   \n",
       "20.294949   0.880674  0.670410  0.519573  0.390113  0.079801  6.835993e-03   \n",
       "22.181818   0.921661  0.749523  0.611179  0.482243  0.122016  1.349331e-02   \n",
       "...              ...       ...       ...       ...       ...           ...   \n",
       "175.018182  1.000000  1.000000  1.000000  1.000000  0.999999  9.999701e-01   \n",
       "176.905051  1.000000  1.000000  1.000000  1.000000  0.999999  9.999742e-01   \n",
       "178.791919  1.000000  1.000000  1.000000  1.000000  1.000000  9.999777e-01   \n",
       "180.678788  1.000000  1.000000  1.000000  1.000000  1.000000  9.999807e-01   \n",
       "182.565657  1.000000  1.000000  1.000000  1.000000  1.000000  9.999834e-01   \n",
       "184.452525  1.000000  1.000000  1.000000  1.000000  1.000000  9.999856e-01   \n",
       "186.339394  1.000000  1.000000  1.000000  1.000000  1.000000  9.999876e-01   \n",
       "188.226263  1.000000  1.000000  1.000000  1.000000  1.000000  9.999893e-01   \n",
       "190.113131  1.000000  1.000000  1.000000  1.000000  1.000000  9.999907e-01   \n",
       "192.000000  1.000000  1.000000  1.000000  1.000000  1.000000  9.999920e-01   \n",
       "\n",
       "                 12h       24h  \n",
       "5.200000    0.000009  0.000001  \n",
       "7.086869    0.000024  0.000003  \n",
       "8.973737    0.000060  0.000008  \n",
       "10.860606   0.000138  0.000018  \n",
       "12.747475   0.000295  0.000037  \n",
       "14.634343   0.000592  0.000073  \n",
       "16.521212   0.001118  0.000139  \n",
       "18.408081   0.002001  0.000252  \n",
       "20.294949   0.003407  0.000439  \n",
       "22.181818   0.005541  0.000738  \n",
       "...              ...       ...  \n",
       "175.018182  0.996318  0.974264  \n",
       "176.905051  0.996633  0.975969  \n",
       "178.791919  0.996920  0.977563  \n",
       "180.678788  0.997184  0.979051  \n",
       "182.565657  0.997425  0.980442  \n",
       "184.452525  0.997645  0.981742  \n",
       "186.339394  0.997846  0.982956  \n",
       "188.226263  0.998030  0.984090  \n",
       "190.113131  0.998199  0.985149  \n",
       "192.000000  0.998353  0.986138  \n",
       "\n",
       "[100 rows x 8 columns]"
      ]
     },
     "execution_count": 48,
     "metadata": {},
     "output_type": "execute_result"
    }
   ],
   "source": [
    "teta = []\n",
    "for h in data.columns:\n",
    "        teta = teta + [gumbel(t_rain, abs_m, h)]\n",
    "        \n",
    "gb = pd.DataFrame(teta, index = ['15min', '30min', '45min', '1h', '3h', '6h', '12h', '24h'], columns = t_rain\n",
    ").T #Trasposta\n",
    "\n",
    "#------------------------------------------\n",
    "gb"
   ]
  },
  {
   "cell_type": "markdown",
   "metadata": {},
   "source": [
    "## Plot delle curve di Gumbel"
   ]
  },
  {
   "cell_type": "markdown",
   "metadata": {},
   "source": [
    "Per il plot delle curve, si setta una grandezza delle etichette pari a 20 e si sceglie un colore per ogni curva di Gumbel.  \n",
    "Si sovrappongono poi i dati calcolati con la ECDF per ogni durata"
   ]
  },
  {
   "cell_type": "code",
   "execution_count": 51,
   "metadata": {},
   "outputs": [
    {
     "data": {
      "image/png": "[encoded data removed]",
      "text/plain": [
       "<Figure size 432x288 with 1 Axes>"
      ]
     },
     "metadata": {
      "needs_background": "light"
     },
     "output_type": "display_data"
    }
   ],
   "source": [
    "plt.rc('text', usetex=True)\n",
    "plt.rc('xtick', labelsize = 15)\n",
    "plt.rc('ytick', labelsize = 15)\n",
    "\n",
    "\n",
    "#----------------plot---------------\n",
    "\n",
    "ax = gb.plot(color = ['#9575cd', 'brown', '#80d8ff','red', 'green', 'blue', 'magenta', 'black'])\n",
    "#plt.figure(figsize = (18 ,16), dpi = 100)\n",
    "\n",
    "#--------------15min--------------------\n",
    "data15min = data['15min'].dropna()\n",
    "ecdf15min = ECDF(data15min)\n",
    "ax.plot(data15min, ecdf15min(data15min), 'o', c = '#9575cd')\n",
    "\n",
    "#--------------30min--------------------\n",
    "data30min = data['30min'].dropna()\n",
    "ecdf30min = ECDF(data30min)\n",
    "ax.plot(data30min, ecdf30min(data30min), 'o', c = 'brown')\n",
    "\n",
    "#--------------45min--------------------\n",
    "data45min = data['45min'].dropna()\n",
    "ecdf45min = ECDF(data45min)\n",
    "ax.plot(data45min, ecdf45min(data45min), 'o', c = '#80d8ff')\n",
    "\n",
    "#--------------1h--------------------\n",
    "data1h = data['1h'].dropna()\n",
    "ecdf1h = ECDF(data1h)\n",
    "ax.plot(data1h, ecdf1h(data1h), 'o', c = 'red')\n",
    "\n",
    "#--------------3h--------------------\n",
    "data3h = data['3h'].dropna()\n",
    "ecdf3h = ECDF(data3h)\n",
    "ax.plot(data3h, ecdf3h(data3h), 'o', c = 'green')\n",
    "\n",
    "#--------------6h--------------------\n",
    "data6h = data['6h'].dropna()\n",
    "ecdf6h = ECDF(data6h)\n",
    "ax.plot(data6h, ecdf6h(data6h), 'o', c = 'blue')\n",
    "\n",
    "#--------------12h-------------------\n",
    "data12h = data['12h'].dropna()\n",
    "ecdf12h = ECDF(data12h)\n",
    "ax.plot(data12h, ecdf12h(data12h), 'o', c = 'magenta')\n",
    "\n",
    "#--------------24h-------------------\n",
    "data24h = data['24h'].dropna()\n",
    "ecdf24h = ECDF(data24h)\n",
    "ax.plot(data24h, ecdf24h(data24h), 'o', c = 'black')\n",
    "\n",
    "#-----------------label--------------\n",
    "ax.set_title('Probability Distribution Function of Rainfall\\nMoments Method', fontsize = 15)\n",
    "ax.set_xlabel('Rainfall [mm]', fontsize = 14)\n",
    "ax.set_ylabel(r'$P[H < h]$', fontsize = 14)\n",
    "plt.legend(loc = 4,  fontsize = 12)\n",
    "\n",
    "#------------------------------------\n",
    "plt.show()"
   ]
  },
  {
   "cell_type": "markdown",
   "metadata": {},
   "source": [
    "**dropna()** separa ed elimina i dati NaN."
   ]
  }
 ],
 "metadata": {
  "kernelspec": {
   "display_name": "Python 3",
   "language": "python",
   "name": "python3"
  },
  "language_info": {
   "codemirror_mode": {
    "name": "ipython",
    "version": 3
   },
   "file_extension": ".py",
   "mimetype": "text/x-python",
   "name": "python",
   "nbconvert_exporter": "python",
   "pygments_lexer": "ipython3",
   "version": "3.7.1"
  }
 },
 "nbformat": 4,
 "nbformat_minor": 2
}
