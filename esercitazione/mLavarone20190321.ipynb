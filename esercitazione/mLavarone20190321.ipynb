{
 "cells": [
  {
   "cell_type": "markdown",
   "metadata": {},
   "source": [
    "# Prova Dati Lavarone Chiesa - 2019-03-21"
   ]
  },
  {
   "cell_type": "markdown",
   "metadata": {},
   "source": [
    "## Metodo dei momenti"
   ]
  },
  {
   "cell_type": "markdown",
   "metadata": {},
   "source": [
    "Matteo Franzoi - 2019-03-21"
   ]
  },
  {
   "cell_type": "markdown",
   "metadata": {},
   "source": [
    "---"
   ]
  },
  {
   "cell_type": "code",
   "execution_count": 37,
   "metadata": {},
   "outputs": [],
   "source": [
    "import os\n",
    "from pandas import *\n",
    "import pandas as pd\n",
    "import matplotlib.pyplot as plt\n",
    "%matplotlib inline\n",
    "import datetime as datetime\n",
    "from scipy.stats import genextreme, gumbel_r\n",
    "from numpy import linspace\n",
    "import numpy as np\n",
    "import math"
   ]
  },
  {
   "cell_type": "code",
   "execution_count": 38,
   "metadata": {},
   "outputs": [
    {
     "data": {
      "text/plain": [
       "'/media/Dati/jupyter/esercitazione'"
      ]
     },
     "execution_count": 38,
     "metadata": {},
     "output_type": "execute_result"
    }
   ],
   "source": [
    "os.getcwd()"
   ]
  },
  {
   "cell_type": "code",
   "execution_count": 39,
   "metadata": {},
   "outputs": [
    {
     "data": {
      "text/plain": [
       "['.ipynb_checkpoints',\n",
       " 'massimePrecipitazioniCenta.csv',\n",
       " 'mLavarone20190321.ipynb',\n",
       " 'mleLavarone20190321.ipynb',\n",
       " 'mqLavarone20190321.ipynb',\n",
       " 'pearsonLavarone20190321ipynb']"
      ]
     },
     "execution_count": 39,
     "metadata": {},
     "output_type": "execute_result"
    }
   ],
   "source": [
    "os.listdir()"
   ]
  },
  {
   "cell_type": "code",
   "execution_count": 40,
   "metadata": {},
   "outputs": [
    {
     "data": {
      "text/html": [
       "<div>\n",
       "<style scoped>\n",
       "    .dataframe tbody tr th:only-of-type {\n",
       "        vertical-align: middle;\n",
       "    }\n",
       "\n",
       "    .dataframe tbody tr th {\n",
       "        vertical-align: top;\n",
       "    }\n",
       "\n",
       "    .dataframe thead th {\n",
       "        text-align: right;\n",
       "    }\n",
       "</style>\n",
       "<table border=\"1\" class=\"dataframe\">\n",
       "  <thead>\n",
       "    <tr style=\"text-align: right;\">\n",
       "      <th></th>\n",
       "      <th>1h</th>\n",
       "      <th>3h</th>\n",
       "      <th>6h</th>\n",
       "      <th>12h</th>\n",
       "      <th>24h</th>\n",
       "    </tr>\n",
       "    <tr>\n",
       "      <th>anno</th>\n",
       "      <th></th>\n",
       "      <th></th>\n",
       "      <th></th>\n",
       "      <th></th>\n",
       "      <th></th>\n",
       "    </tr>\n",
       "  </thead>\n",
       "  <tbody>\n",
       "    <tr>\n",
       "      <th>1934</th>\n",
       "      <td>22.6</td>\n",
       "      <td>42.0</td>\n",
       "      <td>56.6</td>\n",
       "      <td>58.8</td>\n",
       "      <td>85.0</td>\n",
       "    </tr>\n",
       "    <tr>\n",
       "      <th>1935</th>\n",
       "      <td>17.8</td>\n",
       "      <td>32.6</td>\n",
       "      <td>54.2</td>\n",
       "      <td>63.6</td>\n",
       "      <td>88.0</td>\n",
       "    </tr>\n",
       "    <tr>\n",
       "      <th>1936</th>\n",
       "      <td>15.8</td>\n",
       "      <td>28.0</td>\n",
       "      <td>41.4</td>\n",
       "      <td>72.0</td>\n",
       "      <td>85.2</td>\n",
       "    </tr>\n",
       "    <tr>\n",
       "      <th>1937</th>\n",
       "      <td>27.8</td>\n",
       "      <td>35.6</td>\n",
       "      <td>38.2</td>\n",
       "      <td>58.4</td>\n",
       "      <td>62.6</td>\n",
       "    </tr>\n",
       "    <tr>\n",
       "      <th>1938</th>\n",
       "      <td>15.0</td>\n",
       "      <td>21.4</td>\n",
       "      <td>32.0</td>\n",
       "      <td>56.0</td>\n",
       "      <td>83.0</td>\n",
       "    </tr>\n",
       "    <tr>\n",
       "      <th>1939</th>\n",
       "      <td>29.4</td>\n",
       "      <td>36.2</td>\n",
       "      <td>61.0</td>\n",
       "      <td>115.2</td>\n",
       "      <td>117.8</td>\n",
       "    </tr>\n",
       "    <tr>\n",
       "      <th>1940</th>\n",
       "      <td>28.8</td>\n",
       "      <td>67.0</td>\n",
       "      <td>94.0</td>\n",
       "      <td>119.0</td>\n",
       "      <td>135.2</td>\n",
       "    </tr>\n",
       "    <tr>\n",
       "      <th>1941</th>\n",
       "      <td>14.2</td>\n",
       "      <td>21.0</td>\n",
       "      <td>25.6</td>\n",
       "      <td>44.0</td>\n",
       "      <td>51.0</td>\n",
       "    </tr>\n",
       "    <tr>\n",
       "      <th>1942</th>\n",
       "      <td>27.0</td>\n",
       "      <td>42.0</td>\n",
       "      <td>66.2</td>\n",
       "      <td>82.6</td>\n",
       "      <td>85.6</td>\n",
       "    </tr>\n",
       "    <tr>\n",
       "      <th>1946</th>\n",
       "      <td>18.0</td>\n",
       "      <td>32.0</td>\n",
       "      <td>46.2</td>\n",
       "      <td>58.0</td>\n",
       "      <td>74.4</td>\n",
       "    </tr>\n",
       "    <tr>\n",
       "      <th>1947</th>\n",
       "      <td>24.0</td>\n",
       "      <td>32.6</td>\n",
       "      <td>35.8</td>\n",
       "      <td>37.8</td>\n",
       "      <td>64.6</td>\n",
       "    </tr>\n",
       "    <tr>\n",
       "      <th>1948</th>\n",
       "      <td>28.0</td>\n",
       "      <td>40.4</td>\n",
       "      <td>45.8</td>\n",
       "      <td>64.6</td>\n",
       "      <td>87.0</td>\n",
       "    </tr>\n",
       "    <tr>\n",
       "      <th>...</th>\n",
       "      <td>...</td>\n",
       "      <td>...</td>\n",
       "      <td>...</td>\n",
       "      <td>...</td>\n",
       "      <td>...</td>\n",
       "    </tr>\n",
       "    <tr>\n",
       "      <th>1989</th>\n",
       "      <td>20.8</td>\n",
       "      <td>27.6</td>\n",
       "      <td>37.4</td>\n",
       "      <td>48.8</td>\n",
       "      <td>71.8</td>\n",
       "    </tr>\n",
       "    <tr>\n",
       "      <th>1990</th>\n",
       "      <td>22.6</td>\n",
       "      <td>28.8</td>\n",
       "      <td>44.0</td>\n",
       "      <td>63.4</td>\n",
       "      <td>94.2</td>\n",
       "    </tr>\n",
       "    <tr>\n",
       "      <th>1991</th>\n",
       "      <td>18.6</td>\n",
       "      <td>24.0</td>\n",
       "      <td>45.5</td>\n",
       "      <td>75.8</td>\n",
       "      <td>105.6</td>\n",
       "    </tr>\n",
       "    <tr>\n",
       "      <th>1992</th>\n",
       "      <td>13.4</td>\n",
       "      <td>20.6</td>\n",
       "      <td>34.6</td>\n",
       "      <td>60.0</td>\n",
       "      <td>77.8</td>\n",
       "    </tr>\n",
       "    <tr>\n",
       "      <th>1997</th>\n",
       "      <td>13.8</td>\n",
       "      <td>23.8</td>\n",
       "      <td>37.6</td>\n",
       "      <td>61.4</td>\n",
       "      <td>70.6</td>\n",
       "    </tr>\n",
       "    <tr>\n",
       "      <th>1998</th>\n",
       "      <td>29.6</td>\n",
       "      <td>34.0</td>\n",
       "      <td>48.4</td>\n",
       "      <td>66.2</td>\n",
       "      <td>80.2</td>\n",
       "    </tr>\n",
       "    <tr>\n",
       "      <th>1999</th>\n",
       "      <td>36.4</td>\n",
       "      <td>69.2</td>\n",
       "      <td>70.8</td>\n",
       "      <td>119.4</td>\n",
       "      <td>134.6</td>\n",
       "    </tr>\n",
       "    <tr>\n",
       "      <th>2000</th>\n",
       "      <td>36.4</td>\n",
       "      <td>42.2</td>\n",
       "      <td>52.8</td>\n",
       "      <td>90.0</td>\n",
       "      <td>120.4</td>\n",
       "    </tr>\n",
       "    <tr>\n",
       "      <th>2003</th>\n",
       "      <td>37.4</td>\n",
       "      <td>38.8</td>\n",
       "      <td>62.8</td>\n",
       "      <td>101.0</td>\n",
       "      <td>121.6</td>\n",
       "    </tr>\n",
       "    <tr>\n",
       "      <th>2004</th>\n",
       "      <td>42.2</td>\n",
       "      <td>43.0</td>\n",
       "      <td>45.2</td>\n",
       "      <td>57.6</td>\n",
       "      <td>80.4</td>\n",
       "    </tr>\n",
       "    <tr>\n",
       "      <th>2005</th>\n",
       "      <td>18.4</td>\n",
       "      <td>27.2</td>\n",
       "      <td>35.2</td>\n",
       "      <td>43.8</td>\n",
       "      <td>44.6</td>\n",
       "    </tr>\n",
       "    <tr>\n",
       "      <th>2006</th>\n",
       "      <td>17.6</td>\n",
       "      <td>36.6</td>\n",
       "      <td>51.0</td>\n",
       "      <td>55.8</td>\n",
       "      <td>68.0</td>\n",
       "    </tr>\n",
       "  </tbody>\n",
       "</table>\n",
       "<p>57 rows × 5 columns</p>\n",
       "</div>"
      ],
      "text/plain": [
       "        1h    3h    6h    12h    24h\n",
       "anno                                \n",
       "1934  22.6  42.0  56.6   58.8   85.0\n",
       "1935  17.8  32.6  54.2   63.6   88.0\n",
       "1936  15.8  28.0  41.4   72.0   85.2\n",
       "1937  27.8  35.6  38.2   58.4   62.6\n",
       "1938  15.0  21.4  32.0   56.0   83.0\n",
       "1939  29.4  36.2  61.0  115.2  117.8\n",
       "1940  28.8  67.0  94.0  119.0  135.2\n",
       "1941  14.2  21.0  25.6   44.0   51.0\n",
       "1942  27.0  42.0  66.2   82.6   85.6\n",
       "1946  18.0  32.0  46.2   58.0   74.4\n",
       "1947  24.0  32.6  35.8   37.8   64.6\n",
       "1948  28.0  40.4  45.8   64.6   87.0\n",
       "...    ...   ...   ...    ...    ...\n",
       "1989  20.8  27.6  37.4   48.8   71.8\n",
       "1990  22.6  28.8  44.0   63.4   94.2\n",
       "1991  18.6  24.0  45.5   75.8  105.6\n",
       "1992  13.4  20.6  34.6   60.0   77.8\n",
       "1997  13.8  23.8  37.6   61.4   70.6\n",
       "1998  29.6  34.0  48.4   66.2   80.2\n",
       "1999  36.4  69.2  70.8  119.4  134.6\n",
       "2000  36.4  42.2  52.8   90.0  120.4\n",
       "2003  37.4  38.8  62.8  101.0  121.6\n",
       "2004  42.2  43.0  45.2   57.6   80.4\n",
       "2005  18.4  27.2  35.2   43.8   44.6\n",
       "2006  17.6  36.6  51.0   55.8   68.0\n",
       "\n",
       "[57 rows x 5 columns]"
      ]
     },
     "execution_count": 40,
     "metadata": {},
     "output_type": "execute_result"
    }
   ],
   "source": [
    "pd.set_option('display.max_rows', 25)\n",
    "data = pd.read_csv('massimePrecipitazioniCenta.csv')\n",
    "map(datetime, data['anno'])\n",
    "data = data.set_index('anno')\n",
    "data"
   ]
  },
  {
   "cell_type": "code",
   "execution_count": 41,
   "metadata": {},
   "outputs": [
    {
     "data": {
      "text/plain": [
       "57"
      ]
     },
     "execution_count": 41,
     "metadata": {},
     "output_type": "execute_result"
    }
   ],
   "source": [
    "len(data)"
   ]
  },
  {
   "cell_type": "markdown",
   "metadata": {},
   "source": [
    "### Applico il metodo dei momenti"
   ]
  },
  {
   "cell_type": "code",
   "execution_count": 42,
   "metadata": {},
   "outputs": [
    {
     "data": {
      "text/plain": [
       "1h     24.115789\n",
       "3h     35.736842\n",
       "6h     48.394737\n",
       "12h    69.085714\n",
       "24h    91.577193\n",
       "dtype: float64"
      ]
     },
     "execution_count": 42,
     "metadata": {},
     "output_type": "execute_result"
    }
   ],
   "source": [
    "means = np.mean(data)\n",
    "means"
   ]
  },
  {
   "cell_type": "code",
   "execution_count": 43,
   "metadata": {},
   "outputs": [
    {
     "data": {
      "text/plain": [
       "1h       89.932782\n",
       "3h      173.233083\n",
       "6h      272.360865\n",
       "12h     730.971429\n",
       "24h    1215.426792\n",
       "dtype: float64"
      ]
     },
     "execution_count": 43,
     "metadata": {},
     "output_type": "execute_result"
    }
   ],
   "source": [
    "variances = data.var()\n",
    "variances"
   ]
  },
  {
   "cell_type": "code",
   "execution_count": 44,
   "metadata": {},
   "outputs": [
    {
     "data": {
      "text/plain": [
       "1h      9.483290\n",
       "3h     13.161804\n",
       "6h     16.503359\n",
       "12h    27.036483\n",
       "24h    34.862972\n",
       "dtype: float64"
      ]
     },
     "execution_count": 44,
     "metadata": {},
     "output_type": "execute_result"
    }
   ],
   "source": [
    "stds = data.std()\n",
    "stds"
   ]
  },
  {
   "cell_type": "markdown",
   "metadata": {},
   "source": [
    "---"
   ]
  },
  {
   "cell_type": "code",
   "execution_count": 45,
   "metadata": {},
   "outputs": [
    {
     "data": {
      "text/plain": [
       "0.779696801233676"
      ]
     },
     "execution_count": 45,
     "metadata": {},
     "output_type": "execute_result"
    }
   ],
   "source": [
    "b = math.sqrt(6) / math.pi\n",
    "b"
   ]
  },
  {
   "cell_type": "code",
   "execution_count": 46,
   "metadata": {},
   "outputs": [],
   "source": [
    "EulerGamma = 0.577215664901532860606512090"
   ]
  },
  {
   "cell_type": "code",
   "execution_count": 47,
   "metadata": {},
   "outputs": [],
   "source": [
    "def g(m,s):\n",
    "    return pd.DataFrame([m-b*EulerGamma*s, b*s], index = ['a', 'b'])"
   ]
  },
  {
   "cell_type": "code",
   "execution_count": 48,
   "metadata": {},
   "outputs": [
    {
     "data": {
      "text/html": [
       "<div>\n",
       "<style scoped>\n",
       "    .dataframe tbody tr th:only-of-type {\n",
       "        vertical-align: middle;\n",
       "    }\n",
       "\n",
       "    .dataframe tbody tr th {\n",
       "        vertical-align: top;\n",
       "    }\n",
       "\n",
       "    .dataframe thead th {\n",
       "        text-align: right;\n",
       "    }\n",
       "</style>\n",
       "<table border=\"1\" class=\"dataframe\">\n",
       "  <thead>\n",
       "    <tr style=\"text-align: right;\">\n",
       "      <th></th>\n",
       "      <th>1h</th>\n",
       "      <th>3h</th>\n",
       "      <th>6h</th>\n",
       "      <th>12h</th>\n",
       "      <th>24h</th>\n",
       "    </tr>\n",
       "  </thead>\n",
       "  <tbody>\n",
       "    <tr>\n",
       "      <th>a</th>\n",
       "      <td>19.847805</td>\n",
       "      <td>29.813330</td>\n",
       "      <td>40.967347</td>\n",
       "      <td>56.917858</td>\n",
       "      <td>75.887001</td>\n",
       "    </tr>\n",
       "    <tr>\n",
       "      <th>b</th>\n",
       "      <td>7.394091</td>\n",
       "      <td>10.262216</td>\n",
       "      <td>12.867616</td>\n",
       "      <td>21.080260</td>\n",
       "      <td>27.182547</td>\n",
       "    </tr>\n",
       "  </tbody>\n",
       "</table>\n",
       "</div>"
      ],
      "text/plain": [
       "          1h         3h         6h        12h        24h\n",
       "a  19.847805  29.813330  40.967347  56.917858  75.887001\n",
       "b   7.394091  10.262216  12.867616  21.080260  27.182547"
      ]
     },
     "execution_count": 48,
     "metadata": {},
     "output_type": "execute_result"
    }
   ],
   "source": [
    "abs_m = g(means, stds)\n",
    "abs_m"
   ]
  },
  {
   "cell_type": "code",
   "execution_count": 49,
   "metadata": {},
   "outputs": [],
   "source": [
    "abs_m.to_pickle('abs_m')"
   ]
  },
  {
   "cell_type": "code",
   "execution_count": 50,
   "metadata": {},
   "outputs": [
    {
     "data": {
      "text/plain": [
       "['.ipynb_checkpoints',\n",
       " 'abs_m',\n",
       " 'massimePrecipitazioniCenta.csv',\n",
       " 'mLavarone20190321.ipynb',\n",
       " 'mleLavarone20190321.ipynb',\n",
       " 'mqLavarone20190321.ipynb',\n",
       " 'pearsonLavarone20190321ipynb']"
      ]
     },
     "execution_count": 50,
     "metadata": {},
     "output_type": "execute_result"
    }
   ],
   "source": [
    "os.listdir()"
   ]
  },
  {
   "cell_type": "code",
   "execution_count": 51,
   "metadata": {},
   "outputs": [],
   "source": [
    "def gumbel(x, abs_d, col):\n",
    "    return np.exp(-np.exp(-(x - abs_d[col]['a'])/abs_d[col]['b']))"
   ]
  },
  {
   "cell_type": "code",
   "execution_count": 52,
   "metadata": {},
   "outputs": [],
   "source": [
    "from statsmodels.distributions.empirical_distribution import ECDF"
   ]
  },
  {
   "cell_type": "code",
   "execution_count": 73,
   "metadata": {},
   "outputs": [],
   "source": [
    "ecdf1h = ECDF(data['1h'])\n",
    "ecdf3h = ECDF(data['3h'])\n",
    "ecdf6h = ECDF(data['6h'])\n",
    "ecdf12h = ECDF(data['12h'])\n",
    "ecdf24h = ECDF(data['24h'])"
   ]
  },
  {
   "cell_type": "code",
   "execution_count": 74,
   "metadata": {},
   "outputs": [
    {
     "data": {
      "text/plain": [
       "1h     12.6\n",
       "3h     20.0\n",
       "6h     24.0\n",
       "12h    24.2\n",
       "24h    43.6\n",
       "dtype: float64"
      ]
     },
     "execution_count": 74,
     "metadata": {},
     "output_type": "execute_result"
    }
   ],
   "source": [
    "data.min()"
   ]
  },
  {
   "cell_type": "code",
   "execution_count": 75,
   "metadata": {},
   "outputs": [
    {
     "data": {
      "text/plain": [
       "1h      55.8\n",
       "3h      79.0\n",
       "6h     103.8\n",
       "12h    152.2\n",
       "24h    192.0\n",
       "dtype: float64"
      ]
     },
     "execution_count": 75,
     "metadata": {},
     "output_type": "execute_result"
    }
   ],
   "source": [
    "data.max()"
   ]
  },
  {
   "cell_type": "code",
   "execution_count": 76,
   "metadata": {},
   "outputs": [],
   "source": [
    "t_rain = np.linspace(data.min()['1h'], data.max()['24h'], 100)"
   ]
  },
  {
   "cell_type": "code",
   "execution_count": 82,
   "metadata": {},
   "outputs": [
    {
     "data": {
      "text/html": [
       "<div>\n",
       "<style scoped>\n",
       "    .dataframe tbody tr th:only-of-type {\n",
       "        vertical-align: middle;\n",
       "    }\n",
       "\n",
       "    .dataframe tbody tr th {\n",
       "        vertical-align: top;\n",
       "    }\n",
       "\n",
       "    .dataframe thead th {\n",
       "        text-align: right;\n",
       "    }\n",
       "</style>\n",
       "<table border=\"1\" class=\"dataframe\">\n",
       "  <thead>\n",
       "    <tr style=\"text-align: right;\">\n",
       "      <th></th>\n",
       "      <th>1h</th>\n",
       "      <th>3h</th>\n",
       "      <th>6h</th>\n",
       "      <th>12h</th>\n",
       "      <th>24h</th>\n",
       "    </tr>\n",
       "  </thead>\n",
       "  <tbody>\n",
       "    <tr>\n",
       "      <th>12.600000</th>\n",
       "      <td>0.069597</td>\n",
       "      <td>0.004742</td>\n",
       "      <td>0.000116</td>\n",
       "      <td>0.000279</td>\n",
       "      <td>0.000035</td>\n",
       "    </tr>\n",
       "    <tr>\n",
       "      <th>14.412121</th>\n",
       "      <td>0.124211</td>\n",
       "      <td>0.011275</td>\n",
       "      <td>0.000380</td>\n",
       "      <td>0.000547</td>\n",
       "      <td>0.000068</td>\n",
       "    </tr>\n",
       "    <tr>\n",
       "      <th>16.224242</th>\n",
       "      <td>0.195457</td>\n",
       "      <td>0.023304</td>\n",
       "      <td>0.001069</td>\n",
       "      <td>0.001016</td>\n",
       "      <td>0.000126</td>\n",
       "    </tr>\n",
       "    <tr>\n",
       "      <th>18.036364</th>\n",
       "      <td>0.278705</td>\n",
       "      <td>0.042825</td>\n",
       "      <td>0.002626</td>\n",
       "      <td>0.001792</td>\n",
       "      <td>0.000225</td>\n",
       "    </tr>\n",
       "    <tr>\n",
       "      <th>19.848485</th>\n",
       "      <td>0.367913</td>\n",
       "      <td>0.071315</td>\n",
       "      <td>0.005733</td>\n",
       "      <td>0.003017</td>\n",
       "      <td>0.000387</td>\n",
       "    </tr>\n",
       "    <tr>\n",
       "      <th>21.660606</th>\n",
       "      <td>0.457228</td>\n",
       "      <td>0.109350</td>\n",
       "      <td>0.011293</td>\n",
       "      <td>0.004865</td>\n",
       "      <td>0.000642</td>\n",
       "    </tr>\n",
       "    <tr>\n",
       "      <th>23.472727</th>\n",
       "      <td>0.542007</td>\n",
       "      <td>0.156460</td>\n",
       "      <td>0.020352</td>\n",
       "      <td>0.007545</td>\n",
       "      <td>0.001031</td>\n",
       "    </tr>\n",
       "    <tr>\n",
       "      <th>25.284848</th>\n",
       "      <td>0.619185</td>\n",
       "      <td>0.211255</td>\n",
       "      <td>0.033946</td>\n",
       "      <td>0.011284</td>\n",
       "      <td>0.001606</td>\n",
       "    </tr>\n",
       "    <tr>\n",
       "      <th>27.096970</th>\n",
       "      <td>0.687179</td>\n",
       "      <td>0.271706</td>\n",
       "      <td>0.052940</td>\n",
       "      <td>0.016326</td>\n",
       "      <td>0.002432</td>\n",
       "    </tr>\n",
       "    <tr>\n",
       "      <th>28.909091</th>\n",
       "      <td>0.745561</td>\n",
       "      <td>0.335507</td>\n",
       "      <td>0.077881</td>\n",
       "      <td>0.022914</td>\n",
       "      <td>0.003586</td>\n",
       "    </tr>\n",
       "    <tr>\n",
       "      <th>30.721212</th>\n",
       "      <td>0.794694</td>\n",
       "      <td>0.400384</td>\n",
       "      <td>0.108907</td>\n",
       "      <td>0.031273</td>\n",
       "      <td>0.005156</td>\n",
       "    </tr>\n",
       "    <tr>\n",
       "      <th>32.533333</th>\n",
       "      <td>0.835395</td>\n",
       "      <td>0.464326</td>\n",
       "      <td>0.145730</td>\n",
       "      <td>0.041603</td>\n",
       "      <td>0.007242</td>\n",
       "    </tr>\n",
       "    <tr>\n",
       "      <th>...</th>\n",
       "      <td>...</td>\n",
       "      <td>...</td>\n",
       "      <td>...</td>\n",
       "      <td>...</td>\n",
       "      <td>...</td>\n",
       "    </tr>\n",
       "    <tr>\n",
       "      <th>172.066667</th>\n",
       "      <td>1.000000</td>\n",
       "      <td>0.999999</td>\n",
       "      <td>0.999962</td>\n",
       "      <td>0.995766</td>\n",
       "      <td>0.971355</td>\n",
       "    </tr>\n",
       "    <tr>\n",
       "      <th>173.878788</th>\n",
       "      <td>1.000000</td>\n",
       "      <td>0.999999</td>\n",
       "      <td>0.999967</td>\n",
       "      <td>0.996114</td>\n",
       "      <td>0.973178</td>\n",
       "    </tr>\n",
       "    <tr>\n",
       "      <th>175.690909</th>\n",
       "      <td>1.000000</td>\n",
       "      <td>0.999999</td>\n",
       "      <td>0.999972</td>\n",
       "      <td>0.996433</td>\n",
       "      <td>0.974885</td>\n",
       "    </tr>\n",
       "    <tr>\n",
       "      <th>177.503030</th>\n",
       "      <td>1.000000</td>\n",
       "      <td>0.999999</td>\n",
       "      <td>0.999975</td>\n",
       "      <td>0.996727</td>\n",
       "      <td>0.976486</td>\n",
       "    </tr>\n",
       "    <tr>\n",
       "      <th>179.315152</th>\n",
       "      <td>1.000000</td>\n",
       "      <td>1.000000</td>\n",
       "      <td>0.999979</td>\n",
       "      <td>0.996996</td>\n",
       "      <td>0.977986</td>\n",
       "    </tr>\n",
       "    <tr>\n",
       "      <th>181.127273</th>\n",
       "      <td>1.000000</td>\n",
       "      <td>1.000000</td>\n",
       "      <td>0.999981</td>\n",
       "      <td>0.997243</td>\n",
       "      <td>0.979391</td>\n",
       "    </tr>\n",
       "    <tr>\n",
       "      <th>182.939394</th>\n",
       "      <td>1.000000</td>\n",
       "      <td>1.000000</td>\n",
       "      <td>0.999984</td>\n",
       "      <td>0.997470</td>\n",
       "      <td>0.980707</td>\n",
       "    </tr>\n",
       "    <tr>\n",
       "      <th>184.751515</th>\n",
       "      <td>1.000000</td>\n",
       "      <td>1.000000</td>\n",
       "      <td>0.999986</td>\n",
       "      <td>0.997678</td>\n",
       "      <td>0.981940</td>\n",
       "    </tr>\n",
       "    <tr>\n",
       "      <th>186.563636</th>\n",
       "      <td>1.000000</td>\n",
       "      <td>1.000000</td>\n",
       "      <td>0.999988</td>\n",
       "      <td>0.997869</td>\n",
       "      <td>0.983095</td>\n",
       "    </tr>\n",
       "    <tr>\n",
       "      <th>188.375758</th>\n",
       "      <td>1.000000</td>\n",
       "      <td>1.000000</td>\n",
       "      <td>0.999989</td>\n",
       "      <td>0.998044</td>\n",
       "      <td>0.984176</td>\n",
       "    </tr>\n",
       "    <tr>\n",
       "      <th>190.187879</th>\n",
       "      <td>1.000000</td>\n",
       "      <td>1.000000</td>\n",
       "      <td>0.999991</td>\n",
       "      <td>0.998205</td>\n",
       "      <td>0.985189</td>\n",
       "    </tr>\n",
       "    <tr>\n",
       "      <th>192.000000</th>\n",
       "      <td>1.000000</td>\n",
       "      <td>1.000000</td>\n",
       "      <td>0.999992</td>\n",
       "      <td>0.998353</td>\n",
       "      <td>0.986138</td>\n",
       "    </tr>\n",
       "  </tbody>\n",
       "</table>\n",
       "<p>100 rows × 5 columns</p>\n",
       "</div>"
      ],
      "text/plain": [
       "                  1h        3h        6h       12h       24h\n",
       "12.600000   0.069597  0.004742  0.000116  0.000279  0.000035\n",
       "14.412121   0.124211  0.011275  0.000380  0.000547  0.000068\n",
       "16.224242   0.195457  0.023304  0.001069  0.001016  0.000126\n",
       "18.036364   0.278705  0.042825  0.002626  0.001792  0.000225\n",
       "19.848485   0.367913  0.071315  0.005733  0.003017  0.000387\n",
       "21.660606   0.457228  0.109350  0.011293  0.004865  0.000642\n",
       "23.472727   0.542007  0.156460  0.020352  0.007545  0.001031\n",
       "25.284848   0.619185  0.211255  0.033946  0.011284  0.001606\n",
       "27.096970   0.687179  0.271706  0.052940  0.016326  0.002432\n",
       "28.909091   0.745561  0.335507  0.077881  0.022914  0.003586\n",
       "30.721212   0.794694  0.400384  0.108907  0.031273  0.005156\n",
       "32.533333   0.835395  0.464326  0.145730  0.041603  0.007242\n",
       "...              ...       ...       ...       ...       ...\n",
       "172.066667  1.000000  0.999999  0.999962  0.995766  0.971355\n",
       "173.878788  1.000000  0.999999  0.999967  0.996114  0.973178\n",
       "175.690909  1.000000  0.999999  0.999972  0.996433  0.974885\n",
       "177.503030  1.000000  0.999999  0.999975  0.996727  0.976486\n",
       "179.315152  1.000000  1.000000  0.999979  0.996996  0.977986\n",
       "181.127273  1.000000  1.000000  0.999981  0.997243  0.979391\n",
       "182.939394  1.000000  1.000000  0.999984  0.997470  0.980707\n",
       "184.751515  1.000000  1.000000  0.999986  0.997678  0.981940\n",
       "186.563636  1.000000  1.000000  0.999988  0.997869  0.983095\n",
       "188.375758  1.000000  1.000000  0.999989  0.998044  0.984176\n",
       "190.187879  1.000000  1.000000  0.999991  0.998205  0.985189\n",
       "192.000000  1.000000  1.000000  0.999992  0.998353  0.986138\n",
       "\n",
       "[100 rows x 5 columns]"
      ]
     },
     "execution_count": 82,
     "metadata": {},
     "output_type": "execute_result"
    }
   ],
   "source": [
    "gb = pd.DataFrame([\n",
    "    gumbel(t_rain, abs_m, '1h'),\n",
    "    gumbel(t_rain, abs_m, '3h'),\n",
    "    gumbel(t_rain, abs_m, '6h'),\n",
    "    gumbel(t_rain, abs_m, '12h'),\n",
    "    gumbel(t_rain, abs_m, '24h')\n",
    "]).T\n",
    "gb.index = t_rain\n",
    "gb.columns = ['1h', '3h', '6h', '12h', '24h']\n",
    "gb"
   ]
  },
  {
   "cell_type": "code",
   "execution_count": 85,
   "metadata": {},
   "outputs": [
    {
     "data": {
      "text/plain": [
       "Text(0.5, 1.0, 'Gumbel distribution from momentum method')"
      ]
     },
     "execution_count": 85,
     "metadata": {},
     "output_type": "execute_result"
    },
    {
     "data": {
      "image/png": "[encoded data removed]",
      "text/plain": [
       "<Figure size 432x288 with 1 Axes>"
      ]
     },
     "metadata": {
      "needs_background": "light"
     },
     "output_type": "display_data"
    }
   ],
   "source": [
    "plt.rc('xtick', labelsize = 20)\n",
    "plt.rc('ytick', labelsize = 20)\n",
    "\n",
    "ax = gb.plot(color = ['red', 'green', 'blue', 'magenta', 'black'])\n",
    "\n",
    "data1h = data['1h'].dropna()\n",
    "ecdf1h = ECDF(data1h)\n",
    "ax.plot(data1h, ecdf1h(data1h), 'o', c = 'red', label = '1h')\n",
    "\n",
    "data3h = data['3h'].dropna()\n",
    "ecdf3h = ECDF(data3h)\n",
    "ax.plot(data3h, ecdf3h(data3h), 'o', c = 'green', label = '3h')\n",
    "\n",
    "data6h = data['6h'].dropna()\n",
    "ecdf6h = ECDF(data6h)\n",
    "ax.plot(data6h, ecdf6h(data6h), 'o', c = 'blue', label = '6h')\n",
    "\n",
    "data12h = data['12h'].dropna()\n",
    "ecdf12h = ECDF(data12h)\n",
    "ax.plot(data12h, ecdf12h(data12h), 'o', c = 'magenta', label = '12h')\n",
    "\n",
    "data24h = data['24h'].dropna()\n",
    "ecdf24h = ECDF(data24h)\n",
    "ax.plot(data24h, ecdf24h(data24h), 'o', c = 'black', label = '24h')\n",
    "\n",
    "ax.set_xlabel('Rainfall [mm]')\n",
    "ax.set_ylabel('P[H<h]')\n",
    "ax.set_title('Gumbel distribution from momentum method')"
   ]
  }
 ],
 "metadata": {
  "kernelspec": {
   "display_name": "Python 3",
   "language": "python",
   "name": "python3"
  },
  "language_info": {
   "codemirror_mode": {
    "name": "ipython",
    "version": 3
   },
   "file_extension": ".py",
   "mimetype": "text/x-python",
   "name": "python",
   "nbconvert_exporter": "python",
   "pygments_lexer": "ipython3",
   "version": "3.7.1"
  }
 },
 "nbformat": 4,
 "nbformat_minor": 2
}
