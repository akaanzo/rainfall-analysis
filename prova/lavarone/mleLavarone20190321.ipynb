{
 "cells": [
  {
   "cell_type": "markdown",
   "metadata": {},
   "source": [
    "# Prova Dati Lavarone Chiesa - 2019-03-21"
   ]
  },
  {
   "cell_type": "markdown",
   "metadata": {},
   "source": [
    "## Metodo della massima verosimiglianza"
   ]
  },
  {
   "cell_type": "markdown",
   "metadata": {},
   "source": [
    "Matteo Franzoi - 2019-03-21"
   ]
  },
  {
   "cell_type": "markdown",
   "metadata": {},
   "source": [
    "---"
   ]
  },
  {
   "cell_type": "code",
   "execution_count": 9,
   "metadata": {},
   "outputs": [],
   "source": [
    "import os\n",
    "from pandas import *\n",
    "import pandas as pd\n",
    "import matplotlib.pyplot as plt\n",
    "%matplotlib inline\n",
    "import datetime as datetime\n",
    "from scipy.stats import genextreme, gumbel_r\n",
    "from numpy import linspace\n",
    "import numpy as np"
   ]
  },
  {
   "cell_type": "code",
   "execution_count": 10,
   "metadata": {},
   "outputs": [
    {
     "data": {
      "text/plain": [
       "'/media/Dati/jupyter/prova'"
      ]
     },
     "execution_count": 10,
     "metadata": {},
     "output_type": "execute_result"
    }
   ],
   "source": [
    "os.getcwd()"
   ]
  },
  {
   "cell_type": "code",
   "execution_count": 11,
   "metadata": {},
   "outputs": [
    {
     "data": {
      "text/plain": [
       "['.ipynb_checkpoints',\n",
       " 'abs_m',\n",
       " 'Coordinate.csv',\n",
       " 'mleLavarone20190321.ipynb',\n",
       " 'momentiLavarone20190321.ipynb',\n",
       " 'prova_coordinate.ipynb',\n",
       " 'prova_gaussiana.ipynb',\n",
       " 't0032.csv',\n",
       " 'Untitled.ipynb',\n",
       " 'voti.ipynb',\n",
       " 'voti.xlsx']"
      ]
     },
     "execution_count": 11,
     "metadata": {},
     "output_type": "execute_result"
    }
   ],
   "source": [
    "os.listdir()"
   ]
  },
  {
   "cell_type": "code",
   "execution_count": 14,
   "metadata": {},
   "outputs": [
    {
     "data": {
      "text/html": [
       "<div>\n",
       "<style scoped>\n",
       "    .dataframe tbody tr th:only-of-type {\n",
       "        vertical-align: middle;\n",
       "    }\n",
       "\n",
       "    .dataframe tbody tr th {\n",
       "        vertical-align: top;\n",
       "    }\n",
       "\n",
       "    .dataframe thead th {\n",
       "        text-align: right;\n",
       "    }\n",
       "</style>\n",
       "<table border=\"1\" class=\"dataframe\">\n",
       "  <thead>\n",
       "    <tr style=\"text-align: right;\">\n",
       "      <th></th>\n",
       "      <th>totale</th>\n",
       "    </tr>\n",
       "    <tr>\n",
       "      <th>anno</th>\n",
       "      <th></th>\n",
       "    </tr>\n",
       "  </thead>\n",
       "  <tbody>\n",
       "    <tr>\n",
       "      <th>1992</th>\n",
       "      <td>1441.8</td>\n",
       "    </tr>\n",
       "    <tr>\n",
       "      <th>1993</th>\n",
       "      <td>1380.4</td>\n",
       "    </tr>\n",
       "    <tr>\n",
       "      <th>1994</th>\n",
       "      <td>1251.8</td>\n",
       "    </tr>\n",
       "    <tr>\n",
       "      <th>1995</th>\n",
       "      <td>944.4</td>\n",
       "    </tr>\n",
       "    <tr>\n",
       "      <th>1996</th>\n",
       "      <td>1375.4</td>\n",
       "    </tr>\n",
       "    <tr>\n",
       "      <th>1997</th>\n",
       "      <td>821.6</td>\n",
       "    </tr>\n",
       "    <tr>\n",
       "      <th>1998</th>\n",
       "      <td>NaN</td>\n",
       "    </tr>\n",
       "    <tr>\n",
       "      <th>1999</th>\n",
       "      <td>1292.0</td>\n",
       "    </tr>\n",
       "    <tr>\n",
       "      <th>2000</th>\n",
       "      <td>1451.6</td>\n",
       "    </tr>\n",
       "    <tr>\n",
       "      <th>2001</th>\n",
       "      <td>1177.2</td>\n",
       "    </tr>\n",
       "    <tr>\n",
       "      <th>2002</th>\n",
       "      <td>NaN</td>\n",
       "    </tr>\n",
       "    <tr>\n",
       "      <th>2003</th>\n",
       "      <td>NaN</td>\n",
       "    </tr>\n",
       "    <tr>\n",
       "      <th>2004</th>\n",
       "      <td>NaN</td>\n",
       "    </tr>\n",
       "    <tr>\n",
       "      <th>2005</th>\n",
       "      <td>824.0</td>\n",
       "    </tr>\n",
       "    <tr>\n",
       "      <th>2006</th>\n",
       "      <td>938.2</td>\n",
       "    </tr>\n",
       "    <tr>\n",
       "      <th>2007</th>\n",
       "      <td>NaN</td>\n",
       "    </tr>\n",
       "    <tr>\n",
       "      <th>2008</th>\n",
       "      <td>NaN</td>\n",
       "    </tr>\n",
       "    <tr>\n",
       "      <th>2009</th>\n",
       "      <td>NaN</td>\n",
       "    </tr>\n",
       "    <tr>\n",
       "      <th>2010</th>\n",
       "      <td>NaN</td>\n",
       "    </tr>\n",
       "    <tr>\n",
       "      <th>2011</th>\n",
       "      <td>1075.4</td>\n",
       "    </tr>\n",
       "    <tr>\n",
       "      <th>2012</th>\n",
       "      <td>NaN</td>\n",
       "    </tr>\n",
       "    <tr>\n",
       "      <th>2013</th>\n",
       "      <td>1644.4</td>\n",
       "    </tr>\n",
       "    <tr>\n",
       "      <th>2014</th>\n",
       "      <td>2100.6</td>\n",
       "    </tr>\n",
       "    <tr>\n",
       "      <th>2015</th>\n",
       "      <td>864.8</td>\n",
       "    </tr>\n",
       "    <tr>\n",
       "      <th>2016</th>\n",
       "      <td>1187.8</td>\n",
       "    </tr>\n",
       "    <tr>\n",
       "      <th>2017</th>\n",
       "      <td>1039.6</td>\n",
       "    </tr>\n",
       "    <tr>\n",
       "      <th>2018</th>\n",
       "      <td>1666.8</td>\n",
       "    </tr>\n",
       "    <tr>\n",
       "      <th>2019</th>\n",
       "      <td>NaN</td>\n",
       "    </tr>\n",
       "  </tbody>\n",
       "</table>\n",
       "</div>"
      ],
      "text/plain": [
       "      totale\n",
       "anno        \n",
       "1992  1441.8\n",
       "1993  1380.4\n",
       "1994  1251.8\n",
       "1995   944.4\n",
       "1996  1375.4\n",
       "1997   821.6\n",
       "1998     NaN\n",
       "1999  1292.0\n",
       "2000  1451.6\n",
       "2001  1177.2\n",
       "2002     NaN\n",
       "2003     NaN\n",
       "2004     NaN\n",
       "2005   824.0\n",
       "2006   938.2\n",
       "2007     NaN\n",
       "2008     NaN\n",
       "2009     NaN\n",
       "2010     NaN\n",
       "2011  1075.4\n",
       "2012     NaN\n",
       "2013  1644.4\n",
       "2014  2100.6\n",
       "2015   864.8\n",
       "2016  1187.8\n",
       "2017  1039.6\n",
       "2018  1666.8\n",
       "2019     NaN"
      ]
     },
     "execution_count": 14,
     "metadata": {},
     "output_type": "execute_result"
    }
   ],
   "source": [
    "data = pd.read_csv('t0032.csv')\n",
    "map(datetime, data['anno'])\n",
    "data = data.set_index('anno')\n",
    "data"
   ]
  },
  {
   "cell_type": "code",
   "execution_count": 15,
   "metadata": {},
   "outputs": [
    {
     "data": {
      "text/plain": [
       "anno\n",
       "1992    1441.8\n",
       "1993    1380.4\n",
       "1994    1251.8\n",
       "1995     944.4\n",
       "1996    1375.4\n",
       "1997     821.6\n",
       "1998       NaN\n",
       "1999    1292.0\n",
       "2000    1451.6\n",
       "2001    1177.2\n",
       "2002       NaN\n",
       "2003       NaN\n",
       "2004       NaN\n",
       "2005     824.0\n",
       "2006     938.2\n",
       "2007       NaN\n",
       "2008       NaN\n",
       "2009       NaN\n",
       "2010       NaN\n",
       "2011    1075.4\n",
       "2012       NaN\n",
       "2013    1644.4\n",
       "2014    2100.6\n",
       "2015     864.8\n",
       "2016    1187.8\n",
       "2017    1039.6\n",
       "2018    1666.8\n",
       "2019       NaN\n",
       "Name: totale, dtype: float64"
      ]
     },
     "execution_count": 15,
     "metadata": {},
     "output_type": "execute_result"
    }
   ],
   "source": [
    "data['totale']"
   ]
  },
  {
   "cell_type": "code",
   "execution_count": 16,
   "metadata": {},
   "outputs": [
    {
     "data": {
      "text/plain": [
       "(1096.2225247665276, 260.78733512901965)"
      ]
     },
     "execution_count": 16,
     "metadata": {},
     "output_type": "execute_result"
    }
   ],
   "source": [
    "samp = data['totale'].dropna()\n",
    "param = gumbel_r.fit(samp)\n",
    "param"
   ]
  },
  {
   "cell_type": "code",
   "execution_count": 20,
   "metadata": {},
   "outputs": [
    {
     "data": {
      "text/html": [
       "<div>\n",
       "<style scoped>\n",
       "    .dataframe tbody tr th:only-of-type {\n",
       "        vertical-align: middle;\n",
       "    }\n",
       "\n",
       "    .dataframe tbody tr th {\n",
       "        vertical-align: top;\n",
       "    }\n",
       "\n",
       "    .dataframe thead th {\n",
       "        text-align: right;\n",
       "    }\n",
       "</style>\n",
       "<table border=\"1\" class=\"dataframe\">\n",
       "  <thead>\n",
       "    <tr style=\"text-align: right;\">\n",
       "      <th></th>\n",
       "      <th>totale</th>\n",
       "    </tr>\n",
       "  </thead>\n",
       "  <tbody>\n",
       "    <tr>\n",
       "      <th>a</th>\n",
       "      <td>1096.222525</td>\n",
       "    </tr>\n",
       "    <tr>\n",
       "      <th>b</th>\n",
       "      <td>260.787335</td>\n",
       "    </tr>\n",
       "  </tbody>\n",
       "</table>\n",
       "</div>"
      ],
      "text/plain": [
       "        totale\n",
       "a  1096.222525\n",
       "b   260.787335"
      ]
     },
     "execution_count": 20,
     "metadata": {},
     "output_type": "execute_result"
    }
   ],
   "source": [
    "abs_mle = pd.DataFrame([\n",
    "    param],\n",
    "    columns = ['a', 'b'],\n",
    "    index = ['totale']    \n",
    ").T\n",
    "abs_mle"
   ]
  },
  {
   "cell_type": "code",
   "execution_count": 22,
   "metadata": {},
   "outputs": [],
   "source": [
    "abs_mle.to_pickle('abs_mle')"
   ]
  },
  {
   "cell_type": "code",
   "execution_count": 23,
   "metadata": {},
   "outputs": [
    {
     "data": {
      "text/plain": [
       "['.ipynb_checkpoints',\n",
       " 'abs_m',\n",
       " 'abs_mle',\n",
       " 'Coordinate.csv',\n",
       " 'mleLavarone20190321.ipynb',\n",
       " 'momentiLavarone20190321.ipynb',\n",
       " 'prova_coordinate.ipynb',\n",
       " 'prova_gaussiana.ipynb',\n",
       " 't0032.csv',\n",
       " 'Untitled.ipynb',\n",
       " 'voti.ipynb',\n",
       " 'voti.xlsx']"
      ]
     },
     "execution_count": 23,
     "metadata": {},
     "output_type": "execute_result"
    }
   ],
   "source": [
    "os.listdir()"
   ]
  },
  {
   "cell_type": "code",
   "execution_count": 24,
   "metadata": {},
   "outputs": [
    {
     "data": {
      "text/plain": [
       "totale    821.6\n",
       "dtype: float64"
      ]
     },
     "execution_count": 24,
     "metadata": {},
     "output_type": "execute_result"
    }
   ],
   "source": [
    "data.min()"
   ]
  },
  {
   "cell_type": "code",
   "execution_count": 25,
   "metadata": {},
   "outputs": [
    {
     "data": {
      "text/plain": [
       "totale    2100.6\n",
       "dtype: float64"
      ]
     },
     "execution_count": 25,
     "metadata": {},
     "output_type": "execute_result"
    }
   ],
   "source": [
    "data.max()"
   ]
  },
  {
   "cell_type": "code",
   "execution_count": 27,
   "metadata": {},
   "outputs": [],
   "source": [
    "t_rain = np.linspace(data.min(), data.max(), 100)\n"
   ]
  },
  {
   "cell_type": "code",
   "execution_count": 28,
   "metadata": {},
   "outputs": [],
   "source": [
    "from statsmodels.distributions.empirical_distribution import ECDF"
   ]
  },
  {
   "cell_type": "code",
   "execution_count": 29,
   "metadata": {},
   "outputs": [],
   "source": [
    "def gumbel(x, abs_d, col):\n",
    "    return np.exp(-np.exp(-(x - abs_d[col]['a'])/abs_d[col]['b']))"
   ]
  },
  {
   "cell_type": "code",
   "execution_count": 32,
   "metadata": {},
   "outputs": [
    {
     "data": {
      "text/html": [
       "<div>\n",
       "<style scoped>\n",
       "    .dataframe tbody tr th:only-of-type {\n",
       "        vertical-align: middle;\n",
       "    }\n",
       "\n",
       "    .dataframe tbody tr th {\n",
       "        vertical-align: top;\n",
       "    }\n",
       "\n",
       "    .dataframe thead th {\n",
       "        text-align: right;\n",
       "    }\n",
       "</style>\n",
       "<table border=\"1\" class=\"dataframe\">\n",
       "  <thead>\n",
       "    <tr style=\"text-align: right;\">\n",
       "      <th></th>\n",
       "      <th>totale</th>\n",
       "    </tr>\n",
       "  </thead>\n",
       "  <tbody>\n",
       "    <tr>\n",
       "      <th>821.600000</th>\n",
       "      <td>0.056904</td>\n",
       "    </tr>\n",
       "    <tr>\n",
       "      <th>834.519192</th>\n",
       "      <td>0.065360</td>\n",
       "    </tr>\n",
       "    <tr>\n",
       "      <th>847.438384</th>\n",
       "      <td>0.074571</td>\n",
       "    </tr>\n",
       "    <tr>\n",
       "      <th>860.357576</th>\n",
       "      <td>0.084540</td>\n",
       "    </tr>\n",
       "    <tr>\n",
       "      <th>873.276768</th>\n",
       "      <td>0.095262</td>\n",
       "    </tr>\n",
       "    <tr>\n",
       "      <th>886.195960</th>\n",
       "      <td>0.106726</td>\n",
       "    </tr>\n",
       "    <tr>\n",
       "      <th>899.115152</th>\n",
       "      <td>0.118915</td>\n",
       "    </tr>\n",
       "    <tr>\n",
       "      <th>912.034343</th>\n",
       "      <td>0.131805</td>\n",
       "    </tr>\n",
       "    <tr>\n",
       "      <th>924.953535</th>\n",
       "      <td>0.145367</td>\n",
       "    </tr>\n",
       "    <tr>\n",
       "      <th>937.872727</th>\n",
       "      <td>0.159568</td>\n",
       "    </tr>\n",
       "    <tr>\n",
       "      <th>950.791919</th>\n",
       "      <td>0.174369</td>\n",
       "    </tr>\n",
       "    <tr>\n",
       "      <th>963.711111</th>\n",
       "      <td>0.189728</td>\n",
       "    </tr>\n",
       "    <tr>\n",
       "      <th>976.630303</th>\n",
       "      <td>0.205599</td>\n",
       "    </tr>\n",
       "    <tr>\n",
       "      <th>989.549495</th>\n",
       "      <td>0.221934</td>\n",
       "    </tr>\n",
       "    <tr>\n",
       "      <th>1002.468687</th>\n",
       "      <td>0.238683</td>\n",
       "    </tr>\n",
       "    <tr>\n",
       "      <th>1015.387879</th>\n",
       "      <td>0.255796</td>\n",
       "    </tr>\n",
       "    <tr>\n",
       "      <th>1028.307071</th>\n",
       "      <td>0.273219</td>\n",
       "    </tr>\n",
       "    <tr>\n",
       "      <th>1041.226263</th>\n",
       "      <td>0.290901</td>\n",
       "    </tr>\n",
       "    <tr>\n",
       "      <th>1054.145455</th>\n",
       "      <td>0.308791</td>\n",
       "    </tr>\n",
       "    <tr>\n",
       "      <th>1067.064646</th>\n",
       "      <td>0.326836</td>\n",
       "    </tr>\n",
       "    <tr>\n",
       "      <th>1079.983838</th>\n",
       "      <td>0.344987</td>\n",
       "    </tr>\n",
       "    <tr>\n",
       "      <th>1092.903030</th>\n",
       "      <td>0.363197</td>\n",
       "    </tr>\n",
       "    <tr>\n",
       "      <th>1105.822222</th>\n",
       "      <td>0.381418</td>\n",
       "    </tr>\n",
       "    <tr>\n",
       "      <th>1118.741414</th>\n",
       "      <td>0.399607</td>\n",
       "    </tr>\n",
       "    <tr>\n",
       "      <th>1131.660606</th>\n",
       "      <td>0.417722</td>\n",
       "    </tr>\n",
       "    <tr>\n",
       "      <th>1144.579798</th>\n",
       "      <td>0.435723</td>\n",
       "    </tr>\n",
       "    <tr>\n",
       "      <th>1157.498990</th>\n",
       "      <td>0.453574</td>\n",
       "    </tr>\n",
       "    <tr>\n",
       "      <th>1170.418182</th>\n",
       "      <td>0.471241</td>\n",
       "    </tr>\n",
       "    <tr>\n",
       "      <th>1183.337374</th>\n",
       "      <td>0.488693</td>\n",
       "    </tr>\n",
       "    <tr>\n",
       "      <th>1196.256566</th>\n",
       "      <td>0.505901</td>\n",
       "    </tr>\n",
       "    <tr>\n",
       "      <th>...</th>\n",
       "      <td>...</td>\n",
       "    </tr>\n",
       "    <tr>\n",
       "      <th>1725.943434</th>\n",
       "      <td>0.914484</td>\n",
       "    </tr>\n",
       "    <tr>\n",
       "      <th>1738.862626</th>\n",
       "      <td>0.918444</td>\n",
       "    </tr>\n",
       "    <tr>\n",
       "      <th>1751.781818</th>\n",
       "      <td>0.922228</td>\n",
       "    </tr>\n",
       "    <tr>\n",
       "      <th>1764.701010</th>\n",
       "      <td>0.925844</td>\n",
       "    </tr>\n",
       "    <tr>\n",
       "      <th>1777.620202</th>\n",
       "      <td>0.929298</td>\n",
       "    </tr>\n",
       "    <tr>\n",
       "      <th>1790.539394</th>\n",
       "      <td>0.932598</td>\n",
       "    </tr>\n",
       "    <tr>\n",
       "      <th>1803.458586</th>\n",
       "      <td>0.935748</td>\n",
       "    </tr>\n",
       "    <tr>\n",
       "      <th>1816.377778</th>\n",
       "      <td>0.938757</td>\n",
       "    </tr>\n",
       "    <tr>\n",
       "      <th>1829.296970</th>\n",
       "      <td>0.941628</td>\n",
       "    </tr>\n",
       "    <tr>\n",
       "      <th>1842.216162</th>\n",
       "      <td>0.944370</td>\n",
       "    </tr>\n",
       "    <tr>\n",
       "      <th>1855.135354</th>\n",
       "      <td>0.946986</td>\n",
       "    </tr>\n",
       "    <tr>\n",
       "      <th>1868.054545</th>\n",
       "      <td>0.949482</td>\n",
       "    </tr>\n",
       "    <tr>\n",
       "      <th>1880.973737</th>\n",
       "      <td>0.951864</td>\n",
       "    </tr>\n",
       "    <tr>\n",
       "      <th>1893.892929</th>\n",
       "      <td>0.954136</td>\n",
       "    </tr>\n",
       "    <tr>\n",
       "      <th>1906.812121</th>\n",
       "      <td>0.956304</td>\n",
       "    </tr>\n",
       "    <tr>\n",
       "      <th>1919.731313</th>\n",
       "      <td>0.958371</td>\n",
       "    </tr>\n",
       "    <tr>\n",
       "      <th>1932.650505</th>\n",
       "      <td>0.960343</td>\n",
       "    </tr>\n",
       "    <tr>\n",
       "      <th>1945.569697</th>\n",
       "      <td>0.962223</td>\n",
       "    </tr>\n",
       "    <tr>\n",
       "      <th>1958.488889</th>\n",
       "      <td>0.964015</td>\n",
       "    </tr>\n",
       "    <tr>\n",
       "      <th>1971.408081</th>\n",
       "      <td>0.965724</td>\n",
       "    </tr>\n",
       "    <tr>\n",
       "      <th>1984.327273</th>\n",
       "      <td>0.967354</td>\n",
       "    </tr>\n",
       "    <tr>\n",
       "      <th>1997.246465</th>\n",
       "      <td>0.968907</td>\n",
       "    </tr>\n",
       "    <tr>\n",
       "      <th>2010.165657</th>\n",
       "      <td>0.970387</td>\n",
       "    </tr>\n",
       "    <tr>\n",
       "      <th>2023.084848</th>\n",
       "      <td>0.971798</td>\n",
       "    </tr>\n",
       "    <tr>\n",
       "      <th>2036.004040</th>\n",
       "      <td>0.973143</td>\n",
       "    </tr>\n",
       "    <tr>\n",
       "      <th>2048.923232</th>\n",
       "      <td>0.974424</td>\n",
       "    </tr>\n",
       "    <tr>\n",
       "      <th>2061.842424</th>\n",
       "      <td>0.975645</td>\n",
       "    </tr>\n",
       "    <tr>\n",
       "      <th>2074.761616</th>\n",
       "      <td>0.976808</td>\n",
       "    </tr>\n",
       "    <tr>\n",
       "      <th>2087.680808</th>\n",
       "      <td>0.977917</td>\n",
       "    </tr>\n",
       "    <tr>\n",
       "      <th>2100.600000</th>\n",
       "      <td>0.978973</td>\n",
       "    </tr>\n",
       "  </tbody>\n",
       "</table>\n",
       "<p>100 rows × 1 columns</p>\n",
       "</div>"
      ],
      "text/plain": [
       "               totale\n",
       "821.600000   0.056904\n",
       "834.519192   0.065360\n",
       "847.438384   0.074571\n",
       "860.357576   0.084540\n",
       "873.276768   0.095262\n",
       "886.195960   0.106726\n",
       "899.115152   0.118915\n",
       "912.034343   0.131805\n",
       "924.953535   0.145367\n",
       "937.872727   0.159568\n",
       "950.791919   0.174369\n",
       "963.711111   0.189728\n",
       "976.630303   0.205599\n",
       "989.549495   0.221934\n",
       "1002.468687  0.238683\n",
       "1015.387879  0.255796\n",
       "1028.307071  0.273219\n",
       "1041.226263  0.290901\n",
       "1054.145455  0.308791\n",
       "1067.064646  0.326836\n",
       "1079.983838  0.344987\n",
       "1092.903030  0.363197\n",
       "1105.822222  0.381418\n",
       "1118.741414  0.399607\n",
       "1131.660606  0.417722\n",
       "1144.579798  0.435723\n",
       "1157.498990  0.453574\n",
       "1170.418182  0.471241\n",
       "1183.337374  0.488693\n",
       "1196.256566  0.505901\n",
       "...               ...\n",
       "1725.943434  0.914484\n",
       "1738.862626  0.918444\n",
       "1751.781818  0.922228\n",
       "1764.701010  0.925844\n",
       "1777.620202  0.929298\n",
       "1790.539394  0.932598\n",
       "1803.458586  0.935748\n",
       "1816.377778  0.938757\n",
       "1829.296970  0.941628\n",
       "1842.216162  0.944370\n",
       "1855.135354  0.946986\n",
       "1868.054545  0.949482\n",
       "1880.973737  0.951864\n",
       "1893.892929  0.954136\n",
       "1906.812121  0.956304\n",
       "1919.731313  0.958371\n",
       "1932.650505  0.960343\n",
       "1945.569697  0.962223\n",
       "1958.488889  0.964015\n",
       "1971.408081  0.965724\n",
       "1984.327273  0.967354\n",
       "1997.246465  0.968907\n",
       "2010.165657  0.970387\n",
       "2023.084848  0.971798\n",
       "2036.004040  0.973143\n",
       "2048.923232  0.974424\n",
       "2061.842424  0.975645\n",
       "2074.761616  0.976808\n",
       "2087.680808  0.977917\n",
       "2100.600000  0.978973\n",
       "\n",
       "[100 rows x 1 columns]"
      ]
     },
     "execution_count": 32,
     "metadata": {},
     "output_type": "execute_result"
    }
   ],
   "source": [
    "gb = pd.DataFrame([\n",
    "    gumbel(t_rain, abs_mle, 'totale')\n",
    "]).T\n",
    "gb.index = t_rain\n",
    "gb.columns = ['totale']\n",
    "gb"
   ]
  },
  {
   "cell_type": "code",
   "execution_count": 36,
   "metadata": {},
   "outputs": [
    {
     "data": {
      "text/plain": [
       "<statsmodels.distributions.empirical_distribution.ECDF at 0x7f4b4ce714a8>"
      ]
     },
     "execution_count": 36,
     "metadata": {},
     "output_type": "execute_result"
    }
   ],
   "source": [
    "datatot = data['totale'].dropna()\n",
    "ecdf = ECDF(datatot)\n",
    "ecdf"
   ]
  },
  {
   "cell_type": "code",
   "execution_count": 38,
   "metadata": {},
   "outputs": [
    {
     "data": {
      "image/png": "[encoded data removed]",
      "text/plain": [
       "<Figure size 432x288 with 1 Axes>"
      ]
     },
     "metadata": {
      "needs_background": "light"
     },
     "output_type": "display_data"
    }
   ],
   "source": [
    "ax = gb.plot(color = ['blue'])\n",
    "ax.plot(datatot, ecdf(datatot), 'o', c = 'blue', label = 'totale')\n",
    "ax.set_xlabel('Rainfall [mm]')\n",
    "ax.set_ylabel('P[H<h]')\n",
    "ax.set_title('Gumbel distribution from maximun likehood method')\n",
    "plt.show()"
   ]
  },
  {
   "cell_type": "code",
   "execution_count": null,
   "metadata": {},
   "outputs": [],
   "source": []
  }
 ],
 "metadata": {
  "kernelspec": {
   "display_name": "Python 3",
   "language": "python",
   "name": "python3"
  },
  "language_info": {
   "codemirror_mode": {
    "name": "ipython",
    "version": 3
   },
   "file_extension": ".py",
   "mimetype": "text/x-python",
   "name": "python",
   "nbconvert_exporter": "python",
   "pygments_lexer": "ipython3",
   "version": "3.7.1"
  }
 },
 "nbformat": 4,
 "nbformat_minor": 2
}
