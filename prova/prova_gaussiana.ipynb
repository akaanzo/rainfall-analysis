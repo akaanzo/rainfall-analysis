{
 "cells": [
  {
   "cell_type": "markdown",
   "metadata": {},
   "source": [
    "# Distribuzione Gaussiana da una serie di numeri random"
   ]
  },
  {
   "cell_type": "markdown",
   "metadata": {},
   "source": [
    "Importo la libreria numpy"
   ]
  },
  {
   "cell_type": "code",
   "execution_count": 6,
   "metadata": {},
   "outputs": [],
   "source": [
    "import numpy as np"
   ]
  },
  {
   "cell_type": "markdown",
   "metadata": {},
   "source": [
    "Fisso la media \"mu\" a 0 e la varianza \"sigma\" pari a 0.1"
   ]
  },
  {
   "cell_type": "code",
   "execution_count": 7,
   "metadata": {},
   "outputs": [],
   "source": [
    "mu, sigma = 0, 0.1"
   ]
  },
  {
   "cell_type": "markdown",
   "metadata": {},
   "source": [
    "Creo un vettore \"s\" con media mu e varianza sigma, di 100000 elementi grazie alla funzione random.normal di numnpy. Normal sta per distribuzione normale."
   ]
  },
  {
   "cell_type": "code",
   "execution_count": 8,
   "metadata": {},
   "outputs": [
    {
     "data": {
      "text/plain": [
       "array([-0.04272129,  0.19376923, -0.15311245, ...,  0.10028088,\n",
       "        0.24728206, -0.00088969])"
      ]
     },
     "execution_count": 8,
     "metadata": {},
     "output_type": "execute_result"
    }
   ],
   "source": [
    "s = np.random.normal(mu, sigma, 100000) #np.random.normal(mean(center of the distribution), spread(std deviation), number of elements)\n",
    "s"
   ]
  },
  {
   "cell_type": "markdown",
   "metadata": {},
   "source": [
    "Posso creare un vettore random usando anche altre funzioni, come linspace"
   ]
  },
  {
   "cell_type": "code",
   "execution_count": 43,
   "metadata": {},
   "outputs": [
    {
     "data": {
      "text/plain": [
       "50"
      ]
     },
     "execution_count": 43,
     "metadata": {},
     "output_type": "execute_result"
    }
   ],
   "source": [
    "x = np.linspace(mu, sigma) #np.linspace(initial value, final number, number of samples=[50])\n",
    "len(x)"
   ]
  },
  {
   "cell_type": "code",
   "execution_count": 44,
   "metadata": {},
   "outputs": [
    {
     "data": {
      "text/plain": [
       "array([0.        , 0.00204082, 0.00408163, 0.00612245, 0.00816327,\n",
       "       0.01020408, 0.0122449 , 0.01428571, 0.01632653, 0.01836735,\n",
       "       0.02040816, 0.02244898, 0.0244898 , 0.02653061, 0.02857143,\n",
       "       0.03061224, 0.03265306, 0.03469388, 0.03673469, 0.03877551,\n",
       "       0.04081633, 0.04285714, 0.04489796, 0.04693878, 0.04897959,\n",
       "       0.05102041, 0.05306122, 0.05510204, 0.05714286, 0.05918367,\n",
       "       0.06122449, 0.06326531, 0.06530612, 0.06734694, 0.06938776,\n",
       "       0.07142857, 0.07346939, 0.0755102 , 0.07755102, 0.07959184,\n",
       "       0.08163265, 0.08367347, 0.08571429, 0.0877551 , 0.08979592,\n",
       "       0.09183673, 0.09387755, 0.09591837, 0.09795918, 0.1       ])"
      ]
     },
     "execution_count": 44,
     "metadata": {},
     "output_type": "execute_result"
    }
   ],
   "source": [
    "x"
   ]
  },
  {
   "cell_type": "markdown",
   "metadata": {},
   "source": [
    "Calcolo la media dei valori di s, che dovrebbe essere nulla"
   ]
  },
  {
   "cell_type": "code",
   "execution_count": 11,
   "metadata": {},
   "outputs": [
    {
     "data": {
      "text/plain": [
       "0.00041787239185793706"
      ]
     },
     "execution_count": 11,
     "metadata": {},
     "output_type": "execute_result"
    }
   ],
   "source": [
    "np.mean(s)"
   ]
  },
  {
   "cell_type": "markdown",
   "metadata": {},
   "source": [
    "Per controllo, verifico se la differenza tra media empirica e calcolata (in modulo) è minore del valore scelto"
   ]
  },
  {
   "cell_type": "code",
   "execution_count": 46,
   "metadata": {},
   "outputs": [
    {
     "data": {
      "text/plain": [
       "True"
      ]
     },
     "execution_count": 46,
     "metadata": {},
     "output_type": "execute_result"
    }
   ],
   "source": [
    "abs(mu-np.mean(s))< .01"
   ]
  },
  {
   "cell_type": "markdown",
   "metadata": {},
   "source": [
    "Lo faccio anche per la deviazione standard"
   ]
  },
  {
   "cell_type": "code",
   "execution_count": 47,
   "metadata": {},
   "outputs": [
    {
     "data": {
      "text/plain": [
       "True"
      ]
     },
     "execution_count": 47,
     "metadata": {},
     "output_type": "execute_result"
    }
   ],
   "source": [
    "abs(sigma - np.std(s)) < .01"
   ]
  },
  {
   "cell_type": "markdown",
   "metadata": {},
   "source": [
    "Importo la libreria per il plotting dei grafici"
   ]
  },
  {
   "cell_type": "code",
   "execution_count": 13,
   "metadata": {},
   "outputs": [],
   "source": [
    "import matplotlib.pyplot as plt\n",
    "%matplotlib inline"
   ]
  },
  {
   "cell_type": "markdown",
   "metadata": {},
   "source": [
    "Plotto s in un istogramma di 1000 barre"
   ]
  },
  {
   "cell_type": "markdown",
   "metadata": {},
   "source": [
    "count, bins, ignored = plt.hist(s,1000, density = True)\n",
    "plt.show()"
   ]
  },
  {
   "cell_type": "markdown",
   "metadata": {},
   "source": [
    "Sovrappongo al plotting appena fatto, la curva gaussiana di equazione\n",
    "\n",
    "$f(x) = \\frac{1}{\\sqrt{2\\pi} \\sigma} e^{-(x-\\mu)^2/2 \\pi \\sigma^2}$\n"
   ]
  },
  {
   "cell_type": "code",
   "execution_count": 14,
   "metadata": {},
   "outputs": [
    {
     "data": {
      "image/png": "[encoded data removed]",
      "text/plain": [
       "<Figure size 432x288 with 1 Axes>"
      ]
     },
     "metadata": {
      "needs_background": "light"
     },
     "output_type": "display_data"
    }
   ],
   "source": [
    "count, bins, ignored = plt.hist(s, 1000, density = True) #istogramma come sopra\n",
    "\n",
    "plt.plot(bins,1/(sigma * np.sqrt(2 * np.pi)) * np.exp( - (bins - mu)**2 / (2 * sigma**2)), color=\"r\")\n",
    "\n",
    "plt.show()"
   ]
  },
  {
   "cell_type": "markdown",
   "metadata": {},
   "source": [
    "count è il valore sull'ordinata di ogni punto dell'istogramma di bins = 1000 per esempio"
   ]
  },
  {
   "cell_type": "code",
   "execution_count": 15,
   "metadata": {},
   "outputs": [
    {
     "data": {
      "text/plain": [
       "1000"
      ]
     },
     "execution_count": 15,
     "metadata": {},
     "output_type": "execute_result"
    }
   ],
   "source": [
    "len(count)"
   ]
  },
  {
   "cell_type": "markdown",
   "metadata": {},
   "source": [
    "bins è il valore sulle ascisse di ogni \"barra\" dell'istogramma. In totale sono \"count+1\" bins"
   ]
  },
  {
   "cell_type": "code",
   "execution_count": 16,
   "metadata": {},
   "outputs": [
    {
     "data": {
      "text/plain": [
       "1001"
      ]
     },
     "execution_count": 16,
     "metadata": {},
     "output_type": "execute_result"
    }
   ],
   "source": [
    "len(bins)"
   ]
  },
  {
   "cell_type": "markdown",
   "metadata": {},
   "source": [
    "ignored è un return che si ignora. In realtà definirebbe la lista di patches"
   ]
  },
  {
   "cell_type": "code",
   "execution_count": 17,
   "metadata": {},
   "outputs": [
    {
     "data": {
      "text/plain": [
       "<a list of 1000 Patch objects>"
      ]
     },
     "execution_count": 17,
     "metadata": {},
     "output_type": "execute_result"
    }
   ],
   "source": [
    "ignored"
   ]
  },
  {
   "cell_type": "markdown",
   "metadata": {},
   "source": [
    "## Metodo dei momenti"
   ]
  },
  {
   "cell_type": "markdown",
   "metadata": {},
   "source": [
    "Per applicare il metodo dei momenti è necessario importare le librerie \"scipy.stats\" e \"pylab\""
   ]
  },
  {
   "cell_type": "code",
   "execution_count": 18,
   "metadata": {},
   "outputs": [],
   "source": [
    "import scipy.stats as stats\n",
    "import pylab as pl"
   ]
  },
  {
   "cell_type": "markdown",
   "metadata": {},
   "source": [
    "Supponiamo di avere dei dati generici"
   ]
  },
  {
   "cell_type": "code",
   "execution_count": 27,
   "metadata": {},
   "outputs": [
    {
     "data": {
      "text/plain": [
       "[-303.85452889292753,\n",
       " -224.63940412524283,\n",
       " -118.29273750230834,\n",
       " -99.57822074137948,\n",
       " -76.22462535308776,\n",
       " -68.85792799723978,\n",
       " -63.60918995925542,\n",
       " -39.84272450782609,\n",
       " -38.23159009695536,\n",
       " -8.461308555061407,\n",
       " 18.007626000159206,\n",
       " 25.803425029711434,\n",
       " 27.0891813225347,\n",
       " 36.65269210271674,\n",
       " 39.49202831883542,\n",
       " 49.49460619367771,\n",
       " 66.8473673319091,\n",
       " 78.96828301369688,\n",
       " 79.11881677053233,\n",
       " 82.30190735793896,\n",
       " 104.04673010854154,\n",
       " 112.18407107120622,\n",
       " 120.17643207014694,\n",
       " 184.98786680616308,\n",
       " 189.48051674389114,\n",
       " 189.82419848487746,\n",
       " 196.9601790824378,\n",
       " 233.0646790701745,\n",
       " 234.1299604007399,\n",
       " 249.21826669441396,\n",
       " 254.25174502055978,\n",
       " 267.94343663598625,\n",
       " 276.9754893937997,\n",
       " 285.9511348729773,\n",
       " 286.7374163322604,\n",
       " 337.85223651834485,\n",
       " 361.8744344759201,\n",
       " 385.42519249204145,\n",
       " 387.7237316858562,\n",
       " 390.0709192729279,\n",
       " 403.958181729195,\n",
       " 409.19564745867706,\n",
       " 422.80218228987496,\n",
       " 428.85417976069647,\n",
       " 431.8225142109615,\n",
       " 448.14763654663363,\n",
       " 451.23524773875766,\n",
       " 478.1732480246335,\n",
       " 488.4322584109307,\n",
       " 524.5985111699015]"
      ]
     },
     "execution_count": 27,
     "metadata": {},
     "output_type": "execute_result"
    }
   ],
   "source": [
    "h = sorted(list(np.random.normal(170, 201, size = 50)))\n",
    "h"
   ]
  },
  {
   "cell_type": "markdown",
   "metadata": {},
   "source": [
    "Applico il metodo dei momenti"
   ]
  },
  {
   "cell_type": "code",
   "execution_count": 30,
   "metadata": {},
   "outputs": [
    {
     "data": {
      "text/plain": [
       "array([0.00011341, 0.00026757, 0.00066581, 0.00075967, 0.0008849 ,\n",
       "       0.00092597, 0.00095563, 0.001093  , 0.00110245, 0.00127784,\n",
       "       0.00143088, 0.00147454, 0.00148165, 0.00153373, 0.00154888,\n",
       "       0.00160093, 0.00168563, 0.00173984, 0.00174048, 0.00175395,\n",
       "       0.00183658, 0.00186296, 0.00188627, 0.00196972, 0.00196815,\n",
       "       0.00196799, 0.0019634 , 0.00190372, 0.00190107, 0.00185838,\n",
       "       0.00184208, 0.00179284, 0.00175667, 0.00171807, 0.00171456,\n",
       "       0.00145378, 0.00131602, 0.00117745, 0.00116389, 0.00115005,\n",
       "       0.00106853, 0.00103804, 0.00095982, 0.00092561, 0.00090898,\n",
       "       0.00081957, 0.00080309, 0.00066605, 0.00061737, 0.00046284])"
      ]
     },
     "execution_count": 30,
     "metadata": {},
     "output_type": "execute_result"
    }
   ],
   "source": [
    "fet = stats.norm.pdf(h, np.mean(h), np.std(h)) #stats.norm.pdf(h, mean of h, std dev of h)\n",
    "fet"
   ]
  },
  {
   "cell_type": "markdown",
   "metadata": {},
   "source": [
    "Plotto la curva"
   ]
  },
  {
   "cell_type": "code",
   "execution_count": 42,
   "metadata": {},
   "outputs": [
    {
     "data": {
      "image/png": "[encoded data removed]",
      "text/plain": [
       "<Figure size 432x288 with 1 Axes>"
      ]
     },
     "metadata": {
      "needs_background": "light"
     },
     "output_type": "display_data"
    }
   ],
   "source": [
    "pl.plot(h,fet, 'o-')\n",
    "pl.hist(h, density = True)\n",
    "pl.show()"
   ]
  },
  {
   "cell_type": "code",
   "execution_count": null,
   "metadata": {},
   "outputs": [],
   "source": []
  }
 ],
 "metadata": {
  "kernelspec": {
   "display_name": "Python 3",
   "language": "python",
   "name": "python3"
  },
  "language_info": {
   "codemirror_mode": {
    "name": "ipython",
    "version": 3
   },
   "file_extension": ".py",
   "mimetype": "text/x-python",
   "name": "python",
   "nbconvert_exporter": "python",
   "pygments_lexer": "ipython3",
   "version": "3.7.1"
  }
 },
 "nbformat": 4,
 "nbformat_minor": 2
}
