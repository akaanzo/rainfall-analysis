{
 "cells": [
  {
   "cell_type": "markdown",
   "metadata": {},
   "source": [
    "# Test di Pearson"
   ]
  },
  {
   "cell_type": "code",
   "execution_count": 74,
   "metadata": {
    "collapsed": true
   },
   "outputs": [],
   "source": [
    "import os\n",
    "import math\n",
    "from pandas import *\n",
    "import pandas as pd\n",
    "from datetime import datetime\n",
    "%matplotlib inline \n",
    "import matplotlib.pyplot as plt\n",
    "from statsmodels.distributions.empirical_distribution import ECDF\n",
    "\n",
    "os.getcwd()\n",
    "os.chdir(\"/Users/riccardo/Dropbox/A-Data/Paperopoli\")\n",
    "data = pd.read_csv('PluviometriaPaperopoli_4.txt')\n",
    "map(datetime,data['anno'])\n",
    "data=data.set_index('anno')"
   ]
  },
  {
   "cell_type": "code",
   "execution_count": 75,
   "metadata": {
    "collapsed": false
   },
   "outputs": [
    {
     "data": {
      "text/html": [
       "<div>\n",
       "<table border=\"1\" class=\"dataframe\">\n",
       "  <thead>\n",
       "    <tr style=\"text-align: right;\">\n",
       "      <th></th>\n",
       "      <th>1h</th>\n",
       "      <th>3h</th>\n",
       "      <th>6h</th>\n",
       "      <th>12h</th>\n",
       "      <th>24h</th>\n",
       "    </tr>\n",
       "    <tr>\n",
       "      <th>anno</th>\n",
       "      <th></th>\n",
       "      <th></th>\n",
       "      <th></th>\n",
       "      <th></th>\n",
       "      <th></th>\n",
       "    </tr>\n",
       "  </thead>\n",
       "  <tbody>\n",
       "    <tr>\n",
       "      <th>1984</th>\n",
       "      <td>61.2</td>\n",
       "      <td>61.4</td>\n",
       "      <td>61.4</td>\n",
       "      <td>62.6</td>\n",
       "      <td>81.8</td>\n",
       "    </tr>\n",
       "    <tr>\n",
       "      <th>1985</th>\n",
       "      <td>23.6</td>\n",
       "      <td>35.6</td>\n",
       "      <td>44.2</td>\n",
       "      <td>58.6</td>\n",
       "      <td>69.8</td>\n",
       "    </tr>\n",
       "    <tr>\n",
       "      <th>1986</th>\n",
       "      <td>20.2</td>\n",
       "      <td>36.8</td>\n",
       "      <td>51.4</td>\n",
       "      <td>55.8</td>\n",
       "      <td>74.4</td>\n",
       "    </tr>\n",
       "    <tr>\n",
       "      <th>1987</th>\n",
       "      <td>32.6</td>\n",
       "      <td>40.6</td>\n",
       "      <td>64.6</td>\n",
       "      <td>77.2</td>\n",
       "      <td>81.2</td>\n",
       "    </tr>\n",
       "    <tr>\n",
       "      <th>1988</th>\n",
       "      <td>89.2</td>\n",
       "      <td>102.0</td>\n",
       "      <td>102.0</td>\n",
       "      <td>102.0</td>\n",
       "      <td>104.2</td>\n",
       "    </tr>\n",
       "  </tbody>\n",
       "</table>\n",
       "</div>"
      ],
      "text/plain": [
       "        1h     3h     6h    12h    24h\n",
       "anno                                  \n",
       "1984  61.2   61.4   61.4   62.6   81.8\n",
       "1985  23.6   35.6   44.2   58.6   69.8\n",
       "1986  20.2   36.8   51.4   55.8   74.4\n",
       "1987  32.6   40.6   64.6   77.2   81.2\n",
       "1988  89.2  102.0  102.0  102.0  104.2"
      ]
     },
     "execution_count": 75,
     "metadata": {},
     "output_type": "execute_result"
    }
   ],
   "source": [
    "data[-5:]"
   ]
  },
  {
   "cell_type": "code",
   "execution_count": 76,
   "metadata": {
    "collapsed": true
   },
   "outputs": [],
   "source": [
    "from scipy.stats import norm\n",
    "from scipy.stats import genextreme,gumbel_r\n",
    "from numpy import linspace\n",
    "from pylab import plot,show,hist,figure,title"
   ]
  },
  {
   "cell_type": "code",
   "execution_count": 77,
   "metadata": {
    "collapsed": false
   },
   "outputs": [],
   "source": [
    "abs_m=pd.read_pickle(\"abs_m\")\n",
    "abs_mq=pd.read_pickle(\"abs_mq\")\n",
    "abs_mle=pd.read_pickle(\"abs_mle\")"
   ]
  },
  {
   "cell_type": "code",
   "execution_count": 78,
   "metadata": {
    "collapsed": false
   },
   "outputs": [
    {
     "data": {
      "text/html": [
       "<div>\n",
       "<table border=\"1\" class=\"dataframe\">\n",
       "  <thead>\n",
       "    <tr style=\"text-align: right;\">\n",
       "      <th></th>\n",
       "      <th>1h</th>\n",
       "      <th>3h</th>\n",
       "      <th>6h</th>\n",
       "      <th>12h</th>\n",
       "      <th>24h</th>\n",
       "    </tr>\n",
       "  </thead>\n",
       "  <tbody>\n",
       "    <tr>\n",
       "      <th>a</th>\n",
       "      <td>31.241689</td>\n",
       "      <td>39.187045</td>\n",
       "      <td>48.028038</td>\n",
       "      <td>60.753736</td>\n",
       "      <td>75.683743</td>\n",
       "    </tr>\n",
       "    <tr>\n",
       "      <th>b</th>\n",
       "      <td>9.823556</td>\n",
       "      <td>10.694365</td>\n",
       "      <td>13.272078</td>\n",
       "      <td>18.313274</td>\n",
       "      <td>23.986088</td>\n",
       "    </tr>\n",
       "  </tbody>\n",
       "</table>\n",
       "</div>"
      ],
      "text/plain": [
       "          1h         3h         6h        12h        24h\n",
       "a  31.241689  39.187045  48.028038  60.753736  75.683743\n",
       "b   9.823556  10.694365  13.272078  18.313274  23.986088"
      ]
     },
     "execution_count": 78,
     "metadata": {},
     "output_type": "execute_result"
    }
   ],
   "source": [
    "abs_m"
   ]
  },
  {
   "cell_type": "code",
   "execution_count": 79,
   "metadata": {
    "collapsed": false
   },
   "outputs": [
    {
     "data": {
      "text/html": [
       "<div>\n",
       "<table border=\"1\" class=\"dataframe\">\n",
       "  <thead>\n",
       "    <tr style=\"text-align: right;\">\n",
       "      <th></th>\n",
       "      <th>1h</th>\n",
       "      <th>3h</th>\n",
       "      <th>6h</th>\n",
       "      <th>12h</th>\n",
       "      <th>24h</th>\n",
       "    </tr>\n",
       "  </thead>\n",
       "  <tbody>\n",
       "    <tr>\n",
       "      <th>a</th>\n",
       "      <td>31.740980</td>\n",
       "      <td>40.176970</td>\n",
       "      <td>48.436261</td>\n",
       "      <td>61.722079</td>\n",
       "      <td>73.471566</td>\n",
       "    </tr>\n",
       "    <tr>\n",
       "      <th>b</th>\n",
       "      <td>8.003627</td>\n",
       "      <td>11.459221</td>\n",
       "      <td>16.938302</td>\n",
       "      <td>25.040592</td>\n",
       "      <td>23.685827</td>\n",
       "    </tr>\n",
       "  </tbody>\n",
       "</table>\n",
       "</div>"
      ],
      "text/plain": [
       "          1h         3h         6h        12h        24h\n",
       "a  31.740980  40.176970  48.436261  61.722079  73.471566\n",
       "b   8.003627  11.459221  16.938302  25.040592  23.685827"
      ]
     },
     "execution_count": 79,
     "metadata": {},
     "output_type": "execute_result"
    }
   ],
   "source": [
    "abs_mq"
   ]
  },
  {
   "cell_type": "code",
   "execution_count": 80,
   "metadata": {
    "collapsed": false
   },
   "outputs": [
    {
     "data": {
      "text/html": [
       "<div>\n",
       "<table border=\"1\" class=\"dataframe\">\n",
       "  <thead>\n",
       "    <tr style=\"text-align: right;\">\n",
       "      <th></th>\n",
       "      <th>1h</th>\n",
       "      <th>3h</th>\n",
       "      <th>6h</th>\n",
       "      <th>12h</th>\n",
       "      <th>24h</th>\n",
       "    </tr>\n",
       "  </thead>\n",
       "  <tbody>\n",
       "    <tr>\n",
       "      <th>a</th>\n",
       "      <td>31.59042</td>\n",
       "      <td>39.527315</td>\n",
       "      <td>48.100316</td>\n",
       "      <td>60.562103</td>\n",
       "      <td>75.848891</td>\n",
       "    </tr>\n",
       "    <tr>\n",
       "      <th>b</th>\n",
       "      <td>9.07316</td>\n",
       "      <td>10.041456</td>\n",
       "      <td>12.398915</td>\n",
       "      <td>18.005471</td>\n",
       "      <td>22.435148</td>\n",
       "    </tr>\n",
       "  </tbody>\n",
       "</table>\n",
       "</div>"
      ],
      "text/plain": [
       "         1h         3h         6h        12h        24h\n",
       "a  31.59042  39.527315  48.100316  60.562103  75.848891\n",
       "b   9.07316  10.041456  12.398915  18.005471  22.435148"
      ]
     },
     "execution_count": 80,
     "metadata": {},
     "output_type": "execute_result"
    }
   ],
   "source": [
    "abs_mle"
   ]
  },
  {
   "cell_type": "markdown",
   "metadata": {},
   "source": [
    "https://docs.scipy.org/doc/scipy-0.18.1/reference/tutorial/stats.html"
   ]
  },
  {
   "cell_type": "code",
   "execution_count": 81,
   "metadata": {
    "collapsed": false
   },
   "outputs": [
    {
     "name": "stdout",
     "output_type": "stream",
     "text": [
      "A right-skewed Gumbel continuous random variable.\n",
      "\n",
      "    As an instance of the `rv_continuous` class, `gumbel_r` object inherits from it\n",
      "    a collection of generic methods (see below for the full list),\n",
      "    and completes them with details specific for this particular distribution.\n",
      "    \n",
      "    Methods\n",
      "    -------\n",
      "    ``rvs(loc=0, scale=1, size=1, random_state=None)``\n",
      "        Random variates.\n",
      "    ``pdf(x, loc=0, scale=1)``\n",
      "        Probability density function.\n",
      "    ``logpdf(x, loc=0, scale=1)``\n",
      "        Log of the probability density function.\n",
      "    ``cdf(x, loc=0, scale=1)``\n",
      "        Cumulative distribution function.\n",
      "    ``logcdf(x, loc=0, scale=1)``\n",
      "        Log of the cumulative distribution function.\n",
      "    ``sf(x, loc=0, scale=1)``\n",
      "        Survival function  (also defined as ``1 - cdf``, but `sf` is sometimes more accurate).\n",
      "    ``logsf(x, loc=0, scale=1)``\n",
      "        Log of the survival function.\n",
      "    ``ppf(q, loc=0, scale=1)``\n",
      "        Percent point function (inverse of ``cdf`` --- percentiles).\n",
      "    ``isf(q, loc=0, scale=1)``\n",
      "        Inverse survival function (inverse of ``sf``).\n",
      "    ``moment(n, loc=0, scale=1)``\n",
      "        Non-central moment of order n\n",
      "    ``stats(loc=0, scale=1, moments='mv')``\n",
      "        Mean('m'), variance('v'), skew('s'), and/or kurtosis('k').\n",
      "    ``entropy(loc=0, scale=1)``\n",
      "        (Differential) entropy of the RV.\n",
      "    ``fit(data, loc=0, scale=1)``\n",
      "        Parameter estimates for generic data.\n",
      "    ``expect(func, args=(), loc=0, scale=1, lb=None, ub=None, conditional=False, **kwds)``\n",
      "        Expected value of a function (of one argument) with respect to the distribution.\n",
      "    ``median(loc=0, scale=1)``\n",
      "        Median of the distribution.\n",
      "    ``mean(loc=0, scale=1)``\n",
      "        Mean of the distribution.\n",
      "    ``var(loc=0, scale=1)``\n",
      "        Variance of the distribution.\n",
      "    ``std(loc=0, scale=1)``\n",
      "        Standard deviation of the distribution.\n",
      "    ``interval(alpha, loc=0, scale=1)``\n",
      "        Endpoints of the range that contains alpha percent of the distribution\n",
      "\n",
      "    See Also\n",
      "    --------\n",
      "    gumbel_l, gompertz, genextreme\n",
      "\n",
      "    Notes\n",
      "    -----\n",
      "    The probability density function for `gumbel_r` is::\n",
      "\n",
      "        gumbel_r.pdf(x) = exp(-(x + exp(-x)))\n",
      "\n",
      "    The Gumbel distribution is sometimes referred to as a type I Fisher-Tippett\n",
      "    distribution.  It is also related to the extreme value distribution,\n",
      "    log-Weibull and Gompertz distributions.\n",
      "\n",
      "    The probability density above is defined in the \"standardized\" form. To shift\n",
      "    and/or scale the distribution use the ``loc`` and ``scale`` parameters.\n",
      "    Specifically, ``gumbel_r.pdf(x, loc, scale)`` is identically\n",
      "    equivalent to ``gumbel_r.pdf(y) / scale`` with\n",
      "    ``y = (x - loc) / scale``.\n",
      "\n",
      "    Examples\n",
      "    --------\n",
      "    >>> from scipy.stats import gumbel_r\n",
      "    >>> import matplotlib.pyplot as plt\n",
      "    >>> fig, ax = plt.subplots(1, 1)\n",
      "    \n",
      "    Calculate a few first moments:\n",
      "    \n",
      "    \n",
      "    >>> mean, var, skew, kurt = gumbel_r.stats(moments='mvsk')\n",
      "    \n",
      "    Display the probability density function (``pdf``):\n",
      "    \n",
      "    >>> x = np.linspace(gumbel_r.ppf(0.01),\n",
      "    ...                 gumbel_r.ppf(0.99), 100)\n",
      "    >>> ax.plot(x, gumbel_r.pdf(x),\n",
      "    ...        'r-', lw=5, alpha=0.6, label='gumbel_r pdf')\n",
      "    \n",
      "    Alternatively, the distribution object can be called (as a function)\n",
      "    to fix the shape, location and scale parameters. This returns a \"frozen\"\n",
      "    RV object holding the given parameters fixed.\n",
      "    \n",
      "    Freeze the distribution and display the frozen ``pdf``:\n",
      "    \n",
      "    >>> rv = gumbel_r()\n",
      "    >>> ax.plot(x, rv.pdf(x), 'k-', lw=2, label='frozen pdf')\n",
      "    \n",
      "    Check accuracy of ``cdf`` and ``ppf``:\n",
      "    \n",
      "    >>> vals = gumbel_r.ppf([0.001, 0.5, 0.999])\n",
      "    >>> np.allclose([0.001, 0.5, 0.999], gumbel_r.cdf(vals))\n",
      "    True\n",
      "    \n",
      "    Generate random numbers:\n",
      "    \n",
      "    >>> r = gumbel_r.rvs(size=1000)\n",
      "    \n",
      "    And compare the histogram:\n",
      "    \n",
      "    >>> ax.hist(r, normed=True, histtype='stepfilled', alpha=0.2)\n",
      "    >>> ax.legend(loc='best', frameon=False)\n",
      "    >>> plt.show()\n",
      "    \n",
      "\n",
      "    \n"
     ]
    }
   ],
   "source": [
    "print(gumbel_r.__doc__)"
   ]
  },
  {
   "cell_type": "code",
   "execution_count": 82,
   "metadata": {
    "collapsed": false
   },
   "outputs": [
    {
     "data": {
      "text/plain": [
       "31.241689405642404"
      ]
     },
     "execution_count": 82,
     "metadata": {},
     "output_type": "execute_result"
    }
   ],
   "source": [
    "abs_m.at[\"a\",\"1h\"]"
   ]
  },
  {
   "cell_type": "code",
   "execution_count": 83,
   "metadata": {
    "collapsed": false
   },
   "outputs": [
    {
     "data": {
      "text/plain": [
       "<scipy.stats._distn_infrastructure.rv_frozen at 0x1170cc978>"
      ]
     },
     "execution_count": 83,
     "metadata": {},
     "output_type": "execute_result"
    }
   ],
   "source": [
    "rv=gumbel_r(loc=abs_m.at[\"a\",\"1h\"],scale=abs_m.at[\"b\",\"1h\"])\n",
    "rv"
   ]
  },
  {
   "cell_type": "code",
   "execution_count": 84,
   "metadata": {
    "collapsed": false
   },
   "outputs": [
    {
     "data": {
      "text/plain": [
       "array([ 26.56680635,  32.10048014,  37.84043735,  45.97643435,          inf])"
      ]
     },
     "execution_count": 84,
     "metadata": {},
     "output_type": "execute_result"
    }
   ],
   "source": [
    "q=[0.2,0.4,0.6,0.8,1]\n",
    "h1h=rv.ppf(q)\n",
    "h1h"
   ]
  },
  {
   "cell_type": "code",
   "execution_count": 85,
   "metadata": {
    "collapsed": false
   },
   "outputs": [
    {
     "data": {
      "text/plain": [
       "array([ 0.16,  0.34,  0.62,  0.84,  1.  ])"
      ]
     },
     "execution_count": 85,
     "metadata": {},
     "output_type": "execute_result"
    }
   ],
   "source": [
    "ecdf1h = ECDF(data[\"1h\"])\n",
    "r=ecdf1h(h1h)\n",
    "r"
   ]
  },
  {
   "cell_type": "code",
   "execution_count": 86,
   "metadata": {
    "collapsed": false
   },
   "outputs": [
    {
     "data": {
      "text/plain": [
       "50"
      ]
     },
     "execution_count": 86,
     "metadata": {},
     "output_type": "execute_result"
    }
   ],
   "source": [
    "l1h=len(data[\"1h\"])\n",
    "l1h"
   ]
  },
  {
   "cell_type": "markdown",
   "metadata": {},
   "source": [
    "Ci si aspetta che, in ogni intervallo, con limite destro h1h, ci siano $e=(l1h * q)$ elementi mentre ce ne sono  in realtà $o=(l1h * r)$.  La formula dell'$X^2$ è allora:\n",
    "\\begin{equation}\n",
    "X^2 = \\frac{1}{e}\\sum_{i=1}^k (e - o)^2\n",
    "\\end{equation}"
   ]
  },
  {
   "cell_type": "code",
   "execution_count": 87,
   "metadata": {
    "collapsed": false
   },
   "outputs": [
    {
     "data": {
      "text/plain": [
       "array([  8.,  17.,  31.,  42.,  50.])"
      ]
     },
     "execution_count": 87,
     "metadata": {},
     "output_type": "execute_result"
    }
   ],
   "source": [
    "o0=l1h*r\n",
    "o0"
   ]
  },
  {
   "cell_type": "code",
   "execution_count": 88,
   "metadata": {
    "collapsed": false
   },
   "outputs": [
    {
     "data": {
      "text/plain": [
       "array([  8.,   9.,  14.,  11.,   8.])"
      ]
     },
     "execution_count": 88,
     "metadata": {},
     "output_type": "execute_result"
    }
   ],
   "source": [
    "o=o0-np.append([0],np.delete(o0,-1))\n",
    "o"
   ]
  },
  {
   "cell_type": "code",
   "execution_count": 89,
   "metadata": {
    "collapsed": false
   },
   "outputs": [
    {
     "data": {
      "text/plain": [
       "range(0, 5)"
      ]
     },
     "execution_count": 89,
     "metadata": {},
     "output_type": "execute_result"
    }
   ],
   "source": [
    "range(len(r))"
   ]
  },
  {
   "cell_type": "code",
   "execution_count": 90,
   "metadata": {
    "collapsed": false
   },
   "outputs": [
    {
     "data": {
      "text/plain": [
       "[10.0, 10.0, 10.0, 10.0, 10.0]"
      ]
     },
     "execution_count": 90,
     "metadata": {},
     "output_type": "execute_result"
    }
   ],
   "source": [
    "e=[0.2*l1h for i in range(len(r))]\n",
    "e"
   ]
  },
  {
   "cell_type": "code",
   "execution_count": 91,
   "metadata": {
    "collapsed": false
   },
   "outputs": [
    {
     "data": {
      "text/plain": [
       "array([-2., -1.,  4.,  1., -2.])"
      ]
     },
     "execution_count": 91,
     "metadata": {},
     "output_type": "execute_result"
    }
   ],
   "source": [
    "o-e"
   ]
  },
  {
   "cell_type": "code",
   "execution_count": 92,
   "metadata": {
    "collapsed": false
   },
   "outputs": [
    {
     "data": {
      "text/plain": [
       "array([  4.,   1.,  16.,   1.,   4.])"
      ]
     },
     "execution_count": 92,
     "metadata": {},
     "output_type": "execute_result"
    }
   ],
   "source": [
    "(o-e)**2"
   ]
  },
  {
   "cell_type": "code",
   "execution_count": 93,
   "metadata": {
    "collapsed": false
   },
   "outputs": [
    {
     "data": {
      "text/plain": [
       "array([ 0.4,  0.1,  1.6,  0.1,  0.4])"
      ]
     },
     "execution_count": 93,
     "metadata": {},
     "output_type": "execute_result"
    }
   ],
   "source": [
    "(o-e)**2/e"
   ]
  },
  {
   "cell_type": "code",
   "execution_count": 94,
   "metadata": {
    "collapsed": false
   },
   "outputs": [
    {
     "data": {
      "text/plain": [
       "2.6000000000000045"
      ]
     },
     "execution_count": 94,
     "metadata": {},
     "output_type": "execute_result"
    }
   ],
   "source": [
    "((o-e)**2/e).sum()"
   ]
  },
  {
   "cell_type": "code",
   "execution_count": 95,
   "metadata": {
    "collapsed": false
   },
   "outputs": [],
   "source": [
    "def X2(data,abs_t,h,delta):    \n",
    "    dt=data[h].dropna()\n",
    "    #print(dt)\n",
    "    lh=len(dt)\n",
    "    #print(\"lh: \",lh)\n",
    "    q=[delta*(i+1) for i in range(int(1/delta))]\n",
    "    #print(\"q: \",q)\n",
    "    rv=gumbel_r(loc=abs_t.at[\"a\",h],scale=abs_t.at[\"b\",h])\n",
    "    ecdf = ECDF(dt)\n",
    "    r=ecdf(rv.ppf(q))\n",
    "    #print(\"r: \",r)\n",
    "    o0=lh*r\n",
    "    #print(\"o0: \",o0)\n",
    "    o=o0-np.append([0],np.delete(o0,-1))\n",
    "    #print(\"o: \",o)\n",
    "    e=[delta*lh for i in range(len(r))]\n",
    "    #print(\"e: \",e)\n",
    "    return ((o-e)**2/e).sum()  "
   ]
  },
  {
   "cell_type": "code",
   "execution_count": 96,
   "metadata": {
    "collapsed": false
   },
   "outputs": [
    {
     "data": {
      "text/plain": [
       "2.6000000000000045"
      ]
     },
     "execution_count": 96,
     "metadata": {},
     "output_type": "execute_result"
    }
   ],
   "source": [
    "X2(data,abs_m,\"1h\",0.2)"
   ]
  },
  {
   "cell_type": "code",
   "execution_count": 97,
   "metadata": {
    "collapsed": false
   },
   "outputs": [
    {
     "data": {
      "text/plain": [
       "0.79999999999999782"
      ]
     },
     "execution_count": 97,
     "metadata": {},
     "output_type": "execute_result"
    }
   ],
   "source": [
    "X2(data,abs_mq,\"1h\",0.2)"
   ]
  },
  {
   "cell_type": "code",
   "execution_count": 98,
   "metadata": {
    "collapsed": false
   },
   "outputs": [
    {
     "data": {
      "text/plain": [
       "1.8000000000000023"
      ]
     },
     "execution_count": 98,
     "metadata": {},
     "output_type": "execute_result"
    }
   ],
   "source": [
    "X2(data,abs_mle,\"1h\",0.2)"
   ]
  },
  {
   "cell_type": "code",
   "execution_count": 99,
   "metadata": {
    "collapsed": false
   },
   "outputs": [
    {
     "name": "stdout",
     "output_type": "stream",
     "text": [
      "1h :  [2.6000000000000045, 0.79999999999999782, 1.8000000000000023]\n",
      "3h :  [2.2222222222222223, 6.222222222222225, 2.6666666666666665]\n",
      "6h :  [4.2222222222222152, 7.1111111111111125, 3.3333333333333259]\n",
      "12h :  [3.1111111111111085, 2.8888888888888888, 3.7777777777777697]\n",
      "24h :  [0.66666666666666674, 0.88888888888888884, 1.1111111111111112]\n"
     ]
    }
   ],
   "source": [
    "for  h in data.columns:\n",
    "    print(h,\": \",[X2(data,abs_m,h,0.2),X2(data,abs_mq,h,0.2),X2(data,abs_mle,h,0.2)])"
   ]
  },
  {
   "cell_type": "code",
   "execution_count": 100,
   "metadata": {
    "collapsed": false
   },
   "outputs": [
    {
     "name": "stdout",
     "output_type": "stream",
     "text": [
      "lh:  45\n",
      "q:  [0.2, 0.4, 0.6000000000000001, 0.8, 1.0]\n",
      "r:  [ 0.28888889  0.42222222  0.6         0.75555556  1.        ]\n",
      "o0:  [ 13.  19.  27.  34.  45.]\n",
      "o:  [ 13.   6.   8.   7.  11.]\n",
      "e:  [9.0, 9.0, 9.0, 9.0, 9.0]\n",
      "(o-e):  [ 4. -3. -1. -2.  2.]\n",
      "(o-e)^2:  [ 16.   9.   1.   4.   4.]\n"
     ]
    },
    {
     "data": {
      "text/plain": [
       "3.7777777777777697"
      ]
     },
     "execution_count": 100,
     "metadata": {},
     "output_type": "execute_result"
    }
   ],
   "source": [
    "    delta=0.2\n",
    "    h=\"12h\"\n",
    "    abs_t=abs_mle\n",
    "    ###\n",
    "    dt=data[h].dropna()\n",
    "    #print(dt)\n",
    "    lh=len(dt)\n",
    "    print(\"lh: \",lh)\n",
    "    q=[delta*(i+1) for i in range(int(1/delta))]\n",
    "    print(\"q: \",q)\n",
    "    rv=gumbel_r(loc=abs_t.at[\"a\",h],scale=abs_t.at[\"b\",h])\n",
    "    ecdf = ECDF(dt)\n",
    "    r=ecdf(rv.ppf(q))\n",
    "    print(\"r: \",r)\n",
    "    o0=lh*r\n",
    "    print(\"o0: \",o0)\n",
    "    o=o0-np.append([0],np.delete(o0,-1))\n",
    "    print(\"o: \",o)\n",
    "    e=[delta*lh for i in range(len(r))]\n",
    "    print(\"e: \",e)\n",
    "    print(\"(o-e): \",(o-e))\n",
    "    print(\"(o-e)^2: \",(o-e)**2)\n",
    "    ((o-e)**2/e[0]).sum()   "
   ]
  },
  {
   "cell_type": "code",
   "execution_count": 101,
   "metadata": {
    "collapsed": false
   },
   "outputs": [
    {
     "data": {
      "text/plain": [
       "75.848890849512259"
      ]
     },
     "execution_count": 101,
     "metadata": {},
     "output_type": "execute_result"
    }
   ],
   "source": [
    "abs_t.at[\"a\",\"24h\"]"
   ]
  },
  {
   "cell_type": "code",
   "execution_count": 102,
   "metadata": {
    "collapsed": false
   },
   "outputs": [
    {
     "data": {
      "text/html": [
       "<div>\n",
       "<table border=\"1\" class=\"dataframe\">\n",
       "  <thead>\n",
       "    <tr style=\"text-align: right;\">\n",
       "      <th></th>\n",
       "      <th>1h</th>\n",
       "      <th>3h</th>\n",
       "      <th>6h</th>\n",
       "      <th>12h</th>\n",
       "      <th>24h</th>\n",
       "    </tr>\n",
       "  </thead>\n",
       "  <tbody>\n",
       "    <tr>\n",
       "      <th>a</th>\n",
       "      <td>31.59042</td>\n",
       "      <td>39.527315</td>\n",
       "      <td>48.100316</td>\n",
       "      <td>60.562103</td>\n",
       "      <td>75.848891</td>\n",
       "    </tr>\n",
       "    <tr>\n",
       "      <th>b</th>\n",
       "      <td>9.07316</td>\n",
       "      <td>10.041456</td>\n",
       "      <td>12.398915</td>\n",
       "      <td>18.005471</td>\n",
       "      <td>22.435148</td>\n",
       "    </tr>\n",
       "  </tbody>\n",
       "</table>\n",
       "</div>"
      ],
      "text/plain": [
       "         1h         3h         6h        12h        24h\n",
       "a  31.59042  39.527315  48.100316  60.562103  75.848891\n",
       "b   9.07316  10.041456  12.398915  18.005471  22.435148"
      ]
     },
     "execution_count": 102,
     "metadata": {},
     "output_type": "execute_result"
    }
   ],
   "source": [
    "abs_mle"
   ]
  },
  {
   "cell_type": "code",
   "execution_count": 103,
   "metadata": {
    "collapsed": false
   },
   "outputs": [
    {
     "data": {
      "text/plain": [
       "Index(['1h', '3h', '6h', '12h', '24h'], dtype='object')"
      ]
     },
     "execution_count": 103,
     "metadata": {},
     "output_type": "execute_result"
    }
   ],
   "source": [
    "abs_mle.columns"
   ]
  },
  {
   "cell_type": "code",
   "execution_count": 104,
   "metadata": {
    "collapsed": true
   },
   "outputs": [],
   "source": [
    "abs_mle.columns=[\"1h\",\"3h\",\"6h\",\"12h\",\"24h\"]"
   ]
  },
  {
   "cell_type": "code",
   "execution_count": 105,
   "metadata": {
    "collapsed": false
   },
   "outputs": [
    {
     "data": {
      "text/html": [
       "<div>\n",
       "<table border=\"1\" class=\"dataframe\">\n",
       "  <thead>\n",
       "    <tr style=\"text-align: right;\">\n",
       "      <th></th>\n",
       "      <th>M</th>\n",
       "      <th>Mq</th>\n",
       "      <th>MLE</th>\n",
       "    </tr>\n",
       "  </thead>\n",
       "  <tbody>\n",
       "    <tr>\n",
       "      <th>1h</th>\n",
       "      <td>2.600000</td>\n",
       "      <td>0.800000</td>\n",
       "      <td>1.800000</td>\n",
       "    </tr>\n",
       "    <tr>\n",
       "      <th>3h</th>\n",
       "      <td>2.222222</td>\n",
       "      <td>6.222222</td>\n",
       "      <td>2.666667</td>\n",
       "    </tr>\n",
       "    <tr>\n",
       "      <th>6h</th>\n",
       "      <td>4.222222</td>\n",
       "      <td>7.111111</td>\n",
       "      <td>3.333333</td>\n",
       "    </tr>\n",
       "    <tr>\n",
       "      <th>12h</th>\n",
       "      <td>3.111111</td>\n",
       "      <td>2.888889</td>\n",
       "      <td>3.777778</td>\n",
       "    </tr>\n",
       "    <tr>\n",
       "      <th>24h</th>\n",
       "      <td>0.666667</td>\n",
       "      <td>0.888889</td>\n",
       "      <td>1.111111</td>\n",
       "    </tr>\n",
       "  </tbody>\n",
       "</table>\n",
       "</div>"
      ],
      "text/plain": [
       "            M        Mq       MLE\n",
       "1h   2.600000  0.800000  1.800000\n",
       "3h   2.222222  6.222222  2.666667\n",
       "6h   4.222222  7.111111  3.333333\n",
       "12h  3.111111  2.888889  3.777778\n",
       "24h  0.666667  0.888889  1.111111"
      ]
     },
     "execution_count": 105,
     "metadata": {},
     "output_type": "execute_result"
    }
   ],
   "source": [
    "a=[]\n",
    "for  h in data.columns:\n",
    "    a=a+[[X2(data,abs_m,h,0.2),X2(data,abs_mq,h,0.2),X2(data,abs_mle,h,0.2)]]\n",
    "   \n",
    "pd.DataFrame(a,index=[\"1h\",\"3h\",\"6h\",\"12h\",\"24h\"],columns=[\"M\",\"Mq\",\"MLE\"])"
   ]
  },
  {
   "cell_type": "markdown",
   "metadata": {},
   "source": [
    "La strategia è di costruire un DataFrame dei parametri migliori. "
   ]
  },
  {
   "cell_type": "code",
   "execution_count": 106,
   "metadata": {
    "collapsed": false
   },
   "outputs": [
    {
     "data": {
      "text/html": [
       "<div>\n",
       "<table border=\"1\" class=\"dataframe\">\n",
       "  <thead>\n",
       "    <tr style=\"text-align: right;\">\n",
       "      <th></th>\n",
       "      <th>1h</th>\n",
       "      <th>3h</th>\n",
       "      <th>6h</th>\n",
       "      <th>12h</th>\n",
       "      <th>24h</th>\n",
       "    </tr>\n",
       "  </thead>\n",
       "  <tbody>\n",
       "    <tr>\n",
       "      <th>a</th>\n",
       "      <td>31.740980</td>\n",
       "      <td>39.187045</td>\n",
       "      <td>48.100316</td>\n",
       "      <td>61.722079</td>\n",
       "      <td>75.683743</td>\n",
       "    </tr>\n",
       "    <tr>\n",
       "      <th>b</th>\n",
       "      <td>8.003627</td>\n",
       "      <td>10.694365</td>\n",
       "      <td>12.398915</td>\n",
       "      <td>25.040592</td>\n",
       "      <td>23.986088</td>\n",
       "    </tr>\n",
       "  </tbody>\n",
       "</table>\n",
       "</div>"
      ],
      "text/plain": [
       "          1h         3h         6h        12h        24h\n",
       "a  31.740980  39.187045  48.100316  61.722079  75.683743\n",
       "b   8.003627  10.694365  12.398915  25.040592  23.986088"
      ]
     },
     "execution_count": 106,
     "metadata": {},
     "output_type": "execute_result"
    }
   ],
   "source": [
    "best=DataFrame([abs_mq[\"1h\"],\n",
    "                abs_m[\"3h\"],\n",
    "                abs_mle[\"6h\"],\n",
    "                abs_mq[\"12h\"],\n",
    "                abs_m[\"24h\"]]).T\n",
    "                  \n",
    "best"
   ]
  },
  {
   "cell_type": "code",
   "execution_count": 107,
   "metadata": {
    "collapsed": false
   },
   "outputs": [],
   "source": [
    "best.to_pickle(\"best_param\")"
   ]
  },
  {
   "cell_type": "code",
   "execution_count": 108,
   "metadata": {
    "collapsed": true
   },
   "outputs": [],
   "source": [
    "from scipy.stats import genextreme,gumbel_r\n",
    "from numpy import linspace\n",
    "from statsmodels.distributions.empirical_distribution import ECDF\n",
    "def gumbel(x,abs_d,col):\n",
    "    return np.exp(-np.exp(-(x-abs_d[col][\"a\"])/abs_d[col][\"b\"]))\n",
    "t_rain=np.linspace(data.min()[0],data.max()[4],100)"
   ]
  },
  {
   "cell_type": "code",
   "execution_count": 109,
   "metadata": {
    "collapsed": false
   },
   "outputs": [
    {
     "data": {
      "text/html": [
       "<div>\n",
       "<table border=\"1\" class=\"dataframe\">\n",
       "  <thead>\n",
       "    <tr style=\"text-align: right;\">\n",
       "      <th></th>\n",
       "      <th>1h</th>\n",
       "      <th>3h</th>\n",
       "      <th>6h</th>\n",
       "      <th>12h</th>\n",
       "      <th>24</th>\n",
       "    </tr>\n",
       "  </thead>\n",
       "  <tbody>\n",
       "    <tr>\n",
       "      <th>19.600000</th>\n",
       "      <td>0.010481</td>\n",
       "      <td>0.001943</td>\n",
       "      <td>0.000047</td>\n",
       "      <td>0.004621</td>\n",
       "      <td>0.000032</td>\n",
       "    </tr>\n",
       "    <tr>\n",
       "      <th>21.113131</th>\n",
       "      <td>0.022982</td>\n",
       "      <td>0.004428</td>\n",
       "      <td>0.000148</td>\n",
       "      <td>0.006334</td>\n",
       "      <td>0.000060</td>\n",
       "    </tr>\n",
       "    <tr>\n",
       "      <th>22.626263</th>\n",
       "      <td>0.044021</td>\n",
       "      <td>0.009053</td>\n",
       "      <td>0.000408</td>\n",
       "      <td>0.008523</td>\n",
       "      <td>0.000108</td>\n",
       "    </tr>\n",
       "    <tr>\n",
       "      <th>24.139394</th>\n",
       "      <td>0.075388</td>\n",
       "      <td>0.016841</td>\n",
       "      <td>0.001001</td>\n",
       "      <td>0.011270</td>\n",
       "      <td>0.000189</td>\n",
       "    </tr>\n",
       "    <tr>\n",
       "      <th>25.652525</th>\n",
       "      <td>0.117678</td>\n",
       "      <td>0.028865</td>\n",
       "      <td>0.002213</td>\n",
       "      <td>0.014661</td>\n",
       "      <td>0.000319</td>\n",
       "    </tr>\n",
       "    <tr>\n",
       "      <th>27.165657</th>\n",
       "      <td>0.170129</td>\n",
       "      <td>0.046079</td>\n",
       "      <td>0.004467</td>\n",
       "      <td>0.018780</td>\n",
       "      <td>0.000521</td>\n",
       "    </tr>\n",
       "    <tr>\n",
       "      <th>28.678788</th>\n",
       "      <td>0.230826</td>\n",
       "      <td>0.069156</td>\n",
       "      <td>0.008318</td>\n",
       "      <td>0.023709</td>\n",
       "      <td>0.000828</td>\n",
       "    </tr>\n",
       "    <tr>\n",
       "      <th>30.191919</th>\n",
       "      <td>0.297142</td>\n",
       "      <td>0.098378</td>\n",
       "      <td>0.014421</td>\n",
       "      <td>0.029526</td>\n",
       "      <td>0.001277</td>\n",
       "    </tr>\n",
       "    <tr>\n",
       "      <th>31.705051</th>\n",
       "      <td>0.366228</td>\n",
       "      <td>0.133589</td>\n",
       "      <td>0.023469</td>\n",
       "      <td>0.036301</td>\n",
       "      <td>0.001919</td>\n",
       "    </tr>\n",
       "    <tr>\n",
       "      <th>33.218182</th>\n",
       "      <td>0.435411</td>\n",
       "      <td>0.174226</td>\n",
       "      <td>0.036115</td>\n",
       "      <td>0.044092</td>\n",
       "      <td>0.002813</td>\n",
       "    </tr>\n",
       "    <tr>\n",
       "      <th>34.731313</th>\n",
       "      <td>0.502461</td>\n",
       "      <td>0.219400</td>\n",
       "      <td>0.052892</td>\n",
       "      <td>0.052948</td>\n",
       "      <td>0.004029</td>\n",
       "    </tr>\n",
       "    <tr>\n",
       "      <th>36.244444</th>\n",
       "      <td>0.565706</td>\n",
       "      <td>0.268009</td>\n",
       "      <td>0.074140</td>\n",
       "      <td>0.062904</td>\n",
       "      <td>0.005644</td>\n",
       "    </tr>\n",
       "    <tr>\n",
       "      <th>37.757576</th>\n",
       "      <td>0.624035</td>\n",
       "      <td>0.318858</td>\n",
       "      <td>0.099969</td>\n",
       "      <td>0.073981</td>\n",
       "      <td>0.007745</td>\n",
       "    </tr>\n",
       "    <tr>\n",
       "      <th>39.270707</th>\n",
       "      <td>0.676841</td>\n",
       "      <td>0.370757</td>\n",
       "      <td>0.130247</td>\n",
       "      <td>0.086186</td>\n",
       "      <td>0.010426</td>\n",
       "    </tr>\n",
       "    <tr>\n",
       "      <th>40.783838</th>\n",
       "      <td>0.723914</td>\n",
       "      <td>0.422612</td>\n",
       "      <td>0.164614</td>\n",
       "      <td>0.099508</td>\n",
       "      <td>0.013780</td>\n",
       "    </tr>\n",
       "    <tr>\n",
       "      <th>42.296970</th>\n",
       "      <td>0.765345</td>\n",
       "      <td>0.473471</td>\n",
       "      <td>0.202527</td>\n",
       "      <td>0.113926</td>\n",
       "      <td>0.017907</td>\n",
       "    </tr>\n",
       "    <tr>\n",
       "      <th>43.810101</th>\n",
       "      <td>0.801427</td>\n",
       "      <td>0.522557</td>\n",
       "      <td>0.243309</td>\n",
       "      <td>0.129401</td>\n",
       "      <td>0.022899</td>\n",
       "    </tr>\n",
       "    <tr>\n",
       "      <th>45.323232</th>\n",
       "      <td>0.832576</td>\n",
       "      <td>0.569274</td>\n",
       "      <td>0.286206</td>\n",
       "      <td>0.145886</td>\n",
       "      <td>0.028846</td>\n",
       "    </tr>\n",
       "    <tr>\n",
       "      <th>46.836364</th>\n",
       "      <td>0.859274</td>\n",
       "      <td>0.613201</td>\n",
       "      <td>0.330444</td>\n",
       "      <td>0.163318</td>\n",
       "      <td>0.035829</td>\n",
       "    </tr>\n",
       "    <tr>\n",
       "      <th>48.349495</th>\n",
       "      <td>0.882020</td>\n",
       "      <td>0.654072</td>\n",
       "      <td>0.375272</td>\n",
       "      <td>0.181626</td>\n",
       "      <td>0.043916</td>\n",
       "    </tr>\n",
       "    <tr>\n",
       "      <th>49.862626</th>\n",
       "      <td>0.901302</td>\n",
       "      <td>0.691753</td>\n",
       "      <td>0.419998</td>\n",
       "      <td>0.200733</td>\n",
       "      <td>0.053162</td>\n",
       "    </tr>\n",
       "    <tr>\n",
       "      <th>51.375758</th>\n",
       "      <td>0.917581</td>\n",
       "      <td>0.726218</td>\n",
       "      <td>0.464013</td>\n",
       "      <td>0.220552</td>\n",
       "      <td>0.063609</td>\n",
       "    </tr>\n",
       "    <tr>\n",
       "      <th>52.888889</th>\n",
       "      <td>0.931277</td>\n",
       "      <td>0.757526</td>\n",
       "      <td>0.506805</td>\n",
       "      <td>0.240994</td>\n",
       "      <td>0.075277</td>\n",
       "    </tr>\n",
       "    <tr>\n",
       "      <th>54.402020</th>\n",
       "      <td>0.942770</td>\n",
       "      <td>0.785795</td>\n",
       "      <td>0.547962</td>\n",
       "      <td>0.261966</td>\n",
       "      <td>0.088173</td>\n",
       "    </tr>\n",
       "    <tr>\n",
       "      <th>55.915152</th>\n",
       "      <td>0.952389</td>\n",
       "      <td>0.811188</td>\n",
       "      <td>0.587170</td>\n",
       "      <td>0.283372</td>\n",
       "      <td>0.102286</td>\n",
       "    </tr>\n",
       "    <tr>\n",
       "      <th>57.428283</th>\n",
       "      <td>0.960426</td>\n",
       "      <td>0.833895</td>\n",
       "      <td>0.624208</td>\n",
       "      <td>0.305119</td>\n",
       "      <td>0.117584</td>\n",
       "    </tr>\n",
       "    <tr>\n",
       "      <th>58.941414</th>\n",
       "      <td>0.967129</td>\n",
       "      <td>0.854121</td>\n",
       "      <td>0.658936</td>\n",
       "      <td>0.327114</td>\n",
       "      <td>0.134025</td>\n",
       "    </tr>\n",
       "    <tr>\n",
       "      <th>60.454545</th>\n",
       "      <td>0.972714</td>\n",
       "      <td>0.872076</td>\n",
       "      <td>0.691282</td>\n",
       "      <td>0.349266</td>\n",
       "      <td>0.151546</td>\n",
       "    </tr>\n",
       "    <tr>\n",
       "      <th>61.967677</th>\n",
       "      <td>0.977360</td>\n",
       "      <td>0.887968</td>\n",
       "      <td>0.721234</td>\n",
       "      <td>0.371488</td>\n",
       "      <td>0.170075</td>\n",
       "    </tr>\n",
       "    <tr>\n",
       "      <th>63.480808</th>\n",
       "      <td>0.981223</td>\n",
       "      <td>0.901998</td>\n",
       "      <td>0.748826</td>\n",
       "      <td>0.393697</td>\n",
       "      <td>0.189529</td>\n",
       "    </tr>\n",
       "    <tr>\n",
       "      <th>...</th>\n",
       "      <td>...</td>\n",
       "      <td>...</td>\n",
       "      <td>...</td>\n",
       "      <td>...</td>\n",
       "      <td>...</td>\n",
       "    </tr>\n",
       "    <tr>\n",
       "      <th>125.519192</th>\n",
       "      <td>0.999992</td>\n",
       "      <td>0.999688</td>\n",
       "      <td>0.998060</td>\n",
       "      <td>0.924726</td>\n",
       "      <td>0.882303</td>\n",
       "    </tr>\n",
       "    <tr>\n",
       "      <th>127.032323</th>\n",
       "      <td>0.999993</td>\n",
       "      <td>0.999729</td>\n",
       "      <td>0.998283</td>\n",
       "      <td>0.928979</td>\n",
       "      <td>0.889083</td>\n",
       "    </tr>\n",
       "    <tr>\n",
       "      <th>128.545455</th>\n",
       "      <td>0.999994</td>\n",
       "      <td>0.999765</td>\n",
       "      <td>0.998480</td>\n",
       "      <td>0.933001</td>\n",
       "      <td>0.895496</td>\n",
       "    </tr>\n",
       "    <tr>\n",
       "      <th>130.058586</th>\n",
       "      <td>0.999995</td>\n",
       "      <td>0.999796</td>\n",
       "      <td>0.998654</td>\n",
       "      <td>0.936803</td>\n",
       "      <td>0.901559</td>\n",
       "    </tr>\n",
       "    <tr>\n",
       "      <th>131.571717</th>\n",
       "      <td>0.999996</td>\n",
       "      <td>0.999823</td>\n",
       "      <td>0.998809</td>\n",
       "      <td>0.940396</td>\n",
       "      <td>0.907289</td>\n",
       "    </tr>\n",
       "    <tr>\n",
       "      <th>133.084848</th>\n",
       "      <td>0.999997</td>\n",
       "      <td>0.999846</td>\n",
       "      <td>0.998946</td>\n",
       "      <td>0.943791</td>\n",
       "      <td>0.912702</td>\n",
       "    </tr>\n",
       "    <tr>\n",
       "      <th>134.597980</th>\n",
       "      <td>0.999997</td>\n",
       "      <td>0.999867</td>\n",
       "      <td>0.999067</td>\n",
       "      <td>0.946998</td>\n",
       "      <td>0.917813</td>\n",
       "    </tr>\n",
       "    <tr>\n",
       "      <th>136.111111</th>\n",
       "      <td>0.999998</td>\n",
       "      <td>0.999884</td>\n",
       "      <td>0.999174</td>\n",
       "      <td>0.950026</td>\n",
       "      <td>0.922638</td>\n",
       "    </tr>\n",
       "    <tr>\n",
       "      <th>137.624242</th>\n",
       "      <td>0.999998</td>\n",
       "      <td>0.999899</td>\n",
       "      <td>0.999269</td>\n",
       "      <td>0.952887</td>\n",
       "      <td>0.927191</td>\n",
       "    </tr>\n",
       "    <tr>\n",
       "      <th>139.137374</th>\n",
       "      <td>0.999999</td>\n",
       "      <td>0.999913</td>\n",
       "      <td>0.999353</td>\n",
       "      <td>0.955587</td>\n",
       "      <td>0.931486</td>\n",
       "    </tr>\n",
       "    <tr>\n",
       "      <th>140.650505</th>\n",
       "      <td>0.999999</td>\n",
       "      <td>0.999924</td>\n",
       "      <td>0.999427</td>\n",
       "      <td>0.958136</td>\n",
       "      <td>0.935536</td>\n",
       "    </tr>\n",
       "    <tr>\n",
       "      <th>142.163636</th>\n",
       "      <td>0.999999</td>\n",
       "      <td>0.999934</td>\n",
       "      <td>0.999493</td>\n",
       "      <td>0.960542</td>\n",
       "      <td>0.939355</td>\n",
       "    </tr>\n",
       "    <tr>\n",
       "      <th>143.676768</th>\n",
       "      <td>0.999999</td>\n",
       "      <td>0.999943</td>\n",
       "      <td>0.999551</td>\n",
       "      <td>0.962812</td>\n",
       "      <td>0.942955</td>\n",
       "    </tr>\n",
       "    <tr>\n",
       "      <th>145.189899</th>\n",
       "      <td>0.999999</td>\n",
       "      <td>0.999950</td>\n",
       "      <td>0.999603</td>\n",
       "      <td>0.964954</td>\n",
       "      <td>0.946347</td>\n",
       "    </tr>\n",
       "    <tr>\n",
       "      <th>146.703030</th>\n",
       "      <td>0.999999</td>\n",
       "      <td>0.999957</td>\n",
       "      <td>0.999648</td>\n",
       "      <td>0.966974</td>\n",
       "      <td>0.949543</td>\n",
       "    </tr>\n",
       "    <tr>\n",
       "      <th>148.216162</th>\n",
       "      <td>1.000000</td>\n",
       "      <td>0.999963</td>\n",
       "      <td>0.999689</td>\n",
       "      <td>0.968880</td>\n",
       "      <td>0.952553</td>\n",
       "    </tr>\n",
       "    <tr>\n",
       "      <th>149.729293</th>\n",
       "      <td>1.000000</td>\n",
       "      <td>0.999968</td>\n",
       "      <td>0.999724</td>\n",
       "      <td>0.970678</td>\n",
       "      <td>0.955388</td>\n",
       "    </tr>\n",
       "    <tr>\n",
       "      <th>151.242424</th>\n",
       "      <td>1.000000</td>\n",
       "      <td>0.999972</td>\n",
       "      <td>0.999756</td>\n",
       "      <td>0.972374</td>\n",
       "      <td>0.958057</td>\n",
       "    </tr>\n",
       "    <tr>\n",
       "      <th>152.755556</th>\n",
       "      <td>1.000000</td>\n",
       "      <td>0.999976</td>\n",
       "      <td>0.999784</td>\n",
       "      <td>0.973972</td>\n",
       "      <td>0.960570</td>\n",
       "    </tr>\n",
       "    <tr>\n",
       "      <th>154.268687</th>\n",
       "      <td>1.000000</td>\n",
       "      <td>0.999979</td>\n",
       "      <td>0.999809</td>\n",
       "      <td>0.975480</td>\n",
       "      <td>0.962936</td>\n",
       "    </tr>\n",
       "    <tr>\n",
       "      <th>155.781818</th>\n",
       "      <td>1.000000</td>\n",
       "      <td>0.999982</td>\n",
       "      <td>0.999831</td>\n",
       "      <td>0.976901</td>\n",
       "      <td>0.965162</td>\n",
       "    </tr>\n",
       "    <tr>\n",
       "      <th>157.294949</th>\n",
       "      <td>1.000000</td>\n",
       "      <td>0.999984</td>\n",
       "      <td>0.999850</td>\n",
       "      <td>0.978240</td>\n",
       "      <td>0.967256</td>\n",
       "    </tr>\n",
       "    <tr>\n",
       "      <th>158.808081</th>\n",
       "      <td>1.000000</td>\n",
       "      <td>0.999986</td>\n",
       "      <td>0.999867</td>\n",
       "      <td>0.979503</td>\n",
       "      <td>0.969227</td>\n",
       "    </tr>\n",
       "    <tr>\n",
       "      <th>160.321212</th>\n",
       "      <td>1.000000</td>\n",
       "      <td>0.999988</td>\n",
       "      <td>0.999883</td>\n",
       "      <td>0.980693</td>\n",
       "      <td>0.971081</td>\n",
       "    </tr>\n",
       "    <tr>\n",
       "      <th>161.834343</th>\n",
       "      <td>1.000000</td>\n",
       "      <td>0.999990</td>\n",
       "      <td>0.999896</td>\n",
       "      <td>0.981815</td>\n",
       "      <td>0.972824</td>\n",
       "    </tr>\n",
       "    <tr>\n",
       "      <th>163.347475</th>\n",
       "      <td>1.000000</td>\n",
       "      <td>0.999991</td>\n",
       "      <td>0.999908</td>\n",
       "      <td>0.982872</td>\n",
       "      <td>0.974464</td>\n",
       "    </tr>\n",
       "    <tr>\n",
       "      <th>164.860606</th>\n",
       "      <td>1.000000</td>\n",
       "      <td>0.999992</td>\n",
       "      <td>0.999919</td>\n",
       "      <td>0.983868</td>\n",
       "      <td>0.976007</td>\n",
       "    </tr>\n",
       "    <tr>\n",
       "      <th>166.373737</th>\n",
       "      <td>1.000000</td>\n",
       "      <td>0.999993</td>\n",
       "      <td>0.999928</td>\n",
       "      <td>0.984807</td>\n",
       "      <td>0.977457</td>\n",
       "    </tr>\n",
       "    <tr>\n",
       "      <th>167.886869</th>\n",
       "      <td>1.000000</td>\n",
       "      <td>0.999994</td>\n",
       "      <td>0.999936</td>\n",
       "      <td>0.985692</td>\n",
       "      <td>0.978820</td>\n",
       "    </tr>\n",
       "    <tr>\n",
       "      <th>169.400000</th>\n",
       "      <td>1.000000</td>\n",
       "      <td>0.999995</td>\n",
       "      <td>0.999944</td>\n",
       "      <td>0.986525</td>\n",
       "      <td>0.980102</td>\n",
       "    </tr>\n",
       "  </tbody>\n",
       "</table>\n",
       "<p>100 rows × 5 columns</p>\n",
       "</div>"
      ],
      "text/plain": [
       "                  1h        3h        6h       12h        24\n",
       "19.600000   0.010481  0.001943  0.000047  0.004621  0.000032\n",
       "21.113131   0.022982  0.004428  0.000148  0.006334  0.000060\n",
       "22.626263   0.044021  0.009053  0.000408  0.008523  0.000108\n",
       "24.139394   0.075388  0.016841  0.001001  0.011270  0.000189\n",
       "25.652525   0.117678  0.028865  0.002213  0.014661  0.000319\n",
       "27.165657   0.170129  0.046079  0.004467  0.018780  0.000521\n",
       "28.678788   0.230826  0.069156  0.008318  0.023709  0.000828\n",
       "30.191919   0.297142  0.098378  0.014421  0.029526  0.001277\n",
       "31.705051   0.366228  0.133589  0.023469  0.036301  0.001919\n",
       "33.218182   0.435411  0.174226  0.036115  0.044092  0.002813\n",
       "34.731313   0.502461  0.219400  0.052892  0.052948  0.004029\n",
       "36.244444   0.565706  0.268009  0.074140  0.062904  0.005644\n",
       "37.757576   0.624035  0.318858  0.099969  0.073981  0.007745\n",
       "39.270707   0.676841  0.370757  0.130247  0.086186  0.010426\n",
       "40.783838   0.723914  0.422612  0.164614  0.099508  0.013780\n",
       "42.296970   0.765345  0.473471  0.202527  0.113926  0.017907\n",
       "43.810101   0.801427  0.522557  0.243309  0.129401  0.022899\n",
       "45.323232   0.832576  0.569274  0.286206  0.145886  0.028846\n",
       "46.836364   0.859274  0.613201  0.330444  0.163318  0.035829\n",
       "48.349495   0.882020  0.654072  0.375272  0.181626  0.043916\n",
       "49.862626   0.901302  0.691753  0.419998  0.200733  0.053162\n",
       "51.375758   0.917581  0.726218  0.464013  0.220552  0.063609\n",
       "52.888889   0.931277  0.757526  0.506805  0.240994  0.075277\n",
       "54.402020   0.942770  0.785795  0.547962  0.261966  0.088173\n",
       "55.915152   0.952389  0.811188  0.587170  0.283372  0.102286\n",
       "57.428283   0.960426  0.833895  0.624208  0.305119  0.117584\n",
       "58.941414   0.967129  0.854121  0.658936  0.327114  0.134025\n",
       "60.454545   0.972714  0.872076  0.691282  0.349266  0.151546\n",
       "61.967677   0.977360  0.887968  0.721234  0.371488  0.170075\n",
       "63.480808   0.981223  0.901998  0.748826  0.393697  0.189529\n",
       "...              ...       ...       ...       ...       ...\n",
       "125.519192  0.999992  0.999688  0.998060  0.924726  0.882303\n",
       "127.032323  0.999993  0.999729  0.998283  0.928979  0.889083\n",
       "128.545455  0.999994  0.999765  0.998480  0.933001  0.895496\n",
       "130.058586  0.999995  0.999796  0.998654  0.936803  0.901559\n",
       "131.571717  0.999996  0.999823  0.998809  0.940396  0.907289\n",
       "133.084848  0.999997  0.999846  0.998946  0.943791  0.912702\n",
       "134.597980  0.999997  0.999867  0.999067  0.946998  0.917813\n",
       "136.111111  0.999998  0.999884  0.999174  0.950026  0.922638\n",
       "137.624242  0.999998  0.999899  0.999269  0.952887  0.927191\n",
       "139.137374  0.999999  0.999913  0.999353  0.955587  0.931486\n",
       "140.650505  0.999999  0.999924  0.999427  0.958136  0.935536\n",
       "142.163636  0.999999  0.999934  0.999493  0.960542  0.939355\n",
       "143.676768  0.999999  0.999943  0.999551  0.962812  0.942955\n",
       "145.189899  0.999999  0.999950  0.999603  0.964954  0.946347\n",
       "146.703030  0.999999  0.999957  0.999648  0.966974  0.949543\n",
       "148.216162  1.000000  0.999963  0.999689  0.968880  0.952553\n",
       "149.729293  1.000000  0.999968  0.999724  0.970678  0.955388\n",
       "151.242424  1.000000  0.999972  0.999756  0.972374  0.958057\n",
       "152.755556  1.000000  0.999976  0.999784  0.973972  0.960570\n",
       "154.268687  1.000000  0.999979  0.999809  0.975480  0.962936\n",
       "155.781818  1.000000  0.999982  0.999831  0.976901  0.965162\n",
       "157.294949  1.000000  0.999984  0.999850  0.978240  0.967256\n",
       "158.808081  1.000000  0.999986  0.999867  0.979503  0.969227\n",
       "160.321212  1.000000  0.999988  0.999883  0.980693  0.971081\n",
       "161.834343  1.000000  0.999990  0.999896  0.981815  0.972824\n",
       "163.347475  1.000000  0.999991  0.999908  0.982872  0.974464\n",
       "164.860606  1.000000  0.999992  0.999919  0.983868  0.976007\n",
       "166.373737  1.000000  0.999993  0.999928  0.984807  0.977457\n",
       "167.886869  1.000000  0.999994  0.999936  0.985692  0.978820\n",
       "169.400000  1.000000  0.999995  0.999944  0.986525  0.980102\n",
       "\n",
       "[100 rows x 5 columns]"
      ]
     },
     "execution_count": 109,
     "metadata": {},
     "output_type": "execute_result"
    }
   ],
   "source": [
    "gb=pd.DataFrame([gumbel(t_rain,best,\"1h\"),\n",
    "                 gumbel(t_rain,best,\"3h\"),\n",
    "                 gumbel(t_rain,best,\"6h\"),\n",
    "                 gumbel(t_rain,best,\"12h\"),\n",
    "                 gumbel(t_rain,best,\"24h\")]).T\n",
    "gb.index=t_rain\n",
    "gb.columns=[\"1h\",\"3h\",\"6h\",\"12h\",\"24\"]\n",
    "gb[-5:]"
   ]
  },
  {
   "cell_type": "code",
   "execution_count": 110,
   "metadata": {
    "collapsed": false
   },
   "outputs": [
    {
     "data": {
      "text/plain": [
       "<matplotlib.text.Text at 0x117108d68>"
      ]
     },
     "execution_count": 110,
     "metadata": {},
     "output_type": "execute_result"
    },
    {
     "data": {
      "image/png": "[encoded data removed]",
      "text/plain": [
       "<matplotlib.figure.Figure at 0x1102d2470>"
      ]
     },
     "metadata": {},
     "output_type": "display_data"
    }
   ],
   "source": [
    "plt.rc('xtick', labelsize=20) #Quest  comandi globali\n",
    "plt.rc('ytick', labelsize=20) #Questi sono comandi globali\n",
    "ax=gb.plot(color=[\"red\",\"blue\",\"cyan\",\"green\",\"black\"])\n",
    "ecdf1h = ECDF(data[\"1h\"])\n",
    "ax.plot(data[\"1h\"],ecdf1h(data[\"1h\"]),'o',c=\"red\")\n",
    "data3h=data[\"3h\"].dropna()\n",
    "ecdf3h = ECDF(data3h)\n",
    "ax.plot(data3h,ecdf3h(data3h),\"o\",c=\"blue\")\n",
    "data6h=data[\"6h\"].dropna()\n",
    "ecdf6h = ECDF(data6h)\n",
    "ax.plot(data6h,ecdf6h(data6h),\"o\",c=\"cyan\")\n",
    "data12h=data[\"12h\"].dropna()\n",
    "ecdf12h = ECDF(data12h)\n",
    "ax.plot(data12h,ecdf12h(data12h),\"o\",c=\"green\")\n",
    "data24h=data[\"24h\"].dropna()\n",
    "ecdf24h = ECDF(data24h)\n",
    "ax.plot(data24h,ecdf24h(data24h),\"o\",c=\"black\")\n",
    "ax.set_title('Lssp 1h')\n",
    "ax.set_xlabel('Rainfall (mm)')\n",
    "ax.set_ylabel('P[H<h]')"
   ]
  }
 ],
 "metadata": {
  "kernelspec": {
   "display_name": "Python 3",
   "language": "python",
   "name": "python3"
  },
  "language_info": {
   "codemirror_mode": {
    "name": "ipython",
    "version": 3
   },
   "file_extension": ".py",
   "mimetype": "text/x-python",
   "name": "python",
   "nbconvert_exporter": "python",
   "pygments_lexer": "ipython3",
   "version": "3.7.1"
  }
 },
 "nbformat": 4,
 "nbformat_minor": 2
}
