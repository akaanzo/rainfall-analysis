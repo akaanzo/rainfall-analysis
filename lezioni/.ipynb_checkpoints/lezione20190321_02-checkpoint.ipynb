{
 "cells": [
  {
   "cell_type": "markdown",
   "metadata": {},
   "source": [
    "# Lezione 2019-03-21 \\ 02"
   ]
  },
  {
   "cell_type": "markdown",
   "metadata": {},
   "source": [
    "## Test di Pearson"
   ]
  },
  {
   "cell_type": "markdown",
   "metadata": {},
   "source": [
    "Matteo Franzoi - 2019-03-21"
   ]
  },
  {
   "cell_type": "markdown",
   "metadata": {},
   "source": [
    "---"
   ]
  },
  {
   "cell_type": "code",
   "execution_count": 1,
   "metadata": {},
   "outputs": [],
   "source": [
    "import os\n",
    "import math\n",
    "from pandas import *\n",
    "import pandas as pd\n",
    "from datetime import datetime\n",
    "%matplotlib inline \n",
    "import matplotlib.pyplot as plt\n",
    "from statsmodels.distributions.empirical_distribution import ECDF\n",
    "\n",
    "os.getcwd()\n",
    "data = pd.read_csv('PluviometriaPaperopoli_4.txt')\n",
    "map(datetime,data['anno'])\n",
    "data=data.set_index('anno')"
   ]
  },
  {
   "cell_type": "code",
   "execution_count": 4,
   "metadata": {},
   "outputs": [
    {
     "data": {
      "text/html": [
       "<div>\n",
       "<style scoped>\n",
       "    .dataframe tbody tr th:only-of-type {\n",
       "        vertical-align: middle;\n",
       "    }\n",
       "\n",
       "    .dataframe tbody tr th {\n",
       "        vertical-align: top;\n",
       "    }\n",
       "\n",
       "    .dataframe thead th {\n",
       "        text-align: right;\n",
       "    }\n",
       "</style>\n",
       "<table border=\"1\" class=\"dataframe\">\n",
       "  <thead>\n",
       "    <tr style=\"text-align: right;\">\n",
       "      <th></th>\n",
       "      <th>1h</th>\n",
       "      <th>3h</th>\n",
       "      <th>6h</th>\n",
       "      <th>12h</th>\n",
       "      <th>24h</th>\n",
       "    </tr>\n",
       "    <tr>\n",
       "      <th>anno</th>\n",
       "      <th></th>\n",
       "      <th></th>\n",
       "      <th></th>\n",
       "      <th></th>\n",
       "      <th></th>\n",
       "    </tr>\n",
       "  </thead>\n",
       "  <tbody>\n",
       "    <tr>\n",
       "      <th>1984</th>\n",
       "      <td>61.2</td>\n",
       "      <td>61.4</td>\n",
       "      <td>61.4</td>\n",
       "      <td>62.6</td>\n",
       "      <td>81.8</td>\n",
       "    </tr>\n",
       "    <tr>\n",
       "      <th>1985</th>\n",
       "      <td>23.6</td>\n",
       "      <td>35.6</td>\n",
       "      <td>44.2</td>\n",
       "      <td>58.6</td>\n",
       "      <td>69.8</td>\n",
       "    </tr>\n",
       "    <tr>\n",
       "      <th>1986</th>\n",
       "      <td>20.2</td>\n",
       "      <td>36.8</td>\n",
       "      <td>51.4</td>\n",
       "      <td>55.8</td>\n",
       "      <td>74.4</td>\n",
       "    </tr>\n",
       "    <tr>\n",
       "      <th>1987</th>\n",
       "      <td>32.6</td>\n",
       "      <td>40.6</td>\n",
       "      <td>64.6</td>\n",
       "      <td>77.2</td>\n",
       "      <td>81.2</td>\n",
       "    </tr>\n",
       "    <tr>\n",
       "      <th>1988</th>\n",
       "      <td>89.2</td>\n",
       "      <td>102.0</td>\n",
       "      <td>102.0</td>\n",
       "      <td>102.0</td>\n",
       "      <td>104.2</td>\n",
       "    </tr>\n",
       "  </tbody>\n",
       "</table>\n",
       "</div>"
      ],
      "text/plain": [
       "        1h     3h     6h    12h    24h\n",
       "anno                                  \n",
       "1984  61.2   61.4   61.4   62.6   81.8\n",
       "1985  23.6   35.6   44.2   58.6   69.8\n",
       "1986  20.2   36.8   51.4   55.8   74.4\n",
       "1987  32.6   40.6   64.6   77.2   81.2\n",
       "1988  89.2  102.0  102.0  102.0  104.2"
      ]
     },
     "execution_count": 4,
     "metadata": {},
     "output_type": "execute_result"
    }
   ],
   "source": [
    "data[-5:]"
   ]
  },
  {
   "cell_type": "code",
   "execution_count": 11,
   "metadata": {},
   "outputs": [],
   "source": [
    "from scipy.stats import norm\n",
    "from scipy.stats import genextreme,gumbel_r\n",
    "from numpy import linspace\n",
    "from pylab import plot,show,hist,figure,title"
   ]
  },
  {
   "cell_type": "code",
   "execution_count": 13,
   "metadata": {},
   "outputs": [
    {
     "data": {
      "text/plain": [
       "['.ipynb_checkpoints',\n",
       " '0-Eschfaeller-Python-Lectures.ipynb',\n",
       " '2-Reading a file with pandas.ipynb',\n",
       " '3.1 - Gumbel-Momenti.ipynb',\n",
       " '3.2 - Gumbel - Massima Verosimiglianza.ipynb',\n",
       " '3.3 - Gumbel-MinimiQuadrati.ipynb',\n",
       " '4-Test di Pearson.ipynb',\n",
       " 'abs_m',\n",
       " 'abs_mle',\n",
       " 'abs_mq',\n",
       " 'Gaussian distribution.ipynb',\n",
       " 'lezione20190307_01.ipynb',\n",
       " 'lezione20190307_02.ipynb',\n",
       " 'lezione20190311_01.ipynb',\n",
       " 'lezione20190311_02.ipynb',\n",
       " 'lezione20190314_01.ipynb',\n",
       " 'lezione20190314_02.ipynb',\n",
       " 'lezione20190314_03.ipynb',\n",
       " 'lezione20190321_01.ipynb',\n",
       " 'lezione20190321_02.ipynb',\n",
       " 'PluviometriaPaperopoli_4.txt',\n",
       " 'VotiCostruzioniIdrauliche2017.ipynb',\n",
       " 'VotiCostruzioniIdrauliche2017.xlsx']"
      ]
     },
     "execution_count": 13,
     "metadata": {},
     "output_type": "execute_result"
    }
   ],
   "source": [
    "os.listdir()"
   ]
  },
  {
   "cell_type": "markdown",
   "metadata": {},
   "source": [
    "Importo i dati di _a_ e _b_ trovati dai 3 metodi"
   ]
  },
  {
   "cell_type": "code",
   "execution_count": 14,
   "metadata": {},
   "outputs": [],
   "source": [
    "abs_m=pd.read_pickle(\"abs_m\")\n",
    "abs_mq=pd.read_pickle(\"abs_mq\")\n",
    "abs_mle=pd.read_pickle(\"abs_mle\")"
   ]
  },
  {
   "cell_type": "markdown",
   "metadata": {},
   "source": [
    "Metodo dei momenti"
   ]
  },
  {
   "cell_type": "markdown",
   "metadata": {},
   "source": [
    "abs_m"
   ]
  },
  {
   "cell_type": "markdown",
   "metadata": {},
   "source": [
    "Metodo dei minimi quadrati"
   ]
  },
  {
   "cell_type": "code",
   "execution_count": 16,
   "metadata": {},
   "outputs": [
    {
     "data": {
      "text/html": [
       "<div>\n",
       "<style scoped>\n",
       "    .dataframe tbody tr th:only-of-type {\n",
       "        vertical-align: middle;\n",
       "    }\n",
       "\n",
       "    .dataframe tbody tr th {\n",
       "        vertical-align: top;\n",
       "    }\n",
       "\n",
       "    .dataframe thead th {\n",
       "        text-align: right;\n",
       "    }\n",
       "</style>\n",
       "<table border=\"1\" class=\"dataframe\">\n",
       "  <thead>\n",
       "    <tr style=\"text-align: right;\">\n",
       "      <th></th>\n",
       "      <th>1h</th>\n",
       "      <th>3h</th>\n",
       "      <th>6h</th>\n",
       "      <th>12h</th>\n",
       "      <th>24h</th>\n",
       "    </tr>\n",
       "  </thead>\n",
       "  <tbody>\n",
       "    <tr>\n",
       "      <th>a</th>\n",
       "      <td>31.740980</td>\n",
       "      <td>40.176970</td>\n",
       "      <td>48.436261</td>\n",
       "      <td>61.722077</td>\n",
       "      <td>76.857584</td>\n",
       "    </tr>\n",
       "    <tr>\n",
       "      <th>b</th>\n",
       "      <td>8.003627</td>\n",
       "      <td>11.459221</td>\n",
       "      <td>16.938302</td>\n",
       "      <td>25.040576</td>\n",
       "      <td>29.744166</td>\n",
       "    </tr>\n",
       "  </tbody>\n",
       "</table>\n",
       "</div>"
      ],
      "text/plain": [
       "          1h         3h         6h        12h        24h\n",
       "a  31.740980  40.176970  48.436261  61.722077  76.857584\n",
       "b   8.003627  11.459221  16.938302  25.040576  29.744166"
      ]
     },
     "execution_count": 16,
     "metadata": {},
     "output_type": "execute_result"
    }
   ],
   "source": [
    "abs_mq"
   ]
  },
  {
   "cell_type": "markdown",
   "metadata": {},
   "source": [
    "Metodo della massima verosimiglianza"
   ]
  },
  {
   "cell_type": "code",
   "execution_count": 9,
   "metadata": {},
   "outputs": [
    {
     "data": {
      "text/html": [
       "<div>\n",
       "<style scoped>\n",
       "    .dataframe tbody tr th:only-of-type {\n",
       "        vertical-align: middle;\n",
       "    }\n",
       "\n",
       "    .dataframe tbody tr th {\n",
       "        vertical-align: top;\n",
       "    }\n",
       "\n",
       "    .dataframe thead th {\n",
       "        text-align: right;\n",
       "    }\n",
       "</style>\n",
       "<table border=\"1\" class=\"dataframe\">\n",
       "  <thead>\n",
       "    <tr style=\"text-align: right;\">\n",
       "      <th></th>\n",
       "      <th>1h</th>\n",
       "      <th>3h</th>\n",
       "      <th>6h</th>\n",
       "      <th>12h</th>\n",
       "      <th>24h</th>\n",
       "    </tr>\n",
       "  </thead>\n",
       "  <tbody>\n",
       "    <tr>\n",
       "      <th>a</th>\n",
       "      <td>31.59042</td>\n",
       "      <td>39.527315</td>\n",
       "      <td>48.100316</td>\n",
       "      <td>60.562103</td>\n",
       "      <td>75.848891</td>\n",
       "    </tr>\n",
       "    <tr>\n",
       "      <th>b</th>\n",
       "      <td>9.07316</td>\n",
       "      <td>10.041456</td>\n",
       "      <td>12.398915</td>\n",
       "      <td>18.005471</td>\n",
       "      <td>22.435148</td>\n",
       "    </tr>\n",
       "  </tbody>\n",
       "</table>\n",
       "</div>"
      ],
      "text/plain": [
       "         1h         3h         6h        12h        24h\n",
       "a  31.59042  39.527315  48.100316  60.562103  75.848891\n",
       "b   9.07316  10.041456  12.398915  18.005471  22.435148"
      ]
     },
     "execution_count": 9,
     "metadata": {},
     "output_type": "execute_result"
    }
   ],
   "source": [
    "abs_mle"
   ]
  },
  {
   "cell_type": "markdown",
   "metadata": {},
   "source": [
    "Verifichiamo se i dati sono diversi"
   ]
  },
  {
   "cell_type": "code",
   "execution_count": 18,
   "metadata": {},
   "outputs": [
    {
     "data": {
      "text/html": [
       "<div>\n",
       "<style scoped>\n",
       "    .dataframe tbody tr th:only-of-type {\n",
       "        vertical-align: middle;\n",
       "    }\n",
       "\n",
       "    .dataframe tbody tr th {\n",
       "        vertical-align: top;\n",
       "    }\n",
       "\n",
       "    .dataframe thead th {\n",
       "        text-align: right;\n",
       "    }\n",
       "</style>\n",
       "<table border=\"1\" class=\"dataframe\">\n",
       "  <thead>\n",
       "    <tr style=\"text-align: right;\">\n",
       "      <th></th>\n",
       "      <th>1h</th>\n",
       "      <th>3h</th>\n",
       "      <th>6h</th>\n",
       "      <th>12h</th>\n",
       "      <th>24h</th>\n",
       "    </tr>\n",
       "  </thead>\n",
       "  <tbody>\n",
       "    <tr>\n",
       "      <th>a</th>\n",
       "      <td>-0.499291</td>\n",
       "      <td>-0.989925</td>\n",
       "      <td>-0.408223</td>\n",
       "      <td>-0.968342</td>\n",
       "      <td>-1.173841</td>\n",
       "    </tr>\n",
       "    <tr>\n",
       "      <th>b</th>\n",
       "      <td>1.819930</td>\n",
       "      <td>-0.764857</td>\n",
       "      <td>-3.666225</td>\n",
       "      <td>-6.727302</td>\n",
       "      <td>-5.758078</td>\n",
       "    </tr>\n",
       "  </tbody>\n",
       "</table>\n",
       "</div>"
      ],
      "text/plain": [
       "         1h        3h        6h       12h       24h\n",
       "a -0.499291 -0.989925 -0.408223 -0.968342 -1.173841\n",
       "b  1.819930 -0.764857 -3.666225 -6.727302 -5.758078"
      ]
     },
     "execution_count": 18,
     "metadata": {},
     "output_type": "execute_result"
    }
   ],
   "source": [
    "abs_m - abs_mq"
   ]
  },
  {
   "cell_type": "code",
   "execution_count": 19,
   "metadata": {},
   "outputs": [
    {
     "data": {
      "text/html": [
       "<div>\n",
       "<style scoped>\n",
       "    .dataframe tbody tr th:only-of-type {\n",
       "        vertical-align: middle;\n",
       "    }\n",
       "\n",
       "    .dataframe tbody tr th {\n",
       "        vertical-align: top;\n",
       "    }\n",
       "\n",
       "    .dataframe thead th {\n",
       "        text-align: right;\n",
       "    }\n",
       "</style>\n",
       "<table border=\"1\" class=\"dataframe\">\n",
       "  <thead>\n",
       "    <tr style=\"text-align: right;\">\n",
       "      <th></th>\n",
       "      <th>1h</th>\n",
       "      <th>3h</th>\n",
       "      <th>6h</th>\n",
       "      <th>12h</th>\n",
       "      <th>24h</th>\n",
       "    </tr>\n",
       "  </thead>\n",
       "  <tbody>\n",
       "    <tr>\n",
       "      <th>a</th>\n",
       "      <td>-0.348730</td>\n",
       "      <td>-0.340270</td>\n",
       "      <td>-0.072278</td>\n",
       "      <td>0.191632</td>\n",
       "      <td>-0.165148</td>\n",
       "    </tr>\n",
       "    <tr>\n",
       "      <th>b</th>\n",
       "      <td>0.750396</td>\n",
       "      <td>0.652909</td>\n",
       "      <td>0.873162</td>\n",
       "      <td>0.307804</td>\n",
       "      <td>1.550941</td>\n",
       "    </tr>\n",
       "  </tbody>\n",
       "</table>\n",
       "</div>"
      ],
      "text/plain": [
       "         1h        3h        6h       12h       24h\n",
       "a -0.348730 -0.340270 -0.072278  0.191632 -0.165148\n",
       "b  0.750396  0.652909  0.873162  0.307804  1.550941"
      ]
     },
     "execution_count": 19,
     "metadata": {},
     "output_type": "execute_result"
    }
   ],
   "source": [
    "abs_m - abs_mle"
   ]
  },
  {
   "cell_type": "markdown",
   "metadata": {},
   "source": [
    "Mostriamo il valore di _a_ di 1h dai momenti"
   ]
  },
  {
   "cell_type": "code",
   "execution_count": 21,
   "metadata": {},
   "outputs": [
    {
     "data": {
      "text/plain": [
       "31.241689405642404"
      ]
     },
     "execution_count": 21,
     "metadata": {},
     "output_type": "execute_result"
    }
   ],
   "source": [
    "abs_m.at['a', '1h']"
   ]
  },
  {
   "cell_type": "markdown",
   "metadata": {},
   "source": [
    "Ricordiamo che _a_ è un parametro di localizzazione e il parametro _b_ è un parametro di scala"
   ]
  },
  {
   "cell_type": "markdown",
   "metadata": {},
   "source": [
    "Creo la funzione **rv** definita come la funzione di gumbel con i parametri definiti al suo interno"
   ]
  },
  {
   "cell_type": "code",
   "execution_count": 22,
   "metadata": {},
   "outputs": [
    {
     "data": {
      "text/plain": [
       "<scipy.stats._distn_infrastructure.rv_frozen at 0x7fc7d4647be0>"
      ]
     },
     "execution_count": 22,
     "metadata": {},
     "output_type": "execute_result"
    }
   ],
   "source": [
    "rv=gumbel_r(loc=abs_m.at[\"a\",\"1h\"],scale=abs_m.at[\"b\",\"1h\"])\n",
    "rv"
   ]
  },
  {
   "cell_type": "markdown",
   "metadata": {},
   "source": [
    "Suddivido gli intervalli sulle ordinate in 5 parti (uguali)"
   ]
  },
  {
   "cell_type": "code",
   "execution_count": 23,
   "metadata": {},
   "outputs": [],
   "source": [
    "q=[0.2,0.4,0.6,0.8,1]"
   ]
  },
  {
   "cell_type": "markdown",
   "metadata": {},
   "source": [
    "Calcolo la curva di gumbel con i parametri sopra definiti.  \n",
    "Con il suffisso **pps** calcolo l'inverso della funzione probabilità"
   ]
  },
  {
   "cell_type": "code",
   "execution_count": 24,
   "metadata": {},
   "outputs": [
    {
     "data": {
      "text/plain": [
       "array([26.56680635, 32.10048014, 37.84043735, 45.97643435,         inf])"
      ]
     },
     "execution_count": 24,
     "metadata": {},
     "output_type": "execute_result"
    }
   ],
   "source": [
    "h1h=rv.ppf(q)\n",
    "h1h"
   ]
  },
  {
   "cell_type": "markdown",
   "metadata": {},
   "source": [
    "ricavando i 5 valori delle ascisse riferite ai diversi valori di **q**."
   ]
  },
  {
   "cell_type": "markdown",
   "metadata": {},
   "source": [
    "Il numero totale di dati riferiti a 1h sono"
   ]
  },
  {
   "cell_type": "code",
   "execution_count": 26,
   "metadata": {},
   "outputs": [
    {
     "data": {
      "text/plain": [
       "50"
      ]
     },
     "execution_count": 26,
     "metadata": {},
     "output_type": "execute_result"
    }
   ],
   "source": [
    "l1h = len(data['1h'])\n",
    "l1h"
   ]
  },
  {
   "cell_type": "markdown",
   "metadata": {},
   "source": [
    "Ci si aspetta che, in ogni intervallo, con limite destro h1h, ci siano $e=(l1h * q)$ elementi mentre ce ne sono  in realtà $o=(l1h * r)$.  La formula dell'$X^2$ è allora:\n",
    "\\begin{equation}\n",
    "X^2 = \\frac{1}{e}\\sum_{i=1}^k (e - o)^2\n",
    "\\end{equation}"
   ]
  },
  {
   "cell_type": "markdown",
   "metadata": {},
   "source": [
    "La ECDF in corrispondenza di un valore mi da la frazione di dati prima di ogni ascissa (valori di h1h)"
   ]
  },
  {
   "cell_type": "code",
   "execution_count": 28,
   "metadata": {},
   "outputs": [
    {
     "data": {
      "text/plain": [
       "array([0.16, 0.34, 0.62, 0.84, 1.  ])"
      ]
     },
     "execution_count": 28,
     "metadata": {},
     "output_type": "execute_result"
    }
   ],
   "source": [
    "ecdf1h = ECDF(data[\"1h\"])\n",
    "r=ecdf1h(h1h)\n",
    "r"
   ]
  },
  {
   "cell_type": "markdown",
   "metadata": {},
   "source": [
    "Il numero di dati prima di ogni ascissa"
   ]
  },
  {
   "cell_type": "code",
   "execution_count": 30,
   "metadata": {},
   "outputs": [
    {
     "data": {
      "text/plain": [
       "array([ 8., 17., 31., 42., 50.])"
      ]
     },
     "execution_count": 30,
     "metadata": {},
     "output_type": "execute_result"
    }
   ],
   "source": [
    "o0 = l1h * r\n",
    "o0"
   ]
  },
  {
   "cell_type": "markdown",
   "metadata": {},
   "source": [
    "Creo un vettore che contiene le ascisse di sinistra, togliendo l'ultimo numero (a destra) e aggiungendo il valore '0' a sinistra e lo applico a **o0**"
   ]
  },
  {
   "cell_type": "code",
   "execution_count": 35,
   "metadata": {},
   "outputs": [
    {
     "data": {
      "text/plain": [
       "array([ 8.,  9., 14., 11.,  8.])"
      ]
     },
     "execution_count": 35,
     "metadata": {},
     "output_type": "execute_result"
    }
   ],
   "source": [
    "o=o0-np.append([0],np.delete(o0,-1))\n",
    "o"
   ]
  },
  {
   "cell_type": "markdown",
   "metadata": {},
   "source": [
    "Mi aspetto 10 valori negli intervalli"
   ]
  },
  {
   "cell_type": "code",
   "execution_count": 36,
   "metadata": {},
   "outputs": [
    {
     "data": {
      "text/plain": [
       "[10.0, 10.0, 10.0, 10.0, 10.0]"
      ]
     },
     "execution_count": 36,
     "metadata": {},
     "output_type": "execute_result"
    }
   ],
   "source": [
    "e=[0.2*l1h for i in range(len(r))]\n",
    "e"
   ]
  },
  {
   "cell_type": "markdown",
   "metadata": {},
   "source": [
    "Calcolo **o-e** (observed - expected)"
   ]
  },
  {
   "cell_type": "code",
   "execution_count": 37,
   "metadata": {},
   "outputs": [
    {
     "data": {
      "text/plain": [
       "array([-2., -1.,  4.,  1., -2.])"
      ]
     },
     "execution_count": 37,
     "metadata": {},
     "output_type": "execute_result"
    }
   ],
   "source": [
    "o-e"
   ]
  },
  {
   "cell_type": "markdown",
   "metadata": {},
   "source": [
    "Elevo al quadrato"
   ]
  },
  {
   "cell_type": "code",
   "execution_count": 38,
   "metadata": {},
   "outputs": [
    {
     "data": {
      "text/plain": [
       "array([ 4.,  1., 16.,  1.,  4.])"
      ]
     },
     "execution_count": 38,
     "metadata": {},
     "output_type": "execute_result"
    }
   ],
   "source": [
    "(o-e)**2"
   ]
  },
  {
   "cell_type": "markdown",
   "metadata": {},
   "source": [
    "Divido per **e**"
   ]
  },
  {
   "cell_type": "code",
   "execution_count": 40,
   "metadata": {},
   "outputs": [
    {
     "data": {
      "text/plain": [
       "array([0.4, 0.1, 1.6, 0.1, 0.4])"
      ]
     },
     "execution_count": 40,
     "metadata": {},
     "output_type": "execute_result"
    }
   ],
   "source": [
    "(o-e)**2/e"
   ]
  },
  {
   "cell_type": "markdown",
   "metadata": {},
   "source": [
    "Faccio la somma dei valori del vettore"
   ]
  },
  {
   "cell_type": "code",
   "execution_count": 41,
   "metadata": {},
   "outputs": [
    {
     "data": {
      "text/plain": [
       "2.6000000000000045"
      ]
     },
     "execution_count": 41,
     "metadata": {},
     "output_type": "execute_result"
    }
   ],
   "source": [
    "((o-e)**2/e).sum()"
   ]
  },
  {
   "cell_type": "markdown",
   "metadata": {},
   "source": [
    "Il nostro **$$X^2 = 2.6$$**"
   ]
  },
  {
   "cell_type": "markdown",
   "metadata": {},
   "source": [
    "Automatizziamo il procedimento per ogni tempo.  \n",
    "**data** è il DataFrame dei dati importati.  \n",
    "**abs_t** è un DataFrame che contiene i valori di _a_ e _b_ per ogni valore orario (abs_m, ...).  \n",
    "**h** è il valore orario ('1h', ...).  \n",
    "**delta** è il valore dell'intervallo in cui si è divisa la probabilità (0.2)"
   ]
  },
  {
   "cell_type": "code",
   "execution_count": 48,
   "metadata": {},
   "outputs": [],
   "source": [
    "def X2(data,abs_t,h,delta):    \n",
    "    dt=data[h].dropna()\n",
    "    #print(dt)\n",
    "    lh=len(dt)\n",
    "    #print(\"lh: \",lh)\n",
    "    q=[delta*(i+1) for i in range(int(1/delta))]\n",
    "    #print(\"q: \",q)\n",
    "    rv=gumbel_r(loc=abs_t.at[\"a\",h],scale=abs_t.at[\"b\",h])\n",
    "    ecdf = ECDF(dt)\n",
    "    r=ecdf(rv.ppf(q))\n",
    "    #print(\"r: \",r)\n",
    "    o0=lh*r\n",
    "    #print(\"o0: \",o0)\n",
    "    o=o0-np.append([0],np.delete(o0,-1))\n",
    "    #print(\"o: \",o)\n",
    "    e=[delta*lh for i in range(len(r))]\n",
    "    #print(\"e: \",e)\n",
    "    return ((o-e)**2/e).sum()  "
   ]
  },
  {
   "cell_type": "markdown",
   "metadata": {},
   "source": [
    "Per la durata di 1h, al variare del metodo si ottengono i valori di $X^2$ seguenti"
   ]
  },
  {
   "cell_type": "code",
   "execution_count": 45,
   "metadata": {},
   "outputs": [
    {
     "data": {
      "text/plain": [
       "2.6000000000000045"
      ]
     },
     "execution_count": 45,
     "metadata": {},
     "output_type": "execute_result"
    }
   ],
   "source": [
    "X2(data,abs_m,\"1h\",0.2)"
   ]
  },
  {
   "cell_type": "code",
   "execution_count": 46,
   "metadata": {},
   "outputs": [
    {
     "data": {
      "text/plain": [
       "0.7999999999999978"
      ]
     },
     "execution_count": 46,
     "metadata": {},
     "output_type": "execute_result"
    }
   ],
   "source": [
    "X2(data,abs_mq,\"1h\",0.2)"
   ]
  },
  {
   "cell_type": "code",
   "execution_count": 49,
   "metadata": {},
   "outputs": [
    {
     "data": {
      "text/plain": [
       "1.8000000000000023"
      ]
     },
     "execution_count": 49,
     "metadata": {},
     "output_type": "execute_result"
    }
   ],
   "source": [
    "X2(data,abs_mle,\"1h\",0.2)"
   ]
  },
  {
   "cell_type": "markdown",
   "metadata": {},
   "source": [
    "Generalizzando per ogni _h_, usando un ciclo for"
   ]
  },
  {
   "cell_type": "code",
   "execution_count": 50,
   "metadata": {},
   "outputs": [
    {
     "name": "stdout",
     "output_type": "stream",
     "text": [
      "1h :  [2.6000000000000045, 0.7999999999999978, 1.8000000000000023]\n",
      "3h :  [2.2222222222222223, 6.222222222222225, 2.6666666666666665]\n",
      "6h :  [4.222222222222215, 7.1111111111111125, 3.333333333333326]\n",
      "12h :  [3.1111111111111085, 2.888888888888889, 3.7777777777777697]\n",
      "24h :  [0.6666666666666667, 2.222222222222227, 1.1111111111111112]\n"
     ]
    }
   ],
   "source": [
    "for  h in data.columns:\n",
    "    print(h,\": \",[X2(data,abs_m,h,0.2),X2(data,abs_mq,h,0.2),X2(data,abs_mle,h,0.2)])"
   ]
  },
  {
   "cell_type": "markdown",
   "metadata": {},
   "source": [
    "I valori ricercati sono quelli più **bassi**, per ogni durata."
   ]
  },
  {
   "cell_type": "markdown",
   "metadata": {},
   "source": [
    "Costruiamo un DataFrame con i parametri appena trovati, usando un ciclo for.  \n",
    "Inizializziamo il vettore _a_ nullo.  \n",
    "Per ogni _h_ creo il vettore _a_ che poi immagazzino in un DataFrame, indicando gli indici e le colonne"
   ]
  },
  {
   "cell_type": "code",
   "execution_count": 51,
   "metadata": {},
   "outputs": [
    {
     "data": {
      "text/html": [
       "<div>\n",
       "<style scoped>\n",
       "    .dataframe tbody tr th:only-of-type {\n",
       "        vertical-align: middle;\n",
       "    }\n",
       "\n",
       "    .dataframe tbody tr th {\n",
       "        vertical-align: top;\n",
       "    }\n",
       "\n",
       "    .dataframe thead th {\n",
       "        text-align: right;\n",
       "    }\n",
       "</style>\n",
       "<table border=\"1\" class=\"dataframe\">\n",
       "  <thead>\n",
       "    <tr style=\"text-align: right;\">\n",
       "      <th></th>\n",
       "      <th>M</th>\n",
       "      <th>Mq</th>\n",
       "      <th>MLE</th>\n",
       "    </tr>\n",
       "  </thead>\n",
       "  <tbody>\n",
       "    <tr>\n",
       "      <th>1h</th>\n",
       "      <td>2.600000</td>\n",
       "      <td>0.800000</td>\n",
       "      <td>1.800000</td>\n",
       "    </tr>\n",
       "    <tr>\n",
       "      <th>3h</th>\n",
       "      <td>2.222222</td>\n",
       "      <td>6.222222</td>\n",
       "      <td>2.666667</td>\n",
       "    </tr>\n",
       "    <tr>\n",
       "      <th>6h</th>\n",
       "      <td>4.222222</td>\n",
       "      <td>7.111111</td>\n",
       "      <td>3.333333</td>\n",
       "    </tr>\n",
       "    <tr>\n",
       "      <th>12h</th>\n",
       "      <td>3.111111</td>\n",
       "      <td>2.888889</td>\n",
       "      <td>3.777778</td>\n",
       "    </tr>\n",
       "    <tr>\n",
       "      <th>24h</th>\n",
       "      <td>0.666667</td>\n",
       "      <td>2.222222</td>\n",
       "      <td>1.111111</td>\n",
       "    </tr>\n",
       "  </tbody>\n",
       "</table>\n",
       "</div>"
      ],
      "text/plain": [
       "            M        Mq       MLE\n",
       "1h   2.600000  0.800000  1.800000\n",
       "3h   2.222222  6.222222  2.666667\n",
       "6h   4.222222  7.111111  3.333333\n",
       "12h  3.111111  2.888889  3.777778\n",
       "24h  0.666667  2.222222  1.111111"
      ]
     },
     "execution_count": 51,
     "metadata": {},
     "output_type": "execute_result"
    }
   ],
   "source": [
    "a=[]\n",
    "for  h in data.columns:\n",
    "    a=a+[[X2(data,abs_m,h,0.2),X2(data,abs_mq,h,0.2),X2(data,abs_mle,h,0.2)]]\n",
    "   \n",
    "pd.DataFrame(a,index=[\"1h\",\"3h\",\"6h\",\"12h\",\"24h\"],columns=[\"M\",\"Mq\",\"MLE\"])"
   ]
  },
  {
   "cell_type": "markdown",
   "metadata": {},
   "source": [
    "Scelgo i dati migliori del DataFrame e li inserisco nel DataFrame **best** salvandolo in un file\n"
   ]
  },
  {
   "cell_type": "code",
   "execution_count": 54,
   "metadata": {},
   "outputs": [
    {
     "data": {
      "text/html": [
       "<div>\n",
       "<style scoped>\n",
       "    .dataframe tbody tr th:only-of-type {\n",
       "        vertical-align: middle;\n",
       "    }\n",
       "\n",
       "    .dataframe tbody tr th {\n",
       "        vertical-align: top;\n",
       "    }\n",
       "\n",
       "    .dataframe thead th {\n",
       "        text-align: right;\n",
       "    }\n",
       "</style>\n",
       "<table border=\"1\" class=\"dataframe\">\n",
       "  <thead>\n",
       "    <tr style=\"text-align: right;\">\n",
       "      <th></th>\n",
       "      <th>1h</th>\n",
       "      <th>3h</th>\n",
       "      <th>6h</th>\n",
       "      <th>12h</th>\n",
       "      <th>24h</th>\n",
       "    </tr>\n",
       "  </thead>\n",
       "  <tbody>\n",
       "    <tr>\n",
       "      <th>a</th>\n",
       "      <td>31.740980</td>\n",
       "      <td>39.187045</td>\n",
       "      <td>48.100316</td>\n",
       "      <td>61.722077</td>\n",
       "      <td>75.683743</td>\n",
       "    </tr>\n",
       "    <tr>\n",
       "      <th>b</th>\n",
       "      <td>8.003627</td>\n",
       "      <td>10.694365</td>\n",
       "      <td>12.398915</td>\n",
       "      <td>25.040576</td>\n",
       "      <td>23.986088</td>\n",
       "    </tr>\n",
       "  </tbody>\n",
       "</table>\n",
       "</div>"
      ],
      "text/plain": [
       "          1h         3h         6h        12h        24h\n",
       "a  31.740980  39.187045  48.100316  61.722077  75.683743\n",
       "b   8.003627  10.694365  12.398915  25.040576  23.986088"
      ]
     },
     "execution_count": 54,
     "metadata": {},
     "output_type": "execute_result"
    }
   ],
   "source": [
    "best=DataFrame([abs_mq[\"1h\"],\n",
    "                abs_m[\"3h\"],\n",
    "                abs_mle[\"6h\"],\n",
    "                abs_mq[\"12h\"],\n",
    "                abs_m[\"24h\"]]).T\n",
    "                  \n",
    "best"
   ]
  },
  {
   "cell_type": "code",
   "execution_count": 55,
   "metadata": {},
   "outputs": [],
   "source": [
    "best.to_pickle('best_param')"
   ]
  },
  {
   "cell_type": "markdown",
   "metadata": {},
   "source": [
    "### Plot"
   ]
  },
  {
   "cell_type": "code",
   "execution_count": 56,
   "metadata": {},
   "outputs": [],
   "source": [
    "from scipy.stats import genextreme,gumbel_r\n",
    "from numpy import linspace\n",
    "from statsmodels.distributions.empirical_distribution import ECDF\n",
    "def gumbel(x,abs_d,col):\n",
    "    return np.exp(-np.exp(-(x-abs_d[col][\"a\"])/abs_d[col][\"b\"]))\n",
    "t_rain=np.linspace(data.min()[0],data.max()[4],100)"
   ]
  },
  {
   "cell_type": "code",
   "execution_count": 57,
   "metadata": {},
   "outputs": [
    {
     "data": {
      "text/html": [
       "<div>\n",
       "<style scoped>\n",
       "    .dataframe tbody tr th:only-of-type {\n",
       "        vertical-align: middle;\n",
       "    }\n",
       "\n",
       "    .dataframe tbody tr th {\n",
       "        vertical-align: top;\n",
       "    }\n",
       "\n",
       "    .dataframe thead th {\n",
       "        text-align: right;\n",
       "    }\n",
       "</style>\n",
       "<table border=\"1\" class=\"dataframe\">\n",
       "  <thead>\n",
       "    <tr style=\"text-align: right;\">\n",
       "      <th></th>\n",
       "      <th>1h</th>\n",
       "      <th>3h</th>\n",
       "      <th>6h</th>\n",
       "      <th>12h</th>\n",
       "      <th>24</th>\n",
       "    </tr>\n",
       "  </thead>\n",
       "  <tbody>\n",
       "    <tr>\n",
       "      <th>19.600000</th>\n",
       "      <td>0.010481</td>\n",
       "      <td>0.001943</td>\n",
       "      <td>0.000047</td>\n",
       "      <td>0.004621</td>\n",
       "      <td>0.000032</td>\n",
       "    </tr>\n",
       "    <tr>\n",
       "      <th>21.113131</th>\n",
       "      <td>0.022982</td>\n",
       "      <td>0.004428</td>\n",
       "      <td>0.000148</td>\n",
       "      <td>0.006334</td>\n",
       "      <td>0.000060</td>\n",
       "    </tr>\n",
       "    <tr>\n",
       "      <th>22.626263</th>\n",
       "      <td>0.044021</td>\n",
       "      <td>0.009053</td>\n",
       "      <td>0.000408</td>\n",
       "      <td>0.008523</td>\n",
       "      <td>0.000108</td>\n",
       "    </tr>\n",
       "    <tr>\n",
       "      <th>24.139394</th>\n",
       "      <td>0.075388</td>\n",
       "      <td>0.016841</td>\n",
       "      <td>0.001001</td>\n",
       "      <td>0.011270</td>\n",
       "      <td>0.000189</td>\n",
       "    </tr>\n",
       "    <tr>\n",
       "      <th>25.652525</th>\n",
       "      <td>0.117678</td>\n",
       "      <td>0.028865</td>\n",
       "      <td>0.002213</td>\n",
       "      <td>0.014661</td>\n",
       "      <td>0.000319</td>\n",
       "    </tr>\n",
       "    <tr>\n",
       "      <th>27.165657</th>\n",
       "      <td>0.170129</td>\n",
       "      <td>0.046079</td>\n",
       "      <td>0.004467</td>\n",
       "      <td>0.018780</td>\n",
       "      <td>0.000521</td>\n",
       "    </tr>\n",
       "    <tr>\n",
       "      <th>28.678788</th>\n",
       "      <td>0.230826</td>\n",
       "      <td>0.069156</td>\n",
       "      <td>0.008318</td>\n",
       "      <td>0.023709</td>\n",
       "      <td>0.000828</td>\n",
       "    </tr>\n",
       "    <tr>\n",
       "      <th>30.191919</th>\n",
       "      <td>0.297142</td>\n",
       "      <td>0.098378</td>\n",
       "      <td>0.014421</td>\n",
       "      <td>0.029526</td>\n",
       "      <td>0.001277</td>\n",
       "    </tr>\n",
       "    <tr>\n",
       "      <th>31.705051</th>\n",
       "      <td>0.366228</td>\n",
       "      <td>0.133589</td>\n",
       "      <td>0.023469</td>\n",
       "      <td>0.036301</td>\n",
       "      <td>0.001919</td>\n",
       "    </tr>\n",
       "    <tr>\n",
       "      <th>33.218182</th>\n",
       "      <td>0.435411</td>\n",
       "      <td>0.174226</td>\n",
       "      <td>0.036115</td>\n",
       "      <td>0.044092</td>\n",
       "      <td>0.002813</td>\n",
       "    </tr>\n",
       "    <tr>\n",
       "      <th>34.731313</th>\n",
       "      <td>0.502461</td>\n",
       "      <td>0.219400</td>\n",
       "      <td>0.052892</td>\n",
       "      <td>0.052948</td>\n",
       "      <td>0.004029</td>\n",
       "    </tr>\n",
       "    <tr>\n",
       "      <th>36.244444</th>\n",
       "      <td>0.565706</td>\n",
       "      <td>0.268009</td>\n",
       "      <td>0.074140</td>\n",
       "      <td>0.062904</td>\n",
       "      <td>0.005644</td>\n",
       "    </tr>\n",
       "    <tr>\n",
       "      <th>37.757576</th>\n",
       "      <td>0.624035</td>\n",
       "      <td>0.318858</td>\n",
       "      <td>0.099969</td>\n",
       "      <td>0.073981</td>\n",
       "      <td>0.007745</td>\n",
       "    </tr>\n",
       "    <tr>\n",
       "      <th>39.270707</th>\n",
       "      <td>0.676841</td>\n",
       "      <td>0.370757</td>\n",
       "      <td>0.130247</td>\n",
       "      <td>0.086185</td>\n",
       "      <td>0.010426</td>\n",
       "    </tr>\n",
       "    <tr>\n",
       "      <th>40.783838</th>\n",
       "      <td>0.723914</td>\n",
       "      <td>0.422612</td>\n",
       "      <td>0.164614</td>\n",
       "      <td>0.099508</td>\n",
       "      <td>0.013780</td>\n",
       "    </tr>\n",
       "    <tr>\n",
       "      <th>42.296970</th>\n",
       "      <td>0.765345</td>\n",
       "      <td>0.473471</td>\n",
       "      <td>0.202527</td>\n",
       "      <td>0.113926</td>\n",
       "      <td>0.017907</td>\n",
       "    </tr>\n",
       "    <tr>\n",
       "      <th>43.810101</th>\n",
       "      <td>0.801427</td>\n",
       "      <td>0.522557</td>\n",
       "      <td>0.243309</td>\n",
       "      <td>0.129401</td>\n",
       "      <td>0.022899</td>\n",
       "    </tr>\n",
       "    <tr>\n",
       "      <th>45.323232</th>\n",
       "      <td>0.832576</td>\n",
       "      <td>0.569274</td>\n",
       "      <td>0.286206</td>\n",
       "      <td>0.145886</td>\n",
       "      <td>0.028846</td>\n",
       "    </tr>\n",
       "    <tr>\n",
       "      <th>46.836364</th>\n",
       "      <td>0.859274</td>\n",
       "      <td>0.613201</td>\n",
       "      <td>0.330444</td>\n",
       "      <td>0.163318</td>\n",
       "      <td>0.035829</td>\n",
       "    </tr>\n",
       "    <tr>\n",
       "      <th>48.349495</th>\n",
       "      <td>0.882020</td>\n",
       "      <td>0.654072</td>\n",
       "      <td>0.375272</td>\n",
       "      <td>0.181626</td>\n",
       "      <td>0.043916</td>\n",
       "    </tr>\n",
       "    <tr>\n",
       "      <th>49.862626</th>\n",
       "      <td>0.901302</td>\n",
       "      <td>0.691753</td>\n",
       "      <td>0.419998</td>\n",
       "      <td>0.200733</td>\n",
       "      <td>0.053162</td>\n",
       "    </tr>\n",
       "    <tr>\n",
       "      <th>51.375758</th>\n",
       "      <td>0.917581</td>\n",
       "      <td>0.726218</td>\n",
       "      <td>0.464013</td>\n",
       "      <td>0.220552</td>\n",
       "      <td>0.063609</td>\n",
       "    </tr>\n",
       "    <tr>\n",
       "      <th>52.888889</th>\n",
       "      <td>0.931277</td>\n",
       "      <td>0.757526</td>\n",
       "      <td>0.506805</td>\n",
       "      <td>0.240994</td>\n",
       "      <td>0.075277</td>\n",
       "    </tr>\n",
       "    <tr>\n",
       "      <th>54.402020</th>\n",
       "      <td>0.942770</td>\n",
       "      <td>0.785795</td>\n",
       "      <td>0.547962</td>\n",
       "      <td>0.261966</td>\n",
       "      <td>0.088173</td>\n",
       "    </tr>\n",
       "    <tr>\n",
       "      <th>55.915152</th>\n",
       "      <td>0.952389</td>\n",
       "      <td>0.811188</td>\n",
       "      <td>0.587170</td>\n",
       "      <td>0.283372</td>\n",
       "      <td>0.102286</td>\n",
       "    </tr>\n",
       "    <tr>\n",
       "      <th>57.428283</th>\n",
       "      <td>0.960426</td>\n",
       "      <td>0.833895</td>\n",
       "      <td>0.624208</td>\n",
       "      <td>0.305119</td>\n",
       "      <td>0.117584</td>\n",
       "    </tr>\n",
       "    <tr>\n",
       "      <th>58.941414</th>\n",
       "      <td>0.967129</td>\n",
       "      <td>0.854121</td>\n",
       "      <td>0.658936</td>\n",
       "      <td>0.327114</td>\n",
       "      <td>0.134025</td>\n",
       "    </tr>\n",
       "    <tr>\n",
       "      <th>60.454545</th>\n",
       "      <td>0.972714</td>\n",
       "      <td>0.872076</td>\n",
       "      <td>0.691282</td>\n",
       "      <td>0.349266</td>\n",
       "      <td>0.151546</td>\n",
       "    </tr>\n",
       "    <tr>\n",
       "      <th>61.967677</th>\n",
       "      <td>0.977360</td>\n",
       "      <td>0.887968</td>\n",
       "      <td>0.721234</td>\n",
       "      <td>0.371488</td>\n",
       "      <td>0.170075</td>\n",
       "    </tr>\n",
       "    <tr>\n",
       "      <th>63.480808</th>\n",
       "      <td>0.981223</td>\n",
       "      <td>0.901998</td>\n",
       "      <td>0.748826</td>\n",
       "      <td>0.393697</td>\n",
       "      <td>0.189529</td>\n",
       "    </tr>\n",
       "    <tr>\n",
       "      <th>...</th>\n",
       "      <td>...</td>\n",
       "      <td>...</td>\n",
       "      <td>...</td>\n",
       "      <td>...</td>\n",
       "      <td>...</td>\n",
       "    </tr>\n",
       "    <tr>\n",
       "      <th>125.519192</th>\n",
       "      <td>0.999992</td>\n",
       "      <td>0.999688</td>\n",
       "      <td>0.998060</td>\n",
       "      <td>0.924726</td>\n",
       "      <td>0.882303</td>\n",
       "    </tr>\n",
       "    <tr>\n",
       "      <th>127.032323</th>\n",
       "      <td>0.999993</td>\n",
       "      <td>0.999729</td>\n",
       "      <td>0.998283</td>\n",
       "      <td>0.928979</td>\n",
       "      <td>0.889083</td>\n",
       "    </tr>\n",
       "    <tr>\n",
       "      <th>128.545455</th>\n",
       "      <td>0.999994</td>\n",
       "      <td>0.999765</td>\n",
       "      <td>0.998480</td>\n",
       "      <td>0.933001</td>\n",
       "      <td>0.895496</td>\n",
       "    </tr>\n",
       "    <tr>\n",
       "      <th>130.058586</th>\n",
       "      <td>0.999995</td>\n",
       "      <td>0.999796</td>\n",
       "      <td>0.998654</td>\n",
       "      <td>0.936803</td>\n",
       "      <td>0.901559</td>\n",
       "    </tr>\n",
       "    <tr>\n",
       "      <th>131.571717</th>\n",
       "      <td>0.999996</td>\n",
       "      <td>0.999823</td>\n",
       "      <td>0.998809</td>\n",
       "      <td>0.940396</td>\n",
       "      <td>0.907289</td>\n",
       "    </tr>\n",
       "    <tr>\n",
       "      <th>133.084848</th>\n",
       "      <td>0.999997</td>\n",
       "      <td>0.999846</td>\n",
       "      <td>0.998946</td>\n",
       "      <td>0.943791</td>\n",
       "      <td>0.912702</td>\n",
       "    </tr>\n",
       "    <tr>\n",
       "      <th>134.597980</th>\n",
       "      <td>0.999997</td>\n",
       "      <td>0.999867</td>\n",
       "      <td>0.999067</td>\n",
       "      <td>0.946998</td>\n",
       "      <td>0.917813</td>\n",
       "    </tr>\n",
       "    <tr>\n",
       "      <th>136.111111</th>\n",
       "      <td>0.999998</td>\n",
       "      <td>0.999884</td>\n",
       "      <td>0.999174</td>\n",
       "      <td>0.950027</td>\n",
       "      <td>0.922638</td>\n",
       "    </tr>\n",
       "    <tr>\n",
       "      <th>137.624242</th>\n",
       "      <td>0.999998</td>\n",
       "      <td>0.999899</td>\n",
       "      <td>0.999269</td>\n",
       "      <td>0.952887</td>\n",
       "      <td>0.927191</td>\n",
       "    </tr>\n",
       "    <tr>\n",
       "      <th>139.137374</th>\n",
       "      <td>0.999999</td>\n",
       "      <td>0.999913</td>\n",
       "      <td>0.999353</td>\n",
       "      <td>0.955587</td>\n",
       "      <td>0.931486</td>\n",
       "    </tr>\n",
       "    <tr>\n",
       "      <th>140.650505</th>\n",
       "      <td>0.999999</td>\n",
       "      <td>0.999924</td>\n",
       "      <td>0.999427</td>\n",
       "      <td>0.958136</td>\n",
       "      <td>0.935536</td>\n",
       "    </tr>\n",
       "    <tr>\n",
       "      <th>142.163636</th>\n",
       "      <td>0.999999</td>\n",
       "      <td>0.999934</td>\n",
       "      <td>0.999493</td>\n",
       "      <td>0.960542</td>\n",
       "      <td>0.939355</td>\n",
       "    </tr>\n",
       "    <tr>\n",
       "      <th>143.676768</th>\n",
       "      <td>0.999999</td>\n",
       "      <td>0.999943</td>\n",
       "      <td>0.999551</td>\n",
       "      <td>0.962812</td>\n",
       "      <td>0.942955</td>\n",
       "    </tr>\n",
       "    <tr>\n",
       "      <th>145.189899</th>\n",
       "      <td>0.999999</td>\n",
       "      <td>0.999950</td>\n",
       "      <td>0.999603</td>\n",
       "      <td>0.964954</td>\n",
       "      <td>0.946347</td>\n",
       "    </tr>\n",
       "    <tr>\n",
       "      <th>146.703030</th>\n",
       "      <td>0.999999</td>\n",
       "      <td>0.999957</td>\n",
       "      <td>0.999648</td>\n",
       "      <td>0.966974</td>\n",
       "      <td>0.949543</td>\n",
       "    </tr>\n",
       "    <tr>\n",
       "      <th>148.216162</th>\n",
       "      <td>1.000000</td>\n",
       "      <td>0.999963</td>\n",
       "      <td>0.999689</td>\n",
       "      <td>0.968881</td>\n",
       "      <td>0.952553</td>\n",
       "    </tr>\n",
       "    <tr>\n",
       "      <th>149.729293</th>\n",
       "      <td>1.000000</td>\n",
       "      <td>0.999968</td>\n",
       "      <td>0.999724</td>\n",
       "      <td>0.970678</td>\n",
       "      <td>0.955388</td>\n",
       "    </tr>\n",
       "    <tr>\n",
       "      <th>151.242424</th>\n",
       "      <td>1.000000</td>\n",
       "      <td>0.999972</td>\n",
       "      <td>0.999756</td>\n",
       "      <td>0.972374</td>\n",
       "      <td>0.958057</td>\n",
       "    </tr>\n",
       "    <tr>\n",
       "      <th>152.755556</th>\n",
       "      <td>1.000000</td>\n",
       "      <td>0.999976</td>\n",
       "      <td>0.999784</td>\n",
       "      <td>0.973972</td>\n",
       "      <td>0.960570</td>\n",
       "    </tr>\n",
       "    <tr>\n",
       "      <th>154.268687</th>\n",
       "      <td>1.000000</td>\n",
       "      <td>0.999979</td>\n",
       "      <td>0.999809</td>\n",
       "      <td>0.975480</td>\n",
       "      <td>0.962936</td>\n",
       "    </tr>\n",
       "    <tr>\n",
       "      <th>155.781818</th>\n",
       "      <td>1.000000</td>\n",
       "      <td>0.999982</td>\n",
       "      <td>0.999831</td>\n",
       "      <td>0.976901</td>\n",
       "      <td>0.965162</td>\n",
       "    </tr>\n",
       "    <tr>\n",
       "      <th>157.294949</th>\n",
       "      <td>1.000000</td>\n",
       "      <td>0.999984</td>\n",
       "      <td>0.999850</td>\n",
       "      <td>0.978240</td>\n",
       "      <td>0.967256</td>\n",
       "    </tr>\n",
       "    <tr>\n",
       "      <th>158.808081</th>\n",
       "      <td>1.000000</td>\n",
       "      <td>0.999986</td>\n",
       "      <td>0.999867</td>\n",
       "      <td>0.979503</td>\n",
       "      <td>0.969227</td>\n",
       "    </tr>\n",
       "    <tr>\n",
       "      <th>160.321212</th>\n",
       "      <td>1.000000</td>\n",
       "      <td>0.999988</td>\n",
       "      <td>0.999883</td>\n",
       "      <td>0.980693</td>\n",
       "      <td>0.971081</td>\n",
       "    </tr>\n",
       "    <tr>\n",
       "      <th>161.834343</th>\n",
       "      <td>1.000000</td>\n",
       "      <td>0.999990</td>\n",
       "      <td>0.999896</td>\n",
       "      <td>0.981815</td>\n",
       "      <td>0.972824</td>\n",
       "    </tr>\n",
       "    <tr>\n",
       "      <th>163.347475</th>\n",
       "      <td>1.000000</td>\n",
       "      <td>0.999991</td>\n",
       "      <td>0.999908</td>\n",
       "      <td>0.982872</td>\n",
       "      <td>0.974464</td>\n",
       "    </tr>\n",
       "    <tr>\n",
       "      <th>164.860606</th>\n",
       "      <td>1.000000</td>\n",
       "      <td>0.999992</td>\n",
       "      <td>0.999919</td>\n",
       "      <td>0.983868</td>\n",
       "      <td>0.976007</td>\n",
       "    </tr>\n",
       "    <tr>\n",
       "      <th>166.373737</th>\n",
       "      <td>1.000000</td>\n",
       "      <td>0.999993</td>\n",
       "      <td>0.999928</td>\n",
       "      <td>0.984807</td>\n",
       "      <td>0.977457</td>\n",
       "    </tr>\n",
       "    <tr>\n",
       "      <th>167.886869</th>\n",
       "      <td>1.000000</td>\n",
       "      <td>0.999994</td>\n",
       "      <td>0.999936</td>\n",
       "      <td>0.985692</td>\n",
       "      <td>0.978820</td>\n",
       "    </tr>\n",
       "    <tr>\n",
       "      <th>169.400000</th>\n",
       "      <td>1.000000</td>\n",
       "      <td>0.999995</td>\n",
       "      <td>0.999944</td>\n",
       "      <td>0.986525</td>\n",
       "      <td>0.980102</td>\n",
       "    </tr>\n",
       "  </tbody>\n",
       "</table>\n",
       "<p>100 rows × 5 columns</p>\n",
       "</div>"
      ],
      "text/plain": [
       "                  1h        3h        6h       12h        24\n",
       "19.600000   0.010481  0.001943  0.000047  0.004621  0.000032\n",
       "21.113131   0.022982  0.004428  0.000148  0.006334  0.000060\n",
       "22.626263   0.044021  0.009053  0.000408  0.008523  0.000108\n",
       "24.139394   0.075388  0.016841  0.001001  0.011270  0.000189\n",
       "25.652525   0.117678  0.028865  0.002213  0.014661  0.000319\n",
       "27.165657   0.170129  0.046079  0.004467  0.018780  0.000521\n",
       "28.678788   0.230826  0.069156  0.008318  0.023709  0.000828\n",
       "30.191919   0.297142  0.098378  0.014421  0.029526  0.001277\n",
       "31.705051   0.366228  0.133589  0.023469  0.036301  0.001919\n",
       "33.218182   0.435411  0.174226  0.036115  0.044092  0.002813\n",
       "34.731313   0.502461  0.219400  0.052892  0.052948  0.004029\n",
       "36.244444   0.565706  0.268009  0.074140  0.062904  0.005644\n",
       "37.757576   0.624035  0.318858  0.099969  0.073981  0.007745\n",
       "39.270707   0.676841  0.370757  0.130247  0.086185  0.010426\n",
       "40.783838   0.723914  0.422612  0.164614  0.099508  0.013780\n",
       "42.296970   0.765345  0.473471  0.202527  0.113926  0.017907\n",
       "43.810101   0.801427  0.522557  0.243309  0.129401  0.022899\n",
       "45.323232   0.832576  0.569274  0.286206  0.145886  0.028846\n",
       "46.836364   0.859274  0.613201  0.330444  0.163318  0.035829\n",
       "48.349495   0.882020  0.654072  0.375272  0.181626  0.043916\n",
       "49.862626   0.901302  0.691753  0.419998  0.200733  0.053162\n",
       "51.375758   0.917581  0.726218  0.464013  0.220552  0.063609\n",
       "52.888889   0.931277  0.757526  0.506805  0.240994  0.075277\n",
       "54.402020   0.942770  0.785795  0.547962  0.261966  0.088173\n",
       "55.915152   0.952389  0.811188  0.587170  0.283372  0.102286\n",
       "57.428283   0.960426  0.833895  0.624208  0.305119  0.117584\n",
       "58.941414   0.967129  0.854121  0.658936  0.327114  0.134025\n",
       "60.454545   0.972714  0.872076  0.691282  0.349266  0.151546\n",
       "61.967677   0.977360  0.887968  0.721234  0.371488  0.170075\n",
       "63.480808   0.981223  0.901998  0.748826  0.393697  0.189529\n",
       "...              ...       ...       ...       ...       ...\n",
       "125.519192  0.999992  0.999688  0.998060  0.924726  0.882303\n",
       "127.032323  0.999993  0.999729  0.998283  0.928979  0.889083\n",
       "128.545455  0.999994  0.999765  0.998480  0.933001  0.895496\n",
       "130.058586  0.999995  0.999796  0.998654  0.936803  0.901559\n",
       "131.571717  0.999996  0.999823  0.998809  0.940396  0.907289\n",
       "133.084848  0.999997  0.999846  0.998946  0.943791  0.912702\n",
       "134.597980  0.999997  0.999867  0.999067  0.946998  0.917813\n",
       "136.111111  0.999998  0.999884  0.999174  0.950027  0.922638\n",
       "137.624242  0.999998  0.999899  0.999269  0.952887  0.927191\n",
       "139.137374  0.999999  0.999913  0.999353  0.955587  0.931486\n",
       "140.650505  0.999999  0.999924  0.999427  0.958136  0.935536\n",
       "142.163636  0.999999  0.999934  0.999493  0.960542  0.939355\n",
       "143.676768  0.999999  0.999943  0.999551  0.962812  0.942955\n",
       "145.189899  0.999999  0.999950  0.999603  0.964954  0.946347\n",
       "146.703030  0.999999  0.999957  0.999648  0.966974  0.949543\n",
       "148.216162  1.000000  0.999963  0.999689  0.968881  0.952553\n",
       "149.729293  1.000000  0.999968  0.999724  0.970678  0.955388\n",
       "151.242424  1.000000  0.999972  0.999756  0.972374  0.958057\n",
       "152.755556  1.000000  0.999976  0.999784  0.973972  0.960570\n",
       "154.268687  1.000000  0.999979  0.999809  0.975480  0.962936\n",
       "155.781818  1.000000  0.999982  0.999831  0.976901  0.965162\n",
       "157.294949  1.000000  0.999984  0.999850  0.978240  0.967256\n",
       "158.808081  1.000000  0.999986  0.999867  0.979503  0.969227\n",
       "160.321212  1.000000  0.999988  0.999883  0.980693  0.971081\n",
       "161.834343  1.000000  0.999990  0.999896  0.981815  0.972824\n",
       "163.347475  1.000000  0.999991  0.999908  0.982872  0.974464\n",
       "164.860606  1.000000  0.999992  0.999919  0.983868  0.976007\n",
       "166.373737  1.000000  0.999993  0.999928  0.984807  0.977457\n",
       "167.886869  1.000000  0.999994  0.999936  0.985692  0.978820\n",
       "169.400000  1.000000  0.999995  0.999944  0.986525  0.980102\n",
       "\n",
       "[100 rows x 5 columns]"
      ]
     },
     "execution_count": 57,
     "metadata": {},
     "output_type": "execute_result"
    }
   ],
   "source": [
    "gb=pd.DataFrame([gumbel(t_rain,best,\"1h\"),\n",
    "                 gumbel(t_rain,best,\"3h\"),\n",
    "                 gumbel(t_rain,best,\"6h\"),\n",
    "                 gumbel(t_rain,best,\"12h\"),\n",
    "                 gumbel(t_rain,best,\"24h\")]).T\n",
    "gb.index=t_rain\n",
    "gb.columns=[\"1h\",\"3h\",\"6h\",\"12h\",\"24\"]\n",
    "gb[-5:]"
   ]
  },
  {
   "cell_type": "code",
   "execution_count": 58,
   "metadata": {},
   "outputs": [
    {
     "data": {
      "text/plain": [
       "Text(0, 0.5, 'P[H<h]')"
      ]
     },
     "execution_count": 58,
     "metadata": {},
     "output_type": "execute_result"
    },
    {
     "data": {
      "image/png": "[encoded data removed]",
      "text/plain": [
       "<Figure size 432x288 with 1 Axes>"
      ]
     },
     "metadata": {
      "needs_background": "light"
     },
     "output_type": "display_data"
    }
   ],
   "source": [
    "plt.rc('xtick', labelsize=20) #Quest  comandi globali\n",
    "plt.rc('ytick', labelsize=20) #Questi sono comandi globali\n",
    "ax=gb.plot(color=[\"red\",\"blue\",\"cyan\",\"green\",\"black\"])\n",
    "ecdf1h = ECDF(data[\"1h\"])\n",
    "ax.plot(data[\"1h\"],ecdf1h(data[\"1h\"]),'o',c=\"red\")\n",
    "data3h=data[\"3h\"].dropna()\n",
    "ecdf3h = ECDF(data3h)\n",
    "ax.plot(data3h,ecdf3h(data3h),\"o\",c=\"blue\")\n",
    "data6h=data[\"6h\"].dropna()\n",
    "ecdf6h = ECDF(data6h)\n",
    "ax.plot(data6h,ecdf6h(data6h),\"o\",c=\"cyan\")\n",
    "data12h=data[\"12h\"].dropna()\n",
    "ecdf12h = ECDF(data12h)\n",
    "ax.plot(data12h,ecdf12h(data12h),\"o\",c=\"green\")\n",
    "data24h=data[\"24h\"].dropna()\n",
    "ecdf24h = ECDF(data24h)\n",
    "ax.plot(data24h,ecdf24h(data24h),\"o\",c=\"black\")\n",
    "ax.set_title('Lssp 1h')\n",
    "ax.set_xlabel('Rainfall (mm)')\n",
    "ax.set_ylabel('P[H<h]')"
   ]
  },
  {
   "cell_type": "markdown",
   "metadata": {},
   "source": [
    "I parametri delle 5 curve di Gumbel derivano dai migliori metodi!"
   ]
  },
  {
   "cell_type": "code",
   "execution_count": null,
   "metadata": {},
   "outputs": [],
   "source": []
  }
 ],
 "metadata": {
  "kernelspec": {
   "display_name": "Python 3",
   "language": "python",
   "name": "python3"
  },
  "language_info": {
   "codemirror_mode": {
    "name": "ipython",
    "version": 3
   },
   "file_extension": ".py",
   "mimetype": "text/x-python",
   "name": "python",
   "nbconvert_exporter": "python",
   "pygments_lexer": "ipython3",
   "version": "3.7.1"
  }
 },
 "nbformat": 4,
 "nbformat_minor": 2
}
