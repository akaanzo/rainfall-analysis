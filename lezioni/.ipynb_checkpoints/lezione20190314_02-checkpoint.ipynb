{
 "cells": [
  {
   "cell_type": "markdown",
   "metadata": {},
   "source": [
    "# Lezione 2019-03-14 \\ 02"
   ]
  },
  {
   "cell_type": "markdown",
   "metadata": {},
   "source": [
    "## Metodo dei momenti"
   ]
  },
  {
   "cell_type": "markdown",
   "metadata": {},
   "source": [
    "2019-03-14 - Matteo Franzoi"
   ]
  },
  {
   "cell_type": "markdown",
   "metadata": {},
   "source": [
    "---"
   ]
  },
  {
   "cell_type": "code",
   "execution_count": 3,
   "metadata": {},
   "outputs": [],
   "source": [
    "import os\n",
    "import math\n",
    "from pandas import *\n",
    "import pandas as pd\n",
    "from datetime import datetime\n",
    "import matplotlib.pyplot as plt\n",
    "%matplotlib inline"
   ]
  },
  {
   "cell_type": "code",
   "execution_count": 4,
   "metadata": {},
   "outputs": [
    {
     "data": {
      "text/plain": [
       "'/media/Dati/jupyter/lezioni'"
      ]
     },
     "execution_count": 4,
     "metadata": {},
     "output_type": "execute_result"
    }
   ],
   "source": [
    "os.getcwd()"
   ]
  },
  {
   "cell_type": "code",
   "execution_count": 5,
   "metadata": {},
   "outputs": [
    {
     "data": {
      "text/html": [
       "<div>\n",
       "<style scoped>\n",
       "    .dataframe tbody tr th:only-of-type {\n",
       "        vertical-align: middle;\n",
       "    }\n",
       "\n",
       "    .dataframe tbody tr th {\n",
       "        vertical-align: top;\n",
       "    }\n",
       "\n",
       "    .dataframe thead th {\n",
       "        text-align: right;\n",
       "    }\n",
       "</style>\n",
       "<table border=\"1\" class=\"dataframe\">\n",
       "  <thead>\n",
       "    <tr style=\"text-align: right;\">\n",
       "      <th></th>\n",
       "      <th>1h</th>\n",
       "      <th>3h</th>\n",
       "      <th>6h</th>\n",
       "      <th>12h</th>\n",
       "      <th>24h</th>\n",
       "    </tr>\n",
       "    <tr>\n",
       "      <th>anno</th>\n",
       "      <th></th>\n",
       "      <th></th>\n",
       "      <th></th>\n",
       "      <th></th>\n",
       "      <th></th>\n",
       "    </tr>\n",
       "  </thead>\n",
       "  <tbody>\n",
       "    <tr>\n",
       "      <th>1925</th>\n",
       "      <td>50.0</td>\n",
       "      <td>NaN</td>\n",
       "      <td>NaN</td>\n",
       "      <td>NaN</td>\n",
       "      <td>NaN</td>\n",
       "    </tr>\n",
       "    <tr>\n",
       "      <th>1928</th>\n",
       "      <td>35.0</td>\n",
       "      <td>47.0</td>\n",
       "      <td>50.0</td>\n",
       "      <td>50.4</td>\n",
       "      <td>67.6</td>\n",
       "    </tr>\n",
       "    <tr>\n",
       "      <th>1929</th>\n",
       "      <td>35.4</td>\n",
       "      <td>36.4</td>\n",
       "      <td>36.4</td>\n",
       "      <td>49.6</td>\n",
       "      <td>74.0</td>\n",
       "    </tr>\n",
       "    <tr>\n",
       "      <th>1930</th>\n",
       "      <td>67.2</td>\n",
       "      <td>68.2</td>\n",
       "      <td>80.8</td>\n",
       "      <td>102.2</td>\n",
       "      <td>106.8</td>\n",
       "    </tr>\n",
       "    <tr>\n",
       "      <th>1931</th>\n",
       "      <td>25.2</td>\n",
       "      <td>NaN</td>\n",
       "      <td>NaN</td>\n",
       "      <td>NaN</td>\n",
       "      <td>NaN</td>\n",
       "    </tr>\n",
       "    <tr>\n",
       "      <th>...</th>\n",
       "      <td>...</td>\n",
       "      <td>...</td>\n",
       "      <td>...</td>\n",
       "      <td>...</td>\n",
       "      <td>...</td>\n",
       "    </tr>\n",
       "    <tr>\n",
       "      <th>1984</th>\n",
       "      <td>61.2</td>\n",
       "      <td>61.4</td>\n",
       "      <td>61.4</td>\n",
       "      <td>62.6</td>\n",
       "      <td>81.8</td>\n",
       "    </tr>\n",
       "    <tr>\n",
       "      <th>1985</th>\n",
       "      <td>23.6</td>\n",
       "      <td>35.6</td>\n",
       "      <td>44.2</td>\n",
       "      <td>58.6</td>\n",
       "      <td>69.8</td>\n",
       "    </tr>\n",
       "    <tr>\n",
       "      <th>1986</th>\n",
       "      <td>20.2</td>\n",
       "      <td>36.8</td>\n",
       "      <td>51.4</td>\n",
       "      <td>55.8</td>\n",
       "      <td>74.4</td>\n",
       "    </tr>\n",
       "    <tr>\n",
       "      <th>1987</th>\n",
       "      <td>32.6</td>\n",
       "      <td>40.6</td>\n",
       "      <td>64.6</td>\n",
       "      <td>77.2</td>\n",
       "      <td>81.2</td>\n",
       "    </tr>\n",
       "    <tr>\n",
       "      <th>1988</th>\n",
       "      <td>89.2</td>\n",
       "      <td>102.0</td>\n",
       "      <td>102.0</td>\n",
       "      <td>102.0</td>\n",
       "      <td>104.2</td>\n",
       "    </tr>\n",
       "  </tbody>\n",
       "</table>\n",
       "<p>50 rows × 5 columns</p>\n",
       "</div>"
      ],
      "text/plain": [
       "        1h     3h     6h    12h    24h\n",
       "anno                                  \n",
       "1925  50.0    NaN    NaN    NaN    NaN\n",
       "1928  35.0   47.0   50.0   50.4   67.6\n",
       "1929  35.4   36.4   36.4   49.6   74.0\n",
       "1930  67.2   68.2   80.8  102.2  106.8\n",
       "1931  25.2    NaN    NaN    NaN    NaN\n",
       "...    ...    ...    ...    ...    ...\n",
       "1984  61.2   61.4   61.4   62.6   81.8\n",
       "1985  23.6   35.6   44.2   58.6   69.8\n",
       "1986  20.2   36.8   51.4   55.8   74.4\n",
       "1987  32.6   40.6   64.6   77.2   81.2\n",
       "1988  89.2  102.0  102.0  102.0  104.2\n",
       "\n",
       "[50 rows x 5 columns]"
      ]
     },
     "execution_count": 5,
     "metadata": {},
     "output_type": "execute_result"
    }
   ],
   "source": [
    "pd.set_option(\"display.max_rows\", 10)\n",
    "data = pd.read_csv(\"PluviometriaPaperopoli_4.txt\")\n",
    "map(datetime, data['anno'])\n",
    "data = data.set_index('anno')\n",
    "data"
   ]
  },
  {
   "cell_type": "markdown",
   "metadata": {},
   "source": [
    "Voglio calcolare la media dei valori. Posso calcolarla colonna per colonna. Per le precipitazioni orarie"
   ]
  },
  {
   "cell_type": "code",
   "execution_count": 6,
   "metadata": {},
   "outputs": [
    {
     "data": {
      "text/plain": [
       "anno\n",
       "1925    50.0\n",
       "1928    35.0\n",
       "1929    35.4\n",
       "1930    67.2\n",
       "1931    25.2\n",
       "        ... \n",
       "1984    61.2\n",
       "1985    23.6\n",
       "1986    20.2\n",
       "1987    32.6\n",
       "1988    89.2\n",
       "Name: 1h, Length: 50, dtype: float64"
      ]
     },
     "execution_count": 6,
     "metadata": {},
     "output_type": "execute_result"
    }
   ],
   "source": [
    "data['1h']"
   ]
  },
  {
   "cell_type": "markdown",
   "metadata": {},
   "source": [
    "Media dei valori di 1 ora"
   ]
  },
  {
   "cell_type": "code",
   "execution_count": 7,
   "metadata": {},
   "outputs": [
    {
     "data": {
      "text/plain": [
       "36.912000000000006"
      ]
     },
     "execution_count": 7,
     "metadata": {},
     "output_type": "execute_result"
    }
   ],
   "source": [
    "np.mean(data['1h'])"
   ]
  },
  {
   "cell_type": "markdown",
   "metadata": {},
   "source": [
    "Più semplicemente, usando i pandas, restituisce il seguente dataframe **means**"
   ]
  },
  {
   "cell_type": "code",
   "execution_count": 8,
   "metadata": {},
   "outputs": [
    {
     "data": {
      "text/plain": [
       "1h     36.912000\n",
       "3h     45.360000\n",
       "6h     55.688889\n",
       "12h    71.324444\n",
       "24h    89.528889\n",
       "dtype: float64"
      ]
     },
     "execution_count": 8,
     "metadata": {},
     "output_type": "execute_result"
    }
   ],
   "source": [
    "means = np.mean(data)\n",
    "means"
   ]
  },
  {
   "cell_type": "markdown",
   "metadata": {},
   "source": [
    "Applico il comando **plot** al dataframe **means**.\n",
    "**ax** è un oggetto grafico. Disegno il reticolo sul grafico con il comando *ax.grid(True)*."
   ]
  },
  {
   "cell_type": "code",
   "execution_count": 9,
   "metadata": {},
   "outputs": [
    {
     "data": {
      "image/png": "[encoded data removed]",
      "text/plain": [
       "<Figure size 432x288 with 1 Axes>"
      ]
     },
     "metadata": {
      "needs_background": "light"
     },
     "output_type": "display_data"
    }
   ],
   "source": [
    "ax = means.plot()\n",
    "ax.grid(True)\n",
    "ax.set_title('Mean Annual Maximum hourly Precipitation')\n",
    "ax.set_xlabel('Duration [h]')\n",
    "ax.set_ylabel('Rainfall [mm]')\n",
    "ax.set_xticklabels(['1h', '3h', '6h', '12h', '24h'])\n",
    "ax.set_xticks([0,1,2,3,4])\n",
    "plt.show()"
   ]
  },
  {
   "cell_type": "markdown",
   "metadata": {},
   "source": [
    "Calcolo le varianze"
   ]
  },
  {
   "cell_type": "code",
   "execution_count": 10,
   "metadata": {},
   "outputs": [
    {
     "data": {
      "text/plain": [
       "1h     158.739853\n",
       "3h     188.130182\n",
       "6h     289.751919\n",
       "12h    551.671434\n",
       "24h    946.383919\n",
       "dtype: float64"
      ]
     },
     "execution_count": 10,
     "metadata": {},
     "output_type": "execute_result"
    }
   ],
   "source": [
    "variances = data.var()\n",
    "variances"
   ]
  },
  {
   "cell_type": "markdown",
   "metadata": {},
   "source": [
    "e le deviazioni standard"
   ]
  },
  {
   "cell_type": "code",
   "execution_count": 11,
   "metadata": {},
   "outputs": [
    {
     "data": {
      "text/plain": [
       "1h     12.599200\n",
       "3h     13.716056\n",
       "6h     17.022101\n",
       "12h    23.487687\n",
       "24h    30.763354\n",
       "dtype: float64"
      ]
     },
     "execution_count": 11,
     "metadata": {},
     "output_type": "execute_result"
    }
   ],
   "source": [
    "stds = data.std()\n",
    "stds"
   ]
  },
  {
   "cell_type": "markdown",
   "metadata": {},
   "source": [
    "Plotto le deviazioni standard"
   ]
  },
  {
   "cell_type": "code",
   "execution_count": 12,
   "metadata": {},
   "outputs": [
    {
     "data": {
      "image/png": "[encoded data removed]",
      "text/plain": [
       "<Figure size 432x288 with 1 Axes>"
      ]
     },
     "metadata": {
      "needs_background": "light"
     },
     "output_type": "display_data"
    }
   ],
   "source": [
    "ax = stds.plot()\n",
    "ax.grid(True)\n",
    "ax.set_xticklabels(['1h', '3h', '6h', '12h', '24h'])\n",
    "ax.set_xticks([0,1,2,3,4])\n",
    "ax.set_title('Standard Deviation of Maximuum Annual hourly Precipitation')\n",
    "ax.set_xlabel('Duration [h]')\n",
    "ax.set_ylabel('std [mm]')\n",
    "plt.show()"
   ]
  },
  {
   "cell_type": "markdown",
   "metadata": {},
   "source": [
    "### Sovrapporre media e deviazione standard!"
   ]
  },
  {
   "cell_type": "code",
   "execution_count": 13,
   "metadata": {},
   "outputs": [
    {
     "data": {
      "image/png": "[encoded data removed]",
      "text/plain": [
       "<Figure size 432x288 with 1 Axes>"
      ]
     },
     "metadata": {
      "needs_background": "light"
     },
     "output_type": "display_data"
    }
   ],
   "source": [
    "ax.grid(True)\n",
    "ax = means.plot(label='Mean')\n",
    "ax = stds.plot(label='Standard Deviation')\n",
    "plt.legend(loc=0)\n",
    "ax.set_xlabel('Duration [h]')\n",
    "ax.set_ylabel('Rainfall[mm]')\n",
    "ax.set_xticks([0,1,2,3,4])\n",
    "ax.set_xticklabels(['1h', '3h', '6h', '12h', '24h'])\n",
    "plt.show()"
   ]
  },
  {
   "cell_type": "markdown",
   "metadata": {},
   "source": [
    "### Soluzione del sistema di equazioni"
   ]
  },
  {
   "cell_type": "code",
   "execution_count": 14,
   "metadata": {},
   "outputs": [
    {
     "data": {
      "text/plain": [
       "0.779696801233676"
      ]
     },
     "execution_count": 14,
     "metadata": {},
     "output_type": "execute_result"
    }
   ],
   "source": [
    "gino = math.sqrt(6)/math.pi\n",
    "gino"
   ]
  },
  {
   "cell_type": "code",
   "execution_count": 15,
   "metadata": {},
   "outputs": [],
   "source": [
    "EulerGamma = 0.577215664901532860606512090"
   ]
  },
  {
   "cell_type": "code",
   "execution_count": 16,
   "metadata": {},
   "outputs": [
    {
     "data": {
      "text/plain": [
       "0.4500532075456946"
      ]
     },
     "execution_count": 16,
     "metadata": {},
     "output_type": "execute_result"
    }
   ],
   "source": [
    "gino*EulerGamma"
   ]
  },
  {
   "cell_type": "markdown",
   "metadata": {},
   "source": [
    "__m__ vettore della media.  \n",
    "**s** vettore della deviazione standard (sigma)"
   ]
  },
  {
   "cell_type": "code",
   "execution_count": 17,
   "metadata": {},
   "outputs": [],
   "source": [
    "def g(m,s):\n",
    "    return pd.DataFrame([m-gino*EulerGamma*s,gino*s],index=[\"a\",\"b\"])"
   ]
  },
  {
   "cell_type": "code",
   "execution_count": 18,
   "metadata": {},
   "outputs": [
    {
     "data": {
      "text/html": [
       "<div>\n",
       "<style scoped>\n",
       "    .dataframe tbody tr th:only-of-type {\n",
       "        vertical-align: middle;\n",
       "    }\n",
       "\n",
       "    .dataframe tbody tr th {\n",
       "        vertical-align: top;\n",
       "    }\n",
       "\n",
       "    .dataframe thead th {\n",
       "        text-align: right;\n",
       "    }\n",
       "</style>\n",
       "<table border=\"1\" class=\"dataframe\">\n",
       "  <thead>\n",
       "    <tr style=\"text-align: right;\">\n",
       "      <th></th>\n",
       "      <th>1h</th>\n",
       "      <th>3h</th>\n",
       "      <th>6h</th>\n",
       "      <th>12h</th>\n",
       "      <th>24h</th>\n",
       "    </tr>\n",
       "  </thead>\n",
       "  <tbody>\n",
       "    <tr>\n",
       "      <th>a</th>\n",
       "      <td>31.241689</td>\n",
       "      <td>39.187045</td>\n",
       "      <td>48.028038</td>\n",
       "      <td>60.753736</td>\n",
       "      <td>75.683743</td>\n",
       "    </tr>\n",
       "    <tr>\n",
       "      <th>b</th>\n",
       "      <td>9.823556</td>\n",
       "      <td>10.694365</td>\n",
       "      <td>13.272078</td>\n",
       "      <td>18.313274</td>\n",
       "      <td>23.986088</td>\n",
       "    </tr>\n",
       "  </tbody>\n",
       "</table>\n",
       "</div>"
      ],
      "text/plain": [
       "          1h         3h         6h        12h        24h\n",
       "a  31.241689  39.187045  48.028038  60.753736  75.683743\n",
       "b   9.823556  10.694365  13.272078  18.313274  23.986088"
      ]
     },
     "execution_count": 18,
     "metadata": {},
     "output_type": "execute_result"
    }
   ],
   "source": [
    "abs_m = g(means, stds)\n",
    "abs_m"
   ]
  },
  {
   "cell_type": "markdown",
   "metadata": {},
   "source": [
    "Salviamo il dataframe **abs_m** in un file"
   ]
  },
  {
   "cell_type": "code",
   "execution_count": 19,
   "metadata": {},
   "outputs": [],
   "source": [
    "abs_m.to_pickle('abs_m')"
   ]
  },
  {
   "cell_type": "code",
   "execution_count": 20,
   "metadata": {},
   "outputs": [
    {
     "data": {
      "text/plain": [
       "['.ipynb_checkpoints',\n",
       " '0-Eschfaeller-Python-Lectures.ipynb',\n",
       " '2-Reading a file with pandas.ipynb',\n",
       " '3.1 - Gumbel-Momenti.ipynb',\n",
       " '3.2 - Gumbel - Massima Verosimiglianza.ipynb',\n",
       " '3.3 - Gumbel-MinimiQuadrati.ipynb',\n",
       " 'abs_m',\n",
       " 'abs_mle',\n",
       " 'Gaussian distribution.ipynb',\n",
       " 'lezione20190307_01.ipynb',\n",
       " 'lezione20190307_02.ipynb',\n",
       " 'lezione20190311_01.ipynb',\n",
       " 'lezione20190311_02.ipynb',\n",
       " 'lezione20190314_01.ipynb',\n",
       " 'lezione20190314_02.ipynb',\n",
       " 'lezione20190314_03.ipynb',\n",
       " 'lezione20190321_01.ipynb',\n",
       " 'PluviometriaPaperopoli_4.txt',\n",
       " 'VotiCostruzioniIdrauliche2017.ipynb',\n",
       " 'VotiCostruzioniIdrauliche2017.xlsx']"
      ]
     },
     "execution_count": 20,
     "metadata": {},
     "output_type": "execute_result"
    }
   ],
   "source": [
    "os.listdir()"
   ]
  },
  {
   "cell_type": "markdown",
   "metadata": {},
   "source": [
    "**************************************"
   ]
  },
  {
   "cell_type": "code",
   "execution_count": 21,
   "metadata": {},
   "outputs": [],
   "source": [
    "from scipy.stats import genextreme, gumbel_r\n",
    "from numpy import linspace"
   ]
  },
  {
   "cell_type": "code",
   "execution_count": 22,
   "metadata": {},
   "outputs": [],
   "source": [
    "def gumbel(x, abs_d, col):\n",
    "    return np.exp(-np.exp(-(x-abs_d[col][\"a\"])/abs_d[col][\"b\"]))"
   ]
  },
  {
   "cell_type": "markdown",
   "metadata": {},
   "source": [
    "Il termine **abs_d[col]** è"
   ]
  },
  {
   "cell_type": "code",
   "execution_count": 23,
   "metadata": {},
   "outputs": [
    {
     "data": {
      "text/plain": [
       "a    31.241689\n",
       "b     9.823556\n",
       "Name: 1h, dtype: float64"
      ]
     },
     "execution_count": 23,
     "metadata": {},
     "output_type": "execute_result"
    }
   ],
   "source": [
    "abs_m['1h']"
   ]
  },
  {
   "cell_type": "markdown",
   "metadata": {},
   "source": [
    "allora **abs_d[col][\"a\"]** e **abs_d[col][\"b\"]**"
   ]
  },
  {
   "cell_type": "code",
   "execution_count": 24,
   "metadata": {},
   "outputs": [
    {
     "data": {
      "text/plain": [
       "31.241689405642404"
      ]
     },
     "execution_count": 24,
     "metadata": {},
     "output_type": "execute_result"
    }
   ],
   "source": [
    "abs_m['1h']['a']"
   ]
  },
  {
   "cell_type": "code",
   "execution_count": 25,
   "metadata": {},
   "outputs": [
    {
     "data": {
      "text/plain": [
       "9.82355632244475"
      ]
     },
     "execution_count": 25,
     "metadata": {},
     "output_type": "execute_result"
    }
   ],
   "source": [
    "abs_m['1h']['b']"
   ]
  },
  {
   "cell_type": "markdown",
   "metadata": {},
   "source": [
    "Importo la funzione **ECDF** da *statsmodels*"
   ]
  },
  {
   "cell_type": "code",
   "execution_count": 26,
   "metadata": {},
   "outputs": [],
   "source": [
    "from statsmodels.distributions.empirical_distribution import ECDF"
   ]
  },
  {
   "cell_type": "markdown",
   "metadata": {},
   "source": [
    "Calcolo la funzione ECDF sui valori di 1h"
   ]
  },
  {
   "cell_type": "code",
   "execution_count": 27,
   "metadata": {},
   "outputs": [],
   "source": [
    "ecdf1h = ECDF(data['1h'])"
   ]
  },
  {
   "cell_type": "markdown",
   "metadata": {},
   "source": [
    "Calcolo il minimo di data per ogni durata"
   ]
  },
  {
   "cell_type": "code",
   "execution_count": 28,
   "metadata": {},
   "outputs": [
    {
     "data": {
      "text/plain": [
       "1h     19.6\n",
       "3h     23.6\n",
       "6h     31.0\n",
       "12h    38.2\n",
       "24h    48.2\n",
       "dtype: float64"
      ]
     },
     "execution_count": 28,
     "metadata": {},
     "output_type": "execute_result"
    }
   ],
   "source": [
    "data.min()"
   ]
  },
  {
   "cell_type": "markdown",
   "metadata": {},
   "source": [
    "Il valore minimo assoluto è"
   ]
  },
  {
   "cell_type": "code",
   "execution_count": 29,
   "metadata": {},
   "outputs": [
    {
     "data": {
      "text/plain": [
       "19.6"
      ]
     },
     "execution_count": 29,
     "metadata": {},
     "output_type": "execute_result"
    }
   ],
   "source": [
    "data.min()['1h']"
   ]
  },
  {
   "cell_type": "markdown",
   "metadata": {},
   "source": [
    "Il massimo dei dati"
   ]
  },
  {
   "cell_type": "code",
   "execution_count": 30,
   "metadata": {},
   "outputs": [
    {
     "data": {
      "text/plain": [
       "1h      89.2\n",
       "3h     102.0\n",
       "6h     102.0\n",
       "12h    129.6\n",
       "24h    169.4\n",
       "dtype: float64"
      ]
     },
     "execution_count": 30,
     "metadata": {},
     "output_type": "execute_result"
    }
   ],
   "source": [
    "data.max()"
   ]
  },
  {
   "cell_type": "markdown",
   "metadata": {},
   "source": [
    "Il valore massimo assoluto è"
   ]
  },
  {
   "cell_type": "code",
   "execution_count": 31,
   "metadata": {},
   "outputs": [
    {
     "data": {
      "text/plain": [
       "169.4"
      ]
     },
     "execution_count": 31,
     "metadata": {},
     "output_type": "execute_result"
    }
   ],
   "source": [
    "data.max()['24h']"
   ]
  },
  {
   "cell_type": "markdown",
   "metadata": {},
   "source": [
    "Creo un vettore di 100 elementi che va dal minimo dei dati al massimo dei dati"
   ]
  },
  {
   "cell_type": "code",
   "execution_count": 32,
   "metadata": {},
   "outputs": [],
   "source": [
    "t_rain=np.linspace(data.min()[0],data.max()[4],100)"
   ]
  },
  {
   "cell_type": "markdown",
   "metadata": {},
   "source": [
    "Costruisco un vettore che contiene i valori della curva di Gumbel calcolati dal minimo al massimo, per ogni valore di **t_rain**"
   ]
  },
  {
   "cell_type": "code",
   "execution_count": 33,
   "metadata": {},
   "outputs": [
    {
     "data": {
      "text/html": [
       "<div>\n",
       "<style scoped>\n",
       "    .dataframe tbody tr th:only-of-type {\n",
       "        vertical-align: middle;\n",
       "    }\n",
       "\n",
       "    .dataframe tbody tr th {\n",
       "        vertical-align: top;\n",
       "    }\n",
       "\n",
       "    .dataframe thead th {\n",
       "        text-align: right;\n",
       "    }\n",
       "</style>\n",
       "<table border=\"1\" class=\"dataframe\">\n",
       "  <thead>\n",
       "    <tr style=\"text-align: right;\">\n",
       "      <th></th>\n",
       "      <th>1h</th>\n",
       "      <th>3h</th>\n",
       "      <th>6h</th>\n",
       "      <th>12h</th>\n",
       "      <th>24h</th>\n",
       "    </tr>\n",
       "  </thead>\n",
       "  <tbody>\n",
       "    <tr>\n",
       "      <th>19.600000</th>\n",
       "      <td>0.037971</td>\n",
       "      <td>0.001943</td>\n",
       "      <td>0.000200</td>\n",
       "      <td>0.000078</td>\n",
       "      <td>0.000032</td>\n",
       "    </tr>\n",
       "    <tr>\n",
       "      <th>21.113131</th>\n",
       "      <td>0.060567</td>\n",
       "      <td>0.004428</td>\n",
       "      <td>0.000501</td>\n",
       "      <td>0.000165</td>\n",
       "      <td>0.000060</td>\n",
       "    </tr>\n",
       "    <tr>\n",
       "      <th>22.626263</th>\n",
       "      <td>0.090381</td>\n",
       "      <td>0.009053</td>\n",
       "      <td>0.001137</td>\n",
       "      <td>0.000329</td>\n",
       "      <td>0.000108</td>\n",
       "    </tr>\n",
       "    <tr>\n",
       "      <th>24.139394</th>\n",
       "      <td>0.127380</td>\n",
       "      <td>0.016841</td>\n",
       "      <td>0.002360</td>\n",
       "      <td>0.000621</td>\n",
       "      <td>0.000189</td>\n",
       "    </tr>\n",
       "    <tr>\n",
       "      <th>25.652525</th>\n",
       "      <td>0.170944</td>\n",
       "      <td>0.028865</td>\n",
       "      <td>0.004529</td>\n",
       "      <td>0.001115</td>\n",
       "      <td>0.000319</td>\n",
       "    </tr>\n",
       "    <tr>\n",
       "      <th>...</th>\n",
       "      <td>...</td>\n",
       "      <td>...</td>\n",
       "      <td>...</td>\n",
       "      <td>...</td>\n",
       "      <td>...</td>\n",
       "    </tr>\n",
       "    <tr>\n",
       "      <th>163.347475</th>\n",
       "      <td>0.999999</td>\n",
       "      <td>0.999991</td>\n",
       "      <td>0.999832</td>\n",
       "      <td>0.996317</td>\n",
       "      <td>0.974464</td>\n",
       "    </tr>\n",
       "    <tr>\n",
       "      <th>164.860606</th>\n",
       "      <td>0.999999</td>\n",
       "      <td>0.999992</td>\n",
       "      <td>0.999850</td>\n",
       "      <td>0.996608</td>\n",
       "      <td>0.976007</td>\n",
       "    </tr>\n",
       "    <tr>\n",
       "      <th>166.373737</th>\n",
       "      <td>0.999999</td>\n",
       "      <td>0.999993</td>\n",
       "      <td>0.999866</td>\n",
       "      <td>0.996877</td>\n",
       "      <td>0.977457</td>\n",
       "    </tr>\n",
       "    <tr>\n",
       "      <th>167.886869</th>\n",
       "      <td>0.999999</td>\n",
       "      <td>0.999994</td>\n",
       "      <td>0.999880</td>\n",
       "      <td>0.997124</td>\n",
       "      <td>0.978820</td>\n",
       "    </tr>\n",
       "    <tr>\n",
       "      <th>169.400000</th>\n",
       "      <td>0.999999</td>\n",
       "      <td>0.999995</td>\n",
       "      <td>0.999893</td>\n",
       "      <td>0.997352</td>\n",
       "      <td>0.980102</td>\n",
       "    </tr>\n",
       "  </tbody>\n",
       "</table>\n",
       "<p>100 rows × 5 columns</p>\n",
       "</div>"
      ],
      "text/plain": [
       "                  1h        3h        6h       12h       24h\n",
       "19.600000   0.037971  0.001943  0.000200  0.000078  0.000032\n",
       "21.113131   0.060567  0.004428  0.000501  0.000165  0.000060\n",
       "22.626263   0.090381  0.009053  0.001137  0.000329  0.000108\n",
       "24.139394   0.127380  0.016841  0.002360  0.000621  0.000189\n",
       "25.652525   0.170944  0.028865  0.004529  0.001115  0.000319\n",
       "...              ...       ...       ...       ...       ...\n",
       "163.347475  0.999999  0.999991  0.999832  0.996317  0.974464\n",
       "164.860606  0.999999  0.999992  0.999850  0.996608  0.976007\n",
       "166.373737  0.999999  0.999993  0.999866  0.996877  0.977457\n",
       "167.886869  0.999999  0.999994  0.999880  0.997124  0.978820\n",
       "169.400000  0.999999  0.999995  0.999893  0.997352  0.980102\n",
       "\n",
       "[100 rows x 5 columns]"
      ]
     },
     "execution_count": 33,
     "metadata": {},
     "output_type": "execute_result"
    }
   ],
   "source": [
    "gb=pd.DataFrame([gumbel(t_rain,abs_m,\"1h\"),\n",
    "                 gumbel(t_rain,abs_m,\"3h\"),\n",
    "                 gumbel(t_rain,abs_m,\"6h\"),\n",
    "                 gumbel(t_rain,abs_m,\"12h\"),\n",
    "                 gumbel(t_rain,abs_m,\"24h\")]).T #Trasposta\n",
    "gb.index=t_rain #dati dei valori di precipitazione estrema\n",
    "gb.columns=[\"1h\",\"3h\",\"6h\",\"12h\",\"24h\"]\n",
    "gb"
   ]
  },
  {
   "cell_type": "markdown",
   "metadata": {},
   "source": [
    "### Disegnamo i dati"
   ]
  },
  {
   "cell_type": "markdown",
   "metadata": {},
   "source": [
    "Disegnamo le curve"
   ]
  },
  {
   "cell_type": "code",
   "execution_count": 34,
   "metadata": {},
   "outputs": [
    {
     "data": {
      "image/png": "[encoded data removed]",
      "text/plain": [
       "<Figure size 432x288 with 1 Axes>"
      ]
     },
     "metadata": {
      "needs_background": "light"
     },
     "output_type": "display_data"
    }
   ],
   "source": [
    "plt.rc('xtick', labelsize=15)\n",
    "plt.rc('ytick', labelsize=15)\n",
    "ax=gb.plot(color=[\"red\",\"blue\",\"cyan\",\"green\",\"black\"])"
   ]
  },
  {
   "cell_type": "markdown",
   "metadata": {},
   "source": [
    "Plotto i dati di 1h sulla curva specifica"
   ]
  },
  {
   "cell_type": "code",
   "execution_count": 37,
   "metadata": {},
   "outputs": [
    {
     "data": {
      "image/png": "[encoded data removed]",
      "text/plain": [
       "<Figure size 432x288 with 1 Axes>"
      ]
     },
     "metadata": {
      "needs_background": "light"
     },
     "output_type": "display_data"
    }
   ],
   "source": [
    "plt.rc('xtick', labelsize=20)\n",
    "plt.rc('ytick', labelsize=20)\n",
    "ax=gb.plot(color=[\"red\",\"blue\",\"cyan\",\"green\",\"black\"])\n",
    "\n",
    "ecdf1h = ECDF(data[\"1h\"])\n",
    "ax.plot(data[\"1h\"],ecdf1h(data[\"1h\"]),'o',c=\"red\",label=\"1h\")\n",
    "plt.show()"
   ]
  },
  {
   "cell_type": "markdown",
   "metadata": {},
   "source": [
    "Plotto i dati per ogni ora"
   ]
  },
  {
   "cell_type": "code",
   "execution_count": 36,
   "metadata": {},
   "outputs": [
    {
     "data": {
      "image/png": "[encoded data removed]",
      "text/plain": [
       "<Figure size 432x288 with 1 Axes>"
      ]
     },
     "metadata": {
      "needs_background": "light"
     },
     "output_type": "display_data"
    }
   ],
   "source": [
    "plt.rc('xtick', labelsize=20) \n",
    "plt.rc('ytick', labelsize=20)\n",
    "#********************************\n",
    "ax=gb.plot(color=[\"red\",\"blue\",\"cyan\",\"green\",\"black\"])\n",
    "#1h\n",
    "ecdf1h = ECDF(data[\"1h\"])\n",
    "ax.plot(data[\"1h\"],ecdf1h(data[\"1h\"]),'o',c=\"red\",label=\"1h\")\n",
    "#3h\n",
    "data3h=data[\"3h\"].dropna()\n",
    "ecdf3h = ECDF(data3h)\n",
    "ax.plot(data3h,ecdf3h(data3h),\"o\",c=\"blue\",label=\"3h\")\n",
    "#6h\n",
    "data6h=data[\"6h\"].dropna()\n",
    "ecdf6h = ECDF(data6h)\n",
    "ax.plot(data6h,ecdf6h(data6h),\"o\",c=\"cyan\")\n",
    "#12h\n",
    "data12h=data[\"12h\"].dropna()\n",
    "ecdf12h = ECDF(data12h)\n",
    "ax.plot(data12h,ecdf12h(data12h),\"o\",c=\"green\")\n",
    "#24h\n",
    "data24h=data[\"24h\"].dropna()\n",
    "ecdf24h = ECDF(data24h)\n",
    "ax.plot(data24h,ecdf24h(data24h),\"o\",c=\"black\")\n",
    "#**********************************\n",
    "ax.set_title('Lssp 1h')\n",
    "ax.set_xlabel('Rainfall (mm)')\n",
    "ax.set_ylabel('P[H<h]')\n",
    "plt.show()"
   ]
  },
  {
   "cell_type": "markdown",
   "metadata": {},
   "source": [
    "**.dropna()** separa ed elimina i dati *NaN*"
   ]
  },
  {
   "cell_type": "code",
   "execution_count": null,
   "metadata": {},
   "outputs": [],
   "source": []
  }
 ],
 "metadata": {
  "kernelspec": {
   "display_name": "Python 3",
   "language": "python",
   "name": "python3"
  },
  "language_info": {
   "codemirror_mode": {
    "name": "ipython",
    "version": 3
   },
   "file_extension": ".py",
   "mimetype": "text/x-python",
   "name": "python",
   "nbconvert_exporter": "python",
   "pygments_lexer": "ipython3",
   "version": "3.7.1"
  }
 },
 "nbformat": 4,
 "nbformat_minor": 2
}
