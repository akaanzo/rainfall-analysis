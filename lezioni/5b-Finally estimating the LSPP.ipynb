{
 "cells": [
  {
   "cell_type": "code",
   "execution_count": 1,
   "metadata": {
    "collapsed": true
   },
   "outputs": [],
   "source": [
    "import os\n",
    "import math\n",
    "from pandas import *\n",
    "import pandas as pd\n",
    "from datetime import datetime\n",
    "%matplotlib inline \n",
    "import matplotlib.pyplot as plt\n",
    "from statsmodels.distributions.empirical_distribution import ECDF\n",
    "\n",
    "os.getcwd()\n",
    "os.chdir(\"/Users/riccardo/Dropbox/A-Data/Paperopoli\")\n",
    "data = pd.read_csv('PluviometriaPaperopoli_4.txt')\n",
    "map(datetime,data['anno'])\n",
    "data=data.set_index('anno')"
   ]
  },
  {
   "cell_type": "code",
   "execution_count": 2,
   "metadata": {
    "collapsed": false
   },
   "outputs": [
    {
     "data": {
      "text/html": [
       "<div>\n",
       "<table border=\"1\" class=\"dataframe\">\n",
       "  <thead>\n",
       "    <tr style=\"text-align: right;\">\n",
       "      <th></th>\n",
       "      <th>1h</th>\n",
       "      <th>3h</th>\n",
       "      <th>6h</th>\n",
       "      <th>12h</th>\n",
       "      <th>24h</th>\n",
       "    </tr>\n",
       "    <tr>\n",
       "      <th>anno</th>\n",
       "      <th></th>\n",
       "      <th></th>\n",
       "      <th></th>\n",
       "      <th></th>\n",
       "      <th></th>\n",
       "    </tr>\n",
       "  </thead>\n",
       "  <tbody>\n",
       "    <tr>\n",
       "      <th>1984</th>\n",
       "      <td>61.2</td>\n",
       "      <td>61.4</td>\n",
       "      <td>61.4</td>\n",
       "      <td>62.6</td>\n",
       "      <td>81.8</td>\n",
       "    </tr>\n",
       "    <tr>\n",
       "      <th>1985</th>\n",
       "      <td>23.6</td>\n",
       "      <td>35.6</td>\n",
       "      <td>44.2</td>\n",
       "      <td>58.6</td>\n",
       "      <td>69.8</td>\n",
       "    </tr>\n",
       "    <tr>\n",
       "      <th>1986</th>\n",
       "      <td>20.2</td>\n",
       "      <td>36.8</td>\n",
       "      <td>51.4</td>\n",
       "      <td>55.8</td>\n",
       "      <td>74.4</td>\n",
       "    </tr>\n",
       "    <tr>\n",
       "      <th>1987</th>\n",
       "      <td>32.6</td>\n",
       "      <td>40.6</td>\n",
       "      <td>64.6</td>\n",
       "      <td>77.2</td>\n",
       "      <td>81.2</td>\n",
       "    </tr>\n",
       "    <tr>\n",
       "      <th>1988</th>\n",
       "      <td>89.2</td>\n",
       "      <td>102.0</td>\n",
       "      <td>102.0</td>\n",
       "      <td>102.0</td>\n",
       "      <td>104.2</td>\n",
       "    </tr>\n",
       "  </tbody>\n",
       "</table>\n",
       "</div>"
      ],
      "text/plain": [
       "        1h     3h     6h    12h    24h\n",
       "anno                                  \n",
       "1984  61.2   61.4   61.4   62.6   81.8\n",
       "1985  23.6   35.6   44.2   58.6   69.8\n",
       "1986  20.2   36.8   51.4   55.8   74.4\n",
       "1987  32.6   40.6   64.6   77.2   81.2\n",
       "1988  89.2  102.0  102.0  102.0  104.2"
      ]
     },
     "execution_count": 2,
     "metadata": {},
     "output_type": "execute_result"
    }
   ],
   "source": [
    "data[-5:]"
   ]
  },
  {
   "cell_type": "code",
   "execution_count": 3,
   "metadata": {
    "collapsed": true
   },
   "outputs": [],
   "source": [
    "from scipy.stats import norm\n",
    "from scipy.stats import genextreme,gumbel_r\n",
    "from numpy import linspace\n",
    "from pylab import plot,show,hist,figure,title"
   ]
  },
  {
   "cell_type": "code",
   "execution_count": 4,
   "metadata": {
    "collapsed": false
   },
   "outputs": [
    {
     "data": {
      "text/html": [
       "<div>\n",
       "<table border=\"1\" class=\"dataframe\">\n",
       "  <thead>\n",
       "    <tr style=\"text-align: right;\">\n",
       "      <th></th>\n",
       "      <th>1h</th>\n",
       "      <th>3h</th>\n",
       "      <th>6h</th>\n",
       "      <th>12h</th>\n",
       "      <th>24h</th>\n",
       "    </tr>\n",
       "  </thead>\n",
       "  <tbody>\n",
       "    <tr>\n",
       "      <th>a</th>\n",
       "      <td>31.59042</td>\n",
       "      <td>39.527315</td>\n",
       "      <td>48.100316</td>\n",
       "      <td>60.562103</td>\n",
       "      <td>75.848891</td>\n",
       "    </tr>\n",
       "    <tr>\n",
       "      <th>b</th>\n",
       "      <td>9.07316</td>\n",
       "      <td>10.041456</td>\n",
       "      <td>12.398915</td>\n",
       "      <td>18.005471</td>\n",
       "      <td>22.435148</td>\n",
       "    </tr>\n",
       "  </tbody>\n",
       "</table>\n",
       "</div>"
      ],
      "text/plain": [
       "         1h         3h         6h        12h        24h\n",
       "a  31.59042  39.527315  48.100316  60.562103  75.848891\n",
       "b   9.07316  10.041456  12.398915  18.005471  22.435148"
      ]
     },
     "execution_count": 4,
     "metadata": {},
     "output_type": "execute_result"
    }
   ],
   "source": [
    "best=pd.read_pickle(\"abs_mle\")\n",
    "best"
   ]
  },
  {
   "cell_type": "code",
   "execution_count": 5,
   "metadata": {
    "collapsed": true
   },
   "outputs": [],
   "source": [
    "def qtls(df,qu):\n",
    "    rv1h=gumbel_r(loc=df[\"a\"],scale=df[\"b\"])\n",
    "    return rv1h.ppf(qu)"
   ]
  },
  {
   "cell_type": "code",
   "execution_count": 6,
   "metadata": {
    "collapsed": true
   },
   "outputs": [],
   "source": [
    "def h_g(bs,col,tr):\n",
    "    return bs[col][\"a\"]+bs[col][\"b\"]*(-math.log(-math.log(1-1/tr)))"
   ]
  },
  {
   "cell_type": "code",
   "execution_count": 7,
   "metadata": {
    "collapsed": false
   },
   "outputs": [
    {
     "data": {
      "text/plain": [
       "[52.008362073104372,\n",
       " 62.124278802063358,\n",
       " 76.002429561333287,\n",
       " 101.08102667450524,\n",
       " 126.33621400150082]"
      ]
     },
     "execution_count": 7,
     "metadata": {},
     "output_type": "execute_result"
    }
   ],
   "source": [
    "[qtls(best[\"1h\"],0.9),qtls(best[\"3h\"],0.9),qtls(best[\"6h\"],0.9),qtls(best[\"12h\"],0.9),\n",
    " qtls(best[\"24h\"],0.9)]"
   ]
  },
  {
   "cell_type": "code",
   "execution_count": 8,
   "metadata": {
    "collapsed": false
   },
   "outputs": [
    {
     "data": {
      "text/plain": [
       "[52.008362073104372,\n",
       " 62.124278802063358,\n",
       " 76.002429561333287,\n",
       " 101.08102667450524,\n",
       " 126.33621400150082]"
      ]
     },
     "execution_count": 8,
     "metadata": {},
     "output_type": "execute_result"
    }
   ],
   "source": [
    "[h_g(best,\"1h\",10),h_g(best,\"3h\",10),h_g(best,\"6h\",10),h_g(best,\"12h\",10),h_g(best,\"24h\",10)]"
   ]
  },
  {
   "cell_type": "code",
   "execution_count": 9,
   "metadata": {
    "collapsed": false
   },
   "outputs": [
    {
     "data": {
      "text/html": [
       "<div>\n",
       "<table border=\"1\" class=\"dataframe\">\n",
       "  <thead>\n",
       "    <tr style=\"text-align: right;\">\n",
       "      <th></th>\n",
       "      <th>10</th>\n",
       "      <th>20</th>\n",
       "      <th>100</th>\n",
       "    </tr>\n",
       "  </thead>\n",
       "  <tbody>\n",
       "    <tr>\n",
       "      <th>1</th>\n",
       "      <td>52.008362</td>\n",
       "      <td>58.539476</td>\n",
       "      <td>73.328309</td>\n",
       "    </tr>\n",
       "    <tr>\n",
       "      <th>3</th>\n",
       "      <td>62.124279</td>\n",
       "      <td>69.352399</td>\n",
       "      <td>85.719510</td>\n",
       "    </tr>\n",
       "    <tr>\n",
       "      <th>6</th>\n",
       "      <td>76.002430</td>\n",
       "      <td>84.927515</td>\n",
       "      <td>105.137176</td>\n",
       "    </tr>\n",
       "    <tr>\n",
       "      <th>12</th>\n",
       "      <td>101.081027</td>\n",
       "      <td>114.041867</td>\n",
       "      <td>143.389956</td>\n",
       "    </tr>\n",
       "    <tr>\n",
       "      <th>24</th>\n",
       "      <td>126.336214</td>\n",
       "      <td>142.485660</td>\n",
       "      <td>179.053918</td>\n",
       "    </tr>\n",
       "  </tbody>\n",
       "</table>\n",
       "</div>"
      ],
      "text/plain": [
       "           10          20          100\n",
       "1    52.008362   58.539476   73.328309\n",
       "3    62.124279   69.352399   85.719510\n",
       "6    76.002430   84.927515  105.137176\n",
       "12  101.081027  114.041867  143.389956\n",
       "24  126.336214  142.485660  179.053918"
      ]
     },
     "execution_count": 9,
     "metadata": {},
     "output_type": "execute_result"
    }
   ],
   "source": [
    "Tr=10\n",
    "q10=1-1/Tr\n",
    "q20=1-1/20\n",
    "q100=1-1/100\n",
    "\n",
    "    \n",
    "def qtls(df,qu):\n",
    "    rv1h=gumbel_r(loc=df[\"a\"],scale=df[\"b\"])\n",
    "    return rv1h.ppf(qu)\n",
    "\n",
    "pts=DataFrame([[qtls(best[\"1h\"],q10),\n",
    "           qtls(best[\"3h\"],q10),\n",
    "           qtls(best[\"6h\"],q10),\n",
    "           qtls(best[\"12h\"],q10),\n",
    "           qtls(best[\"24h\"],q10)],\n",
    "          [qtls(best[\"1h\"],q20),\n",
    "           qtls(best[\"3h\"],q20),\n",
    "           qtls(best[\"6h\"],q20),\n",
    "           qtls(best[\"12h\"],q20),\n",
    "           qtls(best[\"24h\"],q20)],\n",
    "          [qtls(best[\"1h\"],q100),\n",
    "           qtls(best[\"3h\"],q100),\n",
    "           qtls(best[\"6h\"],q100),\n",
    "           qtls(best[\"12h\"],q100),\n",
    "           qtls(best[\"24h\"],q100)]], index=[10,20,100],columns=[1,3,6,12,24]).T\n",
    "pts"
   ]
  },
  {
   "cell_type": "code",
   "execution_count": 10,
   "metadata": {
    "collapsed": false
   },
   "outputs": [
    {
     "data": {
      "text/plain": [
       "(30, 200)"
      ]
     },
     "execution_count": 10,
     "metadata": {},
     "output_type": "execute_result"
    },
    {
     "data": {
      "image/png": "[encoded data removed]",
      "text/plain": [
       "<matplotlib.figure.Figure at 0x1050ae358>"
      ]
     },
     "metadata": {},
     "output_type": "display_data"
    }
   ],
   "source": [
    "ag=pts.plot(style=\"o\")\n",
    "plt.xlim([0,30])\n",
    "plt.ylim([30,200])"
   ]
  },
  {
   "cell_type": "code",
   "execution_count": 11,
   "metadata": {
    "collapsed": false
   },
   "outputs": [
    {
     "data": {
      "text/plain": [
       "(30, 200)"
      ]
     },
     "execution_count": 11,
     "metadata": {},
     "output_type": "execute_result"
    },
    {
     "data": {
      "image/png": "[encoded data removed]",
      "text/plain": [
       "<matplotlib.figure.Figure at 0x112522320>"
      ]
     },
     "metadata": {},
     "output_type": "display_data"
    }
   ],
   "source": [
    "ag=pts.plot(style=\"-\")\n",
    "plt.xlim([0,30])\n",
    "plt.ylim([30,200])"
   ]
  },
  {
   "cell_type": "code",
   "execution_count": 12,
   "metadata": {
    "collapsed": false
   },
   "outputs": [
    {
     "data": {
      "text/plain": [
       "(50, 200)"
      ]
     },
     "execution_count": 12,
     "metadata": {},
     "output_type": "execute_result"
    },
    {
     "data": {
      "image/png": "[encoded data removed]",
      "text/plain": [
       "<matplotlib.figure.Figure at 0x10f0f1320>"
      ]
     },
     "metadata": {},
     "output_type": "display_data"
    }
   ],
   "source": [
    "ag=pts.plot(style=\"o\")\n",
    "#plt.get_xaxis().get_major_formatter().set_scientific(False)\n",
    "#plt.get_yaxis().get_major_formatter().set_scientific(False)\n",
    "ag.set_yscale('log')\n",
    "ag.set_xscale('log')\n",
    "plt.xlim([0.7,30])\n",
    "plt.ylim([50,200])"
   ]
  },
  {
   "cell_type": "code",
   "execution_count": 29,
   "metadata": {
    "collapsed": false
   },
   "outputs": [
    {
     "data": {
      "text/plain": [
       "array([  1.00000000e+00,   1.55431223e-15])"
      ]
     },
     "execution_count": 29,
     "metadata": {},
     "output_type": "execute_result"
    }
   ],
   "source": [
    "f=[1,2,3,4]\n",
    "g=[1,2,3,4]\n",
    "np.polyfit(f,g,1)"
   ]
  },
  {
   "cell_type": "code",
   "execution_count": 14,
   "metadata": {
    "collapsed": false
   },
   "outputs": [
    {
     "data": {
      "text/plain": [
       "1      52.008362\n",
       "3      62.124279\n",
       "6      76.002430\n",
       "12    101.081027\n",
       "24    126.336214\n",
       "Name: 10, dtype: float64"
      ]
     },
     "execution_count": 14,
     "metadata": {},
     "output_type": "execute_result"
    }
   ],
   "source": [
    "pts[10]"
   ]
  },
  {
   "cell_type": "code",
   "execution_count": 15,
   "metadata": {
    "collapsed": false
   },
   "outputs": [
    {
     "data": {
      "text/plain": [
       "Int64Index([1, 3, 6, 12, 24], dtype='int64')"
      ]
     },
     "execution_count": 15,
     "metadata": {},
     "output_type": "execute_result"
    }
   ],
   "source": [
    "pts[10].index"
   ]
  },
  {
   "cell_type": "markdown",
   "metadata": {},
   "source": [
    "$$ h(t_p, Tr) = a(T_r) t_p^n$$"
   ]
  },
  {
   "cell_type": "markdown",
   "metadata": {},
   "source": [
    "$$\\log h(t_p, Tr) = \\log a(T_r) + n \\log t_p $$"
   ]
  },
  {
   "cell_type": "code",
   "execution_count": 31,
   "metadata": {
    "collapsed": false
   },
   "outputs": [
    {
     "data": {
      "text/plain": [
       "1     3.951405\n",
       "3     4.129137\n",
       "6     4.330765\n",
       "12    4.615922\n",
       "24    4.838947\n",
       "Name: 10, dtype: float64"
      ]
     },
     "execution_count": 31,
     "metadata": {},
     "output_type": "execute_result"
    }
   ],
   "source": [
    "np.log(pts[10])"
   ]
  },
  {
   "cell_type": "code",
   "execution_count": 32,
   "metadata": {
    "collapsed": false
   },
   "outputs": [
    {
     "data": {
      "text/plain": [
       "Float64Index([0.0, 1.09861228867, 1.79175946923, 2.48490664979, 3.17805383035], dtype='float64')"
      ]
     },
     "execution_count": 32,
     "metadata": {},
     "output_type": "execute_result"
    }
   ],
   "source": [
    "np.log(pts[10].index)"
   ]
  },
  {
   "cell_type": "code",
   "execution_count": 33,
   "metadata": {
    "collapsed": false
   },
   "outputs": [
    {
     "data": {
      "text/plain": [
       "array([ 0.286927  ,  3.88239878])"
      ]
     },
     "execution_count": 33,
     "metadata": {},
     "output_type": "execute_result"
    }
   ],
   "source": [
    "in10=np.polyfit(np.log(pts[10].index),np.log(pts[10]),1)\n",
    "in10"
   ]
  },
  {
   "cell_type": "code",
   "execution_count": 34,
   "metadata": {
    "collapsed": false
   },
   "outputs": [
    {
     "data": {
      "text/plain": [
       "0.28692700212463806"
      ]
     },
     "execution_count": 34,
     "metadata": {},
     "output_type": "execute_result"
    }
   ],
   "source": [
    "in10[0]"
   ]
  },
  {
   "cell_type": "code",
   "execution_count": 35,
   "metadata": {
    "collapsed": false
   },
   "outputs": [
    {
     "data": {
      "text/plain": [
       "array([  0.286927  ,  48.54051333])"
      ]
     },
     "execution_count": 35,
     "metadata": {},
     "output_type": "execute_result"
    }
   ],
   "source": [
    "in10[1]=np.exp(in10[1])\n",
    "in10"
   ]
  },
  {
   "cell_type": "code",
   "execution_count": 19,
   "metadata": {
    "collapsed": false
   },
   "outputs": [
    {
     "data": {
      "text/plain": [
       "array([  0.2884448 ,  54.37304857])"
      ]
     },
     "execution_count": 19,
     "metadata": {},
     "output_type": "execute_result"
    }
   ],
   "source": [
    "in20=np.polyfit(np.log(pts[20].index),np.log(pts[20]),1)\n",
    "in20[1]=np.exp(in20[1])\n",
    "in20"
   ]
  },
  {
   "cell_type": "code",
   "execution_count": 20,
   "metadata": {
    "collapsed": false
   },
   "outputs": [
    {
     "data": {
      "text/plain": [
       "array([  0.29089191,  67.57854615])"
      ]
     },
     "execution_count": 20,
     "metadata": {},
     "output_type": "execute_result"
    }
   ],
   "source": [
    "in100=np.polyfit(np.log(pts[100].index),np.log(pts[100]),1)\n",
    "in100[1]=np.exp(in100[1])\n",
    "in100"
   ]
  },
  {
   "cell_type": "code",
   "execution_count": 21,
   "metadata": {
    "collapsed": false
   },
   "outputs": [
    {
     "data": {
      "text/html": [
       "<div>\n",
       "<table border=\"1\" class=\"dataframe\">\n",
       "  <thead>\n",
       "    <tr style=\"text-align: right;\">\n",
       "      <th></th>\n",
       "      <th>n</th>\n",
       "      <th>a</th>\n",
       "    </tr>\n",
       "  </thead>\n",
       "  <tbody>\n",
       "    <tr>\n",
       "      <th>10</th>\n",
       "      <td>0.286927</td>\n",
       "      <td>48.540513</td>\n",
       "    </tr>\n",
       "    <tr>\n",
       "      <th>20</th>\n",
       "      <td>0.288445</td>\n",
       "      <td>54.373049</td>\n",
       "    </tr>\n",
       "    <tr>\n",
       "      <th>100</th>\n",
       "      <td>0.290892</td>\n",
       "      <td>67.578546</td>\n",
       "    </tr>\n",
       "  </tbody>\n",
       "</table>\n",
       "</div>"
      ],
      "text/plain": [
       "            n          a\n",
       "10   0.286927  48.540513\n",
       "20   0.288445  54.373049\n",
       "100  0.290892  67.578546"
      ]
     },
     "execution_count": 21,
     "metadata": {},
     "output_type": "execute_result"
    }
   ],
   "source": [
    "fnl=DataFrame([in10,in20,in100],index=[10,20,100],columns=[\"n\",\"a\"])\n",
    "fnl"
   ]
  },
  {
   "cell_type": "code",
   "execution_count": 22,
   "metadata": {
    "collapsed": false
   },
   "outputs": [
    {
     "data": {
      "text/plain": [
       "48.540513332978527"
      ]
     },
     "execution_count": 22,
     "metadata": {},
     "output_type": "execute_result"
    }
   ],
   "source": [
    "fnl[\"a\"][10]"
   ]
  },
  {
   "cell_type": "code",
   "execution_count": 36,
   "metadata": {
    "collapsed": false
   },
   "outputs": [
    {
     "data": {
      "text/plain": [
       "array([ 28.81616162,  29.11212121,  29.40808081,  29.7040404 ,  30.        ])"
      ]
     },
     "execution_count": 36,
     "metadata": {},
     "output_type": "execute_result"
    }
   ],
   "source": [
    "tp=np.linspace(0.7,30,100)\n",
    "tp[-5:]"
   ]
  },
  {
   "cell_type": "code",
   "execution_count": 24,
   "metadata": {
    "collapsed": false
   },
   "outputs": [],
   "source": [
    "def h(tp,a,n):\n",
    "    return a*tp**n"
   ]
  },
  {
   "cell_type": "code",
   "execution_count": 37,
   "metadata": {
    "collapsed": false
   },
   "outputs": [],
   "source": [
    "h10=h(tp,fnl[\"a\"][10],fnl[\"n\"][10])\n",
    "h20=h(tp,fnl[\"a\"][20],fnl[\"n\"][20])\n",
    "h100=h(tp,fnl[\"a\"][100],fnl[\"n\"][100])"
   ]
  },
  {
   "cell_type": "code",
   "execution_count": 38,
   "metadata": {
    "collapsed": false
   },
   "outputs": [
    {
     "data": {
      "text/html": [
       "<div>\n",
       "<table border=\"1\" class=\"dataframe\">\n",
       "  <thead>\n",
       "    <tr style=\"text-align: right;\">\n",
       "      <th></th>\n",
       "      <th>Tr = 10</th>\n",
       "      <th>Tr = 20</th>\n",
       "      <th>Tr = 100</th>\n",
       "    </tr>\n",
       "  </thead>\n",
       "  <tbody>\n",
       "    <tr>\n",
       "      <th>0.700000</th>\n",
       "      <td>43.818631</td>\n",
       "      <td>49.057230</td>\n",
       "      <td>60.918488</td>\n",
       "    </tr>\n",
       "    <tr>\n",
       "      <th>0.995960</th>\n",
       "      <td>48.484159</td>\n",
       "      <td>54.309589</td>\n",
       "      <td>67.499006</td>\n",
       "    </tr>\n",
       "    <tr>\n",
       "      <th>1.291919</th>\n",
       "      <td>52.242120</td>\n",
       "      <td>58.542187</td>\n",
       "      <td>72.805855</td>\n",
       "    </tr>\n",
       "    <tr>\n",
       "      <th>1.587879</th>\n",
       "      <td>55.427372</td>\n",
       "      <td>62.131008</td>\n",
       "      <td>77.308098</td>\n",
       "    </tr>\n",
       "    <tr>\n",
       "      <th>1.883838</th>\n",
       "      <td>58.213245</td>\n",
       "      <td>65.270748</td>\n",
       "      <td>81.248774</td>\n",
       "    </tr>\n",
       "  </tbody>\n",
       "</table>\n",
       "</div>"
      ],
      "text/plain": [
       "            Tr = 10    Tr = 20   Tr = 100\n",
       "0.700000  43.818631  49.057230  60.918488\n",
       "0.995960  48.484159  54.309589  67.499006\n",
       "1.291919  52.242120  58.542187  72.805855\n",
       "1.587879  55.427372  62.131008  77.308098\n",
       "1.883838  58.213245  65.270748  81.248774"
      ]
     },
     "execution_count": 38,
     "metadata": {},
     "output_type": "execute_result"
    }
   ],
   "source": [
    "inh=DataFrame([h10,h20,h100],index=[\"Tr = 10\",\"Tr = 20\",\"Tr = 100\"],\n",
    "              columns=tp).T\n",
    "inh[:2]"
   ]
  },
  {
   "cell_type": "code",
   "execution_count": 39,
   "metadata": {
    "collapsed": false
   },
   "outputs": [
    {
     "data": {
      "image/png": "[encoded data removed]",
      "text/plain": [
       "<matplotlib.figure.Figure at 0x1124db668>"
      ]
     },
     "metadata": {},
     "output_type": "display_data"
    }
   ],
   "source": [
    "ag=inh.plot()"
   ]
  },
  {
   "cell_type": "code",
   "execution_count": 40,
   "metadata": {
    "collapsed": false
   },
   "outputs": [
    {
     "data": {
      "text/plain": [
       "(50, 200)"
      ]
     },
     "execution_count": 40,
     "metadata": {},
     "output_type": "execute_result"
    },
    {
     "data": {
      "image/png": "[encoded data removed]",
      "text/plain": [
       "<matplotlib.figure.Figure at 0x112422780>"
      ]
     },
     "metadata": {},
     "output_type": "display_data"
    }
   ],
   "source": [
    "ag=inh.plot()\n",
    "ag=plot(pts[10],\"o\",color=\"blue\")\n",
    "ag=plot(pts[20],\"o\",color=\"orange\")\n",
    "ag=plot(pts[100],\"o\",color=\"green\")\n",
    "#plt.get_xaxis().get_major_formatter().set_scientific(False)\n",
    "#plt.get_yaxis().get_major_formatter().set_scientific(False)\n",
    "#ag.set_yscale('log')\n",
    "#ag.set_xscale('log')\n",
    "plt.xlim([0.7,30])\n",
    "plt.ylim([50,200])"
   ]
  },
  {
   "cell_type": "code",
   "execution_count": 41,
   "metadata": {
    "collapsed": false
   },
   "outputs": [
    {
     "data": {
      "text/plain": [
       "(50, 200)"
      ]
     },
     "execution_count": 41,
     "metadata": {},
     "output_type": "execute_result"
    },
    {
     "data": {
      "image/png": "[encoded data removed]",
      "text/plain": [
       "<matplotlib.figure.Figure at 0x112a1ec88>"
      ]
     },
     "metadata": {},
     "output_type": "display_data"
    }
   ],
   "source": [
    "ag=inh.plot()\n",
    "ag.set_yscale('log')\n",
    "ag.set_xscale('log')\n",
    "ag=plot(pts[10],\"o\",color=\"blue\")\n",
    "ag=plot(pts[20],\"o\",color=\"orange\")\n",
    "ag=plot(pts[100],\"o\",color=\"green\")\n",
    "#plt.get_xaxis().get_major_formatter().set_scientific(False)\n",
    "#plt.get_yaxis().get_major_formatter().set_scientific(False)\n",
    "\n",
    "plt.xlim([0.7,30])\n",
    "plt.ylim([50,200])"
   ]
  }
 ],
 "metadata": {
  "kernelspec": {
   "display_name": "Python 3",
   "language": "python",
   "name": "python3"
  },
  "language_info": {
   "codemirror_mode": {
    "name": "ipython",
    "version": 3
   },
   "file_extension": ".py",
   "mimetype": "text/x-python",
   "name": "python",
   "nbconvert_exporter": "python",
   "pygments_lexer": "ipython3",
   "version": "3.7.1"
  }
 },
 "nbformat": 4,
 "nbformat_minor": 2
}
