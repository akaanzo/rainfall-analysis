{
 "cells": [
  {
   "cell_type": "markdown",
   "metadata": {},
   "source": [
    "# Lezione 2019-03-21 \\ 02"
   ]
  },
  {
   "cell_type": "markdown",
   "metadata": {},
   "source": [
    "## Test di Pearson"
   ]
  },
  {
   "cell_type": "markdown",
   "metadata": {},
   "source": [
    "Matteo Franzoi - 2019-03-21"
   ]
  },
  {
   "cell_type": "markdown",
   "metadata": {},
   "source": [
    "---"
   ]
  },
  {
   "cell_type": "code",
   "execution_count": 2,
   "metadata": {},
   "outputs": [],
   "source": [
    "import os\n",
    "import math\n",
    "from pandas import *\n",
    "import pandas as pd\n",
    "from datetime import datetime\n",
    "%matplotlib inline \n",
    "import matplotlib.pyplot as plt\n",
    "from statsmodels.distributions.empirical_distribution import ECDF\n",
    "\n",
    "os.getcwd()\n",
    "data = pd.read_csv('PluviometriaPaperopoli_4.txt')\n",
    "map(datetime,data['anno'])\n",
    "data=data.set_index('anno')"
   ]
  },
  {
   "cell_type": "code",
   "execution_count": 3,
   "metadata": {},
   "outputs": [
    {
     "data": {
      "text/html": [
       "<div>\n",
       "<style scoped>\n",
       "    .dataframe tbody tr th:only-of-type {\n",
       "        vertical-align: middle;\n",
       "    }\n",
       "\n",
       "    .dataframe tbody tr th {\n",
       "        vertical-align: top;\n",
       "    }\n",
       "\n",
       "    .dataframe thead th {\n",
       "        text-align: right;\n",
       "    }\n",
       "</style>\n",
       "<table border=\"1\" class=\"dataframe\">\n",
       "  <thead>\n",
       "    <tr style=\"text-align: right;\">\n",
       "      <th></th>\n",
       "      <th>1h</th>\n",
       "      <th>3h</th>\n",
       "      <th>6h</th>\n",
       "      <th>12h</th>\n",
       "      <th>24h</th>\n",
       "    </tr>\n",
       "    <tr>\n",
       "      <th>anno</th>\n",
       "      <th></th>\n",
       "      <th></th>\n",
       "      <th></th>\n",
       "      <th></th>\n",
       "      <th></th>\n",
       "    </tr>\n",
       "  </thead>\n",
       "  <tbody>\n",
       "    <tr>\n",
       "      <th>1984</th>\n",
       "      <td>61.2</td>\n",
       "      <td>61.4</td>\n",
       "      <td>61.4</td>\n",
       "      <td>62.6</td>\n",
       "      <td>81.8</td>\n",
       "    </tr>\n",
       "    <tr>\n",
       "      <th>1985</th>\n",
       "      <td>23.6</td>\n",
       "      <td>35.6</td>\n",
       "      <td>44.2</td>\n",
       "      <td>58.6</td>\n",
       "      <td>69.8</td>\n",
       "    </tr>\n",
       "    <tr>\n",
       "      <th>1986</th>\n",
       "      <td>20.2</td>\n",
       "      <td>36.8</td>\n",
       "      <td>51.4</td>\n",
       "      <td>55.8</td>\n",
       "      <td>74.4</td>\n",
       "    </tr>\n",
       "    <tr>\n",
       "      <th>1987</th>\n",
       "      <td>32.6</td>\n",
       "      <td>40.6</td>\n",
       "      <td>64.6</td>\n",
       "      <td>77.2</td>\n",
       "      <td>81.2</td>\n",
       "    </tr>\n",
       "    <tr>\n",
       "      <th>1988</th>\n",
       "      <td>89.2</td>\n",
       "      <td>102.0</td>\n",
       "      <td>102.0</td>\n",
       "      <td>102.0</td>\n",
       "      <td>104.2</td>\n",
       "    </tr>\n",
       "  </tbody>\n",
       "</table>\n",
       "</div>"
      ],
      "text/plain": [
       "        1h     3h     6h    12h    24h\n",
       "anno                                  \n",
       "1984  61.2   61.4   61.4   62.6   81.8\n",
       "1985  23.6   35.6   44.2   58.6   69.8\n",
       "1986  20.2   36.8   51.4   55.8   74.4\n",
       "1987  32.6   40.6   64.6   77.2   81.2\n",
       "1988  89.2  102.0  102.0  102.0  104.2"
      ]
     },
     "execution_count": 3,
     "metadata": {},
     "output_type": "execute_result"
    }
   ],
   "source": [
    "data[-5:]"
   ]
  },
  {
   "cell_type": "markdown",
   "metadata": {},
   "source": [
    "from scipy.stats import norm\n",
    "from scipy.stats import genextreme,gumbel_r\n",
    "from numpy import linspace\n",
    "from pylab import plot,show,hist,figure,title"
   ]
  },
  {
   "cell_type": "code",
   "execution_count": 5,
   "metadata": {},
   "outputs": [
    {
     "data": {
      "text/html": [
       "<div>\n",
       "<style scoped>\n",
       "    .dataframe tbody tr th:only-of-type {\n",
       "        vertical-align: middle;\n",
       "    }\n",
       "\n",
       "    .dataframe tbody tr th {\n",
       "        vertical-align: top;\n",
       "    }\n",
       "\n",
       "    .dataframe thead th {\n",
       "        text-align: right;\n",
       "    }\n",
       "</style>\n",
       "<table border=\"1\" class=\"dataframe\">\n",
       "  <thead>\n",
       "    <tr style=\"text-align: right;\">\n",
       "      <th></th>\n",
       "      <th>1h</th>\n",
       "      <th>3h</th>\n",
       "      <th>6h</th>\n",
       "      <th>12h</th>\n",
       "      <th>24h</th>\n",
       "    </tr>\n",
       "  </thead>\n",
       "  <tbody>\n",
       "    <tr>\n",
       "      <th>a</th>\n",
       "      <td>31.59042</td>\n",
       "      <td>39.527315</td>\n",
       "      <td>48.100316</td>\n",
       "      <td>60.562103</td>\n",
       "      <td>75.848891</td>\n",
       "    </tr>\n",
       "    <tr>\n",
       "      <th>b</th>\n",
       "      <td>9.07316</td>\n",
       "      <td>10.041456</td>\n",
       "      <td>12.398915</td>\n",
       "      <td>18.005471</td>\n",
       "      <td>22.435148</td>\n",
       "    </tr>\n",
       "  </tbody>\n",
       "</table>\n",
       "</div>"
      ],
      "text/plain": [
       "         1h         3h         6h        12h        24h\n",
       "a  31.59042  39.527315  48.100316  60.562103  75.848891\n",
       "b   9.07316  10.041456  12.398915  18.005471  22.435148"
      ]
     },
     "execution_count": 5,
     "metadata": {},
     "output_type": "execute_result"
    }
   ],
   "source": [
    "best=pd.read_pickle(\"abs_mle\")\n",
    "best"
   ]
  },
  {
   "cell_type": "markdown",
   "metadata": {},
   "source": [
    "Se il tempo di ritorno è di 10 anni, mi aspetto un quantile di 0.9\n",
    "$$\n",
    "qu = 1 - \\frac{1}{T_r}\n",
    "$$.  \n",
    "Definisco la funzione _qtls_ che ha come input il dataframe (data) e il quantile."
   ]
  },
  {
   "cell_type": "code",
   "execution_count": 7,
   "metadata": {},
   "outputs": [],
   "source": [
    "def qtls(df,qu):\n",
    "    rv1h=gumbel_r(loc=df[\"a\"],scale=df[\"b\"])\n",
    "    return rv1h.ppf(qu)"
   ]
  },
  {
   "cell_type": "markdown",
   "metadata": {},
   "source": [
    "$$\n",
    "qu = e^{-e^{-\\frac{h-a}{b}}}\n",
    "$$"
   ]
  },
  {
   "cell_type": "markdown",
   "metadata": {},
   "source": [
    "Il logaritmo"
   ]
  },
  {
   "cell_type": "markdown",
   "metadata": {},
   "source": [
    "$$\n",
    "-\\log qu = e^{-\\frac{h-a}{b}}\n",
    "$$"
   ]
  },
  {
   "cell_type": "markdown",
   "metadata": {},
   "source": [
    "Ancora logaritmo"
   ]
  },
  {
   "cell_type": "markdown",
   "metadata": {},
   "source": [
    "$$\n",
    "\\log (-\\log qu) = - \\frac{h-a}{b}\n",
    "$$"
   ]
  },
  {
   "cell_type": "markdown",
   "metadata": {},
   "source": [
    "$$\n",
    "h-a = -b\\,\\log(-\\log qu)\n",
    "$$"
   ]
  },
  {
   "cell_type": "markdown",
   "metadata": {},
   "source": [
    "L'inversa della curva di Gumbel è\n",
    "$$\n",
    "h = a -b\\,\\log(-\\log qu)\n",
    "$$"
   ]
  },
  {
   "cell_type": "markdown",
   "metadata": {},
   "source": [
    "Implementandola"
   ]
  },
  {
   "cell_type": "code",
   "execution_count": 9,
   "metadata": {},
   "outputs": [],
   "source": [
    "def h_g(bs,col,tr):\n",
    "    return bs[col][\"a\"]+bs[col][\"b\"]*(-math.log(-math.log(1-1/tr)))"
   ]
  },
  {
   "cell_type": "markdown",
   "metadata": {},
   "source": [
    "Calcolo i valori di _h_ con $T_r = 10\\,anni$ e per ogni durata"
   ]
  },
  {
   "cell_type": "code",
   "execution_count": 10,
   "metadata": {},
   "outputs": [
    {
     "data": {
      "text/plain": [
       "[52.00836207310437,\n",
       " 62.12427880206336,\n",
       " 76.00242956133329,\n",
       " 101.08102667450524,\n",
       " 126.33621400150082]"
      ]
     },
     "execution_count": 10,
     "metadata": {},
     "output_type": "execute_result"
    }
   ],
   "source": [
    "[qtls(best[\"1h\"],0.9),qtls(best[\"3h\"],0.9),qtls(best[\"6h\"],0.9),qtls(best[\"12h\"],0.9),\n",
    " qtls(best[\"24h\"],0.9)]"
   ]
  },
  {
   "cell_type": "markdown",
   "metadata": {},
   "source": [
    "Generalizzando in una unica operazione, per 3 tempi di ritorno, e salvando in un dataframe il tutto"
   ]
  },
  {
   "cell_type": "code",
   "execution_count": 11,
   "metadata": {},
   "outputs": [
    {
     "data": {
      "text/html": [
       "<div>\n",
       "<style scoped>\n",
       "    .dataframe tbody tr th:only-of-type {\n",
       "        vertical-align: middle;\n",
       "    }\n",
       "\n",
       "    .dataframe tbody tr th {\n",
       "        vertical-align: top;\n",
       "    }\n",
       "\n",
       "    .dataframe thead th {\n",
       "        text-align: right;\n",
       "    }\n",
       "</style>\n",
       "<table border=\"1\" class=\"dataframe\">\n",
       "  <thead>\n",
       "    <tr style=\"text-align: right;\">\n",
       "      <th></th>\n",
       "      <th>10</th>\n",
       "      <th>20</th>\n",
       "      <th>100</th>\n",
       "    </tr>\n",
       "  </thead>\n",
       "  <tbody>\n",
       "    <tr>\n",
       "      <th>1</th>\n",
       "      <td>52.008362</td>\n",
       "      <td>58.539476</td>\n",
       "      <td>73.328309</td>\n",
       "    </tr>\n",
       "    <tr>\n",
       "      <th>3</th>\n",
       "      <td>62.124279</td>\n",
       "      <td>69.352399</td>\n",
       "      <td>85.719510</td>\n",
       "    </tr>\n",
       "    <tr>\n",
       "      <th>6</th>\n",
       "      <td>76.002430</td>\n",
       "      <td>84.927515</td>\n",
       "      <td>105.137176</td>\n",
       "    </tr>\n",
       "    <tr>\n",
       "      <th>12</th>\n",
       "      <td>101.081027</td>\n",
       "      <td>114.041867</td>\n",
       "      <td>143.389956</td>\n",
       "    </tr>\n",
       "    <tr>\n",
       "      <th>24</th>\n",
       "      <td>126.336214</td>\n",
       "      <td>142.485660</td>\n",
       "      <td>179.053918</td>\n",
       "    </tr>\n",
       "  </tbody>\n",
       "</table>\n",
       "</div>"
      ],
      "text/plain": [
       "           10          20          100\n",
       "1    52.008362   58.539476   73.328309\n",
       "3    62.124279   69.352399   85.719510\n",
       "6    76.002430   84.927515  105.137176\n",
       "12  101.081027  114.041867  143.389956\n",
       "24  126.336214  142.485660  179.053918"
      ]
     },
     "execution_count": 11,
     "metadata": {},
     "output_type": "execute_result"
    }
   ],
   "source": [
    "Tr=10\n",
    "q10=1-1/Tr\n",
    "q20=1-1/20\n",
    "q100=1-1/100\n",
    "\n",
    "    \n",
    "def qtls(df,qu):\n",
    "    rv1h=gumbel_r(loc=df[\"a\"],scale=df[\"b\"])\n",
    "    return rv1h.ppf(qu)\n",
    "\n",
    "pts=DataFrame([[qtls(best[\"1h\"],q10),\n",
    "           qtls(best[\"3h\"],q10),\n",
    "           qtls(best[\"6h\"],q10),\n",
    "           qtls(best[\"12h\"],q10),\n",
    "           qtls(best[\"24h\"],q10)],\n",
    "          [qtls(best[\"1h\"],q20),\n",
    "           qtls(best[\"3h\"],q20),\n",
    "           qtls(best[\"6h\"],q20),\n",
    "           qtls(best[\"12h\"],q20),\n",
    "           qtls(best[\"24h\"],q20)],\n",
    "          [qtls(best[\"1h\"],q100),\n",
    "           qtls(best[\"3h\"],q100),\n",
    "           qtls(best[\"6h\"],q100),\n",
    "           qtls(best[\"12h\"],q100),\n",
    "           qtls(best[\"24h\"],q100)]], index=[10,20,100],columns=[1,3,6,12,24]).T\n",
    "pts"
   ]
  },
  {
   "cell_type": "markdown",
   "metadata": {},
   "source": [
    "si ottengono i valori per ogni tempo di ritorno e per ogni durata."
   ]
  },
  {
   "cell_type": "markdown",
   "metadata": {},
   "source": [
    "Plottiamo i soli punti del DataFrame **pts**"
   ]
  },
  {
   "cell_type": "code",
   "execution_count": 14,
   "metadata": {},
   "outputs": [
    {
     "data": {
      "image/png": "[encoded data removed]",
      "text/plain": [
       "<Figure size 432x288 with 1 Axes>"
      ]
     },
     "metadata": {
      "needs_background": "light"
     },
     "output_type": "display_data"
    }
   ],
   "source": [
    "ag=pts.plot(style=\"o\")\n",
    "plt.xlim([0,30])\n",
    "plt.ylim([30,200])\n",
    "plt.show()"
   ]
  },
  {
   "cell_type": "markdown",
   "metadata": {},
   "source": [
    "E aggiungiamo le linee"
   ]
  },
  {
   "cell_type": "code",
   "execution_count": 17,
   "metadata": {},
   "outputs": [
    {
     "data": {
      "text/plain": [
       "(30, 200)"
      ]
     },
     "execution_count": 17,
     "metadata": {},
     "output_type": "execute_result"
    },
    {
     "data": {
      "image/png": "[encoded data removed]",
      "text/plain": [
       "<Figure size 432x288 with 1 Axes>"
      ]
     },
     "metadata": {
      "needs_background": "light"
     },
     "output_type": "display_data"
    }
   ],
   "source": [
    "pts.plot(style=\"-\")\n",
    "plt.xlim([0,30])\n",
    "plt.ylim([30,200])"
   ]
  },
  {
   "cell_type": "markdown",
   "metadata": {},
   "source": [
    "In un grafico **bi-logaritmico**"
   ]
  },
  {
   "cell_type": "code",
   "execution_count": 19,
   "metadata": {},
   "outputs": [
    {
     "data": {
      "text/plain": [
       "(50, 200)"
      ]
     },
     "execution_count": 19,
     "metadata": {},
     "output_type": "execute_result"
    },
    {
     "data": {
      "image/png": "[encoded data removed]",
      "text/plain": [
       "<Figure size 432x288 with 1 Axes>"
      ]
     },
     "metadata": {
      "needs_background": "light"
     },
     "output_type": "display_data"
    }
   ],
   "source": [
    "ag=pts.plot(style=\"o\")\n",
    "#plt.get_xaxis().get_major_formatter().set_scientific(False)\n",
    "#plt.get_yaxis().get_major_formatter().set_scientific(False)\n",
    "ag.set_yscale('log')\n",
    "ag.set_xscale('log')\n",
    "plt.xlim([0.7,30])\n",
    "plt.ylim([50,200])"
   ]
  },
  {
   "cell_type": "markdown",
   "metadata": {},
   "source": [
    "Usiamo l'interpolazione _polyfit_"
   ]
  },
  {
   "cell_type": "code",
   "execution_count": 20,
   "metadata": {},
   "outputs": [
    {
     "data": {
      "text/plain": [
       "array([1.00000000e+00, 1.11022302e-15])"
      ]
     },
     "execution_count": 20,
     "metadata": {},
     "output_type": "execute_result"
    }
   ],
   "source": [
    "f=[1,2,3,4]\n",
    "g=[1,2,3,4]\n",
    "np.polyfit(f,g,1)"
   ]
  },
  {
   "cell_type": "code",
   "execution_count": null,
   "metadata": {},
   "outputs": [],
   "source": []
  }
 ],
 "metadata": {
  "kernelspec": {
   "display_name": "Python 3",
   "language": "python",
   "name": "python3"
  },
  "language_info": {
   "codemirror_mode": {
    "name": "ipython",
    "version": 3
   },
   "file_extension": ".py",
   "mimetype": "text/x-python",
   "name": "python",
   "nbconvert_exporter": "python",
   "pygments_lexer": "ipython3",
   "version": "3.7.1"
  }
 },
 "nbformat": 4,
 "nbformat_minor": 2
}
